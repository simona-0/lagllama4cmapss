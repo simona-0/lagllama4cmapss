{
 "cells": [
  {
   "cell_type": "markdown",
   "id": "9286c5e4-5ff6-4828-9c49-d430c581b2b3",
   "metadata": {},
   "source": [
    "### Load libraries"
   ]
  },
  {
   "cell_type": "code",
   "execution_count": 1,
   "id": "67bb6b52-550b-4d0c-8869-b1b16c4608fd",
   "metadata": {},
   "outputs": [
    {
     "name": "stderr",
     "output_type": "stream",
     "text": [
      "/tmp/ipykernel_18695/1724617453.py:12: TqdmExperimentalWarning: Using `tqdm.autonotebook.tqdm` in notebook mode. Use `tqdm.tqdm` instead to force console mode (e.g. in jupyter console)\n",
      "  from tqdm.autonotebook import tqdm\n"
     ]
    }
   ],
   "source": [
    "from matplotlib import pyplot as plt\n",
    "import pandas as pd\n",
    "import numpy as np\n",
    "import matplotlib.dates as mdates\n",
    "from itertools import islice\n",
    "import torch\n",
    "import os\n",
    "import wandb\n",
    "from gluonts.dataset.repository import get_dataset, dataset_names\n",
    "from gluonts.dataset.util import to_pandas\n",
    "from gluonts.dataset.common import ListDataset\n",
    "from tqdm.autonotebook import tqdm\n",
    "from gluonts.evaluation import make_evaluation_predictions, Evaluator\n",
    "from gluonts.dataset.pandas import PandasDataset\n",
    "from lag_llama.gluon.estimator import LagLlamaEstimator"
   ]
  },
  {
   "cell_type": "markdown",
   "id": "2e2ec4ea-4591-452f-a1ac-918e3ed851ff",
   "metadata": {},
   "source": [
    "### train_ds and test_ds in ListDatasets ✅ "
   ]
  },
  {
   "cell_type": "code",
   "execution_count": 2,
   "id": "33ddaa79-9761-4388-b436-f13d32bea010",
   "metadata": {},
   "outputs": [],
   "source": [
    "train_df = pd.read_csv(f'train_df_14.csv', index_col=0)\n",
    "train_df_std = (train_df - train_df.mean())/train_df.std()\n",
    "train_data = [{\"start\": train_df_std.index[0], \"target\": train_df_std[i].values} for i in train_df_std.columns]\n",
    "train_ds = ListDataset(data_iter=train_data, freq='1s') # training dataset"
   ]
  },
  {
   "cell_type": "code",
   "execution_count": 3,
   "id": "df6c9da0-4f78-4c94-aa59-1aa2edb0b595",
   "metadata": {},
   "outputs": [],
   "source": [
    "test_df = pd.read_csv(f'test_df_14.csv', index_col=0)\n",
    "test_df_std = (test_df - test_df.mean())/test_df.std()\n",
    "test_data = [{\"start\": test_df_std.index[0], \"target\": test_df_std[i].values} for i in test_df_std.columns]\n",
    "test_ds = ListDataset(data_iter=test_data, freq='1s') # testing dataset"
   ]
  },
  {
   "cell_type": "markdown",
   "id": "6fdf1fdb-bce4-4843-8d46-8096d181c4ef",
   "metadata": {},
   "source": [
    "### define sweeper in wandb"
   ]
  },
  {
   "cell_type": "code",
   "execution_count": 4,
   "id": "e40b6789-92d6-41f3-a56a-bce84f57561d",
   "metadata": {},
   "outputs": [
    {
     "name": "stdout",
     "output_type": "stream",
     "text": [
      "Create sweep with ID: 8bk4uije\n",
      "Sweep URL: https://wandb.ai/junboma/lag_llama_04_07/sweeps/8bk4uije\n"
     ]
    }
   ],
   "source": [
    "# Define the search space\n",
    "sweep_config = {\n",
    "    \"method\": \"grid\",\n",
    "    \"parameters\": {\n",
    "        \"lr\": {\"values\": [5e-4, 10e-4, 5e-5 ,10e-5]}, #4 bigger magnitude 10-2 ... 10-6, lr_scheduler\n",
    "        \"batch_size\": {\"values\": [2, 8, 16, 32, 64, 96]}, #6\n",
    "        \"context_length\": {\"values\": [32, 64, 96, 128]} #4\n",
    "    }\n",
    "}\n",
    "sweep_id = wandb.sweep(sweep_config, project=\"lag_llama_04_07\") # a new sweep is created in the sweep space under my w&b account"
   ]
  },
  {
   "cell_type": "markdown",
   "id": "fd97f239-15c6-44a1-884f-cdd79599b82b",
   "metadata": {},
   "source": [
    "### initialize the estimator"
   ]
  },
  {
   "cell_type": "code",
   "execution_count": 5,
   "id": "7c6dd6cc-6867-4e79-9119-e874c71e6e0b",
   "metadata": {},
   "outputs": [],
   "source": [
    "prediction_length = 24\n",
    "num_samples = 100\n",
    "device = \"cuda:0\""
   ]
  },
  {
   "cell_type": "code",
   "execution_count": 6,
   "id": "2058f254-c6ea-484d-b719-277cc51af88f",
   "metadata": {},
   "outputs": [],
   "source": [
    "def create_estimator(output_dir):\n",
    "    \n",
    "    config = wandb.config\n",
    "    lr = config.lr\n",
    "    context_length = config.context_length\n",
    "    batch_size = config.batch_size\n",
    "\n",
    "    ckpt = torch.load(\"lag-llama.ckpt\", map_location=torch.device(device))\n",
    "\n",
    "    estimator_args = ckpt[\"hyper_parameters\"][\"model_kwargs\"]\n",
    "    estimator = LagLlamaEstimator(\n",
    "        ckpt_path=\"lag-llama.ckpt\",\n",
    "        prediction_length=prediction_length,\n",
    "        context_length=context_length,\n",
    "        nonnegative_pred_samples=False,\n",
    "        aug_prob=0,\n",
    "        lr=lr,\n",
    "        input_size=estimator_args[\"input_size\"],\n",
    "        n_layer=estimator_args[\"n_layer\"],\n",
    "        n_embd_per_head=estimator_args[\"n_embd_per_head\"],\n",
    "        n_head=estimator_args[\"n_head\"],\n",
    "        time_feat=estimator_args[\"time_feat\"],\n",
    "        rope_scaling={\n",
    "            \"type\": \"linear\",\n",
    "            \"factor\": max(1.0, (context_length + prediction_length) / estimator_args[\"context_length\"]),\n",
    "        },\n",
    "        batch_size=batch_size,\n",
    "        num_parallel_samples=num_samples,\n",
    "        trainer_kwargs={\"max_epochs\": 100},\n",
    "    #    log_train_loss=True, \n",
    "    )\n",
    "\n",
    "    return estimator"
   ]
  },
  {
   "cell_type": "code",
   "execution_count": 7,
   "id": "466c7dca-da91-4b4a-9916-fa15cab913d6",
   "metadata": {},
   "outputs": [],
   "source": [
    "def getCPRS(dataset, predictor, num_samples=100):\n",
    "\n",
    "    # inference step\n",
    "    forecast_it, ts_it = make_evaluation_predictions( \n",
    "            dataset=dataset,\n",
    "            predictor=predictor,\n",
    "            num_samples=num_samples)\n",
    "\n",
    "    forecasts = list(tqdm(forecast_it, total=len(dataset), desc=\"Forecasting batches\"))\n",
    "    tss = list(tqdm(ts_it, total=len(dataset), desc=\"Ground truth\"))\n",
    "    \n",
    "    # restore mean and avg for forecasts and tss of dataset (test_ds)\n",
    "    for i in range(len(tss)):\n",
    "        tss[i].values[:] = tss[i].values * test_df.std()[i] + test_df.mean()[i]\n",
    "    for i in range(len(forecasts)):\n",
    "        samples = forecasts[i].samples\n",
    "        std_value = test_df.std()[i]\n",
    "        mean_value = test_df.mean()[i]\n",
    "        np.multiply(samples, std_value, out=samples)\n",
    "        np.add(samples, mean_value, out=samples)\n",
    "    \n",
    "    # evaluate metrics\n",
    "    evaluator = Evaluator()\n",
    "    agg_metrics, ts_metrics = evaluator(iter(tss), iter(forecasts))\n",
    "    \n",
    "    return agg_metrics['mean_wQuantileLoss']"
   ]
  },
  {
   "cell_type": "code",
   "execution_count": null,
   "id": "80b3543e-5ad3-4c84-8326-e15da83f5618",
   "metadata": {
    "scrolled": true
   },
   "outputs": [
    {
     "name": "stderr",
     "output_type": "stream",
     "text": [
      "\u001b[34m\u001b[1mwandb\u001b[0m: Agent Starting Run: zinyftfc with config:\n",
      "\u001b[34m\u001b[1mwandb\u001b[0m: \tbatch_size: 2\n",
      "\u001b[34m\u001b[1mwandb\u001b[0m: \tcontext_length: 32\n",
      "\u001b[34m\u001b[1mwandb\u001b[0m: \tlr: 0.0005\n",
      "\u001b[34m\u001b[1mwandb\u001b[0m: Currently logged in as: \u001b[33mjunboleng\u001b[0m (\u001b[33mjunboma\u001b[0m). Use \u001b[1m`wandb login --relogin`\u001b[0m to force relogin\n"
     ]
    },
    {
     "data": {
      "text/html": [
       "wandb version 0.17.4 is available!  To upgrade, please run:\n",
       " $ pip install wandb --upgrade"
      ],
      "text/plain": [
       "<IPython.core.display.HTML object>"
      ]
     },
     "metadata": {},
     "output_type": "display_data"
    },
    {
     "data": {
      "text/html": [
       "Tracking run with wandb version 0.17.1"
      ],
      "text/plain": [
       "<IPython.core.display.HTML object>"
      ]
     },
     "metadata": {},
     "output_type": "display_data"
    },
    {
     "data": {
      "text/html": [
       "Run data is saved locally in <code>/home/eragroup/Documents/Documents/Koutas_Master_Thesis_Supervision/Junbo_Leng/lag_llama_model/lag-llama-main/wandb/run-20240704_142441-zinyftfc</code>"
      ],
      "text/plain": [
       "<IPython.core.display.HTML object>"
      ]
     },
     "metadata": {},
     "output_type": "display_data"
    },
    {
     "data": {
      "text/html": [
       "Syncing run <strong><a href='https://wandb.ai/junboma/lag_llama_04_07/runs/zinyftfc' target=\"_blank\">solar-sweep-1</a></strong> to <a href='https://wandb.ai/junboma/lag_llama_04_07' target=\"_blank\">Weights & Biases</a> (<a href='https://wandb.me/run' target=\"_blank\">docs</a>)<br/>Sweep page: <a href='https://wandb.ai/junboma/lag_llama_04_07/sweeps/8bk4uije' target=\"_blank\">https://wandb.ai/junboma/lag_llama_04_07/sweeps/8bk4uije</a>"
      ],
      "text/plain": [
       "<IPython.core.display.HTML object>"
      ]
     },
     "metadata": {},
     "output_type": "display_data"
    },
    {
     "data": {
      "text/html": [
       " View project at <a href='https://wandb.ai/junboma/lag_llama_04_07' target=\"_blank\">https://wandb.ai/junboma/lag_llama_04_07</a>"
      ],
      "text/plain": [
       "<IPython.core.display.HTML object>"
      ]
     },
     "metadata": {},
     "output_type": "display_data"
    },
    {
     "data": {
      "text/html": [
       " View sweep at <a href='https://wandb.ai/junboma/lag_llama_04_07/sweeps/8bk4uije' target=\"_blank\">https://wandb.ai/junboma/lag_llama_04_07/sweeps/8bk4uije</a>"
      ],
      "text/plain": [
       "<IPython.core.display.HTML object>"
      ]
     },
     "metadata": {},
     "output_type": "display_data"
    },
    {
     "data": {
      "text/html": [
       " View run at <a href='https://wandb.ai/junboma/lag_llama_04_07/runs/zinyftfc' target=\"_blank\">https://wandb.ai/junboma/lag_llama_04_07/runs/zinyftfc</a>"
      ],
      "text/plain": [
       "<IPython.core.display.HTML object>"
      ]
     },
     "metadata": {},
     "output_type": "display_data"
    },
    {
     "name": "stderr",
     "output_type": "stream",
     "text": [
      "\u001b[34m\u001b[1mwandb\u001b[0m: \u001b[33mWARNING\u001b[0m Ignored wandb.init() arg project when running a sweep.\n"
     ]
    },
    {
     "data": {
      "text/html": [
       "Finishing last run (ID:zinyftfc) before initializing another..."
      ],
      "text/plain": [
       "<IPython.core.display.HTML object>"
      ]
     },
     "metadata": {},
     "output_type": "display_data"
    },
    {
     "data": {
      "application/vnd.jupyter.widget-view+json": {
       "model_id": "",
       "version_major": 2,
       "version_minor": 0
      },
      "text/plain": [
       "VBox(children=(Label(value='0.003 MB of 0.003 MB uploaded\\r'), FloatProgress(value=1.0, max=1.0)))"
      ]
     },
     "metadata": {},
     "output_type": "display_data"
    },
    {
     "data": {
      "text/html": [
       " View run <strong style=\"color:#cdcd00\">solar-sweep-1</strong> at: <a href='https://wandb.ai/junboma/lag_llama_04_07/runs/zinyftfc' target=\"_blank\">https://wandb.ai/junboma/lag_llama_04_07/runs/zinyftfc</a><br/> View project at: <a href='https://wandb.ai/junboma/lag_llama_04_07' target=\"_blank\">https://wandb.ai/junboma/lag_llama_04_07</a><br/>Synced 6 W&B file(s), 0 media file(s), 0 artifact file(s) and 0 other file(s)"
      ],
      "text/plain": [
       "<IPython.core.display.HTML object>"
      ]
     },
     "metadata": {},
     "output_type": "display_data"
    },
    {
     "data": {
      "text/html": [
       "Find logs at: <code>./wandb/run-20240704_142441-zinyftfc/logs</code>"
      ],
      "text/plain": [
       "<IPython.core.display.HTML object>"
      ]
     },
     "metadata": {},
     "output_type": "display_data"
    },
    {
     "data": {
      "text/html": [
       "Successfully finished last run (ID:zinyftfc). Initializing new run:<br/>"
      ],
      "text/plain": [
       "<IPython.core.display.HTML object>"
      ]
     },
     "metadata": {},
     "output_type": "display_data"
    },
    {
     "data": {
      "application/vnd.jupyter.widget-view+json": {
       "model_id": "158ea76f3ca24fa29d4f3f1b6b3bbda9",
       "version_major": 2,
       "version_minor": 0
      },
      "text/plain": [
       "VBox(children=(Label(value='Waiting for wandb.init()...\\r'), FloatProgress(value=0.01111244142262472, max=1.0)…"
      ]
     },
     "metadata": {},
     "output_type": "display_data"
    },
    {
     "data": {
      "text/html": [
       "wandb version 0.17.4 is available!  To upgrade, please run:\n",
       " $ pip install wandb --upgrade"
      ],
      "text/plain": [
       "<IPython.core.display.HTML object>"
      ]
     },
     "metadata": {},
     "output_type": "display_data"
    },
    {
     "data": {
      "text/html": [
       "Tracking run with wandb version 0.17.1"
      ],
      "text/plain": [
       "<IPython.core.display.HTML object>"
      ]
     },
     "metadata": {},
     "output_type": "display_data"
    },
    {
     "data": {
      "text/html": [
       "Run data is saved locally in <code>/home/eragroup/Documents/Documents/Koutas_Master_Thesis_Supervision/Junbo_Leng/lag_llama_model/lag-llama-main/wandb/run-20240704_142455-zinyftfc</code>"
      ],
      "text/plain": [
       "<IPython.core.display.HTML object>"
      ]
     },
     "metadata": {},
     "output_type": "display_data"
    },
    {
     "data": {
      "text/html": [
       "Syncing run <strong><a href='https://wandb.ai/junboma/lag_llama_04_07/runs/zinyftfc' target=\"_blank\">solar-sweep-1</a></strong> to <a href='https://wandb.ai/junboma/lag_llama_04_07' target=\"_blank\">Weights & Biases</a> (<a href='https://wandb.me/run' target=\"_blank\">docs</a>)<br/>Sweep page: <a href='https://wandb.ai/junboma/lag_llama_04_07/sweeps/8bk4uije' target=\"_blank\">https://wandb.ai/junboma/lag_llama_04_07/sweeps/8bk4uije</a>"
      ],
      "text/plain": [
       "<IPython.core.display.HTML object>"
      ]
     },
     "metadata": {},
     "output_type": "display_data"
    },
    {
     "data": {
      "text/html": [
       " View project at <a href='https://wandb.ai/junboma/lag_llama_04_07' target=\"_blank\">https://wandb.ai/junboma/lag_llama_04_07</a>"
      ],
      "text/plain": [
       "<IPython.core.display.HTML object>"
      ]
     },
     "metadata": {},
     "output_type": "display_data"
    },
    {
     "data": {
      "text/html": [
       " View sweep at <a href='https://wandb.ai/junboma/lag_llama_04_07/sweeps/8bk4uije' target=\"_blank\">https://wandb.ai/junboma/lag_llama_04_07/sweeps/8bk4uije</a>"
      ],
      "text/plain": [
       "<IPython.core.display.HTML object>"
      ]
     },
     "metadata": {},
     "output_type": "display_data"
    },
    {
     "data": {
      "text/html": [
       " View run at <a href='https://wandb.ai/junboma/lag_llama_04_07/runs/zinyftfc' target=\"_blank\">https://wandb.ai/junboma/lag_llama_04_07/runs/zinyftfc</a>"
      ],
      "text/plain": [
       "<IPython.core.display.HTML object>"
      ]
     },
     "metadata": {},
     "output_type": "display_data"
    },
    {
     "name": "stderr",
     "output_type": "stream",
     "text": [
      "GPU available: True (cuda), used: True\n",
      "TPU available: False, using: 0 TPU cores\n",
      "IPU available: False, using: 0 IPUs\n",
      "HPU available: False, using: 0 HPUs\n",
      "/home/eragroup/anaconda3/envs/lag_llama/lib/python3.12/site-packages/lightning/pytorch/trainer/connectors/logger_connector/logger_connector.py:67: Starting from v1.9.0, `tensorboardX` has been removed as a dependency of the `lightning.pytorch` package, due to potential conflicts with other packages in the ML ecosystem. For this reason, `logger=True` will use `CSVLogger` as the default logger, unless the `tensorboard` or `tensorboardX` packages are found. Please `pip install lightning[extra]` or one of them to enable TensorBoard support by default\n",
      "/home/eragroup/anaconda3/envs/lag_llama/lib/python3.12/site-packages/lightning/pytorch/trainer/configuration_validator.py:74: You defined a `validation_step` but have no `val_dataloader`. Skipping val loop.\n",
      "LOCAL_RANK: 0 - CUDA_VISIBLE_DEVICES: [0]\n",
      "\n",
      "  | Name          | Type               | Params\n",
      "-----------------------------------------------------\n",
      "0 | model         | LagLlamaModel      | 2.4 M \n",
      "1 | augmentations | ApplyAugmentations | 0     \n",
      "-----------------------------------------------------\n",
      "2.4 M     Trainable params\n",
      "0         Non-trainable params\n",
      "2.4 M     Total params\n",
      "9.797     Total estimated model params size (MB)\n"
     ]
    },
    {
     "data": {
      "application/vnd.jupyter.widget-view+json": {
       "model_id": "aa1b75a736254e14915308f083ac1ebc",
       "version_major": 2,
       "version_minor": 0
      },
      "text/plain": [
       "Training: |                                               | 0/? [00:00<?, ?it/s]"
      ]
     },
     "metadata": {},
     "output_type": "display_data"
    },
    {
     "name": "stderr",
     "output_type": "stream",
     "text": [
      "Epoch 0, global step 50: 'train_loss' reached 0.83678 (best 0.83678), saving model to '/home/eragroup/Documents/Documents/Koutas_Master_Thesis_Supervision/Junbo_Leng/lag_llama_model/lag-llama-main/lightning_logs/version_28/checkpoints/epoch=0-step=50.ckpt' as top 1\n",
      "Epoch 1, global step 100: 'train_loss' reached 0.68651 (best 0.68651), saving model to '/home/eragroup/Documents/Documents/Koutas_Master_Thesis_Supervision/Junbo_Leng/lag_llama_model/lag-llama-main/lightning_logs/version_28/checkpoints/epoch=1-step=100.ckpt' as top 1\n",
      "Epoch 2, global step 150: 'train_loss' reached 0.58697 (best 0.58697), saving model to '/home/eragroup/Documents/Documents/Koutas_Master_Thesis_Supervision/Junbo_Leng/lag_llama_model/lag-llama-main/lightning_logs/version_28/checkpoints/epoch=2-step=150.ckpt' as top 1\n",
      "Epoch 3, global step 200: 'train_loss' reached 0.44757 (best 0.44757), saving model to '/home/eragroup/Documents/Documents/Koutas_Master_Thesis_Supervision/Junbo_Leng/lag_llama_model/lag-llama-main/lightning_logs/version_28/checkpoints/epoch=3-step=200.ckpt' as top 1\n",
      "Epoch 4, global step 250: 'train_loss' was not in top 1\n",
      "Epoch 5, global step 300: 'train_loss' was not in top 1\n",
      "Epoch 6, global step 350: 'train_loss' reached 0.44428 (best 0.44428), saving model to '/home/eragroup/Documents/Documents/Koutas_Master_Thesis_Supervision/Junbo_Leng/lag_llama_model/lag-llama-main/lightning_logs/version_28/checkpoints/epoch=6-step=350.ckpt' as top 1\n",
      "Epoch 7, global step 400: 'train_loss' was not in top 1\n",
      "Epoch 8, global step 450: 'train_loss' reached 0.35719 (best 0.35719), saving model to '/home/eragroup/Documents/Documents/Koutas_Master_Thesis_Supervision/Junbo_Leng/lag_llama_model/lag-llama-main/lightning_logs/version_28/checkpoints/epoch=8-step=450.ckpt' as top 1\n",
      "Epoch 9, global step 500: 'train_loss' was not in top 1\n",
      "Epoch 10, global step 550: 'train_loss' was not in top 1\n",
      "Epoch 11, global step 600: 'train_loss' was not in top 1\n",
      "Epoch 12, global step 650: 'train_loss' was not in top 1\n",
      "Epoch 13, global step 700: 'train_loss' was not in top 1\n",
      "Epoch 14, global step 750: 'train_loss' was not in top 1\n",
      "Epoch 15, global step 800: 'train_loss' was not in top 1\n",
      "Epoch 16, global step 850: 'train_loss' was not in top 1\n",
      "Epoch 17, global step 900: 'train_loss' was not in top 1\n",
      "Epoch 18, global step 950: 'train_loss' was not in top 1\n",
      "Epoch 19, global step 1000: 'train_loss' was not in top 1\n",
      "Epoch 20, global step 1050: 'train_loss' was not in top 1\n",
      "Epoch 21, global step 1100: 'train_loss' was not in top 1\n",
      "Epoch 22, global step 1150: 'train_loss' was not in top 1\n",
      "Epoch 23, global step 1200: 'train_loss' reached 0.31129 (best 0.31129), saving model to '/home/eragroup/Documents/Documents/Koutas_Master_Thesis_Supervision/Junbo_Leng/lag_llama_model/lag-llama-main/lightning_logs/version_28/checkpoints/epoch=23-step=1200.ckpt' as top 1\n",
      "Epoch 24, global step 1250: 'train_loss' reached 0.29021 (best 0.29021), saving model to '/home/eragroup/Documents/Documents/Koutas_Master_Thesis_Supervision/Junbo_Leng/lag_llama_model/lag-llama-main/lightning_logs/version_28/checkpoints/epoch=24-step=1250.ckpt' as top 1\n",
      "Epoch 25, global step 1300: 'train_loss' was not in top 1\n",
      "Epoch 26, global step 1350: 'train_loss' was not in top 1\n",
      "Epoch 27, global step 1400: 'train_loss' was not in top 1\n",
      "Epoch 28, global step 1450: 'train_loss' was not in top 1\n",
      "Epoch 29, global step 1500: 'train_loss' was not in top 1\n",
      "Epoch 30, global step 1550: 'train_loss' was not in top 1\n",
      "Epoch 31, global step 1600: 'train_loss' was not in top 1\n",
      "Epoch 32, global step 1650: 'train_loss' was not in top 1\n",
      "Epoch 33, global step 1700: 'train_loss' was not in top 1\n",
      "Epoch 34, global step 1750: 'train_loss' was not in top 1\n",
      "Epoch 35, global step 1800: 'train_loss' was not in top 1\n",
      "Epoch 36, global step 1850: 'train_loss' was not in top 1\n",
      "Epoch 37, global step 1900: 'train_loss' reached 0.23245 (best 0.23245), saving model to '/home/eragroup/Documents/Documents/Koutas_Master_Thesis_Supervision/Junbo_Leng/lag_llama_model/lag-llama-main/lightning_logs/version_28/checkpoints/epoch=37-step=1900.ckpt' as top 1\n",
      "Epoch 38, global step 1950: 'train_loss' was not in top 1\n",
      "Epoch 39, global step 2000: 'train_loss' was not in top 1\n",
      "Epoch 40, global step 2050: 'train_loss' was not in top 1\n",
      "Epoch 41, global step 2100: 'train_loss' was not in top 1\n",
      "Epoch 42, global step 2150: 'train_loss' was not in top 1\n",
      "Epoch 43, global step 2200: 'train_loss' was not in top 1\n",
      "Epoch 44, global step 2250: 'train_loss' was not in top 1\n",
      "Epoch 45, global step 2300: 'train_loss' was not in top 1\n",
      "Epoch 46, global step 2350: 'train_loss' was not in top 1\n",
      "Epoch 47, global step 2400: 'train_loss' was not in top 1\n",
      "Epoch 48, global step 2450: 'train_loss' was not in top 1\n",
      "Epoch 49, global step 2500: 'train_loss' was not in top 1\n",
      "Epoch 50, global step 2550: 'train_loss' was not in top 1\n",
      "Epoch 51, global step 2600: 'train_loss' was not in top 1\n",
      "Epoch 52, global step 2650: 'train_loss' reached 0.22093 (best 0.22093), saving model to '/home/eragroup/Documents/Documents/Koutas_Master_Thesis_Supervision/Junbo_Leng/lag_llama_model/lag-llama-main/lightning_logs/version_28/checkpoints/epoch=52-step=2650.ckpt' as top 1\n",
      "Epoch 53, global step 2700: 'train_loss' was not in top 1\n",
      "Epoch 54, global step 2750: 'train_loss' was not in top 1\n",
      "Epoch 55, global step 2800: 'train_loss' was not in top 1\n",
      "Epoch 56, global step 2850: 'train_loss' reached 0.13560 (best 0.13560), saving model to '/home/eragroup/Documents/Documents/Koutas_Master_Thesis_Supervision/Junbo_Leng/lag_llama_model/lag-llama-main/lightning_logs/version_28/checkpoints/epoch=56-step=2850.ckpt' as top 1\n",
      "Epoch 57, global step 2900: 'train_loss' was not in top 1\n",
      "Epoch 58, global step 2950: 'train_loss' was not in top 1\n",
      "Epoch 59, global step 3000: 'train_loss' was not in top 1\n",
      "Epoch 60, global step 3050: 'train_loss' was not in top 1\n",
      "Epoch 61, global step 3100: 'train_loss' was not in top 1\n",
      "Epoch 62, global step 3150: 'train_loss' was not in top 1\n",
      "Epoch 63, global step 3200: 'train_loss' was not in top 1\n",
      "Epoch 64, global step 3250: 'train_loss' was not in top 1\n",
      "Epoch 65, global step 3300: 'train_loss' was not in top 1\n",
      "Epoch 66, global step 3350: 'train_loss' was not in top 1\n",
      "Epoch 67, global step 3400: 'train_loss' reached 0.08388 (best 0.08388), saving model to '/home/eragroup/Documents/Documents/Koutas_Master_Thesis_Supervision/Junbo_Leng/lag_llama_model/lag-llama-main/lightning_logs/version_28/checkpoints/epoch=67-step=3400.ckpt' as top 1\n",
      "Epoch 68, global step 3450: 'train_loss' was not in top 1\n",
      "Epoch 69, global step 3500: 'train_loss' was not in top 1\n",
      "Epoch 70, global step 3550: 'train_loss' was not in top 1\n",
      "Epoch 71, global step 3600: 'train_loss' was not in top 1\n",
      "Epoch 72, global step 3650: 'train_loss' was not in top 1\n",
      "Epoch 73, global step 3700: 'train_loss' was not in top 1\n",
      "Epoch 74, global step 3750: 'train_loss' was not in top 1\n",
      "Epoch 75, global step 3800: 'train_loss' was not in top 1\n",
      "Epoch 76, global step 3850: 'train_loss' was not in top 1\n",
      "Epoch 77, global step 3900: 'train_loss' reached 0.05853 (best 0.05853), saving model to '/home/eragroup/Documents/Documents/Koutas_Master_Thesis_Supervision/Junbo_Leng/lag_llama_model/lag-llama-main/lightning_logs/version_28/checkpoints/epoch=77-step=3900.ckpt' as top 1\n",
      "Epoch 78, global step 3950: 'train_loss' reached 0.04342 (best 0.04342), saving model to '/home/eragroup/Documents/Documents/Koutas_Master_Thesis_Supervision/Junbo_Leng/lag_llama_model/lag-llama-main/lightning_logs/version_28/checkpoints/epoch=78-step=3950.ckpt' as top 1\n",
      "Epoch 79, global step 4000: 'train_loss' was not in top 1\n",
      "Epoch 80, global step 4050: 'train_loss' was not in top 1\n",
      "Epoch 81, global step 4100: 'train_loss' was not in top 1\n",
      "Epoch 82, global step 4150: 'train_loss' reached -0.02906 (best -0.02906), saving model to '/home/eragroup/Documents/Documents/Koutas_Master_Thesis_Supervision/Junbo_Leng/lag_llama_model/lag-llama-main/lightning_logs/version_28/checkpoints/epoch=82-step=4150.ckpt' as top 1\n",
      "Epoch 83, global step 4200: 'train_loss' was not in top 1\n",
      "Epoch 84, global step 4250: 'train_loss' was not in top 1\n",
      "Epoch 85, global step 4300: 'train_loss' was not in top 1\n",
      "Epoch 86, global step 4350: 'train_loss' was not in top 1\n",
      "Epoch 87, global step 4400: 'train_loss' was not in top 1\n",
      "Epoch 88, global step 4450: 'train_loss' was not in top 1\n",
      "Epoch 89, global step 4500: 'train_loss' was not in top 1\n",
      "Epoch 90, global step 4550: 'train_loss' was not in top 1\n",
      "Epoch 91, global step 4600: 'train_loss' was not in top 1\n",
      "Epoch 92, global step 4650: 'train_loss' was not in top 1\n",
      "Epoch 93, global step 4700: 'train_loss' was not in top 1\n",
      "Epoch 94, global step 4750: 'train_loss' reached -0.03527 (best -0.03527), saving model to '/home/eragroup/Documents/Documents/Koutas_Master_Thesis_Supervision/Junbo_Leng/lag_llama_model/lag-llama-main/lightning_logs/version_28/checkpoints/epoch=94-step=4750.ckpt' as top 1\n",
      "Epoch 95, global step 4800: 'train_loss' was not in top 1\n",
      "Epoch 96, global step 4850: 'train_loss' was not in top 1\n",
      "Epoch 97, global step 4900: 'train_loss' reached -0.04069 (best -0.04069), saving model to '/home/eragroup/Documents/Documents/Koutas_Master_Thesis_Supervision/Junbo_Leng/lag_llama_model/lag-llama-main/lightning_logs/version_28/checkpoints/epoch=97-step=4900.ckpt' as top 1\n",
      "Epoch 98, global step 4950: 'train_loss' was not in top 1\n",
      "Epoch 99, global step 5000: 'train_loss' was not in top 1\n",
      "`Trainer.fit` stopped: `max_epochs=100` reached.\n"
     ]
    },
    {
     "data": {
      "application/vnd.jupyter.widget-view+json": {
       "model_id": "d9c12f69a1fa4a8bbd3b205cdaf833d9",
       "version_major": 2,
       "version_minor": 0
      },
      "text/plain": [
       "Forecasting batches:   0%|          | 0/60 [00:00<?, ?it/s]"
      ]
     },
     "metadata": {},
     "output_type": "display_data"
    },
    {
     "data": {
      "application/vnd.jupyter.widget-view+json": {
       "model_id": "539bb0ee75d44822bfeb8ebcef98b470",
       "version_major": 2,
       "version_minor": 0
      },
      "text/plain": [
       "Ground truth:   0%|          | 0/60 [00:00<?, ?it/s]"
      ]
     },
     "metadata": {},
     "output_type": "display_data"
    },
    {
     "name": "stderr",
     "output_type": "stream",
     "text": [
      "/tmp/ipykernel_18695/4101722395.py:14: FutureWarning: Series.__getitem__ treating keys as positions is deprecated. In a future version, integer keys will always be treated as labels (consistent with DataFrame behavior). To access a value by position, use `ser.iloc[pos]`\n",
      "  tss[i].values[:] = tss[i].values * test_df.std()[i] + test_df.mean()[i]\n",
      "/tmp/ipykernel_18695/4101722395.py:17: FutureWarning: Series.__getitem__ treating keys as positions is deprecated. In a future version, integer keys will always be treated as labels (consistent with DataFrame behavior). To access a value by position, use `ser.iloc[pos]`\n",
      "  std_value = test_df.std()[i]\n",
      "/tmp/ipykernel_18695/4101722395.py:18: FutureWarning: Series.__getitem__ treating keys as positions is deprecated. In a future version, integer keys will always be treated as labels (consistent with DataFrame behavior). To access a value by position, use `ser.iloc[pos]`\n",
      "  mean_value = test_df.mean()[i]\n",
      "Running evaluation: 60it [00:00, 252.81it/s]\n"
     ]
    },
    {
     "data": {
      "application/vnd.jupyter.widget-view+json": {
       "model_id": "",
       "version_major": 2,
       "version_minor": 0
      },
      "text/plain": [
       "VBox(children=(Label(value='0.003 MB of 0.003 MB uploaded\\r'), FloatProgress(value=1.0, max=1.0)))"
      ]
     },
     "metadata": {},
     "output_type": "display_data"
    },
    {
     "data": {
      "text/html": [
       "<style>\n",
       "    table.wandb td:nth-child(1) { padding: 0 10px; text-align: left ; width: auto;} td:nth-child(2) {text-align: left ; width: 100%}\n",
       "    .wandb-row { display: flex; flex-direction: row; flex-wrap: wrap; justify-content: flex-start; width: 100% }\n",
       "    .wandb-col { display: flex; flex-direction: column; flex-basis: 100%; flex: 1; padding: 10px; }\n",
       "    </style>\n",
       "<div class=\"wandb-row\"><div class=\"wandb-col\"><h3>Run history:</h3><br/><table class=\"wandb\"><tr><td>CPRS</td><td>▁</td></tr><tr><td>train_loss</td><td>█▄▇▆▅▆▃▃▆▆▄▆▄▅▄▂▂▂▄▆▅▅▅▅▇█▅▃▆▄▂▁▂▅▅▃▁▄▃▁</td></tr></table><br/></div><div class=\"wandb-col\"><h3>Run summary:</h3><br/><table class=\"wandb\"><tr><td>CPRS</td><td>0.00035</td></tr><tr><td>train_loss</td><td>-0.23716</td></tr></table><br/></div></div>"
      ],
      "text/plain": [
       "<IPython.core.display.HTML object>"
      ]
     },
     "metadata": {},
     "output_type": "display_data"
    },
    {
     "data": {
      "text/html": [
       " View run <strong style=\"color:#cdcd00\">solar-sweep-1</strong> at: <a href='https://wandb.ai/junboma/lag_llama_04_07/runs/zinyftfc' target=\"_blank\">https://wandb.ai/junboma/lag_llama_04_07/runs/zinyftfc</a><br/> View project at: <a href='https://wandb.ai/junboma/lag_llama_04_07' target=\"_blank\">https://wandb.ai/junboma/lag_llama_04_07</a><br/>Synced 6 W&B file(s), 0 media file(s), 0 artifact file(s) and 0 other file(s)"
      ],
      "text/plain": [
       "<IPython.core.display.HTML object>"
      ]
     },
     "metadata": {},
     "output_type": "display_data"
    },
    {
     "data": {
      "text/html": [
       "Find logs at: <code>./wandb/run-20240704_142455-zinyftfc/logs</code>"
      ],
      "text/plain": [
       "<IPython.core.display.HTML object>"
      ]
     },
     "metadata": {},
     "output_type": "display_data"
    },
    {
     "name": "stderr",
     "output_type": "stream",
     "text": [
      "\u001b[34m\u001b[1mwandb\u001b[0m: Agent Starting Run: blndtdqc with config:\n",
      "\u001b[34m\u001b[1mwandb\u001b[0m: \tbatch_size: 2\n",
      "\u001b[34m\u001b[1mwandb\u001b[0m: \tcontext_length: 32\n",
      "\u001b[34m\u001b[1mwandb\u001b[0m: \tlr: 0.001\n"
     ]
    },
    {
     "data": {
      "text/html": [
       "wandb version 0.17.4 is available!  To upgrade, please run:\n",
       " $ pip install wandb --upgrade"
      ],
      "text/plain": [
       "<IPython.core.display.HTML object>"
      ]
     },
     "metadata": {},
     "output_type": "display_data"
    },
    {
     "data": {
      "text/html": [
       "Tracking run with wandb version 0.17.1"
      ],
      "text/plain": [
       "<IPython.core.display.HTML object>"
      ]
     },
     "metadata": {},
     "output_type": "display_data"
    },
    {
     "data": {
      "text/html": [
       "Run data is saved locally in <code>/home/eragroup/Documents/Documents/Koutas_Master_Thesis_Supervision/Junbo_Leng/lag_llama_model/lag-llama-main/wandb/run-20240704_143209-blndtdqc</code>"
      ],
      "text/plain": [
       "<IPython.core.display.HTML object>"
      ]
     },
     "metadata": {},
     "output_type": "display_data"
    },
    {
     "data": {
      "text/html": [
       "Syncing run <strong><a href='https://wandb.ai/junboma/lag_llama_04_07/runs/blndtdqc' target=\"_blank\">drawn-sweep-2</a></strong> to <a href='https://wandb.ai/junboma/lag_llama_04_07' target=\"_blank\">Weights & Biases</a> (<a href='https://wandb.me/run' target=\"_blank\">docs</a>)<br/>Sweep page: <a href='https://wandb.ai/junboma/lag_llama_04_07/sweeps/8bk4uije' target=\"_blank\">https://wandb.ai/junboma/lag_llama_04_07/sweeps/8bk4uije</a>"
      ],
      "text/plain": [
       "<IPython.core.display.HTML object>"
      ]
     },
     "metadata": {},
     "output_type": "display_data"
    },
    {
     "data": {
      "text/html": [
       " View project at <a href='https://wandb.ai/junboma/lag_llama_04_07' target=\"_blank\">https://wandb.ai/junboma/lag_llama_04_07</a>"
      ],
      "text/plain": [
       "<IPython.core.display.HTML object>"
      ]
     },
     "metadata": {},
     "output_type": "display_data"
    },
    {
     "data": {
      "text/html": [
       " View sweep at <a href='https://wandb.ai/junboma/lag_llama_04_07/sweeps/8bk4uije' target=\"_blank\">https://wandb.ai/junboma/lag_llama_04_07/sweeps/8bk4uije</a>"
      ],
      "text/plain": [
       "<IPython.core.display.HTML object>"
      ]
     },
     "metadata": {},
     "output_type": "display_data"
    },
    {
     "data": {
      "text/html": [
       " View run at <a href='https://wandb.ai/junboma/lag_llama_04_07/runs/blndtdqc' target=\"_blank\">https://wandb.ai/junboma/lag_llama_04_07/runs/blndtdqc</a>"
      ],
      "text/plain": [
       "<IPython.core.display.HTML object>"
      ]
     },
     "metadata": {},
     "output_type": "display_data"
    },
    {
     "name": "stderr",
     "output_type": "stream",
     "text": [
      "\u001b[34m\u001b[1mwandb\u001b[0m: \u001b[33mWARNING\u001b[0m Ignored wandb.init() arg project when running a sweep.\n"
     ]
    },
    {
     "data": {
      "text/html": [
       "Finishing last run (ID:blndtdqc) before initializing another..."
      ],
      "text/plain": [
       "<IPython.core.display.HTML object>"
      ]
     },
     "metadata": {},
     "output_type": "display_data"
    },
    {
     "data": {
      "application/vnd.jupyter.widget-view+json": {
       "model_id": "",
       "version_major": 2,
       "version_minor": 0
      },
      "text/plain": [
       "VBox(children=(Label(value='0.003 MB of 0.003 MB uploaded\\r'), FloatProgress(value=1.0, max=1.0)))"
      ]
     },
     "metadata": {},
     "output_type": "display_data"
    },
    {
     "data": {
      "text/html": [
       " View run <strong style=\"color:#cdcd00\">drawn-sweep-2</strong> at: <a href='https://wandb.ai/junboma/lag_llama_04_07/runs/blndtdqc' target=\"_blank\">https://wandb.ai/junboma/lag_llama_04_07/runs/blndtdqc</a><br/> View project at: <a href='https://wandb.ai/junboma/lag_llama_04_07' target=\"_blank\">https://wandb.ai/junboma/lag_llama_04_07</a><br/>Synced 6 W&B file(s), 0 media file(s), 0 artifact file(s) and 0 other file(s)"
      ],
      "text/plain": [
       "<IPython.core.display.HTML object>"
      ]
     },
     "metadata": {},
     "output_type": "display_data"
    },
    {
     "data": {
      "text/html": [
       "Find logs at: <code>./wandb/run-20240704_143209-blndtdqc/logs</code>"
      ],
      "text/plain": [
       "<IPython.core.display.HTML object>"
      ]
     },
     "metadata": {},
     "output_type": "display_data"
    },
    {
     "data": {
      "text/html": [
       "Successfully finished last run (ID:blndtdqc). Initializing new run:<br/>"
      ],
      "text/plain": [
       "<IPython.core.display.HTML object>"
      ]
     },
     "metadata": {},
     "output_type": "display_data"
    },
    {
     "data": {
      "application/vnd.jupyter.widget-view+json": {
       "model_id": "55d5784d6dd7499b9ad973e2e1295a38",
       "version_major": 2,
       "version_minor": 0
      },
      "text/plain": [
       "VBox(children=(Label(value='Waiting for wandb.init()...\\r'), FloatProgress(value=0.011112384270462725, max=1.0…"
      ]
     },
     "metadata": {},
     "output_type": "display_data"
    },
    {
     "data": {
      "text/html": [
       "wandb version 0.17.4 is available!  To upgrade, please run:\n",
       " $ pip install wandb --upgrade"
      ],
      "text/plain": [
       "<IPython.core.display.HTML object>"
      ]
     },
     "metadata": {},
     "output_type": "display_data"
    },
    {
     "data": {
      "text/html": [
       "Tracking run with wandb version 0.17.1"
      ],
      "text/plain": [
       "<IPython.core.display.HTML object>"
      ]
     },
     "metadata": {},
     "output_type": "display_data"
    },
    {
     "data": {
      "text/html": [
       "Run data is saved locally in <code>/home/eragroup/Documents/Documents/Koutas_Master_Thesis_Supervision/Junbo_Leng/lag_llama_model/lag-llama-main/wandb/run-20240704_143222-blndtdqc</code>"
      ],
      "text/plain": [
       "<IPython.core.display.HTML object>"
      ]
     },
     "metadata": {},
     "output_type": "display_data"
    },
    {
     "data": {
      "text/html": [
       "Syncing run <strong><a href='https://wandb.ai/junboma/lag_llama_04_07/runs/blndtdqc' target=\"_blank\">drawn-sweep-2</a></strong> to <a href='https://wandb.ai/junboma/lag_llama_04_07' target=\"_blank\">Weights & Biases</a> (<a href='https://wandb.me/run' target=\"_blank\">docs</a>)<br/>Sweep page: <a href='https://wandb.ai/junboma/lag_llama_04_07/sweeps/8bk4uije' target=\"_blank\">https://wandb.ai/junboma/lag_llama_04_07/sweeps/8bk4uije</a>"
      ],
      "text/plain": [
       "<IPython.core.display.HTML object>"
      ]
     },
     "metadata": {},
     "output_type": "display_data"
    },
    {
     "data": {
      "text/html": [
       " View project at <a href='https://wandb.ai/junboma/lag_llama_04_07' target=\"_blank\">https://wandb.ai/junboma/lag_llama_04_07</a>"
      ],
      "text/plain": [
       "<IPython.core.display.HTML object>"
      ]
     },
     "metadata": {},
     "output_type": "display_data"
    },
    {
     "data": {
      "text/html": [
       " View sweep at <a href='https://wandb.ai/junboma/lag_llama_04_07/sweeps/8bk4uije' target=\"_blank\">https://wandb.ai/junboma/lag_llama_04_07/sweeps/8bk4uije</a>"
      ],
      "text/plain": [
       "<IPython.core.display.HTML object>"
      ]
     },
     "metadata": {},
     "output_type": "display_data"
    },
    {
     "data": {
      "text/html": [
       " View run at <a href='https://wandb.ai/junboma/lag_llama_04_07/runs/blndtdqc' target=\"_blank\">https://wandb.ai/junboma/lag_llama_04_07/runs/blndtdqc</a>"
      ],
      "text/plain": [
       "<IPython.core.display.HTML object>"
      ]
     },
     "metadata": {},
     "output_type": "display_data"
    },
    {
     "name": "stderr",
     "output_type": "stream",
     "text": [
      "GPU available: True (cuda), used: True\n",
      "TPU available: False, using: 0 TPU cores\n",
      "IPU available: False, using: 0 IPUs\n",
      "HPU available: False, using: 0 HPUs\n",
      "/home/eragroup/anaconda3/envs/lag_llama/lib/python3.12/site-packages/lightning/pytorch/trainer/configuration_validator.py:74: You defined a `validation_step` but have no `val_dataloader`. Skipping val loop.\n",
      "LOCAL_RANK: 0 - CUDA_VISIBLE_DEVICES: [0]\n",
      "\n",
      "  | Name          | Type               | Params\n",
      "-----------------------------------------------------\n",
      "0 | model         | LagLlamaModel      | 2.4 M \n",
      "1 | augmentations | ApplyAugmentations | 0     \n",
      "-----------------------------------------------------\n",
      "2.4 M     Trainable params\n",
      "0         Non-trainable params\n",
      "2.4 M     Total params\n",
      "9.797     Total estimated model params size (MB)\n"
     ]
    },
    {
     "data": {
      "application/vnd.jupyter.widget-view+json": {
       "model_id": "9c0490d4b5c040b3ad2d85e0987365db",
       "version_major": 2,
       "version_minor": 0
      },
      "text/plain": [
       "Training: |                                               | 0/? [00:00<?, ?it/s]"
      ]
     },
     "metadata": {},
     "output_type": "display_data"
    },
    {
     "name": "stderr",
     "output_type": "stream",
     "text": [
      "Epoch 0, global step 50: 'train_loss' reached 0.94483 (best 0.94483), saving model to '/home/eragroup/Documents/Documents/Koutas_Master_Thesis_Supervision/Junbo_Leng/lag_llama_model/lag-llama-main/lightning_logs/version_29/checkpoints/epoch=0-step=50.ckpt' as top 1\n",
      "Epoch 1, global step 100: 'train_loss' reached 0.73799 (best 0.73799), saving model to '/home/eragroup/Documents/Documents/Koutas_Master_Thesis_Supervision/Junbo_Leng/lag_llama_model/lag-llama-main/lightning_logs/version_29/checkpoints/epoch=1-step=100.ckpt' as top 1\n",
      "Epoch 2, global step 150: 'train_loss' reached 0.60103 (best 0.60103), saving model to '/home/eragroup/Documents/Documents/Koutas_Master_Thesis_Supervision/Junbo_Leng/lag_llama_model/lag-llama-main/lightning_logs/version_29/checkpoints/epoch=2-step=150.ckpt' as top 1\n",
      "Epoch 3, global step 200: 'train_loss' reached 0.48449 (best 0.48449), saving model to '/home/eragroup/Documents/Documents/Koutas_Master_Thesis_Supervision/Junbo_Leng/lag_llama_model/lag-llama-main/lightning_logs/version_29/checkpoints/epoch=3-step=200.ckpt' as top 1\n",
      "Epoch 4, global step 250: 'train_loss' was not in top 1\n",
      "Epoch 5, global step 300: 'train_loss' was not in top 1\n",
      "Epoch 6, global step 350: 'train_loss' was not in top 1\n",
      "Epoch 7, global step 400: 'train_loss' was not in top 1\n",
      "Epoch 8, global step 450: 'train_loss' was not in top 1\n",
      "Epoch 9, global step 500: 'train_loss' was not in top 1\n",
      "Epoch 10, global step 550: 'train_loss' was not in top 1\n",
      "Epoch 11, global step 600: 'train_loss' was not in top 1\n",
      "Epoch 12, global step 650: 'train_loss' was not in top 1\n",
      "Epoch 13, global step 700: 'train_loss' reached 0.38859 (best 0.38859), saving model to '/home/eragroup/Documents/Documents/Koutas_Master_Thesis_Supervision/Junbo_Leng/lag_llama_model/lag-llama-main/lightning_logs/version_29/checkpoints/epoch=13-step=700.ckpt' as top 1\n",
      "Epoch 14, global step 750: 'train_loss' was not in top 1\n",
      "Epoch 15, global step 800: 'train_loss' was not in top 1\n",
      "Epoch 16, global step 850: 'train_loss' was not in top 1\n",
      "Epoch 17, global step 900: 'train_loss' was not in top 1\n",
      "Epoch 18, global step 950: 'train_loss' was not in top 1\n",
      "Epoch 19, global step 1000: 'train_loss' was not in top 1\n",
      "Epoch 20, global step 1050: 'train_loss' was not in top 1\n",
      "Epoch 21, global step 1100: 'train_loss' was not in top 1\n",
      "Epoch 22, global step 1150: 'train_loss' was not in top 1\n",
      "Epoch 23, global step 1200: 'train_loss' reached 0.35936 (best 0.35936), saving model to '/home/eragroup/Documents/Documents/Koutas_Master_Thesis_Supervision/Junbo_Leng/lag_llama_model/lag-llama-main/lightning_logs/version_29/checkpoints/epoch=23-step=1200.ckpt' as top 1\n",
      "Epoch 24, global step 1250: 'train_loss' was not in top 1\n",
      "Epoch 25, global step 1300: 'train_loss' was not in top 1\n",
      "Epoch 26, global step 1350: 'train_loss' was not in top 1\n",
      "Epoch 27, global step 1400: 'train_loss' was not in top 1\n",
      "Epoch 28, global step 1450: 'train_loss' was not in top 1\n",
      "Epoch 29, global step 1500: 'train_loss' was not in top 1\n",
      "Epoch 30, global step 1550: 'train_loss' was not in top 1\n",
      "Epoch 31, global step 1600: 'train_loss' reached 0.29395 (best 0.29395), saving model to '/home/eragroup/Documents/Documents/Koutas_Master_Thesis_Supervision/Junbo_Leng/lag_llama_model/lag-llama-main/lightning_logs/version_29/checkpoints/epoch=31-step=1600.ckpt' as top 1\n",
      "Epoch 32, global step 1650: 'train_loss' was not in top 1\n",
      "Epoch 33, global step 1700: 'train_loss' was not in top 1\n",
      "Epoch 34, global step 1750: 'train_loss' was not in top 1\n",
      "Epoch 35, global step 1800: 'train_loss' was not in top 1\n",
      "Epoch 36, global step 1850: 'train_loss' was not in top 1\n",
      "Epoch 37, global step 1900: 'train_loss' was not in top 1\n",
      "Epoch 38, global step 1950: 'train_loss' reached 0.29107 (best 0.29107), saving model to '/home/eragroup/Documents/Documents/Koutas_Master_Thesis_Supervision/Junbo_Leng/lag_llama_model/lag-llama-main/lightning_logs/version_29/checkpoints/epoch=38-step=1950.ckpt' as top 1\n",
      "Epoch 39, global step 2000: 'train_loss' was not in top 1\n",
      "Epoch 40, global step 2050: 'train_loss' was not in top 1\n",
      "Epoch 41, global step 2100: 'train_loss' was not in top 1\n",
      "Epoch 42, global step 2150: 'train_loss' was not in top 1\n",
      "Epoch 43, global step 2200: 'train_loss' was not in top 1\n",
      "Epoch 44, global step 2250: 'train_loss' was not in top 1\n",
      "Epoch 45, global step 2300: 'train_loss' was not in top 1\n",
      "Epoch 46, global step 2350: 'train_loss' was not in top 1\n",
      "Epoch 47, global step 2400: 'train_loss' was not in top 1\n",
      "Epoch 48, global step 2450: 'train_loss' reached 0.24227 (best 0.24227), saving model to '/home/eragroup/Documents/Documents/Koutas_Master_Thesis_Supervision/Junbo_Leng/lag_llama_model/lag-llama-main/lightning_logs/version_29/checkpoints/epoch=48-step=2450.ckpt' as top 1\n",
      "Epoch 49, global step 2500: 'train_loss' was not in top 1\n",
      "Epoch 50, global step 2550: 'train_loss' was not in top 1\n",
      "Epoch 51, global step 2600: 'train_loss' was not in top 1\n",
      "Epoch 52, global step 2650: 'train_loss' was not in top 1\n",
      "Epoch 53, global step 2700: 'train_loss' was not in top 1\n",
      "Epoch 54, global step 2750: 'train_loss' was not in top 1\n",
      "Epoch 55, global step 2800: 'train_loss' was not in top 1\n",
      "Epoch 56, global step 2850: 'train_loss' was not in top 1\n",
      "Epoch 57, global step 2900: 'train_loss' was not in top 1\n",
      "Epoch 58, global step 2950: 'train_loss' was not in top 1\n",
      "Epoch 59, global step 3000: 'train_loss' was not in top 1\n",
      "Epoch 60, global step 3050: 'train_loss' was not in top 1\n",
      "Epoch 61, global step 3100: 'train_loss' was not in top 1\n",
      "Epoch 62, global step 3150: 'train_loss' reached 0.23171 (best 0.23171), saving model to '/home/eragroup/Documents/Documents/Koutas_Master_Thesis_Supervision/Junbo_Leng/lag_llama_model/lag-llama-main/lightning_logs/version_29/checkpoints/epoch=62-step=3150.ckpt' as top 1\n",
      "Epoch 63, global step 3200: 'train_loss' was not in top 1\n",
      "Epoch 64, global step 3250: 'train_loss' was not in top 1\n",
      "Epoch 65, global step 3300: 'train_loss' was not in top 1\n",
      "Epoch 66, global step 3350: 'train_loss' was not in top 1\n",
      "Epoch 67, global step 3400: 'train_loss' was not in top 1\n",
      "Epoch 68, global step 3450: 'train_loss' was not in top 1\n",
      "Epoch 69, global step 3500: 'train_loss' was not in top 1\n",
      "Epoch 70, global step 3550: 'train_loss' was not in top 1\n",
      "Epoch 71, global step 3600: 'train_loss' was not in top 1\n",
      "Epoch 72, global step 3650: 'train_loss' was not in top 1\n",
      "Epoch 73, global step 3700: 'train_loss' was not in top 1\n",
      "Epoch 74, global step 3750: 'train_loss' was not in top 1\n",
      "Epoch 75, global step 3800: 'train_loss' was not in top 1\n",
      "Epoch 76, global step 3850: 'train_loss' was not in top 1\n",
      "Epoch 77, global step 3900: 'train_loss' was not in top 1\n",
      "Epoch 78, global step 3950: 'train_loss' was not in top 1\n",
      "Epoch 79, global step 4000: 'train_loss' was not in top 1\n",
      "Epoch 80, global step 4050: 'train_loss' was not in top 1\n",
      "Epoch 81, global step 4100: 'train_loss' was not in top 1\n",
      "Epoch 82, global step 4150: 'train_loss' was not in top 1\n",
      "Epoch 83, global step 4200: 'train_loss' was not in top 1\n",
      "Epoch 84, global step 4250: 'train_loss' was not in top 1\n",
      "Epoch 85, global step 4300: 'train_loss' was not in top 1\n",
      "Epoch 86, global step 4350: 'train_loss' was not in top 1\n",
      "Epoch 87, global step 4400: 'train_loss' was not in top 1\n",
      "Epoch 88, global step 4450: 'train_loss' was not in top 1\n",
      "Epoch 89, global step 4500: 'train_loss' was not in top 1\n",
      "Epoch 90, global step 4550: 'train_loss' was not in top 1\n",
      "Epoch 91, global step 4600: 'train_loss' was not in top 1\n",
      "Epoch 92, global step 4650: 'train_loss' was not in top 1\n",
      "Epoch 93, global step 4700: 'train_loss' was not in top 1\n",
      "Epoch 94, global step 4750: 'train_loss' was not in top 1\n",
      "Epoch 95, global step 4800: 'train_loss' was not in top 1\n",
      "Epoch 96, global step 4850: 'train_loss' was not in top 1\n",
      "Epoch 97, global step 4900: 'train_loss' was not in top 1\n",
      "Epoch 98, global step 4950: 'train_loss' was not in top 1\n",
      "Epoch 99, global step 5000: 'train_loss' was not in top 1\n",
      "`Trainer.fit` stopped: `max_epochs=100` reached.\n"
     ]
    },
    {
     "data": {
      "application/vnd.jupyter.widget-view+json": {
       "model_id": "d8a096d7b9454b6daa528f61ca3cfbf2",
       "version_major": 2,
       "version_minor": 0
      },
      "text/plain": [
       "Forecasting batches:   0%|          | 0/60 [00:00<?, ?it/s]"
      ]
     },
     "metadata": {},
     "output_type": "display_data"
    },
    {
     "data": {
      "application/vnd.jupyter.widget-view+json": {
       "model_id": "e4750d21fc614c488f8f000aa85e7ead",
       "version_major": 2,
       "version_minor": 0
      },
      "text/plain": [
       "Ground truth:   0%|          | 0/60 [00:00<?, ?it/s]"
      ]
     },
     "metadata": {},
     "output_type": "display_data"
    },
    {
     "name": "stderr",
     "output_type": "stream",
     "text": [
      "/tmp/ipykernel_18695/4101722395.py:14: FutureWarning: Series.__getitem__ treating keys as positions is deprecated. In a future version, integer keys will always be treated as labels (consistent with DataFrame behavior). To access a value by position, use `ser.iloc[pos]`\n",
      "  tss[i].values[:] = tss[i].values * test_df.std()[i] + test_df.mean()[i]\n",
      "/tmp/ipykernel_18695/4101722395.py:17: FutureWarning: Series.__getitem__ treating keys as positions is deprecated. In a future version, integer keys will always be treated as labels (consistent with DataFrame behavior). To access a value by position, use `ser.iloc[pos]`\n",
      "  std_value = test_df.std()[i]\n",
      "/tmp/ipykernel_18695/4101722395.py:18: FutureWarning: Series.__getitem__ treating keys as positions is deprecated. In a future version, integer keys will always be treated as labels (consistent with DataFrame behavior). To access a value by position, use `ser.iloc[pos]`\n",
      "  mean_value = test_df.mean()[i]\n",
      "Running evaluation: 60it [00:00, 467.34it/s]\n"
     ]
    },
    {
     "data": {
      "application/vnd.jupyter.widget-view+json": {
       "model_id": "",
       "version_major": 2,
       "version_minor": 0
      },
      "text/plain": [
       "VBox(children=(Label(value='0.003 MB of 0.022 MB uploaded\\r'), FloatProgress(value=0.15332332950834143, max=1.…"
      ]
     },
     "metadata": {},
     "output_type": "display_data"
    },
    {
     "data": {
      "text/html": [
       "<style>\n",
       "    table.wandb td:nth-child(1) { padding: 0 10px; text-align: left ; width: auto;} td:nth-child(2) {text-align: left ; width: 100%}\n",
       "    .wandb-row { display: flex; flex-direction: row; flex-wrap: wrap; justify-content: flex-start; width: 100% }\n",
       "    .wandb-col { display: flex; flex-direction: column; flex-basis: 100%; flex: 1; padding: 10px; }\n",
       "    </style>\n",
       "<div class=\"wandb-row\"><div class=\"wandb-col\"><h3>Run history:</h3><br/><table class=\"wandb\"><tr><td>CPRS</td><td>▁</td></tr><tr><td>train_loss</td><td>▆▅▇▆▃▅▂▆▆▇▅▆▅▆▃▆▆▃█▆▁▄▇▅▅▃▂▃▆█▄█▄▃▆▅▅▄▄▇</td></tr></table><br/></div><div class=\"wandb-col\"><h3>Run summary:</h3><br/><table class=\"wandb\"><tr><td>CPRS</td><td>0.00046</td></tr><tr><td>train_loss</td><td>0.29449</td></tr></table><br/></div></div>"
      ],
      "text/plain": [
       "<IPython.core.display.HTML object>"
      ]
     },
     "metadata": {},
     "output_type": "display_data"
    },
    {
     "data": {
      "text/html": [
       " View run <strong style=\"color:#cdcd00\">drawn-sweep-2</strong> at: <a href='https://wandb.ai/junboma/lag_llama_04_07/runs/blndtdqc' target=\"_blank\">https://wandb.ai/junboma/lag_llama_04_07/runs/blndtdqc</a><br/> View project at: <a href='https://wandb.ai/junboma/lag_llama_04_07' target=\"_blank\">https://wandb.ai/junboma/lag_llama_04_07</a><br/>Synced 6 W&B file(s), 0 media file(s), 0 artifact file(s) and 0 other file(s)"
      ],
      "text/plain": [
       "<IPython.core.display.HTML object>"
      ]
     },
     "metadata": {},
     "output_type": "display_data"
    },
    {
     "data": {
      "text/html": [
       "Find logs at: <code>./wandb/run-20240704_143222-blndtdqc/logs</code>"
      ],
      "text/plain": [
       "<IPython.core.display.HTML object>"
      ]
     },
     "metadata": {},
     "output_type": "display_data"
    },
    {
     "name": "stderr",
     "output_type": "stream",
     "text": [
      "\u001b[34m\u001b[1mwandb\u001b[0m: Agent Starting Run: fcl5z193 with config:\n",
      "\u001b[34m\u001b[1mwandb\u001b[0m: \tbatch_size: 2\n",
      "\u001b[34m\u001b[1mwandb\u001b[0m: \tcontext_length: 32\n",
      "\u001b[34m\u001b[1mwandb\u001b[0m: \tlr: 5e-05\n"
     ]
    },
    {
     "data": {
      "text/html": [
       "wandb version 0.17.4 is available!  To upgrade, please run:\n",
       " $ pip install wandb --upgrade"
      ],
      "text/plain": [
       "<IPython.core.display.HTML object>"
      ]
     },
     "metadata": {},
     "output_type": "display_data"
    },
    {
     "data": {
      "text/html": [
       "Tracking run with wandb version 0.17.1"
      ],
      "text/plain": [
       "<IPython.core.display.HTML object>"
      ]
     },
     "metadata": {},
     "output_type": "display_data"
    },
    {
     "data": {
      "text/html": [
       "Run data is saved locally in <code>/home/eragroup/Documents/Documents/Koutas_Master_Thesis_Supervision/Junbo_Leng/lag_llama_model/lag-llama-main/wandb/run-20240704_143938-fcl5z193</code>"
      ],
      "text/plain": [
       "<IPython.core.display.HTML object>"
      ]
     },
     "metadata": {},
     "output_type": "display_data"
    },
    {
     "data": {
      "text/html": [
       "Syncing run <strong><a href='https://wandb.ai/junboma/lag_llama_04_07/runs/fcl5z193' target=\"_blank\">lucky-sweep-3</a></strong> to <a href='https://wandb.ai/junboma/lag_llama_04_07' target=\"_blank\">Weights & Biases</a> (<a href='https://wandb.me/run' target=\"_blank\">docs</a>)<br/>Sweep page: <a href='https://wandb.ai/junboma/lag_llama_04_07/sweeps/8bk4uije' target=\"_blank\">https://wandb.ai/junboma/lag_llama_04_07/sweeps/8bk4uije</a>"
      ],
      "text/plain": [
       "<IPython.core.display.HTML object>"
      ]
     },
     "metadata": {},
     "output_type": "display_data"
    },
    {
     "data": {
      "text/html": [
       " View project at <a href='https://wandb.ai/junboma/lag_llama_04_07' target=\"_blank\">https://wandb.ai/junboma/lag_llama_04_07</a>"
      ],
      "text/plain": [
       "<IPython.core.display.HTML object>"
      ]
     },
     "metadata": {},
     "output_type": "display_data"
    },
    {
     "data": {
      "text/html": [
       " View sweep at <a href='https://wandb.ai/junboma/lag_llama_04_07/sweeps/8bk4uije' target=\"_blank\">https://wandb.ai/junboma/lag_llama_04_07/sweeps/8bk4uije</a>"
      ],
      "text/plain": [
       "<IPython.core.display.HTML object>"
      ]
     },
     "metadata": {},
     "output_type": "display_data"
    },
    {
     "data": {
      "text/html": [
       " View run at <a href='https://wandb.ai/junboma/lag_llama_04_07/runs/fcl5z193' target=\"_blank\">https://wandb.ai/junboma/lag_llama_04_07/runs/fcl5z193</a>"
      ],
      "text/plain": [
       "<IPython.core.display.HTML object>"
      ]
     },
     "metadata": {},
     "output_type": "display_data"
    },
    {
     "name": "stderr",
     "output_type": "stream",
     "text": [
      "\u001b[34m\u001b[1mwandb\u001b[0m: \u001b[33mWARNING\u001b[0m Ignored wandb.init() arg project when running a sweep.\n"
     ]
    },
    {
     "data": {
      "text/html": [
       "Finishing last run (ID:fcl5z193) before initializing another..."
      ],
      "text/plain": [
       "<IPython.core.display.HTML object>"
      ]
     },
     "metadata": {},
     "output_type": "display_data"
    },
    {
     "data": {
      "application/vnd.jupyter.widget-view+json": {
       "model_id": "",
       "version_major": 2,
       "version_minor": 0
      },
      "text/plain": [
       "VBox(children=(Label(value='0.003 MB of 0.003 MB uploaded\\r'), FloatProgress(value=1.0, max=1.0)))"
      ]
     },
     "metadata": {},
     "output_type": "display_data"
    },
    {
     "data": {
      "text/html": [
       " View run <strong style=\"color:#cdcd00\">lucky-sweep-3</strong> at: <a href='https://wandb.ai/junboma/lag_llama_04_07/runs/fcl5z193' target=\"_blank\">https://wandb.ai/junboma/lag_llama_04_07/runs/fcl5z193</a><br/> View project at: <a href='https://wandb.ai/junboma/lag_llama_04_07' target=\"_blank\">https://wandb.ai/junboma/lag_llama_04_07</a><br/>Synced 6 W&B file(s), 0 media file(s), 0 artifact file(s) and 0 other file(s)"
      ],
      "text/plain": [
       "<IPython.core.display.HTML object>"
      ]
     },
     "metadata": {},
     "output_type": "display_data"
    },
    {
     "data": {
      "text/html": [
       "Find logs at: <code>./wandb/run-20240704_143938-fcl5z193/logs</code>"
      ],
      "text/plain": [
       "<IPython.core.display.HTML object>"
      ]
     },
     "metadata": {},
     "output_type": "display_data"
    },
    {
     "data": {
      "text/html": [
       "Successfully finished last run (ID:fcl5z193). Initializing new run:<br/>"
      ],
      "text/plain": [
       "<IPython.core.display.HTML object>"
      ]
     },
     "metadata": {},
     "output_type": "display_data"
    },
    {
     "data": {
      "application/vnd.jupyter.widget-view+json": {
       "model_id": "2889ac78965f4991944faea88c08d1c2",
       "version_major": 2,
       "version_minor": 0
      },
      "text/plain": [
       "VBox(children=(Label(value='Waiting for wandb.init()...\\r'), FloatProgress(value=0.011112476895666785, max=1.0…"
      ]
     },
     "metadata": {},
     "output_type": "display_data"
    },
    {
     "data": {
      "text/html": [
       "wandb version 0.17.4 is available!  To upgrade, please run:\n",
       " $ pip install wandb --upgrade"
      ],
      "text/plain": [
       "<IPython.core.display.HTML object>"
      ]
     },
     "metadata": {},
     "output_type": "display_data"
    },
    {
     "data": {
      "text/html": [
       "Tracking run with wandb version 0.17.1"
      ],
      "text/plain": [
       "<IPython.core.display.HTML object>"
      ]
     },
     "metadata": {},
     "output_type": "display_data"
    },
    {
     "data": {
      "text/html": [
       "Run data is saved locally in <code>/home/eragroup/Documents/Documents/Koutas_Master_Thesis_Supervision/Junbo_Leng/lag_llama_model/lag-llama-main/wandb/run-20240704_143949-fcl5z193</code>"
      ],
      "text/plain": [
       "<IPython.core.display.HTML object>"
      ]
     },
     "metadata": {},
     "output_type": "display_data"
    },
    {
     "data": {
      "text/html": [
       "Syncing run <strong><a href='https://wandb.ai/junboma/lag_llama_04_07/runs/fcl5z193' target=\"_blank\">lucky-sweep-3</a></strong> to <a href='https://wandb.ai/junboma/lag_llama_04_07' target=\"_blank\">Weights & Biases</a> (<a href='https://wandb.me/run' target=\"_blank\">docs</a>)<br/>Sweep page: <a href='https://wandb.ai/junboma/lag_llama_04_07/sweeps/8bk4uije' target=\"_blank\">https://wandb.ai/junboma/lag_llama_04_07/sweeps/8bk4uije</a>"
      ],
      "text/plain": [
       "<IPython.core.display.HTML object>"
      ]
     },
     "metadata": {},
     "output_type": "display_data"
    },
    {
     "data": {
      "text/html": [
       " View project at <a href='https://wandb.ai/junboma/lag_llama_04_07' target=\"_blank\">https://wandb.ai/junboma/lag_llama_04_07</a>"
      ],
      "text/plain": [
       "<IPython.core.display.HTML object>"
      ]
     },
     "metadata": {},
     "output_type": "display_data"
    },
    {
     "data": {
      "text/html": [
       " View sweep at <a href='https://wandb.ai/junboma/lag_llama_04_07/sweeps/8bk4uije' target=\"_blank\">https://wandb.ai/junboma/lag_llama_04_07/sweeps/8bk4uije</a>"
      ],
      "text/plain": [
       "<IPython.core.display.HTML object>"
      ]
     },
     "metadata": {},
     "output_type": "display_data"
    },
    {
     "data": {
      "text/html": [
       " View run at <a href='https://wandb.ai/junboma/lag_llama_04_07/runs/fcl5z193' target=\"_blank\">https://wandb.ai/junboma/lag_llama_04_07/runs/fcl5z193</a>"
      ],
      "text/plain": [
       "<IPython.core.display.HTML object>"
      ]
     },
     "metadata": {},
     "output_type": "display_data"
    },
    {
     "name": "stderr",
     "output_type": "stream",
     "text": [
      "GPU available: True (cuda), used: True\n",
      "TPU available: False, using: 0 TPU cores\n",
      "IPU available: False, using: 0 IPUs\n",
      "HPU available: False, using: 0 HPUs\n",
      "/home/eragroup/anaconda3/envs/lag_llama/lib/python3.12/site-packages/lightning/pytorch/trainer/configuration_validator.py:74: You defined a `validation_step` but have no `val_dataloader`. Skipping val loop.\n",
      "LOCAL_RANK: 0 - CUDA_VISIBLE_DEVICES: [0]\n",
      "\n",
      "  | Name          | Type               | Params\n",
      "-----------------------------------------------------\n",
      "0 | model         | LagLlamaModel      | 2.4 M \n",
      "1 | augmentations | ApplyAugmentations | 0     \n",
      "-----------------------------------------------------\n",
      "2.4 M     Trainable params\n",
      "0         Non-trainable params\n",
      "2.4 M     Total params\n",
      "9.797     Total estimated model params size (MB)\n"
     ]
    },
    {
     "data": {
      "application/vnd.jupyter.widget-view+json": {
       "model_id": "beb1700f5e4444068ccdc54bab7bdbb2",
       "version_major": 2,
       "version_minor": 0
      },
      "text/plain": [
       "Training: |                                               | 0/? [00:00<?, ?it/s]"
      ]
     },
     "metadata": {},
     "output_type": "display_data"
    },
    {
     "name": "stderr",
     "output_type": "stream",
     "text": [
      "Epoch 0, global step 50: 'train_loss' reached 0.53025 (best 0.53025), saving model to '/home/eragroup/Documents/Documents/Koutas_Master_Thesis_Supervision/Junbo_Leng/lag_llama_model/lag-llama-main/lightning_logs/version_30/checkpoints/epoch=0-step=50.ckpt' as top 1\n",
      "Epoch 1, global step 100: 'train_loss' reached 0.45021 (best 0.45021), saving model to '/home/eragroup/Documents/Documents/Koutas_Master_Thesis_Supervision/Junbo_Leng/lag_llama_model/lag-llama-main/lightning_logs/version_30/checkpoints/epoch=1-step=100.ckpt' as top 1\n",
      "Epoch 2, global step 150: 'train_loss' reached 0.43635 (best 0.43635), saving model to '/home/eragroup/Documents/Documents/Koutas_Master_Thesis_Supervision/Junbo_Leng/lag_llama_model/lag-llama-main/lightning_logs/version_30/checkpoints/epoch=2-step=150.ckpt' as top 1\n",
      "Epoch 3, global step 200: 'train_loss' was not in top 1\n",
      "Epoch 4, global step 250: 'train_loss' was not in top 1\n",
      "Epoch 5, global step 300: 'train_loss' reached 0.37865 (best 0.37865), saving model to '/home/eragroup/Documents/Documents/Koutas_Master_Thesis_Supervision/Junbo_Leng/lag_llama_model/lag-llama-main/lightning_logs/version_30/checkpoints/epoch=5-step=300.ckpt' as top 1\n",
      "Epoch 6, global step 350: 'train_loss' reached 0.36387 (best 0.36387), saving model to '/home/eragroup/Documents/Documents/Koutas_Master_Thesis_Supervision/Junbo_Leng/lag_llama_model/lag-llama-main/lightning_logs/version_30/checkpoints/epoch=6-step=350.ckpt' as top 1\n",
      "Epoch 7, global step 400: 'train_loss' reached 0.35125 (best 0.35125), saving model to '/home/eragroup/Documents/Documents/Koutas_Master_Thesis_Supervision/Junbo_Leng/lag_llama_model/lag-llama-main/lightning_logs/version_30/checkpoints/epoch=7-step=400.ckpt' as top 1\n",
      "Epoch 8, global step 450: 'train_loss' reached 0.30759 (best 0.30759), saving model to '/home/eragroup/Documents/Documents/Koutas_Master_Thesis_Supervision/Junbo_Leng/lag_llama_model/lag-llama-main/lightning_logs/version_30/checkpoints/epoch=8-step=450.ckpt' as top 1\n",
      "Epoch 9, global step 500: 'train_loss' was not in top 1\n",
      "Epoch 10, global step 550: 'train_loss' was not in top 1\n",
      "Epoch 11, global step 600: 'train_loss' was not in top 1\n",
      "Epoch 12, global step 650: 'train_loss' was not in top 1\n",
      "Epoch 13, global step 700: 'train_loss' was not in top 1\n",
      "Epoch 14, global step 750: 'train_loss' was not in top 1\n",
      "Epoch 15, global step 800: 'train_loss' was not in top 1\n",
      "Epoch 16, global step 850: 'train_loss' was not in top 1\n",
      "Epoch 17, global step 900: 'train_loss' was not in top 1\n",
      "Epoch 18, global step 950: 'train_loss' was not in top 1\n",
      "Epoch 19, global step 1000: 'train_loss' reached 0.25501 (best 0.25501), saving model to '/home/eragroup/Documents/Documents/Koutas_Master_Thesis_Supervision/Junbo_Leng/lag_llama_model/lag-llama-main/lightning_logs/version_30/checkpoints/epoch=19-step=1000.ckpt' as top 1\n",
      "Epoch 20, global step 1050: 'train_loss' was not in top 1\n",
      "Epoch 21, global step 1100: 'train_loss' was not in top 1\n",
      "Epoch 22, global step 1150: 'train_loss' was not in top 1\n",
      "Epoch 23, global step 1200: 'train_loss' reached 0.24098 (best 0.24098), saving model to '/home/eragroup/Documents/Documents/Koutas_Master_Thesis_Supervision/Junbo_Leng/lag_llama_model/lag-llama-main/lightning_logs/version_30/checkpoints/epoch=23-step=1200.ckpt' as top 1\n",
      "Epoch 24, global step 1250: 'train_loss' was not in top 1\n",
      "Epoch 25, global step 1300: 'train_loss' was not in top 1\n",
      "Epoch 26, global step 1350: 'train_loss' was not in top 1\n",
      "Epoch 27, global step 1400: 'train_loss' was not in top 1\n",
      "Epoch 28, global step 1450: 'train_loss' was not in top 1\n",
      "Epoch 29, global step 1500: 'train_loss' was not in top 1\n",
      "Epoch 30, global step 1550: 'train_loss' was not in top 1\n",
      "Epoch 31, global step 1600: 'train_loss' was not in top 1\n",
      "Epoch 32, global step 1650: 'train_loss' was not in top 1\n",
      "Epoch 33, global step 1700: 'train_loss' was not in top 1\n",
      "Epoch 34, global step 1750: 'train_loss' was not in top 1\n",
      "Epoch 35, global step 1800: 'train_loss' was not in top 1\n",
      "Epoch 36, global step 1850: 'train_loss' reached 0.22457 (best 0.22457), saving model to '/home/eragroup/Documents/Documents/Koutas_Master_Thesis_Supervision/Junbo_Leng/lag_llama_model/lag-llama-main/lightning_logs/version_30/checkpoints/epoch=36-step=1850.ckpt' as top 1\n",
      "Epoch 37, global step 1900: 'train_loss' was not in top 1\n",
      "Epoch 38, global step 1950: 'train_loss' was not in top 1\n",
      "Epoch 39, global step 2000: 'train_loss' was not in top 1\n",
      "Epoch 40, global step 2050: 'train_loss' was not in top 1\n",
      "Epoch 41, global step 2100: 'train_loss' was not in top 1\n",
      "Epoch 42, global step 2150: 'train_loss' was not in top 1\n",
      "Epoch 43, global step 2200: 'train_loss' was not in top 1\n",
      "Epoch 44, global step 2250: 'train_loss' reached 0.17152 (best 0.17152), saving model to '/home/eragroup/Documents/Documents/Koutas_Master_Thesis_Supervision/Junbo_Leng/lag_llama_model/lag-llama-main/lightning_logs/version_30/checkpoints/epoch=44-step=2250.ckpt' as top 1\n",
      "Epoch 45, global step 2300: 'train_loss' was not in top 1\n",
      "Epoch 46, global step 2350: 'train_loss' was not in top 1\n",
      "Epoch 47, global step 2400: 'train_loss' was not in top 1\n",
      "Epoch 48, global step 2450: 'train_loss' was not in top 1\n",
      "Epoch 49, global step 2500: 'train_loss' was not in top 1\n",
      "Epoch 50, global step 2550: 'train_loss' was not in top 1\n",
      "Epoch 51, global step 2600: 'train_loss' was not in top 1\n",
      "Epoch 52, global step 2650: 'train_loss' reached 0.10607 (best 0.10607), saving model to '/home/eragroup/Documents/Documents/Koutas_Master_Thesis_Supervision/Junbo_Leng/lag_llama_model/lag-llama-main/lightning_logs/version_30/checkpoints/epoch=52-step=2650.ckpt' as top 1\n",
      "Epoch 53, global step 2700: 'train_loss' reached 0.09122 (best 0.09122), saving model to '/home/eragroup/Documents/Documents/Koutas_Master_Thesis_Supervision/Junbo_Leng/lag_llama_model/lag-llama-main/lightning_logs/version_30/checkpoints/epoch=53-step=2700.ckpt' as top 1\n",
      "Epoch 54, global step 2750: 'train_loss' was not in top 1\n",
      "Epoch 55, global step 2800: 'train_loss' was not in top 1\n",
      "Epoch 56, global step 2850: 'train_loss' was not in top 1\n",
      "Epoch 57, global step 2900: 'train_loss' was not in top 1\n",
      "Epoch 58, global step 2950: 'train_loss' was not in top 1\n",
      "Epoch 59, global step 3000: 'train_loss' was not in top 1\n",
      "Epoch 60, global step 3050: 'train_loss' was not in top 1\n",
      "Epoch 61, global step 3100: 'train_loss' was not in top 1\n",
      "Epoch 62, global step 3150: 'train_loss' was not in top 1\n",
      "Epoch 63, global step 3200: 'train_loss' was not in top 1\n",
      "Epoch 64, global step 3250: 'train_loss' was not in top 1\n",
      "Epoch 65, global step 3300: 'train_loss' was not in top 1\n",
      "Epoch 66, global step 3350: 'train_loss' was not in top 1\n",
      "Epoch 67, global step 3400: 'train_loss' reached 0.05394 (best 0.05394), saving model to '/home/eragroup/Documents/Documents/Koutas_Master_Thesis_Supervision/Junbo_Leng/lag_llama_model/lag-llama-main/lightning_logs/version_30/checkpoints/epoch=67-step=3400.ckpt' as top 1\n",
      "Epoch 68, global step 3450: 'train_loss' was not in top 1\n",
      "Epoch 69, global step 3500: 'train_loss' was not in top 1\n",
      "Epoch 70, global step 3550: 'train_loss' reached 0.05280 (best 0.05280), saving model to '/home/eragroup/Documents/Documents/Koutas_Master_Thesis_Supervision/Junbo_Leng/lag_llama_model/lag-llama-main/lightning_logs/version_30/checkpoints/epoch=70-step=3550.ckpt' as top 1\n",
      "Epoch 71, global step 3600: 'train_loss' reached 0.03546 (best 0.03546), saving model to '/home/eragroup/Documents/Documents/Koutas_Master_Thesis_Supervision/Junbo_Leng/lag_llama_model/lag-llama-main/lightning_logs/version_30/checkpoints/epoch=71-step=3600.ckpt' as top 1\n",
      "Epoch 72, global step 3650: 'train_loss' was not in top 1\n",
      "Epoch 73, global step 3700: 'train_loss' was not in top 1\n",
      "Epoch 74, global step 3750: 'train_loss' was not in top 1\n",
      "Epoch 75, global step 3800: 'train_loss' was not in top 1\n",
      "Epoch 76, global step 3850: 'train_loss' reached 0.01012 (best 0.01012), saving model to '/home/eragroup/Documents/Documents/Koutas_Master_Thesis_Supervision/Junbo_Leng/lag_llama_model/lag-llama-main/lightning_logs/version_30/checkpoints/epoch=76-step=3850.ckpt' as top 1\n",
      "Epoch 77, global step 3900: 'train_loss' reached -0.00991 (best -0.00991), saving model to '/home/eragroup/Documents/Documents/Koutas_Master_Thesis_Supervision/Junbo_Leng/lag_llama_model/lag-llama-main/lightning_logs/version_30/checkpoints/epoch=77-step=3900.ckpt' as top 1\n",
      "Epoch 78, global step 3950: 'train_loss' reached -0.07530 (best -0.07530), saving model to '/home/eragroup/Documents/Documents/Koutas_Master_Thesis_Supervision/Junbo_Leng/lag_llama_model/lag-llama-main/lightning_logs/version_30/checkpoints/epoch=78-step=3950.ckpt' as top 1\n",
      "Epoch 79, global step 4000: 'train_loss' was not in top 1\n",
      "Epoch 80, global step 4050: 'train_loss' was not in top 1\n",
      "Epoch 81, global step 4100: 'train_loss' was not in top 1\n",
      "Epoch 82, global step 4150: 'train_loss' was not in top 1\n",
      "Epoch 83, global step 4200: 'train_loss' was not in top 1\n",
      "Epoch 84, global step 4250: 'train_loss' was not in top 1\n",
      "Epoch 85, global step 4300: 'train_loss' was not in top 1\n",
      "Epoch 86, global step 4350: 'train_loss' reached -0.10712 (best -0.10712), saving model to '/home/eragroup/Documents/Documents/Koutas_Master_Thesis_Supervision/Junbo_Leng/lag_llama_model/lag-llama-main/lightning_logs/version_30/checkpoints/epoch=86-step=4350.ckpt' as top 1\n",
      "Epoch 87, global step 4400: 'train_loss' was not in top 1\n",
      "Epoch 88, global step 4450: 'train_loss' reached -0.13361 (best -0.13361), saving model to '/home/eragroup/Documents/Documents/Koutas_Master_Thesis_Supervision/Junbo_Leng/lag_llama_model/lag-llama-main/lightning_logs/version_30/checkpoints/epoch=88-step=4450.ckpt' as top 1\n",
      "Epoch 89, global step 4500: 'train_loss' was not in top 1\n",
      "Epoch 90, global step 4550: 'train_loss' was not in top 1\n",
      "Epoch 91, global step 4600: 'train_loss' was not in top 1\n",
      "Epoch 92, global step 4650: 'train_loss' reached -0.15773 (best -0.15773), saving model to '/home/eragroup/Documents/Documents/Koutas_Master_Thesis_Supervision/Junbo_Leng/lag_llama_model/lag-llama-main/lightning_logs/version_30/checkpoints/epoch=92-step=4650.ckpt' as top 1\n",
      "Epoch 93, global step 4700: 'train_loss' was not in top 1\n",
      "Epoch 94, global step 4750: 'train_loss' reached -0.21422 (best -0.21422), saving model to '/home/eragroup/Documents/Documents/Koutas_Master_Thesis_Supervision/Junbo_Leng/lag_llama_model/lag-llama-main/lightning_logs/version_30/checkpoints/epoch=94-step=4750.ckpt' as top 1\n",
      "Epoch 95, global step 4800: 'train_loss' was not in top 1\n",
      "Epoch 96, global step 4850: 'train_loss' reached -0.21799 (best -0.21799), saving model to '/home/eragroup/Documents/Documents/Koutas_Master_Thesis_Supervision/Junbo_Leng/lag_llama_model/lag-llama-main/lightning_logs/version_30/checkpoints/epoch=96-step=4850.ckpt' as top 1\n",
      "Epoch 97, global step 4900: 'train_loss' was not in top 1\n",
      "Epoch 98, global step 4950: 'train_loss' was not in top 1\n",
      "Epoch 99, global step 5000: 'train_loss' was not in top 1\n",
      "`Trainer.fit` stopped: `max_epochs=100` reached.\n"
     ]
    },
    {
     "data": {
      "application/vnd.jupyter.widget-view+json": {
       "model_id": "881195d0f9be45c8b8ebb85e36980183",
       "version_major": 2,
       "version_minor": 0
      },
      "text/plain": [
       "Forecasting batches:   0%|          | 0/60 [00:00<?, ?it/s]"
      ]
     },
     "metadata": {},
     "output_type": "display_data"
    },
    {
     "data": {
      "application/vnd.jupyter.widget-view+json": {
       "model_id": "e28eb624bf344b3d9653fc2f61834ab0",
       "version_major": 2,
       "version_minor": 0
      },
      "text/plain": [
       "Ground truth:   0%|          | 0/60 [00:00<?, ?it/s]"
      ]
     },
     "metadata": {},
     "output_type": "display_data"
    },
    {
     "name": "stderr",
     "output_type": "stream",
     "text": [
      "/tmp/ipykernel_18695/4101722395.py:14: FutureWarning: Series.__getitem__ treating keys as positions is deprecated. In a future version, integer keys will always be treated as labels (consistent with DataFrame behavior). To access a value by position, use `ser.iloc[pos]`\n",
      "  tss[i].values[:] = tss[i].values * test_df.std()[i] + test_df.mean()[i]\n",
      "/tmp/ipykernel_18695/4101722395.py:17: FutureWarning: Series.__getitem__ treating keys as positions is deprecated. In a future version, integer keys will always be treated as labels (consistent with DataFrame behavior). To access a value by position, use `ser.iloc[pos]`\n",
      "  std_value = test_df.std()[i]\n",
      "/tmp/ipykernel_18695/4101722395.py:18: FutureWarning: Series.__getitem__ treating keys as positions is deprecated. In a future version, integer keys will always be treated as labels (consistent with DataFrame behavior). To access a value by position, use `ser.iloc[pos]`\n",
      "  mean_value = test_df.mean()[i]\n",
      "Running evaluation: 60it [00:00, 607.53it/s]\n"
     ]
    },
    {
     "data": {
      "application/vnd.jupyter.widget-view+json": {
       "model_id": "",
       "version_major": 2,
       "version_minor": 0
      },
      "text/plain": [
       "VBox(children=(Label(value='0.024 MB of 0.024 MB uploaded\\r'), FloatProgress(value=1.0, max=1.0)))"
      ]
     },
     "metadata": {},
     "output_type": "display_data"
    },
    {
     "data": {
      "text/html": [
       "<style>\n",
       "    table.wandb td:nth-child(1) { padding: 0 10px; text-align: left ; width: auto;} td:nth-child(2) {text-align: left ; width: 100%}\n",
       "    .wandb-row { display: flex; flex-direction: row; flex-wrap: wrap; justify-content: flex-start; width: 100% }\n",
       "    .wandb-col { display: flex; flex-direction: column; flex-basis: 100%; flex: 1; padding: 10px; }\n",
       "    </style>\n",
       "<div class=\"wandb-row\"><div class=\"wandb-col\"><h3>Run history:</h3><br/><table class=\"wandb\"><tr><td>CPRS</td><td>▁</td></tr><tr><td>train_loss</td><td>▆▅▄▄▇▃▆▂█▇▄▂▇▄▄▁▆▁▇▅▇▄▂▅▂▅▄▄▃▃▂▇▄▂▃▂▃▂▃▃</td></tr></table><br/></div><div class=\"wandb-col\"><h3>Run summary:</h3><br/><table class=\"wandb\"><tr><td>CPRS</td><td>0.00036</td></tr><tr><td>train_loss</td><td>0.34103</td></tr></table><br/></div></div>"
      ],
      "text/plain": [
       "<IPython.core.display.HTML object>"
      ]
     },
     "metadata": {},
     "output_type": "display_data"
    },
    {
     "data": {
      "text/html": [
       " View run <strong style=\"color:#cdcd00\">lucky-sweep-3</strong> at: <a href='https://wandb.ai/junboma/lag_llama_04_07/runs/fcl5z193' target=\"_blank\">https://wandb.ai/junboma/lag_llama_04_07/runs/fcl5z193</a><br/> View project at: <a href='https://wandb.ai/junboma/lag_llama_04_07' target=\"_blank\">https://wandb.ai/junboma/lag_llama_04_07</a><br/>Synced 6 W&B file(s), 0 media file(s), 0 artifact file(s) and 0 other file(s)"
      ],
      "text/plain": [
       "<IPython.core.display.HTML object>"
      ]
     },
     "metadata": {},
     "output_type": "display_data"
    },
    {
     "data": {
      "text/html": [
       "Find logs at: <code>./wandb/run-20240704_143949-fcl5z193/logs</code>"
      ],
      "text/plain": [
       "<IPython.core.display.HTML object>"
      ]
     },
     "metadata": {},
     "output_type": "display_data"
    },
    {
     "name": "stderr",
     "output_type": "stream",
     "text": [
      "\u001b[34m\u001b[1mwandb\u001b[0m: Agent Starting Run: n0ztollz with config:\n",
      "\u001b[34m\u001b[1mwandb\u001b[0m: \tbatch_size: 2\n",
      "\u001b[34m\u001b[1mwandb\u001b[0m: \tcontext_length: 32\n",
      "\u001b[34m\u001b[1mwandb\u001b[0m: \tlr: 0.0001\n"
     ]
    },
    {
     "data": {
      "text/html": [
       "wandb version 0.17.4 is available!  To upgrade, please run:\n",
       " $ pip install wandb --upgrade"
      ],
      "text/plain": [
       "<IPython.core.display.HTML object>"
      ]
     },
     "metadata": {},
     "output_type": "display_data"
    },
    {
     "data": {
      "text/html": [
       "Tracking run with wandb version 0.17.1"
      ],
      "text/plain": [
       "<IPython.core.display.HTML object>"
      ]
     },
     "metadata": {},
     "output_type": "display_data"
    },
    {
     "data": {
      "text/html": [
       "Run data is saved locally in <code>/home/eragroup/Documents/Documents/Koutas_Master_Thesis_Supervision/Junbo_Leng/lag_llama_model/lag-llama-main/wandb/run-20240704_144701-n0ztollz</code>"
      ],
      "text/plain": [
       "<IPython.core.display.HTML object>"
      ]
     },
     "metadata": {},
     "output_type": "display_data"
    },
    {
     "data": {
      "text/html": [
       "Syncing run <strong><a href='https://wandb.ai/junboma/lag_llama_04_07/runs/n0ztollz' target=\"_blank\">fragrant-sweep-4</a></strong> to <a href='https://wandb.ai/junboma/lag_llama_04_07' target=\"_blank\">Weights & Biases</a> (<a href='https://wandb.me/run' target=\"_blank\">docs</a>)<br/>Sweep page: <a href='https://wandb.ai/junboma/lag_llama_04_07/sweeps/8bk4uije' target=\"_blank\">https://wandb.ai/junboma/lag_llama_04_07/sweeps/8bk4uije</a>"
      ],
      "text/plain": [
       "<IPython.core.display.HTML object>"
      ]
     },
     "metadata": {},
     "output_type": "display_data"
    },
    {
     "data": {
      "text/html": [
       " View project at <a href='https://wandb.ai/junboma/lag_llama_04_07' target=\"_blank\">https://wandb.ai/junboma/lag_llama_04_07</a>"
      ],
      "text/plain": [
       "<IPython.core.display.HTML object>"
      ]
     },
     "metadata": {},
     "output_type": "display_data"
    },
    {
     "data": {
      "text/html": [
       " View sweep at <a href='https://wandb.ai/junboma/lag_llama_04_07/sweeps/8bk4uije' target=\"_blank\">https://wandb.ai/junboma/lag_llama_04_07/sweeps/8bk4uije</a>"
      ],
      "text/plain": [
       "<IPython.core.display.HTML object>"
      ]
     },
     "metadata": {},
     "output_type": "display_data"
    },
    {
     "data": {
      "text/html": [
       " View run at <a href='https://wandb.ai/junboma/lag_llama_04_07/runs/n0ztollz' target=\"_blank\">https://wandb.ai/junboma/lag_llama_04_07/runs/n0ztollz</a>"
      ],
      "text/plain": [
       "<IPython.core.display.HTML object>"
      ]
     },
     "metadata": {},
     "output_type": "display_data"
    },
    {
     "name": "stderr",
     "output_type": "stream",
     "text": [
      "\u001b[34m\u001b[1mwandb\u001b[0m: \u001b[33mWARNING\u001b[0m Ignored wandb.init() arg project when running a sweep.\n"
     ]
    },
    {
     "data": {
      "text/html": [
       "Finishing last run (ID:n0ztollz) before initializing another..."
      ],
      "text/plain": [
       "<IPython.core.display.HTML object>"
      ]
     },
     "metadata": {},
     "output_type": "display_data"
    },
    {
     "data": {
      "application/vnd.jupyter.widget-view+json": {
       "model_id": "",
       "version_major": 2,
       "version_minor": 0
      },
      "text/plain": [
       "VBox(children=(Label(value='0.003 MB of 0.003 MB uploaded\\r'), FloatProgress(value=1.0, max=1.0)))"
      ]
     },
     "metadata": {},
     "output_type": "display_data"
    },
    {
     "data": {
      "text/html": [
       " View run <strong style=\"color:#cdcd00\">fragrant-sweep-4</strong> at: <a href='https://wandb.ai/junboma/lag_llama_04_07/runs/n0ztollz' target=\"_blank\">https://wandb.ai/junboma/lag_llama_04_07/runs/n0ztollz</a><br/> View project at: <a href='https://wandb.ai/junboma/lag_llama_04_07' target=\"_blank\">https://wandb.ai/junboma/lag_llama_04_07</a><br/>Synced 6 W&B file(s), 0 media file(s), 0 artifact file(s) and 0 other file(s)"
      ],
      "text/plain": [
       "<IPython.core.display.HTML object>"
      ]
     },
     "metadata": {},
     "output_type": "display_data"
    },
    {
     "data": {
      "text/html": [
       "Find logs at: <code>./wandb/run-20240704_144701-n0ztollz/logs</code>"
      ],
      "text/plain": [
       "<IPython.core.display.HTML object>"
      ]
     },
     "metadata": {},
     "output_type": "display_data"
    },
    {
     "data": {
      "text/html": [
       "Successfully finished last run (ID:n0ztollz). Initializing new run:<br/>"
      ],
      "text/plain": [
       "<IPython.core.display.HTML object>"
      ]
     },
     "metadata": {},
     "output_type": "display_data"
    },
    {
     "data": {
      "application/vnd.jupyter.widget-view+json": {
       "model_id": "819a9f769b1243f085fe4fe88fe9f8ff",
       "version_major": 2,
       "version_minor": 0
      },
      "text/plain": [
       "VBox(children=(Label(value='Waiting for wandb.init()...\\r'), FloatProgress(value=0.011113043284664552, max=1.0…"
      ]
     },
     "metadata": {},
     "output_type": "display_data"
    },
    {
     "data": {
      "text/html": [
       "wandb version 0.17.4 is available!  To upgrade, please run:\n",
       " $ pip install wandb --upgrade"
      ],
      "text/plain": [
       "<IPython.core.display.HTML object>"
      ]
     },
     "metadata": {},
     "output_type": "display_data"
    },
    {
     "data": {
      "text/html": [
       "Tracking run with wandb version 0.17.1"
      ],
      "text/plain": [
       "<IPython.core.display.HTML object>"
      ]
     },
     "metadata": {},
     "output_type": "display_data"
    },
    {
     "data": {
      "text/html": [
       "Run data is saved locally in <code>/home/eragroup/Documents/Documents/Koutas_Master_Thesis_Supervision/Junbo_Leng/lag_llama_model/lag-llama-main/wandb/run-20240704_144708-n0ztollz</code>"
      ],
      "text/plain": [
       "<IPython.core.display.HTML object>"
      ]
     },
     "metadata": {},
     "output_type": "display_data"
    },
    {
     "data": {
      "text/html": [
       "Syncing run <strong><a href='https://wandb.ai/junboma/lag_llama_04_07/runs/n0ztollz' target=\"_blank\">fragrant-sweep-4</a></strong> to <a href='https://wandb.ai/junboma/lag_llama_04_07' target=\"_blank\">Weights & Biases</a> (<a href='https://wandb.me/run' target=\"_blank\">docs</a>)<br/>Sweep page: <a href='https://wandb.ai/junboma/lag_llama_04_07/sweeps/8bk4uije' target=\"_blank\">https://wandb.ai/junboma/lag_llama_04_07/sweeps/8bk4uije</a>"
      ],
      "text/plain": [
       "<IPython.core.display.HTML object>"
      ]
     },
     "metadata": {},
     "output_type": "display_data"
    },
    {
     "data": {
      "text/html": [
       " View project at <a href='https://wandb.ai/junboma/lag_llama_04_07' target=\"_blank\">https://wandb.ai/junboma/lag_llama_04_07</a>"
      ],
      "text/plain": [
       "<IPython.core.display.HTML object>"
      ]
     },
     "metadata": {},
     "output_type": "display_data"
    },
    {
     "data": {
      "text/html": [
       " View sweep at <a href='https://wandb.ai/junboma/lag_llama_04_07/sweeps/8bk4uije' target=\"_blank\">https://wandb.ai/junboma/lag_llama_04_07/sweeps/8bk4uije</a>"
      ],
      "text/plain": [
       "<IPython.core.display.HTML object>"
      ]
     },
     "metadata": {},
     "output_type": "display_data"
    },
    {
     "data": {
      "text/html": [
       " View run at <a href='https://wandb.ai/junboma/lag_llama_04_07/runs/n0ztollz' target=\"_blank\">https://wandb.ai/junboma/lag_llama_04_07/runs/n0ztollz</a>"
      ],
      "text/plain": [
       "<IPython.core.display.HTML object>"
      ]
     },
     "metadata": {},
     "output_type": "display_data"
    },
    {
     "name": "stderr",
     "output_type": "stream",
     "text": [
      "GPU available: True (cuda), used: True\n",
      "TPU available: False, using: 0 TPU cores\n",
      "IPU available: False, using: 0 IPUs\n",
      "HPU available: False, using: 0 HPUs\n",
      "/home/eragroup/anaconda3/envs/lag_llama/lib/python3.12/site-packages/lightning/pytorch/trainer/configuration_validator.py:74: You defined a `validation_step` but have no `val_dataloader`. Skipping val loop.\n",
      "LOCAL_RANK: 0 - CUDA_VISIBLE_DEVICES: [0]\n",
      "\n",
      "  | Name          | Type               | Params\n",
      "-----------------------------------------------------\n",
      "0 | model         | LagLlamaModel      | 2.4 M \n",
      "1 | augmentations | ApplyAugmentations | 0     \n",
      "-----------------------------------------------------\n",
      "2.4 M     Trainable params\n",
      "0         Non-trainable params\n",
      "2.4 M     Total params\n",
      "9.797     Total estimated model params size (MB)\n"
     ]
    },
    {
     "data": {
      "application/vnd.jupyter.widget-view+json": {
       "model_id": "7b138d152ee147bfa76a33a392f13019",
       "version_major": 2,
       "version_minor": 0
      },
      "text/plain": [
       "Training: |                                               | 0/? [00:00<?, ?it/s]"
      ]
     },
     "metadata": {},
     "output_type": "display_data"
    },
    {
     "name": "stderr",
     "output_type": "stream",
     "text": [
      "Epoch 0, global step 50: 'train_loss' reached 0.55061 (best 0.55061), saving model to '/home/eragroup/Documents/Documents/Koutas_Master_Thesis_Supervision/Junbo_Leng/lag_llama_model/lag-llama-main/lightning_logs/version_31/checkpoints/epoch=0-step=50.ckpt' as top 1\n",
      "Epoch 1, global step 100: 'train_loss' reached 0.52414 (best 0.52414), saving model to '/home/eragroup/Documents/Documents/Koutas_Master_Thesis_Supervision/Junbo_Leng/lag_llama_model/lag-llama-main/lightning_logs/version_31/checkpoints/epoch=1-step=100.ckpt' as top 1\n",
      "Epoch 2, global step 150: 'train_loss' reached 0.28037 (best 0.28037), saving model to '/home/eragroup/Documents/Documents/Koutas_Master_Thesis_Supervision/Junbo_Leng/lag_llama_model/lag-llama-main/lightning_logs/version_31/checkpoints/epoch=2-step=150.ckpt' as top 1\n",
      "Epoch 3, global step 200: 'train_loss' was not in top 1\n",
      "Epoch 4, global step 250: 'train_loss' was not in top 1\n",
      "Epoch 5, global step 300: 'train_loss' was not in top 1\n",
      "Epoch 6, global step 350: 'train_loss' was not in top 1\n",
      "Epoch 7, global step 400: 'train_loss' was not in top 1\n",
      "Epoch 8, global step 450: 'train_loss' was not in top 1\n",
      "Epoch 9, global step 500: 'train_loss' was not in top 1\n",
      "Epoch 10, global step 550: 'train_loss' was not in top 1\n",
      "Epoch 11, global step 600: 'train_loss' was not in top 1\n",
      "Epoch 12, global step 650: 'train_loss' reached 0.25903 (best 0.25903), saving model to '/home/eragroup/Documents/Documents/Koutas_Master_Thesis_Supervision/Junbo_Leng/lag_llama_model/lag-llama-main/lightning_logs/version_31/checkpoints/epoch=12-step=650.ckpt' as top 1\n",
      "Epoch 13, global step 700: 'train_loss' was not in top 1\n",
      "Epoch 14, global step 750: 'train_loss' was not in top 1\n",
      "Epoch 15, global step 800: 'train_loss' was not in top 1\n",
      "Epoch 16, global step 850: 'train_loss' was not in top 1\n",
      "Epoch 17, global step 900: 'train_loss' was not in top 1\n",
      "Epoch 18, global step 950: 'train_loss' was not in top 1\n",
      "Epoch 19, global step 1000: 'train_loss' was not in top 1\n",
      "Epoch 20, global step 1050: 'train_loss' was not in top 1\n",
      "Epoch 21, global step 1100: 'train_loss' was not in top 1\n",
      "Epoch 22, global step 1150: 'train_loss' was not in top 1\n",
      "Epoch 23, global step 1200: 'train_loss' was not in top 1\n",
      "Epoch 24, global step 1250: 'train_loss' was not in top 1\n",
      "Epoch 25, global step 1300: 'train_loss' reached 0.25776 (best 0.25776), saving model to '/home/eragroup/Documents/Documents/Koutas_Master_Thesis_Supervision/Junbo_Leng/lag_llama_model/lag-llama-main/lightning_logs/version_31/checkpoints/epoch=25-step=1300.ckpt' as top 1\n",
      "Epoch 26, global step 1350: 'train_loss' was not in top 1\n",
      "Epoch 27, global step 1400: 'train_loss' was not in top 1\n",
      "Epoch 28, global step 1450: 'train_loss' was not in top 1\n",
      "Epoch 29, global step 1500: 'train_loss' was not in top 1\n",
      "Epoch 30, global step 1550: 'train_loss' was not in top 1\n",
      "Epoch 31, global step 1600: 'train_loss' reached 0.25751 (best 0.25751), saving model to '/home/eragroup/Documents/Documents/Koutas_Master_Thesis_Supervision/Junbo_Leng/lag_llama_model/lag-llama-main/lightning_logs/version_31/checkpoints/epoch=31-step=1600.ckpt' as top 1\n",
      "Epoch 32, global step 1650: 'train_loss' was not in top 1\n",
      "Epoch 33, global step 1700: 'train_loss' was not in top 1\n",
      "Epoch 34, global step 1750: 'train_loss' was not in top 1\n",
      "Epoch 35, global step 1800: 'train_loss' was not in top 1\n",
      "Epoch 36, global step 1850: 'train_loss' was not in top 1\n",
      "Epoch 37, global step 1900: 'train_loss' reached 0.22437 (best 0.22437), saving model to '/home/eragroup/Documents/Documents/Koutas_Master_Thesis_Supervision/Junbo_Leng/lag_llama_model/lag-llama-main/lightning_logs/version_31/checkpoints/epoch=37-step=1900.ckpt' as top 1\n",
      "Epoch 38, global step 1950: 'train_loss' was not in top 1\n",
      "Epoch 39, global step 2000: 'train_loss' was not in top 1\n",
      "Epoch 40, global step 2050: 'train_loss' was not in top 1\n",
      "Epoch 41, global step 2100: 'train_loss' reached 0.17289 (best 0.17289), saving model to '/home/eragroup/Documents/Documents/Koutas_Master_Thesis_Supervision/Junbo_Leng/lag_llama_model/lag-llama-main/lightning_logs/version_31/checkpoints/epoch=41-step=2100.ckpt' as top 1\n",
      "Epoch 42, global step 2150: 'train_loss' was not in top 1\n",
      "Epoch 43, global step 2200: 'train_loss' was not in top 1\n",
      "Epoch 44, global step 2250: 'train_loss' was not in top 1\n",
      "Epoch 45, global step 2300: 'train_loss' was not in top 1\n",
      "Epoch 46, global step 2350: 'train_loss' was not in top 1\n",
      "Epoch 47, global step 2400: 'train_loss' was not in top 1\n",
      "Epoch 48, global step 2450: 'train_loss' was not in top 1\n",
      "Epoch 49, global step 2500: 'train_loss' reached 0.15124 (best 0.15124), saving model to '/home/eragroup/Documents/Documents/Koutas_Master_Thesis_Supervision/Junbo_Leng/lag_llama_model/lag-llama-main/lightning_logs/version_31/checkpoints/epoch=49-step=2500.ckpt' as top 1\n",
      "Epoch 50, global step 2550: 'train_loss' was not in top 1\n",
      "Epoch 51, global step 2600: 'train_loss' reached 0.13025 (best 0.13025), saving model to '/home/eragroup/Documents/Documents/Koutas_Master_Thesis_Supervision/Junbo_Leng/lag_llama_model/lag-llama-main/lightning_logs/version_31/checkpoints/epoch=51-step=2600.ckpt' as top 1\n",
      "Epoch 52, global step 2650: 'train_loss' reached 0.12808 (best 0.12808), saving model to '/home/eragroup/Documents/Documents/Koutas_Master_Thesis_Supervision/Junbo_Leng/lag_llama_model/lag-llama-main/lightning_logs/version_31/checkpoints/epoch=52-step=2650.ckpt' as top 1\n",
      "Epoch 53, global step 2700: 'train_loss' reached 0.10230 (best 0.10230), saving model to '/home/eragroup/Documents/Documents/Koutas_Master_Thesis_Supervision/Junbo_Leng/lag_llama_model/lag-llama-main/lightning_logs/version_31/checkpoints/epoch=53-step=2700.ckpt' as top 1\n",
      "Epoch 54, global step 2750: 'train_loss' was not in top 1\n",
      "Epoch 55, global step 2800: 'train_loss' was not in top 1\n",
      "Epoch 56, global step 2850: 'train_loss' was not in top 1\n",
      "Epoch 57, global step 2900: 'train_loss' reached -0.03739 (best -0.03739), saving model to '/home/eragroup/Documents/Documents/Koutas_Master_Thesis_Supervision/Junbo_Leng/lag_llama_model/lag-llama-main/lightning_logs/version_31/checkpoints/epoch=57-step=2900.ckpt' as top 1\n",
      "Epoch 58, global step 2950: 'train_loss' was not in top 1\n",
      "Epoch 59, global step 3000: 'train_loss' was not in top 1\n",
      "Epoch 60, global step 3050: 'train_loss' reached -0.04094 (best -0.04094), saving model to '/home/eragroup/Documents/Documents/Koutas_Master_Thesis_Supervision/Junbo_Leng/lag_llama_model/lag-llama-main/lightning_logs/version_31/checkpoints/epoch=60-step=3050.ckpt' as top 1\n",
      "Epoch 61, global step 3100: 'train_loss' was not in top 1\n",
      "Epoch 62, global step 3150: 'train_loss' was not in top 1\n",
      "Epoch 63, global step 3200: 'train_loss' was not in top 1\n",
      "Epoch 64, global step 3250: 'train_loss' was not in top 1\n",
      "Epoch 65, global step 3300: 'train_loss' reached -0.06299 (best -0.06299), saving model to '/home/eragroup/Documents/Documents/Koutas_Master_Thesis_Supervision/Junbo_Leng/lag_llama_model/lag-llama-main/lightning_logs/version_31/checkpoints/epoch=65-step=3300.ckpt' as top 1\n",
      "Epoch 66, global step 3350: 'train_loss' was not in top 1\n",
      "Epoch 67, global step 3400: 'train_loss' was not in top 1\n",
      "Epoch 68, global step 3450: 'train_loss' was not in top 1\n",
      "Epoch 69, global step 3500: 'train_loss' was not in top 1\n",
      "Epoch 70, global step 3550: 'train_loss' was not in top 1\n",
      "Epoch 71, global step 3600: 'train_loss' reached -0.12146 (best -0.12146), saving model to '/home/eragroup/Documents/Documents/Koutas_Master_Thesis_Supervision/Junbo_Leng/lag_llama_model/lag-llama-main/lightning_logs/version_31/checkpoints/epoch=71-step=3600.ckpt' as top 1\n",
      "Epoch 72, global step 3650: 'train_loss' was not in top 1\n",
      "Epoch 73, global step 3700: 'train_loss' was not in top 1\n",
      "Epoch 74, global step 3750: 'train_loss' reached -0.15609 (best -0.15609), saving model to '/home/eragroup/Documents/Documents/Koutas_Master_Thesis_Supervision/Junbo_Leng/lag_llama_model/lag-llama-main/lightning_logs/version_31/checkpoints/epoch=74-step=3750.ckpt' as top 1\n",
      "Epoch 75, global step 3800: 'train_loss' was not in top 1\n",
      "Epoch 76, global step 3850: 'train_loss' was not in top 1\n",
      "Epoch 77, global step 3900: 'train_loss' reached -0.15849 (best -0.15849), saving model to '/home/eragroup/Documents/Documents/Koutas_Master_Thesis_Supervision/Junbo_Leng/lag_llama_model/lag-llama-main/lightning_logs/version_31/checkpoints/epoch=77-step=3900.ckpt' as top 1\n",
      "Epoch 78, global step 3950: 'train_loss' reached -0.18620 (best -0.18620), saving model to '/home/eragroup/Documents/Documents/Koutas_Master_Thesis_Supervision/Junbo_Leng/lag_llama_model/lag-llama-main/lightning_logs/version_31/checkpoints/epoch=78-step=3950.ckpt' as top 1\n",
      "Epoch 79, global step 4000: 'train_loss' reached -0.22357 (best -0.22357), saving model to '/home/eragroup/Documents/Documents/Koutas_Master_Thesis_Supervision/Junbo_Leng/lag_llama_model/lag-llama-main/lightning_logs/version_31/checkpoints/epoch=79-step=4000.ckpt' as top 1\n",
      "Epoch 80, global step 4050: 'train_loss' was not in top 1\n",
      "Epoch 81, global step 4100: 'train_loss' was not in top 1\n",
      "Epoch 82, global step 4150: 'train_loss' was not in top 1\n",
      "Epoch 83, global step 4200: 'train_loss' was not in top 1\n",
      "Epoch 84, global step 4250: 'train_loss' was not in top 1\n",
      "Epoch 85, global step 4300: 'train_loss' was not in top 1\n",
      "Epoch 86, global step 4350: 'train_loss' was not in top 1\n",
      "Epoch 87, global step 4400: 'train_loss' reached -0.26820 (best -0.26820), saving model to '/home/eragroup/Documents/Documents/Koutas_Master_Thesis_Supervision/Junbo_Leng/lag_llama_model/lag-llama-main/lightning_logs/version_31/checkpoints/epoch=87-step=4400.ckpt' as top 1\n",
      "Epoch 88, global step 4450: 'train_loss' was not in top 1\n",
      "Epoch 89, global step 4500: 'train_loss' was not in top 1\n",
      "Epoch 90, global step 4550: 'train_loss' reached -0.26832 (best -0.26832), saving model to '/home/eragroup/Documents/Documents/Koutas_Master_Thesis_Supervision/Junbo_Leng/lag_llama_model/lag-llama-main/lightning_logs/version_31/checkpoints/epoch=90-step=4550.ckpt' as top 1\n",
      "Epoch 91, global step 4600: 'train_loss' was not in top 1\n",
      "Epoch 92, global step 4650: 'train_loss' reached -0.31808 (best -0.31808), saving model to '/home/eragroup/Documents/Documents/Koutas_Master_Thesis_Supervision/Junbo_Leng/lag_llama_model/lag-llama-main/lightning_logs/version_31/checkpoints/epoch=92-step=4650.ckpt' as top 1\n",
      "Epoch 93, global step 4700: 'train_loss' was not in top 1\n",
      "Epoch 94, global step 4750: 'train_loss' was not in top 1\n",
      "Epoch 95, global step 4800: 'train_loss' was not in top 1\n",
      "Epoch 96, global step 4850: 'train_loss' reached -0.32195 (best -0.32195), saving model to '/home/eragroup/Documents/Documents/Koutas_Master_Thesis_Supervision/Junbo_Leng/lag_llama_model/lag-llama-main/lightning_logs/version_31/checkpoints/epoch=96-step=4850.ckpt' as top 1\n",
      "Epoch 97, global step 4900: 'train_loss' reached -0.36937 (best -0.36937), saving model to '/home/eragroup/Documents/Documents/Koutas_Master_Thesis_Supervision/Junbo_Leng/lag_llama_model/lag-llama-main/lightning_logs/version_31/checkpoints/epoch=97-step=4900.ckpt' as top 1\n",
      "Epoch 98, global step 4950: 'train_loss' was not in top 1\n",
      "Epoch 99, global step 5000: 'train_loss' was not in top 1\n",
      "`Trainer.fit` stopped: `max_epochs=100` reached.\n"
     ]
    },
    {
     "data": {
      "application/vnd.jupyter.widget-view+json": {
       "model_id": "0f7b933ed5704dbbacf858a659f9004f",
       "version_major": 2,
       "version_minor": 0
      },
      "text/plain": [
       "Forecasting batches:   0%|          | 0/60 [00:00<?, ?it/s]"
      ]
     },
     "metadata": {},
     "output_type": "display_data"
    },
    {
     "data": {
      "application/vnd.jupyter.widget-view+json": {
       "model_id": "d26e575133f14cf2b73c09544745d829",
       "version_major": 2,
       "version_minor": 0
      },
      "text/plain": [
       "Ground truth:   0%|          | 0/60 [00:00<?, ?it/s]"
      ]
     },
     "metadata": {},
     "output_type": "display_data"
    },
    {
     "name": "stderr",
     "output_type": "stream",
     "text": [
      "/tmp/ipykernel_18695/4101722395.py:14: FutureWarning: Series.__getitem__ treating keys as positions is deprecated. In a future version, integer keys will always be treated as labels (consistent with DataFrame behavior). To access a value by position, use `ser.iloc[pos]`\n",
      "  tss[i].values[:] = tss[i].values * test_df.std()[i] + test_df.mean()[i]\n",
      "/tmp/ipykernel_18695/4101722395.py:17: FutureWarning: Series.__getitem__ treating keys as positions is deprecated. In a future version, integer keys will always be treated as labels (consistent with DataFrame behavior). To access a value by position, use `ser.iloc[pos]`\n",
      "  std_value = test_df.std()[i]\n",
      "/tmp/ipykernel_18695/4101722395.py:18: FutureWarning: Series.__getitem__ treating keys as positions is deprecated. In a future version, integer keys will always be treated as labels (consistent with DataFrame behavior). To access a value by position, use `ser.iloc[pos]`\n",
      "  mean_value = test_df.mean()[i]\n",
      "Running evaluation: 60it [00:00, 565.42it/s]\n"
     ]
    },
    {
     "data": {
      "application/vnd.jupyter.widget-view+json": {
       "model_id": "",
       "version_major": 2,
       "version_minor": 0
      },
      "text/plain": [
       "VBox(children=(Label(value='0.003 MB of 0.003 MB uploaded\\r'), FloatProgress(value=1.0, max=1.0)))"
      ]
     },
     "metadata": {},
     "output_type": "display_data"
    },
    {
     "data": {
      "text/html": [
       "<style>\n",
       "    table.wandb td:nth-child(1) { padding: 0 10px; text-align: left ; width: auto;} td:nth-child(2) {text-align: left ; width: 100%}\n",
       "    .wandb-row { display: flex; flex-direction: row; flex-wrap: wrap; justify-content: flex-start; width: 100% }\n",
       "    .wandb-col { display: flex; flex-direction: column; flex-basis: 100%; flex: 1; padding: 10px; }\n",
       "    </style>\n",
       "<div class=\"wandb-row\"><div class=\"wandb-col\"><h3>Run history:</h3><br/><table class=\"wandb\"><tr><td>CPRS</td><td>▁</td></tr><tr><td>train_loss</td><td>▅▅█▆▆▅▅▆▄▃▄▅▅▅█▄▃▅▅▆▁▄▅▅▄▃▃▄▄▃▃▂▄▃▇▂▃▃▃▁</td></tr></table><br/></div><div class=\"wandb-col\"><h3>Run summary:</h3><br/><table class=\"wandb\"><tr><td>CPRS</td><td>0.00037</td></tr><tr><td>train_loss</td><td>-0.42521</td></tr></table><br/></div></div>"
      ],
      "text/plain": [
       "<IPython.core.display.HTML object>"
      ]
     },
     "metadata": {},
     "output_type": "display_data"
    },
    {
     "data": {
      "text/html": [
       " View run <strong style=\"color:#cdcd00\">fragrant-sweep-4</strong> at: <a href='https://wandb.ai/junboma/lag_llama_04_07/runs/n0ztollz' target=\"_blank\">https://wandb.ai/junboma/lag_llama_04_07/runs/n0ztollz</a><br/> View project at: <a href='https://wandb.ai/junboma/lag_llama_04_07' target=\"_blank\">https://wandb.ai/junboma/lag_llama_04_07</a><br/>Synced 6 W&B file(s), 0 media file(s), 0 artifact file(s) and 0 other file(s)"
      ],
      "text/plain": [
       "<IPython.core.display.HTML object>"
      ]
     },
     "metadata": {},
     "output_type": "display_data"
    },
    {
     "data": {
      "text/html": [
       "Find logs at: <code>./wandb/run-20240704_144708-n0ztollz/logs</code>"
      ],
      "text/plain": [
       "<IPython.core.display.HTML object>"
      ]
     },
     "metadata": {},
     "output_type": "display_data"
    },
    {
     "name": "stderr",
     "output_type": "stream",
     "text": [
      "\u001b[34m\u001b[1mwandb\u001b[0m: Agent Starting Run: lgyn7imm with config:\n",
      "\u001b[34m\u001b[1mwandb\u001b[0m: \tbatch_size: 2\n",
      "\u001b[34m\u001b[1mwandb\u001b[0m: \tcontext_length: 64\n",
      "\u001b[34m\u001b[1mwandb\u001b[0m: \tlr: 0.0005\n"
     ]
    },
    {
     "data": {
      "text/html": [
       "wandb version 0.17.4 is available!  To upgrade, please run:\n",
       " $ pip install wandb --upgrade"
      ],
      "text/plain": [
       "<IPython.core.display.HTML object>"
      ]
     },
     "metadata": {},
     "output_type": "display_data"
    },
    {
     "data": {
      "text/html": [
       "Tracking run with wandb version 0.17.1"
      ],
      "text/plain": [
       "<IPython.core.display.HTML object>"
      ]
     },
     "metadata": {},
     "output_type": "display_data"
    },
    {
     "data": {
      "text/html": [
       "Run data is saved locally in <code>/home/eragroup/Documents/Documents/Koutas_Master_Thesis_Supervision/Junbo_Leng/lag_llama_model/lag-llama-main/wandb/run-20240704_145327-lgyn7imm</code>"
      ],
      "text/plain": [
       "<IPython.core.display.HTML object>"
      ]
     },
     "metadata": {},
     "output_type": "display_data"
    },
    {
     "data": {
      "text/html": [
       "Syncing run <strong><a href='https://wandb.ai/junboma/lag_llama_04_07/runs/lgyn7imm' target=\"_blank\">lyric-sweep-5</a></strong> to <a href='https://wandb.ai/junboma/lag_llama_04_07' target=\"_blank\">Weights & Biases</a> (<a href='https://wandb.me/run' target=\"_blank\">docs</a>)<br/>Sweep page: <a href='https://wandb.ai/junboma/lag_llama_04_07/sweeps/8bk4uije' target=\"_blank\">https://wandb.ai/junboma/lag_llama_04_07/sweeps/8bk4uije</a>"
      ],
      "text/plain": [
       "<IPython.core.display.HTML object>"
      ]
     },
     "metadata": {},
     "output_type": "display_data"
    },
    {
     "data": {
      "text/html": [
       " View project at <a href='https://wandb.ai/junboma/lag_llama_04_07' target=\"_blank\">https://wandb.ai/junboma/lag_llama_04_07</a>"
      ],
      "text/plain": [
       "<IPython.core.display.HTML object>"
      ]
     },
     "metadata": {},
     "output_type": "display_data"
    },
    {
     "data": {
      "text/html": [
       " View sweep at <a href='https://wandb.ai/junboma/lag_llama_04_07/sweeps/8bk4uije' target=\"_blank\">https://wandb.ai/junboma/lag_llama_04_07/sweeps/8bk4uije</a>"
      ],
      "text/plain": [
       "<IPython.core.display.HTML object>"
      ]
     },
     "metadata": {},
     "output_type": "display_data"
    },
    {
     "data": {
      "text/html": [
       " View run at <a href='https://wandb.ai/junboma/lag_llama_04_07/runs/lgyn7imm' target=\"_blank\">https://wandb.ai/junboma/lag_llama_04_07/runs/lgyn7imm</a>"
      ],
      "text/plain": [
       "<IPython.core.display.HTML object>"
      ]
     },
     "metadata": {},
     "output_type": "display_data"
    },
    {
     "name": "stderr",
     "output_type": "stream",
     "text": [
      "\u001b[34m\u001b[1mwandb\u001b[0m: \u001b[33mWARNING\u001b[0m Ignored wandb.init() arg project when running a sweep.\n"
     ]
    },
    {
     "data": {
      "text/html": [
       "Finishing last run (ID:lgyn7imm) before initializing another..."
      ],
      "text/plain": [
       "<IPython.core.display.HTML object>"
      ]
     },
     "metadata": {},
     "output_type": "display_data"
    },
    {
     "data": {
      "application/vnd.jupyter.widget-view+json": {
       "model_id": "",
       "version_major": 2,
       "version_minor": 0
      },
      "text/plain": [
       "VBox(children=(Label(value='0.003 MB of 0.003 MB uploaded\\r'), FloatProgress(value=1.0, max=1.0)))"
      ]
     },
     "metadata": {},
     "output_type": "display_data"
    },
    {
     "data": {
      "text/html": [
       " View run <strong style=\"color:#cdcd00\">lyric-sweep-5</strong> at: <a href='https://wandb.ai/junboma/lag_llama_04_07/runs/lgyn7imm' target=\"_blank\">https://wandb.ai/junboma/lag_llama_04_07/runs/lgyn7imm</a><br/> View project at: <a href='https://wandb.ai/junboma/lag_llama_04_07' target=\"_blank\">https://wandb.ai/junboma/lag_llama_04_07</a><br/>Synced 6 W&B file(s), 0 media file(s), 0 artifact file(s) and 0 other file(s)"
      ],
      "text/plain": [
       "<IPython.core.display.HTML object>"
      ]
     },
     "metadata": {},
     "output_type": "display_data"
    },
    {
     "data": {
      "text/html": [
       "Find logs at: <code>./wandb/run-20240704_145327-lgyn7imm/logs</code>"
      ],
      "text/plain": [
       "<IPython.core.display.HTML object>"
      ]
     },
     "metadata": {},
     "output_type": "display_data"
    },
    {
     "data": {
      "text/html": [
       "Successfully finished last run (ID:lgyn7imm). Initializing new run:<br/>"
      ],
      "text/plain": [
       "<IPython.core.display.HTML object>"
      ]
     },
     "metadata": {},
     "output_type": "display_data"
    },
    {
     "data": {
      "application/vnd.jupyter.widget-view+json": {
       "model_id": "40a34188543f487f834aa77fef8396d8",
       "version_major": 2,
       "version_minor": 0
      },
      "text/plain": [
       "VBox(children=(Label(value='Waiting for wandb.init()...\\r'), FloatProgress(value=0.011113145388662815, max=1.0…"
      ]
     },
     "metadata": {},
     "output_type": "display_data"
    },
    {
     "data": {
      "text/html": [
       "wandb version 0.17.4 is available!  To upgrade, please run:\n",
       " $ pip install wandb --upgrade"
      ],
      "text/plain": [
       "<IPython.core.display.HTML object>"
      ]
     },
     "metadata": {},
     "output_type": "display_data"
    },
    {
     "data": {
      "text/html": [
       "Tracking run with wandb version 0.17.1"
      ],
      "text/plain": [
       "<IPython.core.display.HTML object>"
      ]
     },
     "metadata": {},
     "output_type": "display_data"
    },
    {
     "data": {
      "text/html": [
       "Run data is saved locally in <code>/home/eragroup/Documents/Documents/Koutas_Master_Thesis_Supervision/Junbo_Leng/lag_llama_model/lag-llama-main/wandb/run-20240704_145334-lgyn7imm</code>"
      ],
      "text/plain": [
       "<IPython.core.display.HTML object>"
      ]
     },
     "metadata": {},
     "output_type": "display_data"
    },
    {
     "data": {
      "text/html": [
       "Syncing run <strong><a href='https://wandb.ai/junboma/lag_llama_04_07/runs/lgyn7imm' target=\"_blank\">lyric-sweep-5</a></strong> to <a href='https://wandb.ai/junboma/lag_llama_04_07' target=\"_blank\">Weights & Biases</a> (<a href='https://wandb.me/run' target=\"_blank\">docs</a>)<br/>Sweep page: <a href='https://wandb.ai/junboma/lag_llama_04_07/sweeps/8bk4uije' target=\"_blank\">https://wandb.ai/junboma/lag_llama_04_07/sweeps/8bk4uije</a>"
      ],
      "text/plain": [
       "<IPython.core.display.HTML object>"
      ]
     },
     "metadata": {},
     "output_type": "display_data"
    },
    {
     "data": {
      "text/html": [
       " View project at <a href='https://wandb.ai/junboma/lag_llama_04_07' target=\"_blank\">https://wandb.ai/junboma/lag_llama_04_07</a>"
      ],
      "text/plain": [
       "<IPython.core.display.HTML object>"
      ]
     },
     "metadata": {},
     "output_type": "display_data"
    },
    {
     "data": {
      "text/html": [
       " View sweep at <a href='https://wandb.ai/junboma/lag_llama_04_07/sweeps/8bk4uije' target=\"_blank\">https://wandb.ai/junboma/lag_llama_04_07/sweeps/8bk4uije</a>"
      ],
      "text/plain": [
       "<IPython.core.display.HTML object>"
      ]
     },
     "metadata": {},
     "output_type": "display_data"
    },
    {
     "data": {
      "text/html": [
       " View run at <a href='https://wandb.ai/junboma/lag_llama_04_07/runs/lgyn7imm' target=\"_blank\">https://wandb.ai/junboma/lag_llama_04_07/runs/lgyn7imm</a>"
      ],
      "text/plain": [
       "<IPython.core.display.HTML object>"
      ]
     },
     "metadata": {},
     "output_type": "display_data"
    },
    {
     "name": "stderr",
     "output_type": "stream",
     "text": [
      "GPU available: True (cuda), used: True\n",
      "TPU available: False, using: 0 TPU cores\n",
      "IPU available: False, using: 0 IPUs\n",
      "HPU available: False, using: 0 HPUs\n",
      "/home/eragroup/anaconda3/envs/lag_llama/lib/python3.12/site-packages/lightning/pytorch/trainer/configuration_validator.py:74: You defined a `validation_step` but have no `val_dataloader`. Skipping val loop.\n",
      "LOCAL_RANK: 0 - CUDA_VISIBLE_DEVICES: [0]\n",
      "\n",
      "  | Name          | Type               | Params\n",
      "-----------------------------------------------------\n",
      "0 | model         | LagLlamaModel      | 2.4 M \n",
      "1 | augmentations | ApplyAugmentations | 0     \n",
      "-----------------------------------------------------\n",
      "2.4 M     Trainable params\n",
      "0         Non-trainable params\n",
      "2.4 M     Total params\n",
      "9.797     Total estimated model params size (MB)\n"
     ]
    },
    {
     "data": {
      "application/vnd.jupyter.widget-view+json": {
       "model_id": "a4426048abc7445a8a4a5d0e32ff0f5c",
       "version_major": 2,
       "version_minor": 0
      },
      "text/plain": [
       "Training: |                                               | 0/? [00:00<?, ?it/s]"
      ]
     },
     "metadata": {},
     "output_type": "display_data"
    },
    {
     "name": "stderr",
     "output_type": "stream",
     "text": [
      "Epoch 0, global step 50: 'train_loss' reached 0.75623 (best 0.75623), saving model to '/home/eragroup/Documents/Documents/Koutas_Master_Thesis_Supervision/Junbo_Leng/lag_llama_model/lag-llama-main/lightning_logs/version_32/checkpoints/epoch=0-step=50.ckpt' as top 1\n",
      "Epoch 1, global step 100: 'train_loss' reached 0.51077 (best 0.51077), saving model to '/home/eragroup/Documents/Documents/Koutas_Master_Thesis_Supervision/Junbo_Leng/lag_llama_model/lag-llama-main/lightning_logs/version_32/checkpoints/epoch=1-step=100.ckpt' as top 1\n",
      "Epoch 2, global step 150: 'train_loss' reached 0.50163 (best 0.50163), saving model to '/home/eragroup/Documents/Documents/Koutas_Master_Thesis_Supervision/Junbo_Leng/lag_llama_model/lag-llama-main/lightning_logs/version_32/checkpoints/epoch=2-step=150.ckpt' as top 1\n",
      "Epoch 3, global step 200: 'train_loss' was not in top 1\n",
      "Epoch 4, global step 250: 'train_loss' reached 0.47915 (best 0.47915), saving model to '/home/eragroup/Documents/Documents/Koutas_Master_Thesis_Supervision/Junbo_Leng/lag_llama_model/lag-llama-main/lightning_logs/version_32/checkpoints/epoch=4-step=250.ckpt' as top 1\n",
      "Epoch 5, global step 300: 'train_loss' reached 0.37432 (best 0.37432), saving model to '/home/eragroup/Documents/Documents/Koutas_Master_Thesis_Supervision/Junbo_Leng/lag_llama_model/lag-llama-main/lightning_logs/version_32/checkpoints/epoch=5-step=300.ckpt' as top 1\n",
      "Epoch 6, global step 350: 'train_loss' reached 0.35624 (best 0.35624), saving model to '/home/eragroup/Documents/Documents/Koutas_Master_Thesis_Supervision/Junbo_Leng/lag_llama_model/lag-llama-main/lightning_logs/version_32/checkpoints/epoch=6-step=350.ckpt' as top 1\n",
      "Epoch 7, global step 400: 'train_loss' was not in top 1\n",
      "Epoch 8, global step 450: 'train_loss' was not in top 1\n",
      "Epoch 9, global step 500: 'train_loss' was not in top 1\n",
      "Epoch 10, global step 550: 'train_loss' was not in top 1\n",
      "Epoch 11, global step 600: 'train_loss' was not in top 1\n",
      "Epoch 12, global step 650: 'train_loss' was not in top 1\n",
      "Epoch 13, global step 700: 'train_loss' was not in top 1\n",
      "Epoch 14, global step 750: 'train_loss' reached 0.32145 (best 0.32145), saving model to '/home/eragroup/Documents/Documents/Koutas_Master_Thesis_Supervision/Junbo_Leng/lag_llama_model/lag-llama-main/lightning_logs/version_32/checkpoints/epoch=14-step=750.ckpt' as top 1\n",
      "Epoch 15, global step 800: 'train_loss' was not in top 1\n",
      "Epoch 16, global step 850: 'train_loss' was not in top 1\n",
      "Epoch 17, global step 900: 'train_loss' was not in top 1\n",
      "Epoch 18, global step 950: 'train_loss' was not in top 1\n",
      "Epoch 19, global step 1000: 'train_loss' reached 0.29016 (best 0.29016), saving model to '/home/eragroup/Documents/Documents/Koutas_Master_Thesis_Supervision/Junbo_Leng/lag_llama_model/lag-llama-main/lightning_logs/version_32/checkpoints/epoch=19-step=1000.ckpt' as top 1\n",
      "Epoch 20, global step 1050: 'train_loss' was not in top 1\n",
      "Epoch 21, global step 1100: 'train_loss' was not in top 1\n",
      "Epoch 22, global step 1150: 'train_loss' was not in top 1\n",
      "Epoch 23, global step 1200: 'train_loss' was not in top 1\n",
      "Epoch 24, global step 1250: 'train_loss' was not in top 1\n",
      "Epoch 25, global step 1300: 'train_loss' was not in top 1\n",
      "Epoch 26, global step 1350: 'train_loss' was not in top 1\n",
      "Epoch 27, global step 1400: 'train_loss' was not in top 1\n",
      "Epoch 28, global step 1450: 'train_loss' was not in top 1\n",
      "Epoch 29, global step 1500: 'train_loss' was not in top 1\n",
      "Epoch 30, global step 1550: 'train_loss' was not in top 1\n",
      "Epoch 31, global step 1600: 'train_loss' was not in top 1\n",
      "Epoch 32, global step 1650: 'train_loss' was not in top 1\n",
      "Epoch 33, global step 1700: 'train_loss' was not in top 1\n",
      "Epoch 34, global step 1750: 'train_loss' was not in top 1\n",
      "Epoch 35, global step 1800: 'train_loss' was not in top 1\n",
      "Epoch 36, global step 1850: 'train_loss' was not in top 1\n",
      "Epoch 37, global step 1900: 'train_loss' was not in top 1\n",
      "Epoch 38, global step 1950: 'train_loss' was not in top 1\n",
      "Epoch 39, global step 2000: 'train_loss' was not in top 1\n",
      "Epoch 40, global step 2050: 'train_loss' was not in top 1\n",
      "Epoch 41, global step 2100: 'train_loss' was not in top 1\n",
      "Epoch 42, global step 2150: 'train_loss' was not in top 1\n",
      "Epoch 43, global step 2200: 'train_loss' reached 0.18242 (best 0.18242), saving model to '/home/eragroup/Documents/Documents/Koutas_Master_Thesis_Supervision/Junbo_Leng/lag_llama_model/lag-llama-main/lightning_logs/version_32/checkpoints/epoch=43-step=2200.ckpt' as top 1\n",
      "Epoch 44, global step 2250: 'train_loss' was not in top 1\n",
      "Epoch 45, global step 2300: 'train_loss' was not in top 1\n",
      "Epoch 46, global step 2350: 'train_loss' was not in top 1\n",
      "Epoch 47, global step 2400: 'train_loss' was not in top 1\n",
      "Epoch 48, global step 2450: 'train_loss' was not in top 1\n",
      "Epoch 49, global step 2500: 'train_loss' was not in top 1\n",
      "Epoch 50, global step 2550: 'train_loss' reached 0.10844 (best 0.10844), saving model to '/home/eragroup/Documents/Documents/Koutas_Master_Thesis_Supervision/Junbo_Leng/lag_llama_model/lag-llama-main/lightning_logs/version_32/checkpoints/epoch=50-step=2550.ckpt' as top 1\n",
      "Epoch 51, global step 2600: 'train_loss' was not in top 1\n",
      "Epoch 52, global step 2650: 'train_loss' was not in top 1\n",
      "Epoch 53, global step 2700: 'train_loss' was not in top 1\n",
      "Epoch 54, global step 2750: 'train_loss' was not in top 1\n",
      "Epoch 55, global step 2800: 'train_loss' was not in top 1\n",
      "Epoch 56, global step 2850: 'train_loss' was not in top 1\n",
      "Epoch 57, global step 2900: 'train_loss' was not in top 1\n",
      "Epoch 58, global step 2950: 'train_loss' was not in top 1\n",
      "Epoch 59, global step 3000: 'train_loss' was not in top 1\n",
      "Epoch 60, global step 3050: 'train_loss' was not in top 1\n",
      "Epoch 61, global step 3100: 'train_loss' reached 0.09960 (best 0.09960), saving model to '/home/eragroup/Documents/Documents/Koutas_Master_Thesis_Supervision/Junbo_Leng/lag_llama_model/lag-llama-main/lightning_logs/version_32/checkpoints/epoch=61-step=3100.ckpt' as top 1\n",
      "Epoch 62, global step 3150: 'train_loss' was not in top 1\n",
      "Epoch 63, global step 3200: 'train_loss' reached 0.05349 (best 0.05349), saving model to '/home/eragroup/Documents/Documents/Koutas_Master_Thesis_Supervision/Junbo_Leng/lag_llama_model/lag-llama-main/lightning_logs/version_32/checkpoints/epoch=63-step=3200.ckpt' as top 1\n",
      "Epoch 64, global step 3250: 'train_loss' reached 0.02029 (best 0.02029), saving model to '/home/eragroup/Documents/Documents/Koutas_Master_Thesis_Supervision/Junbo_Leng/lag_llama_model/lag-llama-main/lightning_logs/version_32/checkpoints/epoch=64-step=3250.ckpt' as top 1\n",
      "Epoch 65, global step 3300: 'train_loss' was not in top 1\n",
      "Epoch 66, global step 3350: 'train_loss' was not in top 1\n",
      "Epoch 67, global step 3400: 'train_loss' was not in top 1\n",
      "Epoch 68, global step 3450: 'train_loss' was not in top 1\n",
      "Epoch 69, global step 3500: 'train_loss' reached 0.00879 (best 0.00879), saving model to '/home/eragroup/Documents/Documents/Koutas_Master_Thesis_Supervision/Junbo_Leng/lag_llama_model/lag-llama-main/lightning_logs/version_32/checkpoints/epoch=69-step=3500.ckpt' as top 1\n",
      "Epoch 70, global step 3550: 'train_loss' was not in top 1\n",
      "Epoch 71, global step 3600: 'train_loss' was not in top 1\n",
      "Epoch 72, global step 3650: 'train_loss' was not in top 1\n",
      "Epoch 73, global step 3700: 'train_loss' was not in top 1\n",
      "Epoch 74, global step 3750: 'train_loss' was not in top 1\n",
      "Epoch 75, global step 3800: 'train_loss' reached -0.00423 (best -0.00423), saving model to '/home/eragroup/Documents/Documents/Koutas_Master_Thesis_Supervision/Junbo_Leng/lag_llama_model/lag-llama-main/lightning_logs/version_32/checkpoints/epoch=75-step=3800.ckpt' as top 1\n",
      "Epoch 76, global step 3850: 'train_loss' reached -0.03734 (best -0.03734), saving model to '/home/eragroup/Documents/Documents/Koutas_Master_Thesis_Supervision/Junbo_Leng/lag_llama_model/lag-llama-main/lightning_logs/version_32/checkpoints/epoch=76-step=3850.ckpt' as top 1\n",
      "Epoch 77, global step 3900: 'train_loss' was not in top 1\n",
      "Epoch 78, global step 3950: 'train_loss' was not in top 1\n",
      "Epoch 79, global step 4000: 'train_loss' was not in top 1\n",
      "Epoch 80, global step 4050: 'train_loss' was not in top 1\n",
      "Epoch 81, global step 4100: 'train_loss' was not in top 1\n",
      "Epoch 82, global step 4150: 'train_loss' was not in top 1\n",
      "Epoch 83, global step 4200: 'train_loss' was not in top 1\n",
      "Epoch 84, global step 4250: 'train_loss' reached -0.10432 (best -0.10432), saving model to '/home/eragroup/Documents/Documents/Koutas_Master_Thesis_Supervision/Junbo_Leng/lag_llama_model/lag-llama-main/lightning_logs/version_32/checkpoints/epoch=84-step=4250.ckpt' as top 1\n",
      "Epoch 85, global step 4300: 'train_loss' was not in top 1\n",
      "Epoch 86, global step 4350: 'train_loss' was not in top 1\n",
      "Epoch 87, global step 4400: 'train_loss' was not in top 1\n",
      "Epoch 88, global step 4450: 'train_loss' reached -0.12177 (best -0.12177), saving model to '/home/eragroup/Documents/Documents/Koutas_Master_Thesis_Supervision/Junbo_Leng/lag_llama_model/lag-llama-main/lightning_logs/version_32/checkpoints/epoch=88-step=4450.ckpt' as top 1\n",
      "Epoch 89, global step 4500: 'train_loss' was not in top 1\n",
      "Epoch 90, global step 4550: 'train_loss' was not in top 1\n",
      "Epoch 91, global step 4600: 'train_loss' reached -0.14406 (best -0.14406), saving model to '/home/eragroup/Documents/Documents/Koutas_Master_Thesis_Supervision/Junbo_Leng/lag_llama_model/lag-llama-main/lightning_logs/version_32/checkpoints/epoch=91-step=4600.ckpt' as top 1\n",
      "Epoch 92, global step 4650: 'train_loss' was not in top 1\n",
      "Epoch 93, global step 4700: 'train_loss' reached -0.17899 (best -0.17899), saving model to '/home/eragroup/Documents/Documents/Koutas_Master_Thesis_Supervision/Junbo_Leng/lag_llama_model/lag-llama-main/lightning_logs/version_32/checkpoints/epoch=93-step=4700.ckpt' as top 1\n",
      "Epoch 94, global step 4750: 'train_loss' was not in top 1\n",
      "Epoch 95, global step 4800: 'train_loss' was not in top 1\n",
      "Epoch 96, global step 4850: 'train_loss' was not in top 1\n",
      "Epoch 97, global step 4900: 'train_loss' was not in top 1\n",
      "Epoch 98, global step 4950: 'train_loss' was not in top 1\n",
      "Epoch 99, global step 5000: 'train_loss' was not in top 1\n",
      "`Trainer.fit` stopped: `max_epochs=100` reached.\n"
     ]
    },
    {
     "data": {
      "application/vnd.jupyter.widget-view+json": {
       "model_id": "296fdfc3d9c44d73be4e94c001a51670",
       "version_major": 2,
       "version_minor": 0
      },
      "text/plain": [
       "Forecasting batches:   0%|          | 0/60 [00:00<?, ?it/s]"
      ]
     },
     "metadata": {},
     "output_type": "display_data"
    },
    {
     "data": {
      "application/vnd.jupyter.widget-view+json": {
       "model_id": "9b510d1bf7dd4ce0866dac80e5f78335",
       "version_major": 2,
       "version_minor": 0
      },
      "text/plain": [
       "Ground truth:   0%|          | 0/60 [00:00<?, ?it/s]"
      ]
     },
     "metadata": {},
     "output_type": "display_data"
    },
    {
     "name": "stderr",
     "output_type": "stream",
     "text": [
      "/tmp/ipykernel_18695/4101722395.py:14: FutureWarning: Series.__getitem__ treating keys as positions is deprecated. In a future version, integer keys will always be treated as labels (consistent with DataFrame behavior). To access a value by position, use `ser.iloc[pos]`\n",
      "  tss[i].values[:] = tss[i].values * test_df.std()[i] + test_df.mean()[i]\n",
      "/tmp/ipykernel_18695/4101722395.py:17: FutureWarning: Series.__getitem__ treating keys as positions is deprecated. In a future version, integer keys will always be treated as labels (consistent with DataFrame behavior). To access a value by position, use `ser.iloc[pos]`\n",
      "  std_value = test_df.std()[i]\n",
      "/tmp/ipykernel_18695/4101722395.py:18: FutureWarning: Series.__getitem__ treating keys as positions is deprecated. In a future version, integer keys will always be treated as labels (consistent with DataFrame behavior). To access a value by position, use `ser.iloc[pos]`\n",
      "  mean_value = test_df.mean()[i]\n",
      "Running evaluation: 60it [00:00, 218.67it/s]\n"
     ]
    },
    {
     "data": {
      "application/vnd.jupyter.widget-view+json": {
       "model_id": "",
       "version_major": 2,
       "version_minor": 0
      },
      "text/plain": [
       "VBox(children=(Label(value='0.003 MB of 0.003 MB uploaded\\r'), FloatProgress(value=1.0, max=1.0)))"
      ]
     },
     "metadata": {},
     "output_type": "display_data"
    },
    {
     "data": {
      "text/html": [
       "<style>\n",
       "    table.wandb td:nth-child(1) { padding: 0 10px; text-align: left ; width: auto;} td:nth-child(2) {text-align: left ; width: 100%}\n",
       "    .wandb-row { display: flex; flex-direction: row; flex-wrap: wrap; justify-content: flex-start; width: 100% }\n",
       "    .wandb-col { display: flex; flex-direction: column; flex-basis: 100%; flex: 1; padding: 10px; }\n",
       "    </style>\n",
       "<div class=\"wandb-row\"><div class=\"wandb-col\"><h3>Run history:</h3><br/><table class=\"wandb\"><tr><td>CPRS</td><td>▁</td></tr><tr><td>train_loss</td><td>█▅▇▄▅▆▇▆▆▄▇▂▆▅▅▃▁▅▁▃▆▃▄▇▄▅▅▃▅▃▁▄▅▁▄▃▂▁▃▃</td></tr></table><br/></div><div class=\"wandb-col\"><h3>Run summary:</h3><br/><table class=\"wandb\"><tr><td>CPRS</td><td>0.00034</td></tr><tr><td>train_loss</td><td>0.0543</td></tr></table><br/></div></div>"
      ],
      "text/plain": [
       "<IPython.core.display.HTML object>"
      ]
     },
     "metadata": {},
     "output_type": "display_data"
    },
    {
     "data": {
      "text/html": [
       " View run <strong style=\"color:#cdcd00\">lyric-sweep-5</strong> at: <a href='https://wandb.ai/junboma/lag_llama_04_07/runs/lgyn7imm' target=\"_blank\">https://wandb.ai/junboma/lag_llama_04_07/runs/lgyn7imm</a><br/> View project at: <a href='https://wandb.ai/junboma/lag_llama_04_07' target=\"_blank\">https://wandb.ai/junboma/lag_llama_04_07</a><br/>Synced 6 W&B file(s), 0 media file(s), 0 artifact file(s) and 0 other file(s)"
      ],
      "text/plain": [
       "<IPython.core.display.HTML object>"
      ]
     },
     "metadata": {},
     "output_type": "display_data"
    },
    {
     "data": {
      "text/html": [
       "Find logs at: <code>./wandb/run-20240704_145334-lgyn7imm/logs</code>"
      ],
      "text/plain": [
       "<IPython.core.display.HTML object>"
      ]
     },
     "metadata": {},
     "output_type": "display_data"
    },
    {
     "name": "stderr",
     "output_type": "stream",
     "text": [
      "\u001b[34m\u001b[1mwandb\u001b[0m: Agent Starting Run: x5v5azsk with config:\n",
      "\u001b[34m\u001b[1mwandb\u001b[0m: \tbatch_size: 2\n",
      "\u001b[34m\u001b[1mwandb\u001b[0m: \tcontext_length: 64\n",
      "\u001b[34m\u001b[1mwandb\u001b[0m: \tlr: 0.001\n"
     ]
    },
    {
     "data": {
      "text/html": [
       "wandb version 0.17.4 is available!  To upgrade, please run:\n",
       " $ pip install wandb --upgrade"
      ],
      "text/plain": [
       "<IPython.core.display.HTML object>"
      ]
     },
     "metadata": {},
     "output_type": "display_data"
    },
    {
     "data": {
      "text/html": [
       "Tracking run with wandb version 0.17.1"
      ],
      "text/plain": [
       "<IPython.core.display.HTML object>"
      ]
     },
     "metadata": {},
     "output_type": "display_data"
    },
    {
     "data": {
      "text/html": [
       "Run data is saved locally in <code>/home/eragroup/Documents/Documents/Koutas_Master_Thesis_Supervision/Junbo_Leng/lag_llama_model/lag-llama-main/wandb/run-20240704_150101-x5v5azsk</code>"
      ],
      "text/plain": [
       "<IPython.core.display.HTML object>"
      ]
     },
     "metadata": {},
     "output_type": "display_data"
    },
    {
     "data": {
      "text/html": [
       "Syncing run <strong><a href='https://wandb.ai/junboma/lag_llama_04_07/runs/x5v5azsk' target=\"_blank\">magic-sweep-6</a></strong> to <a href='https://wandb.ai/junboma/lag_llama_04_07' target=\"_blank\">Weights & Biases</a> (<a href='https://wandb.me/run' target=\"_blank\">docs</a>)<br/>Sweep page: <a href='https://wandb.ai/junboma/lag_llama_04_07/sweeps/8bk4uije' target=\"_blank\">https://wandb.ai/junboma/lag_llama_04_07/sweeps/8bk4uije</a>"
      ],
      "text/plain": [
       "<IPython.core.display.HTML object>"
      ]
     },
     "metadata": {},
     "output_type": "display_data"
    },
    {
     "data": {
      "text/html": [
       " View project at <a href='https://wandb.ai/junboma/lag_llama_04_07' target=\"_blank\">https://wandb.ai/junboma/lag_llama_04_07</a>"
      ],
      "text/plain": [
       "<IPython.core.display.HTML object>"
      ]
     },
     "metadata": {},
     "output_type": "display_data"
    },
    {
     "data": {
      "text/html": [
       " View sweep at <a href='https://wandb.ai/junboma/lag_llama_04_07/sweeps/8bk4uije' target=\"_blank\">https://wandb.ai/junboma/lag_llama_04_07/sweeps/8bk4uije</a>"
      ],
      "text/plain": [
       "<IPython.core.display.HTML object>"
      ]
     },
     "metadata": {},
     "output_type": "display_data"
    },
    {
     "data": {
      "text/html": [
       " View run at <a href='https://wandb.ai/junboma/lag_llama_04_07/runs/x5v5azsk' target=\"_blank\">https://wandb.ai/junboma/lag_llama_04_07/runs/x5v5azsk</a>"
      ],
      "text/plain": [
       "<IPython.core.display.HTML object>"
      ]
     },
     "metadata": {},
     "output_type": "display_data"
    },
    {
     "name": "stderr",
     "output_type": "stream",
     "text": [
      "\u001b[34m\u001b[1mwandb\u001b[0m: \u001b[33mWARNING\u001b[0m Ignored wandb.init() arg project when running a sweep.\n"
     ]
    },
    {
     "data": {
      "text/html": [
       "Finishing last run (ID:x5v5azsk) before initializing another..."
      ],
      "text/plain": [
       "<IPython.core.display.HTML object>"
      ]
     },
     "metadata": {},
     "output_type": "display_data"
    },
    {
     "data": {
      "application/vnd.jupyter.widget-view+json": {
       "model_id": "",
       "version_major": 2,
       "version_minor": 0
      },
      "text/plain": [
       "VBox(children=(Label(value='0.003 MB of 0.003 MB uploaded\\r'), FloatProgress(value=1.0, max=1.0)))"
      ]
     },
     "metadata": {},
     "output_type": "display_data"
    },
    {
     "data": {
      "text/html": [
       " View run <strong style=\"color:#cdcd00\">magic-sweep-6</strong> at: <a href='https://wandb.ai/junboma/lag_llama_04_07/runs/x5v5azsk' target=\"_blank\">https://wandb.ai/junboma/lag_llama_04_07/runs/x5v5azsk</a><br/> View project at: <a href='https://wandb.ai/junboma/lag_llama_04_07' target=\"_blank\">https://wandb.ai/junboma/lag_llama_04_07</a><br/>Synced 6 W&B file(s), 0 media file(s), 0 artifact file(s) and 0 other file(s)"
      ],
      "text/plain": [
       "<IPython.core.display.HTML object>"
      ]
     },
     "metadata": {},
     "output_type": "display_data"
    },
    {
     "data": {
      "text/html": [
       "Find logs at: <code>./wandb/run-20240704_150101-x5v5azsk/logs</code>"
      ],
      "text/plain": [
       "<IPython.core.display.HTML object>"
      ]
     },
     "metadata": {},
     "output_type": "display_data"
    },
    {
     "data": {
      "text/html": [
       "Successfully finished last run (ID:x5v5azsk). Initializing new run:<br/>"
      ],
      "text/plain": [
       "<IPython.core.display.HTML object>"
      ]
     },
     "metadata": {},
     "output_type": "display_data"
    },
    {
     "data": {
      "application/vnd.jupyter.widget-view+json": {
       "model_id": "237ed3218cec4a7dada778e67a4ff899",
       "version_major": 2,
       "version_minor": 0
      },
      "text/plain": [
       "VBox(children=(Label(value='Waiting for wandb.init()...\\r'), FloatProgress(value=0.011112496029171678, max=1.0…"
      ]
     },
     "metadata": {},
     "output_type": "display_data"
    },
    {
     "data": {
      "text/html": [
       "wandb version 0.17.4 is available!  To upgrade, please run:\n",
       " $ pip install wandb --upgrade"
      ],
      "text/plain": [
       "<IPython.core.display.HTML object>"
      ]
     },
     "metadata": {},
     "output_type": "display_data"
    },
    {
     "data": {
      "text/html": [
       "Tracking run with wandb version 0.17.1"
      ],
      "text/plain": [
       "<IPython.core.display.HTML object>"
      ]
     },
     "metadata": {},
     "output_type": "display_data"
    },
    {
     "data": {
      "text/html": [
       "Run data is saved locally in <code>/home/eragroup/Documents/Documents/Koutas_Master_Thesis_Supervision/Junbo_Leng/lag_llama_model/lag-llama-main/wandb/run-20240704_150115-x5v5azsk</code>"
      ],
      "text/plain": [
       "<IPython.core.display.HTML object>"
      ]
     },
     "metadata": {},
     "output_type": "display_data"
    },
    {
     "data": {
      "text/html": [
       "Syncing run <strong><a href='https://wandb.ai/junboma/lag_llama_04_07/runs/x5v5azsk' target=\"_blank\">magic-sweep-6</a></strong> to <a href='https://wandb.ai/junboma/lag_llama_04_07' target=\"_blank\">Weights & Biases</a> (<a href='https://wandb.me/run' target=\"_blank\">docs</a>)<br/>Sweep page: <a href='https://wandb.ai/junboma/lag_llama_04_07/sweeps/8bk4uije' target=\"_blank\">https://wandb.ai/junboma/lag_llama_04_07/sweeps/8bk4uije</a>"
      ],
      "text/plain": [
       "<IPython.core.display.HTML object>"
      ]
     },
     "metadata": {},
     "output_type": "display_data"
    },
    {
     "data": {
      "text/html": [
       " View project at <a href='https://wandb.ai/junboma/lag_llama_04_07' target=\"_blank\">https://wandb.ai/junboma/lag_llama_04_07</a>"
      ],
      "text/plain": [
       "<IPython.core.display.HTML object>"
      ]
     },
     "metadata": {},
     "output_type": "display_data"
    },
    {
     "data": {
      "text/html": [
       " View sweep at <a href='https://wandb.ai/junboma/lag_llama_04_07/sweeps/8bk4uije' target=\"_blank\">https://wandb.ai/junboma/lag_llama_04_07/sweeps/8bk4uije</a>"
      ],
      "text/plain": [
       "<IPython.core.display.HTML object>"
      ]
     },
     "metadata": {},
     "output_type": "display_data"
    },
    {
     "data": {
      "text/html": [
       " View run at <a href='https://wandb.ai/junboma/lag_llama_04_07/runs/x5v5azsk' target=\"_blank\">https://wandb.ai/junboma/lag_llama_04_07/runs/x5v5azsk</a>"
      ],
      "text/plain": [
       "<IPython.core.display.HTML object>"
      ]
     },
     "metadata": {},
     "output_type": "display_data"
    },
    {
     "name": "stderr",
     "output_type": "stream",
     "text": [
      "GPU available: True (cuda), used: True\n",
      "TPU available: False, using: 0 TPU cores\n",
      "IPU available: False, using: 0 IPUs\n",
      "HPU available: False, using: 0 HPUs\n",
      "/home/eragroup/anaconda3/envs/lag_llama/lib/python3.12/site-packages/lightning/pytorch/trainer/configuration_validator.py:74: You defined a `validation_step` but have no `val_dataloader`. Skipping val loop.\n",
      "LOCAL_RANK: 0 - CUDA_VISIBLE_DEVICES: [0]\n",
      "\n",
      "  | Name          | Type               | Params\n",
      "-----------------------------------------------------\n",
      "0 | model         | LagLlamaModel      | 2.4 M \n",
      "1 | augmentations | ApplyAugmentations | 0     \n",
      "-----------------------------------------------------\n",
      "2.4 M     Trainable params\n",
      "0         Non-trainable params\n",
      "2.4 M     Total params\n",
      "9.797     Total estimated model params size (MB)\n"
     ]
    },
    {
     "data": {
      "application/vnd.jupyter.widget-view+json": {
       "model_id": "9376a3bbb614406895666fe3e01d36f3",
       "version_major": 2,
       "version_minor": 0
      },
      "text/plain": [
       "Training: |                                               | 0/? [00:00<?, ?it/s]"
      ]
     },
     "metadata": {},
     "output_type": "display_data"
    },
    {
     "name": "stderr",
     "output_type": "stream",
     "text": [
      "Epoch 0, global step 50: 'train_loss' reached 0.91883 (best 0.91883), saving model to '/home/eragroup/Documents/Documents/Koutas_Master_Thesis_Supervision/Junbo_Leng/lag_llama_model/lag-llama-main/lightning_logs/version_33/checkpoints/epoch=0-step=50.ckpt' as top 1\n",
      "Epoch 1, global step 100: 'train_loss' reached 0.63023 (best 0.63023), saving model to '/home/eragroup/Documents/Documents/Koutas_Master_Thesis_Supervision/Junbo_Leng/lag_llama_model/lag-llama-main/lightning_logs/version_33/checkpoints/epoch=1-step=100.ckpt' as top 1\n",
      "Epoch 2, global step 150: 'train_loss' reached 0.55274 (best 0.55274), saving model to '/home/eragroup/Documents/Documents/Koutas_Master_Thesis_Supervision/Junbo_Leng/lag_llama_model/lag-llama-main/lightning_logs/version_33/checkpoints/epoch=2-step=150.ckpt' as top 1\n",
      "Epoch 3, global step 200: 'train_loss' reached 0.51614 (best 0.51614), saving model to '/home/eragroup/Documents/Documents/Koutas_Master_Thesis_Supervision/Junbo_Leng/lag_llama_model/lag-llama-main/lightning_logs/version_33/checkpoints/epoch=3-step=200.ckpt' as top 1\n",
      "Epoch 4, global step 250: 'train_loss' reached 0.49836 (best 0.49836), saving model to '/home/eragroup/Documents/Documents/Koutas_Master_Thesis_Supervision/Junbo_Leng/lag_llama_model/lag-llama-main/lightning_logs/version_33/checkpoints/epoch=4-step=250.ckpt' as top 1\n",
      "Epoch 5, global step 300: 'train_loss' reached 0.39037 (best 0.39037), saving model to '/home/eragroup/Documents/Documents/Koutas_Master_Thesis_Supervision/Junbo_Leng/lag_llama_model/lag-llama-main/lightning_logs/version_33/checkpoints/epoch=5-step=300.ckpt' as top 1\n",
      "Epoch 6, global step 350: 'train_loss' was not in top 1\n",
      "Epoch 7, global step 400: 'train_loss' reached 0.38140 (best 0.38140), saving model to '/home/eragroup/Documents/Documents/Koutas_Master_Thesis_Supervision/Junbo_Leng/lag_llama_model/lag-llama-main/lightning_logs/version_33/checkpoints/epoch=7-step=400.ckpt' as top 1\n",
      "Epoch 8, global step 450: 'train_loss' was not in top 1\n",
      "Epoch 9, global step 500: 'train_loss' was not in top 1\n",
      "Epoch 10, global step 550: 'train_loss' was not in top 1\n",
      "Epoch 11, global step 600: 'train_loss' was not in top 1\n",
      "Epoch 12, global step 650: 'train_loss' was not in top 1\n",
      "Epoch 13, global step 700: 'train_loss' was not in top 1\n",
      "Epoch 14, global step 750: 'train_loss' was not in top 1\n",
      "Epoch 15, global step 800: 'train_loss' was not in top 1\n",
      "Epoch 16, global step 850: 'train_loss' was not in top 1\n",
      "Epoch 17, global step 900: 'train_loss' was not in top 1\n",
      "Epoch 18, global step 950: 'train_loss' was not in top 1\n",
      "Epoch 19, global step 1000: 'train_loss' was not in top 1\n",
      "Epoch 20, global step 1050: 'train_loss' was not in top 1\n",
      "Epoch 21, global step 1100: 'train_loss' was not in top 1\n",
      "Epoch 22, global step 1150: 'train_loss' was not in top 1\n",
      "Epoch 23, global step 1200: 'train_loss' reached 0.36684 (best 0.36684), saving model to '/home/eragroup/Documents/Documents/Koutas_Master_Thesis_Supervision/Junbo_Leng/lag_llama_model/lag-llama-main/lightning_logs/version_33/checkpoints/epoch=23-step=1200.ckpt' as top 1\n",
      "Epoch 24, global step 1250: 'train_loss' reached 0.31517 (best 0.31517), saving model to '/home/eragroup/Documents/Documents/Koutas_Master_Thesis_Supervision/Junbo_Leng/lag_llama_model/lag-llama-main/lightning_logs/version_33/checkpoints/epoch=24-step=1250.ckpt' as top 1\n",
      "Epoch 25, global step 1300: 'train_loss' was not in top 1\n",
      "Epoch 26, global step 1350: 'train_loss' was not in top 1\n",
      "Epoch 27, global step 1400: 'train_loss' was not in top 1\n",
      "Epoch 28, global step 1450: 'train_loss' was not in top 1\n",
      "Epoch 29, global step 1500: 'train_loss' was not in top 1\n",
      "Epoch 30, global step 1550: 'train_loss' was not in top 1\n",
      "Epoch 31, global step 1600: 'train_loss' was not in top 1\n",
      "Epoch 32, global step 1650: 'train_loss' was not in top 1\n",
      "Epoch 33, global step 1700: 'train_loss' was not in top 1\n",
      "Epoch 34, global step 1750: 'train_loss' was not in top 1\n",
      "Epoch 35, global step 1800: 'train_loss' was not in top 1\n",
      "Epoch 36, global step 1850: 'train_loss' was not in top 1\n",
      "Epoch 37, global step 1900: 'train_loss' was not in top 1\n",
      "Epoch 38, global step 1950: 'train_loss' reached 0.24647 (best 0.24647), saving model to '/home/eragroup/Documents/Documents/Koutas_Master_Thesis_Supervision/Junbo_Leng/lag_llama_model/lag-llama-main/lightning_logs/version_33/checkpoints/epoch=38-step=1950.ckpt' as top 1\n",
      "Epoch 39, global step 2000: 'train_loss' was not in top 1\n",
      "Epoch 40, global step 2050: 'train_loss' was not in top 1\n",
      "Epoch 41, global step 2100: 'train_loss' was not in top 1\n",
      "Epoch 42, global step 2150: 'train_loss' was not in top 1\n",
      "Epoch 43, global step 2200: 'train_loss' was not in top 1\n",
      "Epoch 44, global step 2250: 'train_loss' was not in top 1\n",
      "Epoch 45, global step 2300: 'train_loss' was not in top 1\n",
      "Epoch 46, global step 2350: 'train_loss' was not in top 1\n",
      "Epoch 47, global step 2400: 'train_loss' was not in top 1\n",
      "Epoch 48, global step 2450: 'train_loss' was not in top 1\n",
      "Epoch 49, global step 2500: 'train_loss' was not in top 1\n",
      "Epoch 50, global step 2550: 'train_loss' was not in top 1\n",
      "Epoch 51, global step 2600: 'train_loss' was not in top 1\n",
      "Epoch 52, global step 2650: 'train_loss' was not in top 1\n",
      "Epoch 53, global step 2700: 'train_loss' was not in top 1\n",
      "Epoch 54, global step 2750: 'train_loss' was not in top 1\n",
      "Epoch 55, global step 2800: 'train_loss' was not in top 1\n",
      "Epoch 56, global step 2850: 'train_loss' was not in top 1\n",
      "Epoch 57, global step 2900: 'train_loss' was not in top 1\n",
      "Epoch 58, global step 2950: 'train_loss' was not in top 1\n",
      "Epoch 59, global step 3000: 'train_loss' was not in top 1\n",
      "Epoch 60, global step 3050: 'train_loss' was not in top 1\n",
      "Epoch 61, global step 3100: 'train_loss' was not in top 1\n",
      "Epoch 62, global step 3150: 'train_loss' was not in top 1\n",
      "Epoch 63, global step 3200: 'train_loss' was not in top 1\n",
      "Epoch 64, global step 3250: 'train_loss' was not in top 1\n",
      "Epoch 65, global step 3300: 'train_loss' was not in top 1\n",
      "Epoch 66, global step 3350: 'train_loss' was not in top 1\n",
      "Epoch 67, global step 3400: 'train_loss' was not in top 1\n",
      "Epoch 68, global step 3450: 'train_loss' was not in top 1\n",
      "Epoch 69, global step 3500: 'train_loss' was not in top 1\n",
      "Epoch 70, global step 3550: 'train_loss' was not in top 1\n",
      "Epoch 71, global step 3600: 'train_loss' was not in top 1\n",
      "Epoch 72, global step 3650: 'train_loss' was not in top 1\n",
      "Epoch 73, global step 3700: 'train_loss' was not in top 1\n",
      "Epoch 74, global step 3750: 'train_loss' was not in top 1\n",
      "Epoch 75, global step 3800: 'train_loss' was not in top 1\n",
      "Epoch 76, global step 3850: 'train_loss' was not in top 1\n",
      "Epoch 77, global step 3900: 'train_loss' was not in top 1\n",
      "Epoch 78, global step 3950: 'train_loss' reached 0.17401 (best 0.17401), saving model to '/home/eragroup/Documents/Documents/Koutas_Master_Thesis_Supervision/Junbo_Leng/lag_llama_model/lag-llama-main/lightning_logs/version_33/checkpoints/epoch=78-step=3950.ckpt' as top 1\n",
      "Epoch 79, global step 4000: 'train_loss' was not in top 1\n",
      "Epoch 80, global step 4050: 'train_loss' was not in top 1\n",
      "Epoch 81, global step 4100: 'train_loss' was not in top 1\n",
      "Epoch 82, global step 4150: 'train_loss' was not in top 1\n",
      "Epoch 83, global step 4200: 'train_loss' was not in top 1\n",
      "Epoch 84, global step 4250: 'train_loss' was not in top 1\n",
      "Epoch 85, global step 4300: 'train_loss' was not in top 1\n",
      "Epoch 86, global step 4350: 'train_loss' was not in top 1\n",
      "Epoch 87, global step 4400: 'train_loss' was not in top 1\n",
      "Epoch 88, global step 4450: 'train_loss' was not in top 1\n",
      "Epoch 89, global step 4500: 'train_loss' was not in top 1\n",
      "Epoch 90, global step 4550: 'train_loss' was not in top 1\n",
      "Epoch 91, global step 4600: 'train_loss' was not in top 1\n",
      "Epoch 92, global step 4650: 'train_loss' was not in top 1\n",
      "Epoch 93, global step 4700: 'train_loss' was not in top 1\n",
      "Epoch 94, global step 4750: 'train_loss' was not in top 1\n",
      "Epoch 95, global step 4800: 'train_loss' was not in top 1\n",
      "Epoch 96, global step 4850: 'train_loss' was not in top 1\n",
      "Epoch 97, global step 4900: 'train_loss' was not in top 1\n",
      "Epoch 98, global step 4950: 'train_loss' reached 0.15806 (best 0.15806), saving model to '/home/eragroup/Documents/Documents/Koutas_Master_Thesis_Supervision/Junbo_Leng/lag_llama_model/lag-llama-main/lightning_logs/version_33/checkpoints/epoch=98-step=4950.ckpt' as top 1\n",
      "Epoch 99, global step 5000: 'train_loss' was not in top 1\n",
      "`Trainer.fit` stopped: `max_epochs=100` reached.\n"
     ]
    },
    {
     "data": {
      "application/vnd.jupyter.widget-view+json": {
       "model_id": "a891bc46eabe476ca97519f1553e3488",
       "version_major": 2,
       "version_minor": 0
      },
      "text/plain": [
       "Forecasting batches:   0%|          | 0/60 [00:00<?, ?it/s]"
      ]
     },
     "metadata": {},
     "output_type": "display_data"
    },
    {
     "data": {
      "application/vnd.jupyter.widget-view+json": {
       "model_id": "b5bde17ed7a94e30b172cc490dfe7475",
       "version_major": 2,
       "version_minor": 0
      },
      "text/plain": [
       "Ground truth:   0%|          | 0/60 [00:00<?, ?it/s]"
      ]
     },
     "metadata": {},
     "output_type": "display_data"
    },
    {
     "name": "stderr",
     "output_type": "stream",
     "text": [
      "/tmp/ipykernel_18695/4101722395.py:14: FutureWarning: Series.__getitem__ treating keys as positions is deprecated. In a future version, integer keys will always be treated as labels (consistent with DataFrame behavior). To access a value by position, use `ser.iloc[pos]`\n",
      "  tss[i].values[:] = tss[i].values * test_df.std()[i] + test_df.mean()[i]\n",
      "/tmp/ipykernel_18695/4101722395.py:17: FutureWarning: Series.__getitem__ treating keys as positions is deprecated. In a future version, integer keys will always be treated as labels (consistent with DataFrame behavior). To access a value by position, use `ser.iloc[pos]`\n",
      "  std_value = test_df.std()[i]\n",
      "/tmp/ipykernel_18695/4101722395.py:18: FutureWarning: Series.__getitem__ treating keys as positions is deprecated. In a future version, integer keys will always be treated as labels (consistent with DataFrame behavior). To access a value by position, use `ser.iloc[pos]`\n",
      "  mean_value = test_df.mean()[i]\n",
      "Running evaluation: 60it [00:00, 226.63it/s]\n"
     ]
    },
    {
     "data": {
      "application/vnd.jupyter.widget-view+json": {
       "model_id": "",
       "version_major": 2,
       "version_minor": 0
      },
      "text/plain": [
       "VBox(children=(Label(value='0.003 MB of 0.022 MB uploaded\\r'), FloatProgress(value=0.15025727504648248, max=1.…"
      ]
     },
     "metadata": {},
     "output_type": "display_data"
    },
    {
     "data": {
      "text/html": [
       "<style>\n",
       "    table.wandb td:nth-child(1) { padding: 0 10px; text-align: left ; width: auto;} td:nth-child(2) {text-align: left ; width: 100%}\n",
       "    .wandb-row { display: flex; flex-direction: row; flex-wrap: wrap; justify-content: flex-start; width: 100% }\n",
       "    .wandb-col { display: flex; flex-direction: column; flex-basis: 100%; flex: 1; padding: 10px; }\n",
       "    </style>\n",
       "<div class=\"wandb-row\"><div class=\"wandb-col\"><h3>Run history:</h3><br/><table class=\"wandb\"><tr><td>CPRS</td><td>▁</td></tr><tr><td>train_loss</td><td>█▇▅▆▆▃▇▄▅▄▅▄▆▅▃▃▄▃▁▇▇▆█▅▆▅▁▅▇▂▆▆▃▄▆▂▄▅▆▅</td></tr></table><br/></div><div class=\"wandb-col\"><h3>Run summary:</h3><br/><table class=\"wandb\"><tr><td>CPRS</td><td>0.00038</td></tr><tr><td>train_loss</td><td>0.47211</td></tr></table><br/></div></div>"
      ],
      "text/plain": [
       "<IPython.core.display.HTML object>"
      ]
     },
     "metadata": {},
     "output_type": "display_data"
    },
    {
     "data": {
      "text/html": [
       " View run <strong style=\"color:#cdcd00\">magic-sweep-6</strong> at: <a href='https://wandb.ai/junboma/lag_llama_04_07/runs/x5v5azsk' target=\"_blank\">https://wandb.ai/junboma/lag_llama_04_07/runs/x5v5azsk</a><br/> View project at: <a href='https://wandb.ai/junboma/lag_llama_04_07' target=\"_blank\">https://wandb.ai/junboma/lag_llama_04_07</a><br/>Synced 6 W&B file(s), 0 media file(s), 0 artifact file(s) and 0 other file(s)"
      ],
      "text/plain": [
       "<IPython.core.display.HTML object>"
      ]
     },
     "metadata": {},
     "output_type": "display_data"
    },
    {
     "data": {
      "text/html": [
       "Find logs at: <code>./wandb/run-20240704_150115-x5v5azsk/logs</code>"
      ],
      "text/plain": [
       "<IPython.core.display.HTML object>"
      ]
     },
     "metadata": {},
     "output_type": "display_data"
    },
    {
     "name": "stderr",
     "output_type": "stream",
     "text": [
      "\u001b[34m\u001b[1mwandb\u001b[0m: Sweep Agent: Waiting for job.\n",
      "\u001b[34m\u001b[1mwandb\u001b[0m: Job received.\n",
      "\u001b[34m\u001b[1mwandb\u001b[0m: Agent Starting Run: u1ih0uny with config:\n",
      "\u001b[34m\u001b[1mwandb\u001b[0m: \tbatch_size: 2\n",
      "\u001b[34m\u001b[1mwandb\u001b[0m: \tcontext_length: 64\n",
      "\u001b[34m\u001b[1mwandb\u001b[0m: \tlr: 5e-05\n"
     ]
    },
    {
     "data": {
      "text/html": [
       "wandb version 0.17.4 is available!  To upgrade, please run:\n",
       " $ pip install wandb --upgrade"
      ],
      "text/plain": [
       "<IPython.core.display.HTML object>"
      ]
     },
     "metadata": {},
     "output_type": "display_data"
    },
    {
     "data": {
      "text/html": [
       "Tracking run with wandb version 0.17.1"
      ],
      "text/plain": [
       "<IPython.core.display.HTML object>"
      ]
     },
     "metadata": {},
     "output_type": "display_data"
    },
    {
     "data": {
      "text/html": [
       "Run data is saved locally in <code>/home/eragroup/Documents/Documents/Koutas_Master_Thesis_Supervision/Junbo_Leng/lag_llama_model/lag-llama-main/wandb/run-20240704_150910-u1ih0uny</code>"
      ],
      "text/plain": [
       "<IPython.core.display.HTML object>"
      ]
     },
     "metadata": {},
     "output_type": "display_data"
    },
    {
     "data": {
      "text/html": [
       "Syncing run <strong><a href='https://wandb.ai/junboma/lag_llama_04_07/runs/u1ih0uny' target=\"_blank\">laced-sweep-7</a></strong> to <a href='https://wandb.ai/junboma/lag_llama_04_07' target=\"_blank\">Weights & Biases</a> (<a href='https://wandb.me/run' target=\"_blank\">docs</a>)<br/>Sweep page: <a href='https://wandb.ai/junboma/lag_llama_04_07/sweeps/8bk4uije' target=\"_blank\">https://wandb.ai/junboma/lag_llama_04_07/sweeps/8bk4uije</a>"
      ],
      "text/plain": [
       "<IPython.core.display.HTML object>"
      ]
     },
     "metadata": {},
     "output_type": "display_data"
    },
    {
     "data": {
      "text/html": [
       " View project at <a href='https://wandb.ai/junboma/lag_llama_04_07' target=\"_blank\">https://wandb.ai/junboma/lag_llama_04_07</a>"
      ],
      "text/plain": [
       "<IPython.core.display.HTML object>"
      ]
     },
     "metadata": {},
     "output_type": "display_data"
    },
    {
     "data": {
      "text/html": [
       " View sweep at <a href='https://wandb.ai/junboma/lag_llama_04_07/sweeps/8bk4uije' target=\"_blank\">https://wandb.ai/junboma/lag_llama_04_07/sweeps/8bk4uije</a>"
      ],
      "text/plain": [
       "<IPython.core.display.HTML object>"
      ]
     },
     "metadata": {},
     "output_type": "display_data"
    },
    {
     "data": {
      "text/html": [
       " View run at <a href='https://wandb.ai/junboma/lag_llama_04_07/runs/u1ih0uny' target=\"_blank\">https://wandb.ai/junboma/lag_llama_04_07/runs/u1ih0uny</a>"
      ],
      "text/plain": [
       "<IPython.core.display.HTML object>"
      ]
     },
     "metadata": {},
     "output_type": "display_data"
    },
    {
     "name": "stderr",
     "output_type": "stream",
     "text": [
      "\u001b[34m\u001b[1mwandb\u001b[0m: \u001b[33mWARNING\u001b[0m Ignored wandb.init() arg project when running a sweep.\n"
     ]
    },
    {
     "data": {
      "text/html": [
       "Finishing last run (ID:u1ih0uny) before initializing another..."
      ],
      "text/plain": [
       "<IPython.core.display.HTML object>"
      ]
     },
     "metadata": {},
     "output_type": "display_data"
    },
    {
     "data": {
      "application/vnd.jupyter.widget-view+json": {
       "model_id": "",
       "version_major": 2,
       "version_minor": 0
      },
      "text/plain": [
       "VBox(children=(Label(value='0.003 MB of 0.003 MB uploaded\\r'), FloatProgress(value=1.0, max=1.0)))"
      ]
     },
     "metadata": {},
     "output_type": "display_data"
    },
    {
     "data": {
      "text/html": [
       " View run <strong style=\"color:#cdcd00\">laced-sweep-7</strong> at: <a href='https://wandb.ai/junboma/lag_llama_04_07/runs/u1ih0uny' target=\"_blank\">https://wandb.ai/junboma/lag_llama_04_07/runs/u1ih0uny</a><br/> View project at: <a href='https://wandb.ai/junboma/lag_llama_04_07' target=\"_blank\">https://wandb.ai/junboma/lag_llama_04_07</a><br/>Synced 6 W&B file(s), 0 media file(s), 0 artifact file(s) and 0 other file(s)"
      ],
      "text/plain": [
       "<IPython.core.display.HTML object>"
      ]
     },
     "metadata": {},
     "output_type": "display_data"
    },
    {
     "data": {
      "text/html": [
       "Find logs at: <code>./wandb/run-20240704_150910-u1ih0uny/logs</code>"
      ],
      "text/plain": [
       "<IPython.core.display.HTML object>"
      ]
     },
     "metadata": {},
     "output_type": "display_data"
    },
    {
     "data": {
      "text/html": [
       "Successfully finished last run (ID:u1ih0uny). Initializing new run:<br/>"
      ],
      "text/plain": [
       "<IPython.core.display.HTML object>"
      ]
     },
     "metadata": {},
     "output_type": "display_data"
    },
    {
     "data": {
      "application/vnd.jupyter.widget-view+json": {
       "model_id": "5f054ce39cae4d8f966def542aa70f03",
       "version_major": 2,
       "version_minor": 0
      },
      "text/plain": [
       "VBox(children=(Label(value='Waiting for wandb.init()...\\r'), FloatProgress(value=0.011112489023556311, max=1.0…"
      ]
     },
     "metadata": {},
     "output_type": "display_data"
    },
    {
     "data": {
      "text/html": [
       "wandb version 0.17.4 is available!  To upgrade, please run:\n",
       " $ pip install wandb --upgrade"
      ],
      "text/plain": [
       "<IPython.core.display.HTML object>"
      ]
     },
     "metadata": {},
     "output_type": "display_data"
    },
    {
     "data": {
      "text/html": [
       "Tracking run with wandb version 0.17.1"
      ],
      "text/plain": [
       "<IPython.core.display.HTML object>"
      ]
     },
     "metadata": {},
     "output_type": "display_data"
    },
    {
     "data": {
      "text/html": [
       "Run data is saved locally in <code>/home/eragroup/Documents/Documents/Koutas_Master_Thesis_Supervision/Junbo_Leng/lag_llama_model/lag-llama-main/wandb/run-20240704_150924-u1ih0uny</code>"
      ],
      "text/plain": [
       "<IPython.core.display.HTML object>"
      ]
     },
     "metadata": {},
     "output_type": "display_data"
    },
    {
     "data": {
      "text/html": [
       "Syncing run <strong><a href='https://wandb.ai/junboma/lag_llama_04_07/runs/u1ih0uny' target=\"_blank\">laced-sweep-7</a></strong> to <a href='https://wandb.ai/junboma/lag_llama_04_07' target=\"_blank\">Weights & Biases</a> (<a href='https://wandb.me/run' target=\"_blank\">docs</a>)<br/>Sweep page: <a href='https://wandb.ai/junboma/lag_llama_04_07/sweeps/8bk4uije' target=\"_blank\">https://wandb.ai/junboma/lag_llama_04_07/sweeps/8bk4uije</a>"
      ],
      "text/plain": [
       "<IPython.core.display.HTML object>"
      ]
     },
     "metadata": {},
     "output_type": "display_data"
    },
    {
     "data": {
      "text/html": [
       " View project at <a href='https://wandb.ai/junboma/lag_llama_04_07' target=\"_blank\">https://wandb.ai/junboma/lag_llama_04_07</a>"
      ],
      "text/plain": [
       "<IPython.core.display.HTML object>"
      ]
     },
     "metadata": {},
     "output_type": "display_data"
    },
    {
     "data": {
      "text/html": [
       " View sweep at <a href='https://wandb.ai/junboma/lag_llama_04_07/sweeps/8bk4uije' target=\"_blank\">https://wandb.ai/junboma/lag_llama_04_07/sweeps/8bk4uije</a>"
      ],
      "text/plain": [
       "<IPython.core.display.HTML object>"
      ]
     },
     "metadata": {},
     "output_type": "display_data"
    },
    {
     "data": {
      "text/html": [
       " View run at <a href='https://wandb.ai/junboma/lag_llama_04_07/runs/u1ih0uny' target=\"_blank\">https://wandb.ai/junboma/lag_llama_04_07/runs/u1ih0uny</a>"
      ],
      "text/plain": [
       "<IPython.core.display.HTML object>"
      ]
     },
     "metadata": {},
     "output_type": "display_data"
    },
    {
     "name": "stderr",
     "output_type": "stream",
     "text": [
      "GPU available: True (cuda), used: True\n",
      "TPU available: False, using: 0 TPU cores\n",
      "IPU available: False, using: 0 IPUs\n",
      "HPU available: False, using: 0 HPUs\n",
      "/home/eragroup/anaconda3/envs/lag_llama/lib/python3.12/site-packages/lightning/pytorch/trainer/configuration_validator.py:74: You defined a `validation_step` but have no `val_dataloader`. Skipping val loop.\n",
      "LOCAL_RANK: 0 - CUDA_VISIBLE_DEVICES: [0]\n",
      "\n",
      "  | Name          | Type               | Params\n",
      "-----------------------------------------------------\n",
      "0 | model         | LagLlamaModel      | 2.4 M \n",
      "1 | augmentations | ApplyAugmentations | 0     \n",
      "-----------------------------------------------------\n",
      "2.4 M     Trainable params\n",
      "0         Non-trainable params\n",
      "2.4 M     Total params\n",
      "9.797     Total estimated model params size (MB)\n"
     ]
    },
    {
     "data": {
      "application/vnd.jupyter.widget-view+json": {
       "model_id": "8889de5ce4614c60b47fd7eb73dba020",
       "version_major": 2,
       "version_minor": 0
      },
      "text/plain": [
       "Training: |                                               | 0/? [00:00<?, ?it/s]"
      ]
     },
     "metadata": {},
     "output_type": "display_data"
    },
    {
     "name": "stderr",
     "output_type": "stream",
     "text": [
      "Epoch 0, global step 50: 'train_loss' reached 0.66386 (best 0.66386), saving model to '/home/eragroup/Documents/Documents/Koutas_Master_Thesis_Supervision/Junbo_Leng/lag_llama_model/lag-llama-main/lightning_logs/version_34/checkpoints/epoch=0-step=50.ckpt' as top 1\n",
      "Epoch 1, global step 100: 'train_loss' reached 0.48555 (best 0.48555), saving model to '/home/eragroup/Documents/Documents/Koutas_Master_Thesis_Supervision/Junbo_Leng/lag_llama_model/lag-llama-main/lightning_logs/version_34/checkpoints/epoch=1-step=100.ckpt' as top 1\n",
      "Epoch 2, global step 150: 'train_loss' reached 0.39192 (best 0.39192), saving model to '/home/eragroup/Documents/Documents/Koutas_Master_Thesis_Supervision/Junbo_Leng/lag_llama_model/lag-llama-main/lightning_logs/version_34/checkpoints/epoch=2-step=150.ckpt' as top 1\n",
      "Epoch 3, global step 200: 'train_loss' was not in top 1\n",
      "Epoch 4, global step 250: 'train_loss' reached 0.34310 (best 0.34310), saving model to '/home/eragroup/Documents/Documents/Koutas_Master_Thesis_Supervision/Junbo_Leng/lag_llama_model/lag-llama-main/lightning_logs/version_34/checkpoints/epoch=4-step=250.ckpt' as top 1\n",
      "Epoch 5, global step 300: 'train_loss' was not in top 1\n",
      "Epoch 6, global step 350: 'train_loss' reached 0.32657 (best 0.32657), saving model to '/home/eragroup/Documents/Documents/Koutas_Master_Thesis_Supervision/Junbo_Leng/lag_llama_model/lag-llama-main/lightning_logs/version_34/checkpoints/epoch=6-step=350.ckpt' as top 1\n",
      "Epoch 7, global step 400: 'train_loss' was not in top 1\n",
      "Epoch 8, global step 450: 'train_loss' was not in top 1\n",
      "Epoch 9, global step 500: 'train_loss' was not in top 1\n",
      "Epoch 10, global step 550: 'train_loss' was not in top 1\n",
      "Epoch 11, global step 600: 'train_loss' reached 0.05103 (best 0.05103), saving model to '/home/eragroup/Documents/Documents/Koutas_Master_Thesis_Supervision/Junbo_Leng/lag_llama_model/lag-llama-main/lightning_logs/version_34/checkpoints/epoch=11-step=600.ckpt' as top 1\n",
      "Epoch 12, global step 650: 'train_loss' was not in top 1\n",
      "Epoch 13, global step 700: 'train_loss' was not in top 1\n",
      "Epoch 14, global step 750: 'train_loss' was not in top 1\n",
      "Epoch 15, global step 800: 'train_loss' was not in top 1\n",
      "Epoch 16, global step 850: 'train_loss' was not in top 1\n",
      "Epoch 17, global step 900: 'train_loss' was not in top 1\n",
      "Epoch 18, global step 950: 'train_loss' was not in top 1\n",
      "Epoch 19, global step 1000: 'train_loss' was not in top 1\n",
      "Epoch 20, global step 1050: 'train_loss' was not in top 1\n",
      "Epoch 21, global step 1100: 'train_loss' was not in top 1\n",
      "Epoch 22, global step 1150: 'train_loss' was not in top 1\n",
      "Epoch 23, global step 1200: 'train_loss' was not in top 1\n",
      "Epoch 24, global step 1250: 'train_loss' was not in top 1\n",
      "Epoch 25, global step 1300: 'train_loss' was not in top 1\n",
      "Epoch 26, global step 1350: 'train_loss' was not in top 1\n",
      "Epoch 27, global step 1400: 'train_loss' was not in top 1\n",
      "Epoch 28, global step 1450: 'train_loss' was not in top 1\n",
      "Epoch 29, global step 1500: 'train_loss' was not in top 1\n",
      "Epoch 30, global step 1550: 'train_loss' was not in top 1\n",
      "Epoch 31, global step 1600: 'train_loss' was not in top 1\n",
      "Epoch 32, global step 1650: 'train_loss' was not in top 1\n",
      "Epoch 33, global step 1700: 'train_loss' was not in top 1\n",
      "Epoch 34, global step 1750: 'train_loss' was not in top 1\n",
      "Epoch 35, global step 1800: 'train_loss' was not in top 1\n",
      "Epoch 36, global step 1850: 'train_loss' was not in top 1\n",
      "Epoch 37, global step 1900: 'train_loss' was not in top 1\n",
      "Epoch 38, global step 1950: 'train_loss' was not in top 1\n",
      "Epoch 39, global step 2000: 'train_loss' was not in top 1\n",
      "Epoch 40, global step 2050: 'train_loss' was not in top 1\n",
      "Epoch 41, global step 2100: 'train_loss' was not in top 1\n",
      "Epoch 42, global step 2150: 'train_loss' was not in top 1\n",
      "Epoch 43, global step 2200: 'train_loss' was not in top 1\n",
      "Epoch 44, global step 2250: 'train_loss' was not in top 1\n",
      "Epoch 45, global step 2300: 'train_loss' was not in top 1\n",
      "Epoch 46, global step 2350: 'train_loss' was not in top 1\n",
      "Epoch 47, global step 2400: 'train_loss' was not in top 1\n",
      "Epoch 48, global step 2450: 'train_loss' was not in top 1\n",
      "Epoch 49, global step 2500: 'train_loss' was not in top 1\n",
      "Epoch 50, global step 2550: 'train_loss' was not in top 1\n",
      "Epoch 51, global step 2600: 'train_loss' was not in top 1\n",
      "Epoch 52, global step 2650: 'train_loss' was not in top 1\n",
      "Epoch 53, global step 2700: 'train_loss' was not in top 1\n",
      "Epoch 54, global step 2750: 'train_loss' was not in top 1\n",
      "Epoch 55, global step 2800: 'train_loss' was not in top 1\n",
      "Epoch 56, global step 2850: 'train_loss' was not in top 1\n",
      "Epoch 57, global step 2900: 'train_loss' was not in top 1\n",
      "Epoch 58, global step 2950: 'train_loss' was not in top 1\n",
      "Epoch 59, global step 3000: 'train_loss' reached 0.04240 (best 0.04240), saving model to '/home/eragroup/Documents/Documents/Koutas_Master_Thesis_Supervision/Junbo_Leng/lag_llama_model/lag-llama-main/lightning_logs/version_34/checkpoints/epoch=59-step=3000.ckpt' as top 1\n",
      "Epoch 60, global step 3050: 'train_loss' was not in top 1\n",
      "Epoch 61, global step 3100: 'train_loss' reached 0.03851 (best 0.03851), saving model to '/home/eragroup/Documents/Documents/Koutas_Master_Thesis_Supervision/Junbo_Leng/lag_llama_model/lag-llama-main/lightning_logs/version_34/checkpoints/epoch=61-step=3100.ckpt' as top 1\n",
      "Epoch 62, global step 3150: 'train_loss' was not in top 1\n",
      "Epoch 63, global step 3200: 'train_loss' was not in top 1\n",
      "Epoch 64, global step 3250: 'train_loss' was not in top 1\n",
      "Epoch 65, global step 3300: 'train_loss' reached 0.02138 (best 0.02138), saving model to '/home/eragroup/Documents/Documents/Koutas_Master_Thesis_Supervision/Junbo_Leng/lag_llama_model/lag-llama-main/lightning_logs/version_34/checkpoints/epoch=65-step=3300.ckpt' as top 1\n",
      "Epoch 66, global step 3350: 'train_loss' was not in top 1\n",
      "Epoch 67, global step 3400: 'train_loss' was not in top 1\n",
      "Epoch 68, global step 3450: 'train_loss' was not in top 1\n",
      "Epoch 69, global step 3500: 'train_loss' was not in top 1\n",
      "Epoch 70, global step 3550: 'train_loss' was not in top 1\n",
      "Epoch 71, global step 3600: 'train_loss' was not in top 1\n",
      "Epoch 72, global step 3650: 'train_loss' was not in top 1\n",
      "Epoch 73, global step 3700: 'train_loss' was not in top 1\n",
      "Epoch 74, global step 3750: 'train_loss' was not in top 1\n",
      "Epoch 75, global step 3800: 'train_loss' was not in top 1\n",
      "Epoch 76, global step 3850: 'train_loss' reached -0.06689 (best -0.06689), saving model to '/home/eragroup/Documents/Documents/Koutas_Master_Thesis_Supervision/Junbo_Leng/lag_llama_model/lag-llama-main/lightning_logs/version_34/checkpoints/epoch=76-step=3850.ckpt' as top 1\n",
      "Epoch 77, global step 3900: 'train_loss' was not in top 1\n",
      "Epoch 78, global step 3950: 'train_loss' was not in top 1\n",
      "Epoch 79, global step 4000: 'train_loss' reached -0.07785 (best -0.07785), saving model to '/home/eragroup/Documents/Documents/Koutas_Master_Thesis_Supervision/Junbo_Leng/lag_llama_model/lag-llama-main/lightning_logs/version_34/checkpoints/epoch=79-step=4000.ckpt' as top 1\n",
      "Epoch 80, global step 4050: 'train_loss' reached -0.07922 (best -0.07922), saving model to '/home/eragroup/Documents/Documents/Koutas_Master_Thesis_Supervision/Junbo_Leng/lag_llama_model/lag-llama-main/lightning_logs/version_34/checkpoints/epoch=80-step=4050.ckpt' as top 1\n",
      "Epoch 81, global step 4100: 'train_loss' was not in top 1\n",
      "Epoch 82, global step 4150: 'train_loss' was not in top 1\n",
      "Epoch 83, global step 4200: 'train_loss' was not in top 1\n",
      "Epoch 84, global step 4250: 'train_loss' was not in top 1\n",
      "Epoch 85, global step 4300: 'train_loss' was not in top 1\n",
      "Epoch 86, global step 4350: 'train_loss' was not in top 1\n",
      "Epoch 87, global step 4400: 'train_loss' reached -0.08819 (best -0.08819), saving model to '/home/eragroup/Documents/Documents/Koutas_Master_Thesis_Supervision/Junbo_Leng/lag_llama_model/lag-llama-main/lightning_logs/version_34/checkpoints/epoch=87-step=4400.ckpt' as top 1\n",
      "Epoch 88, global step 4450: 'train_loss' was not in top 1\n",
      "Epoch 89, global step 4500: 'train_loss' reached -0.10858 (best -0.10858), saving model to '/home/eragroup/Documents/Documents/Koutas_Master_Thesis_Supervision/Junbo_Leng/lag_llama_model/lag-llama-main/lightning_logs/version_34/checkpoints/epoch=89-step=4500.ckpt' as top 1\n",
      "Epoch 90, global step 4550: 'train_loss' reached -0.18189 (best -0.18189), saving model to '/home/eragroup/Documents/Documents/Koutas_Master_Thesis_Supervision/Junbo_Leng/lag_llama_model/lag-llama-main/lightning_logs/version_34/checkpoints/epoch=90-step=4550.ckpt' as top 1\n",
      "Epoch 91, global step 4600: 'train_loss' was not in top 1\n",
      "Epoch 92, global step 4650: 'train_loss' was not in top 1\n",
      "Epoch 93, global step 4700: 'train_loss' was not in top 1\n",
      "Epoch 94, global step 4750: 'train_loss' was not in top 1\n",
      "Epoch 95, global step 4800: 'train_loss' was not in top 1\n",
      "Epoch 96, global step 4850: 'train_loss' was not in top 1\n",
      "Epoch 97, global step 4900: 'train_loss' was not in top 1\n",
      "Epoch 98, global step 4950: 'train_loss' was not in top 1\n",
      "Epoch 99, global step 5000: 'train_loss' was not in top 1\n",
      "`Trainer.fit` stopped: `max_epochs=100` reached.\n"
     ]
    },
    {
     "data": {
      "application/vnd.jupyter.widget-view+json": {
       "model_id": "eb05536623c34532a3abb852bae1f066",
       "version_major": 2,
       "version_minor": 0
      },
      "text/plain": [
       "Forecasting batches:   0%|          | 0/60 [00:00<?, ?it/s]"
      ]
     },
     "metadata": {},
     "output_type": "display_data"
    },
    {
     "data": {
      "application/vnd.jupyter.widget-view+json": {
       "model_id": "541153d8f34e443abbe5f4f54011e794",
       "version_major": 2,
       "version_minor": 0
      },
      "text/plain": [
       "Ground truth:   0%|          | 0/60 [00:00<?, ?it/s]"
      ]
     },
     "metadata": {},
     "output_type": "display_data"
    },
    {
     "name": "stderr",
     "output_type": "stream",
     "text": [
      "/tmp/ipykernel_18695/4101722395.py:14: FutureWarning: Series.__getitem__ treating keys as positions is deprecated. In a future version, integer keys will always be treated as labels (consistent with DataFrame behavior). To access a value by position, use `ser.iloc[pos]`\n",
      "  tss[i].values[:] = tss[i].values * test_df.std()[i] + test_df.mean()[i]\n",
      "/tmp/ipykernel_18695/4101722395.py:17: FutureWarning: Series.__getitem__ treating keys as positions is deprecated. In a future version, integer keys will always be treated as labels (consistent with DataFrame behavior). To access a value by position, use `ser.iloc[pos]`\n",
      "  std_value = test_df.std()[i]\n",
      "/tmp/ipykernel_18695/4101722395.py:18: FutureWarning: Series.__getitem__ treating keys as positions is deprecated. In a future version, integer keys will always be treated as labels (consistent with DataFrame behavior). To access a value by position, use `ser.iloc[pos]`\n",
      "  mean_value = test_df.mean()[i]\n",
      "Running evaluation: 60it [00:00, 198.37it/s]\n"
     ]
    },
    {
     "data": {
      "application/vnd.jupyter.widget-view+json": {
       "model_id": "",
       "version_major": 2,
       "version_minor": 0
      },
      "text/plain": [
       "VBox(children=(Label(value='0.003 MB of 0.003 MB uploaded\\r'), FloatProgress(value=1.0, max=1.0)))"
      ]
     },
     "metadata": {},
     "output_type": "display_data"
    },
    {
     "data": {
      "text/html": [
       "<style>\n",
       "    table.wandb td:nth-child(1) { padding: 0 10px; text-align: left ; width: auto;} td:nth-child(2) {text-align: left ; width: 100%}\n",
       "    .wandb-row { display: flex; flex-direction: row; flex-wrap: wrap; justify-content: flex-start; width: 100% }\n",
       "    .wandb-col { display: flex; flex-direction: column; flex-basis: 100%; flex: 1; padding: 10px; }\n",
       "    </style>\n",
       "<div class=\"wandb-row\"><div class=\"wandb-col\"><h3>Run history:</h3><br/><table class=\"wandb\"><tr><td>CPRS</td><td>▁</td></tr><tr><td>train_loss</td><td>▇▅██▆█▇▅█▃▆█▇███▇▆▆▅▁▇▄▄▅▅▄▄▄▃▂▆▅▃▄█▄▄▅▃</td></tr></table><br/></div><div class=\"wandb-col\"><h3>Run summary:</h3><br/><table class=\"wandb\"><tr><td>CPRS</td><td>0.00042</td></tr><tr><td>train_loss</td><td>-0.23449</td></tr></table><br/></div></div>"
      ],
      "text/plain": [
       "<IPython.core.display.HTML object>"
      ]
     },
     "metadata": {},
     "output_type": "display_data"
    },
    {
     "data": {
      "text/html": [
       " View run <strong style=\"color:#cdcd00\">laced-sweep-7</strong> at: <a href='https://wandb.ai/junboma/lag_llama_04_07/runs/u1ih0uny' target=\"_blank\">https://wandb.ai/junboma/lag_llama_04_07/runs/u1ih0uny</a><br/> View project at: <a href='https://wandb.ai/junboma/lag_llama_04_07' target=\"_blank\">https://wandb.ai/junboma/lag_llama_04_07</a><br/>Synced 6 W&B file(s), 0 media file(s), 0 artifact file(s) and 0 other file(s)"
      ],
      "text/plain": [
       "<IPython.core.display.HTML object>"
      ]
     },
     "metadata": {},
     "output_type": "display_data"
    },
    {
     "data": {
      "text/html": [
       "Find logs at: <code>./wandb/run-20240704_150924-u1ih0uny/logs</code>"
      ],
      "text/plain": [
       "<IPython.core.display.HTML object>"
      ]
     },
     "metadata": {},
     "output_type": "display_data"
    },
    {
     "name": "stderr",
     "output_type": "stream",
     "text": [
      "\u001b[34m\u001b[1mwandb\u001b[0m: Agent Starting Run: 4jpopdn0 with config:\n",
      "\u001b[34m\u001b[1mwandb\u001b[0m: \tbatch_size: 2\n",
      "\u001b[34m\u001b[1mwandb\u001b[0m: \tcontext_length: 64\n",
      "\u001b[34m\u001b[1mwandb\u001b[0m: \tlr: 0.0001\n"
     ]
    },
    {
     "data": {
      "text/html": [
       "wandb version 0.17.4 is available!  To upgrade, please run:\n",
       " $ pip install wandb --upgrade"
      ],
      "text/plain": [
       "<IPython.core.display.HTML object>"
      ]
     },
     "metadata": {},
     "output_type": "display_data"
    },
    {
     "data": {
      "text/html": [
       "Tracking run with wandb version 0.17.1"
      ],
      "text/plain": [
       "<IPython.core.display.HTML object>"
      ]
     },
     "metadata": {},
     "output_type": "display_data"
    },
    {
     "data": {
      "text/html": [
       "Run data is saved locally in <code>/home/eragroup/Documents/Documents/Koutas_Master_Thesis_Supervision/Junbo_Leng/lag_llama_model/lag-llama-main/wandb/run-20240704_151715-4jpopdn0</code>"
      ],
      "text/plain": [
       "<IPython.core.display.HTML object>"
      ]
     },
     "metadata": {},
     "output_type": "display_data"
    },
    {
     "data": {
      "text/html": [
       "Syncing run <strong><a href='https://wandb.ai/junboma/lag_llama_04_07/runs/4jpopdn0' target=\"_blank\">dazzling-sweep-8</a></strong> to <a href='https://wandb.ai/junboma/lag_llama_04_07' target=\"_blank\">Weights & Biases</a> (<a href='https://wandb.me/run' target=\"_blank\">docs</a>)<br/>Sweep page: <a href='https://wandb.ai/junboma/lag_llama_04_07/sweeps/8bk4uije' target=\"_blank\">https://wandb.ai/junboma/lag_llama_04_07/sweeps/8bk4uije</a>"
      ],
      "text/plain": [
       "<IPython.core.display.HTML object>"
      ]
     },
     "metadata": {},
     "output_type": "display_data"
    },
    {
     "data": {
      "text/html": [
       " View project at <a href='https://wandb.ai/junboma/lag_llama_04_07' target=\"_blank\">https://wandb.ai/junboma/lag_llama_04_07</a>"
      ],
      "text/plain": [
       "<IPython.core.display.HTML object>"
      ]
     },
     "metadata": {},
     "output_type": "display_data"
    },
    {
     "data": {
      "text/html": [
       " View sweep at <a href='https://wandb.ai/junboma/lag_llama_04_07/sweeps/8bk4uije' target=\"_blank\">https://wandb.ai/junboma/lag_llama_04_07/sweeps/8bk4uije</a>"
      ],
      "text/plain": [
       "<IPython.core.display.HTML object>"
      ]
     },
     "metadata": {},
     "output_type": "display_data"
    },
    {
     "data": {
      "text/html": [
       " View run at <a href='https://wandb.ai/junboma/lag_llama_04_07/runs/4jpopdn0' target=\"_blank\">https://wandb.ai/junboma/lag_llama_04_07/runs/4jpopdn0</a>"
      ],
      "text/plain": [
       "<IPython.core.display.HTML object>"
      ]
     },
     "metadata": {},
     "output_type": "display_data"
    },
    {
     "name": "stderr",
     "output_type": "stream",
     "text": [
      "\u001b[34m\u001b[1mwandb\u001b[0m: \u001b[33mWARNING\u001b[0m Ignored wandb.init() arg project when running a sweep.\n"
     ]
    },
    {
     "data": {
      "text/html": [
       "Finishing last run (ID:4jpopdn0) before initializing another..."
      ],
      "text/plain": [
       "<IPython.core.display.HTML object>"
      ]
     },
     "metadata": {},
     "output_type": "display_data"
    },
    {
     "data": {
      "application/vnd.jupyter.widget-view+json": {
       "model_id": "",
       "version_major": 2,
       "version_minor": 0
      },
      "text/plain": [
       "VBox(children=(Label(value='0.003 MB of 0.003 MB uploaded\\r'), FloatProgress(value=1.0, max=1.0)))"
      ]
     },
     "metadata": {},
     "output_type": "display_data"
    },
    {
     "data": {
      "text/html": [
       " View run <strong style=\"color:#cdcd00\">dazzling-sweep-8</strong> at: <a href='https://wandb.ai/junboma/lag_llama_04_07/runs/4jpopdn0' target=\"_blank\">https://wandb.ai/junboma/lag_llama_04_07/runs/4jpopdn0</a><br/> View project at: <a href='https://wandb.ai/junboma/lag_llama_04_07' target=\"_blank\">https://wandb.ai/junboma/lag_llama_04_07</a><br/>Synced 6 W&B file(s), 0 media file(s), 0 artifact file(s) and 0 other file(s)"
      ],
      "text/plain": [
       "<IPython.core.display.HTML object>"
      ]
     },
     "metadata": {},
     "output_type": "display_data"
    },
    {
     "data": {
      "text/html": [
       "Find logs at: <code>./wandb/run-20240704_151715-4jpopdn0/logs</code>"
      ],
      "text/plain": [
       "<IPython.core.display.HTML object>"
      ]
     },
     "metadata": {},
     "output_type": "display_data"
    },
    {
     "data": {
      "text/html": [
       "Successfully finished last run (ID:4jpopdn0). Initializing new run:<br/>"
      ],
      "text/plain": [
       "<IPython.core.display.HTML object>"
      ]
     },
     "metadata": {},
     "output_type": "display_data"
    },
    {
     "data": {
      "application/vnd.jupyter.widget-view+json": {
       "model_id": "9f85c02ed99b4369a27b026525199b35",
       "version_major": 2,
       "version_minor": 0
      },
      "text/plain": [
       "VBox(children=(Label(value='Waiting for wandb.init()...\\r'), FloatProgress(value=0.011112518360217412, max=1.0…"
      ]
     },
     "metadata": {},
     "output_type": "display_data"
    },
    {
     "data": {
      "text/html": [
       "wandb version 0.17.4 is available!  To upgrade, please run:\n",
       " $ pip install wandb --upgrade"
      ],
      "text/plain": [
       "<IPython.core.display.HTML object>"
      ]
     },
     "metadata": {},
     "output_type": "display_data"
    },
    {
     "data": {
      "text/html": [
       "Tracking run with wandb version 0.17.1"
      ],
      "text/plain": [
       "<IPython.core.display.HTML object>"
      ]
     },
     "metadata": {},
     "output_type": "display_data"
    },
    {
     "data": {
      "text/html": [
       "Run data is saved locally in <code>/home/eragroup/Documents/Documents/Koutas_Master_Thesis_Supervision/Junbo_Leng/lag_llama_model/lag-llama-main/wandb/run-20240704_151726-4jpopdn0</code>"
      ],
      "text/plain": [
       "<IPython.core.display.HTML object>"
      ]
     },
     "metadata": {},
     "output_type": "display_data"
    },
    {
     "data": {
      "text/html": [
       "Syncing run <strong><a href='https://wandb.ai/junboma/lag_llama_04_07/runs/4jpopdn0' target=\"_blank\">dazzling-sweep-8</a></strong> to <a href='https://wandb.ai/junboma/lag_llama_04_07' target=\"_blank\">Weights & Biases</a> (<a href='https://wandb.me/run' target=\"_blank\">docs</a>)<br/>Sweep page: <a href='https://wandb.ai/junboma/lag_llama_04_07/sweeps/8bk4uije' target=\"_blank\">https://wandb.ai/junboma/lag_llama_04_07/sweeps/8bk4uije</a>"
      ],
      "text/plain": [
       "<IPython.core.display.HTML object>"
      ]
     },
     "metadata": {},
     "output_type": "display_data"
    },
    {
     "data": {
      "text/html": [
       " View project at <a href='https://wandb.ai/junboma/lag_llama_04_07' target=\"_blank\">https://wandb.ai/junboma/lag_llama_04_07</a>"
      ],
      "text/plain": [
       "<IPython.core.display.HTML object>"
      ]
     },
     "metadata": {},
     "output_type": "display_data"
    },
    {
     "data": {
      "text/html": [
       " View sweep at <a href='https://wandb.ai/junboma/lag_llama_04_07/sweeps/8bk4uije' target=\"_blank\">https://wandb.ai/junboma/lag_llama_04_07/sweeps/8bk4uije</a>"
      ],
      "text/plain": [
       "<IPython.core.display.HTML object>"
      ]
     },
     "metadata": {},
     "output_type": "display_data"
    },
    {
     "data": {
      "text/html": [
       " View run at <a href='https://wandb.ai/junboma/lag_llama_04_07/runs/4jpopdn0' target=\"_blank\">https://wandb.ai/junboma/lag_llama_04_07/runs/4jpopdn0</a>"
      ],
      "text/plain": [
       "<IPython.core.display.HTML object>"
      ]
     },
     "metadata": {},
     "output_type": "display_data"
    },
    {
     "name": "stderr",
     "output_type": "stream",
     "text": [
      "GPU available: True (cuda), used: True\n",
      "TPU available: False, using: 0 TPU cores\n",
      "IPU available: False, using: 0 IPUs\n",
      "HPU available: False, using: 0 HPUs\n",
      "/home/eragroup/anaconda3/envs/lag_llama/lib/python3.12/site-packages/lightning/pytorch/trainer/configuration_validator.py:74: You defined a `validation_step` but have no `val_dataloader`. Skipping val loop.\n",
      "LOCAL_RANK: 0 - CUDA_VISIBLE_DEVICES: [0]\n",
      "\n",
      "  | Name          | Type               | Params\n",
      "-----------------------------------------------------\n",
      "0 | model         | LagLlamaModel      | 2.4 M \n",
      "1 | augmentations | ApplyAugmentations | 0     \n",
      "-----------------------------------------------------\n",
      "2.4 M     Trainable params\n",
      "0         Non-trainable params\n",
      "2.4 M     Total params\n",
      "9.797     Total estimated model params size (MB)\n"
     ]
    },
    {
     "data": {
      "application/vnd.jupyter.widget-view+json": {
       "model_id": "48797a7f45184afb8bfddc9e3c9d2c09",
       "version_major": 2,
       "version_minor": 0
      },
      "text/plain": [
       "Training: |                                               | 0/? [00:00<?, ?it/s]"
      ]
     },
     "metadata": {},
     "output_type": "display_data"
    },
    {
     "name": "stderr",
     "output_type": "stream",
     "text": [
      "Epoch 0, global step 50: 'train_loss' reached 0.45431 (best 0.45431), saving model to '/home/eragroup/Documents/Documents/Koutas_Master_Thesis_Supervision/Junbo_Leng/lag_llama_model/lag-llama-main/lightning_logs/version_35/checkpoints/epoch=0-step=50.ckpt' as top 1\n",
      "Epoch 1, global step 100: 'train_loss' reached 0.43305 (best 0.43305), saving model to '/home/eragroup/Documents/Documents/Koutas_Master_Thesis_Supervision/Junbo_Leng/lag_llama_model/lag-llama-main/lightning_logs/version_35/checkpoints/epoch=1-step=100.ckpt' as top 1\n",
      "Epoch 2, global step 150: 'train_loss' reached 0.39602 (best 0.39602), saving model to '/home/eragroup/Documents/Documents/Koutas_Master_Thesis_Supervision/Junbo_Leng/lag_llama_model/lag-llama-main/lightning_logs/version_35/checkpoints/epoch=2-step=150.ckpt' as top 1\n",
      "Epoch 3, global step 200: 'train_loss' reached 0.38190 (best 0.38190), saving model to '/home/eragroup/Documents/Documents/Koutas_Master_Thesis_Supervision/Junbo_Leng/lag_llama_model/lag-llama-main/lightning_logs/version_35/checkpoints/epoch=3-step=200.ckpt' as top 1\n",
      "Epoch 4, global step 250: 'train_loss' reached 0.34460 (best 0.34460), saving model to '/home/eragroup/Documents/Documents/Koutas_Master_Thesis_Supervision/Junbo_Leng/lag_llama_model/lag-llama-main/lightning_logs/version_35/checkpoints/epoch=4-step=250.ckpt' as top 1\n",
      "Epoch 5, global step 300: 'train_loss' was not in top 1\n",
      "Epoch 6, global step 350: 'train_loss' was not in top 1\n",
      "Epoch 7, global step 400: 'train_loss' reached 0.29221 (best 0.29221), saving model to '/home/eragroup/Documents/Documents/Koutas_Master_Thesis_Supervision/Junbo_Leng/lag_llama_model/lag-llama-main/lightning_logs/version_35/checkpoints/epoch=7-step=400.ckpt' as top 1\n",
      "Epoch 8, global step 450: 'train_loss' was not in top 1\n",
      "Epoch 9, global step 500: 'train_loss' was not in top 1\n",
      "Epoch 10, global step 550: 'train_loss' was not in top 1\n",
      "Epoch 11, global step 600: 'train_loss' reached 0.23880 (best 0.23880), saving model to '/home/eragroup/Documents/Documents/Koutas_Master_Thesis_Supervision/Junbo_Leng/lag_llama_model/lag-llama-main/lightning_logs/version_35/checkpoints/epoch=11-step=600.ckpt' as top 1\n",
      "Epoch 12, global step 650: 'train_loss' was not in top 1\n",
      "Epoch 13, global step 700: 'train_loss' was not in top 1\n",
      "Epoch 14, global step 750: 'train_loss' was not in top 1\n",
      "Epoch 15, global step 800: 'train_loss' was not in top 1\n",
      "Epoch 16, global step 850: 'train_loss' was not in top 1\n",
      "Epoch 17, global step 900: 'train_loss' was not in top 1\n",
      "Epoch 18, global step 950: 'train_loss' was not in top 1\n",
      "Epoch 19, global step 1000: 'train_loss' was not in top 1\n",
      "Epoch 20, global step 1050: 'train_loss' was not in top 1\n",
      "Epoch 21, global step 1100: 'train_loss' was not in top 1\n",
      "Epoch 22, global step 1150: 'train_loss' was not in top 1\n",
      "Epoch 23, global step 1200: 'train_loss' was not in top 1\n",
      "Epoch 24, global step 1250: 'train_loss' was not in top 1\n",
      "Epoch 25, global step 1300: 'train_loss' was not in top 1\n",
      "Epoch 26, global step 1350: 'train_loss' was not in top 1\n",
      "Epoch 27, global step 1400: 'train_loss' was not in top 1\n",
      "Epoch 28, global step 1450: 'train_loss' was not in top 1\n",
      "Epoch 29, global step 1500: 'train_loss' was not in top 1\n",
      "Epoch 30, global step 1550: 'train_loss' was not in top 1\n",
      "Epoch 31, global step 1600: 'train_loss' was not in top 1\n",
      "Epoch 32, global step 1650: 'train_loss' reached 0.17120 (best 0.17120), saving model to '/home/eragroup/Documents/Documents/Koutas_Master_Thesis_Supervision/Junbo_Leng/lag_llama_model/lag-llama-main/lightning_logs/version_35/checkpoints/epoch=32-step=1650.ckpt' as top 1\n",
      "Epoch 33, global step 1700: 'train_loss' was not in top 1\n",
      "Epoch 34, global step 1750: 'train_loss' was not in top 1\n",
      "Epoch 35, global step 1800: 'train_loss' was not in top 1\n",
      "Epoch 36, global step 1850: 'train_loss' was not in top 1\n",
      "Epoch 37, global step 1900: 'train_loss' was not in top 1\n",
      "Epoch 38, global step 1950: 'train_loss' was not in top 1\n",
      "Epoch 39, global step 2000: 'train_loss' was not in top 1\n",
      "Epoch 40, global step 2050: 'train_loss' reached 0.16730 (best 0.16730), saving model to '/home/eragroup/Documents/Documents/Koutas_Master_Thesis_Supervision/Junbo_Leng/lag_llama_model/lag-llama-main/lightning_logs/version_35/checkpoints/epoch=40-step=2050.ckpt' as top 1\n",
      "Epoch 41, global step 2100: 'train_loss' was not in top 1\n",
      "Epoch 42, global step 2150: 'train_loss' reached 0.14278 (best 0.14278), saving model to '/home/eragroup/Documents/Documents/Koutas_Master_Thesis_Supervision/Junbo_Leng/lag_llama_model/lag-llama-main/lightning_logs/version_35/checkpoints/epoch=42-step=2150.ckpt' as top 1\n",
      "Epoch 43, global step 2200: 'train_loss' reached 0.13598 (best 0.13598), saving model to '/home/eragroup/Documents/Documents/Koutas_Master_Thesis_Supervision/Junbo_Leng/lag_llama_model/lag-llama-main/lightning_logs/version_35/checkpoints/epoch=43-step=2200.ckpt' as top 1\n",
      "Epoch 44, global step 2250: 'train_loss' was not in top 1\n",
      "Epoch 45, global step 2300: 'train_loss' was not in top 1\n",
      "Epoch 46, global step 2350: 'train_loss' reached 0.13070 (best 0.13070), saving model to '/home/eragroup/Documents/Documents/Koutas_Master_Thesis_Supervision/Junbo_Leng/lag_llama_model/lag-llama-main/lightning_logs/version_35/checkpoints/epoch=46-step=2350.ckpt' as top 1\n",
      "Epoch 47, global step 2400: 'train_loss' reached 0.09404 (best 0.09404), saving model to '/home/eragroup/Documents/Documents/Koutas_Master_Thesis_Supervision/Junbo_Leng/lag_llama_model/lag-llama-main/lightning_logs/version_35/checkpoints/epoch=47-step=2400.ckpt' as top 1\n",
      "Epoch 48, global step 2450: 'train_loss' reached 0.05012 (best 0.05012), saving model to '/home/eragroup/Documents/Documents/Koutas_Master_Thesis_Supervision/Junbo_Leng/lag_llama_model/lag-llama-main/lightning_logs/version_35/checkpoints/epoch=48-step=2450.ckpt' as top 1\n",
      "Epoch 49, global step 2500: 'train_loss' was not in top 1\n",
      "Epoch 50, global step 2550: 'train_loss' was not in top 1\n",
      "Epoch 51, global step 2600: 'train_loss' reached 0.01357 (best 0.01357), saving model to '/home/eragroup/Documents/Documents/Koutas_Master_Thesis_Supervision/Junbo_Leng/lag_llama_model/lag-llama-main/lightning_logs/version_35/checkpoints/epoch=51-step=2600.ckpt' as top 1\n",
      "Epoch 52, global step 2650: 'train_loss' reached -0.00382 (best -0.00382), saving model to '/home/eragroup/Documents/Documents/Koutas_Master_Thesis_Supervision/Junbo_Leng/lag_llama_model/lag-llama-main/lightning_logs/version_35/checkpoints/epoch=52-step=2650.ckpt' as top 1\n",
      "Epoch 53, global step 2700: 'train_loss' was not in top 1\n",
      "Epoch 54, global step 2750: 'train_loss' was not in top 1\n",
      "Epoch 55, global step 2800: 'train_loss' was not in top 1\n",
      "Epoch 56, global step 2850: 'train_loss' was not in top 1\n",
      "Epoch 57, global step 2900: 'train_loss' was not in top 1\n",
      "Epoch 58, global step 2950: 'train_loss' reached -0.03173 (best -0.03173), saving model to '/home/eragroup/Documents/Documents/Koutas_Master_Thesis_Supervision/Junbo_Leng/lag_llama_model/lag-llama-main/lightning_logs/version_35/checkpoints/epoch=58-step=2950.ckpt' as top 1\n",
      "Epoch 59, global step 3000: 'train_loss' was not in top 1\n",
      "Epoch 60, global step 3050: 'train_loss' reached -0.03572 (best -0.03572), saving model to '/home/eragroup/Documents/Documents/Koutas_Master_Thesis_Supervision/Junbo_Leng/lag_llama_model/lag-llama-main/lightning_logs/version_35/checkpoints/epoch=60-step=3050.ckpt' as top 1\n",
      "Epoch 61, global step 3100: 'train_loss' reached -0.06613 (best -0.06613), saving model to '/home/eragroup/Documents/Documents/Koutas_Master_Thesis_Supervision/Junbo_Leng/lag_llama_model/lag-llama-main/lightning_logs/version_35/checkpoints/epoch=61-step=3100.ckpt' as top 1\n",
      "Epoch 62, global step 3150: 'train_loss' was not in top 1\n",
      "Epoch 63, global step 3200: 'train_loss' was not in top 1\n",
      "Epoch 64, global step 3250: 'train_loss' was not in top 1\n",
      "Epoch 65, global step 3300: 'train_loss' reached -0.11647 (best -0.11647), saving model to '/home/eragroup/Documents/Documents/Koutas_Master_Thesis_Supervision/Junbo_Leng/lag_llama_model/lag-llama-main/lightning_logs/version_35/checkpoints/epoch=65-step=3300.ckpt' as top 1\n",
      "Epoch 66, global step 3350: 'train_loss' was not in top 1\n",
      "Epoch 67, global step 3400: 'train_loss' was not in top 1\n",
      "Epoch 68, global step 3450: 'train_loss' was not in top 1\n",
      "Epoch 69, global step 3500: 'train_loss' was not in top 1\n",
      "Epoch 70, global step 3550: 'train_loss' was not in top 1\n",
      "Epoch 71, global step 3600: 'train_loss' was not in top 1\n",
      "Epoch 72, global step 3650: 'train_loss' was not in top 1\n",
      "Epoch 73, global step 3700: 'train_loss' reached -0.17000 (best -0.17000), saving model to '/home/eragroup/Documents/Documents/Koutas_Master_Thesis_Supervision/Junbo_Leng/lag_llama_model/lag-llama-main/lightning_logs/version_35/checkpoints/epoch=73-step=3700.ckpt' as top 1\n",
      "Epoch 74, global step 3750: 'train_loss' was not in top 1\n",
      "Epoch 75, global step 3800: 'train_loss' was not in top 1\n",
      "Epoch 76, global step 3850: 'train_loss' was not in top 1\n",
      "Epoch 77, global step 3900: 'train_loss' was not in top 1\n",
      "Epoch 78, global step 3950: 'train_loss' was not in top 1\n",
      "Epoch 79, global step 4000: 'train_loss' was not in top 1\n",
      "Epoch 80, global step 4050: 'train_loss' reached -0.18007 (best -0.18007), saving model to '/home/eragroup/Documents/Documents/Koutas_Master_Thesis_Supervision/Junbo_Leng/lag_llama_model/lag-llama-main/lightning_logs/version_35/checkpoints/epoch=80-step=4050.ckpt' as top 1\n",
      "Epoch 81, global step 4100: 'train_loss' was not in top 1\n",
      "Epoch 82, global step 4150: 'train_loss' reached -0.21362 (best -0.21362), saving model to '/home/eragroup/Documents/Documents/Koutas_Master_Thesis_Supervision/Junbo_Leng/lag_llama_model/lag-llama-main/lightning_logs/version_35/checkpoints/epoch=82-step=4150.ckpt' as top 1\n",
      "Epoch 83, global step 4200: 'train_loss' reached -0.27421 (best -0.27421), saving model to '/home/eragroup/Documents/Documents/Koutas_Master_Thesis_Supervision/Junbo_Leng/lag_llama_model/lag-llama-main/lightning_logs/version_35/checkpoints/epoch=83-step=4200.ckpt' as top 1\n",
      "Epoch 84, global step 4250: 'train_loss' was not in top 1\n",
      "Epoch 85, global step 4300: 'train_loss' was not in top 1\n",
      "Epoch 86, global step 4350: 'train_loss' reached -0.30677 (best -0.30677), saving model to '/home/eragroup/Documents/Documents/Koutas_Master_Thesis_Supervision/Junbo_Leng/lag_llama_model/lag-llama-main/lightning_logs/version_35/checkpoints/epoch=86-step=4350.ckpt' as top 1\n",
      "Epoch 87, global step 4400: 'train_loss' was not in top 1\n",
      "Epoch 88, global step 4450: 'train_loss' was not in top 1\n",
      "Epoch 89, global step 4500: 'train_loss' was not in top 1\n",
      "Epoch 90, global step 4550: 'train_loss' reached -0.30865 (best -0.30865), saving model to '/home/eragroup/Documents/Documents/Koutas_Master_Thesis_Supervision/Junbo_Leng/lag_llama_model/lag-llama-main/lightning_logs/version_35/checkpoints/epoch=90-step=4550.ckpt' as top 1\n",
      "Epoch 91, global step 4600: 'train_loss' was not in top 1\n",
      "Epoch 92, global step 4650: 'train_loss' reached -0.35522 (best -0.35522), saving model to '/home/eragroup/Documents/Documents/Koutas_Master_Thesis_Supervision/Junbo_Leng/lag_llama_model/lag-llama-main/lightning_logs/version_35/checkpoints/epoch=92-step=4650.ckpt' as top 1\n",
      "Epoch 93, global step 4700: 'train_loss' was not in top 1\n",
      "Epoch 94, global step 4750: 'train_loss' reached -0.37874 (best -0.37874), saving model to '/home/eragroup/Documents/Documents/Koutas_Master_Thesis_Supervision/Junbo_Leng/lag_llama_model/lag-llama-main/lightning_logs/version_35/checkpoints/epoch=94-step=4750.ckpt' as top 1\n",
      "Epoch 95, global step 4800: 'train_loss' was not in top 1\n",
      "Epoch 96, global step 4850: 'train_loss' was not in top 1\n",
      "Epoch 97, global step 4900: 'train_loss' was not in top 1\n",
      "Epoch 98, global step 4950: 'train_loss' reached -0.40446 (best -0.40446), saving model to '/home/eragroup/Documents/Documents/Koutas_Master_Thesis_Supervision/Junbo_Leng/lag_llama_model/lag-llama-main/lightning_logs/version_35/checkpoints/epoch=98-step=4950.ckpt' as top 1\n",
      "Epoch 99, global step 5000: 'train_loss' was not in top 1\n",
      "`Trainer.fit` stopped: `max_epochs=100` reached.\n"
     ]
    },
    {
     "data": {
      "application/vnd.jupyter.widget-view+json": {
       "model_id": "abd788e1a07f4ae2a6b4280645c89518",
       "version_major": 2,
       "version_minor": 0
      },
      "text/plain": [
       "Forecasting batches:   0%|          | 0/60 [00:00<?, ?it/s]"
      ]
     },
     "metadata": {},
     "output_type": "display_data"
    },
    {
     "data": {
      "application/vnd.jupyter.widget-view+json": {
       "model_id": "659a3c88330347ec9873a3d3f9fa40a0",
       "version_major": 2,
       "version_minor": 0
      },
      "text/plain": [
       "Ground truth:   0%|          | 0/60 [00:00<?, ?it/s]"
      ]
     },
     "metadata": {},
     "output_type": "display_data"
    },
    {
     "name": "stderr",
     "output_type": "stream",
     "text": [
      "/tmp/ipykernel_18695/4101722395.py:14: FutureWarning: Series.__getitem__ treating keys as positions is deprecated. In a future version, integer keys will always be treated as labels (consistent with DataFrame behavior). To access a value by position, use `ser.iloc[pos]`\n",
      "  tss[i].values[:] = tss[i].values * test_df.std()[i] + test_df.mean()[i]\n",
      "/tmp/ipykernel_18695/4101722395.py:17: FutureWarning: Series.__getitem__ treating keys as positions is deprecated. In a future version, integer keys will always be treated as labels (consistent with DataFrame behavior). To access a value by position, use `ser.iloc[pos]`\n",
      "  std_value = test_df.std()[i]\n",
      "/tmp/ipykernel_18695/4101722395.py:18: FutureWarning: Series.__getitem__ treating keys as positions is deprecated. In a future version, integer keys will always be treated as labels (consistent with DataFrame behavior). To access a value by position, use `ser.iloc[pos]`\n",
      "  mean_value = test_df.mean()[i]\n",
      "Running evaluation: 60it [00:00, 260.69it/s]\n"
     ]
    },
    {
     "data": {
      "application/vnd.jupyter.widget-view+json": {
       "model_id": "",
       "version_major": 2,
       "version_minor": 0
      },
      "text/plain": [
       "VBox(children=(Label(value='0.003 MB of 0.003 MB uploaded\\r'), FloatProgress(value=1.0, max=1.0)))"
      ]
     },
     "metadata": {},
     "output_type": "display_data"
    },
    {
     "data": {
      "text/html": [
       "<style>\n",
       "    table.wandb td:nth-child(1) { padding: 0 10px; text-align: left ; width: auto;} td:nth-child(2) {text-align: left ; width: 100%}\n",
       "    .wandb-row { display: flex; flex-direction: row; flex-wrap: wrap; justify-content: flex-start; width: 100% }\n",
       "    .wandb-col { display: flex; flex-direction: column; flex-basis: 100%; flex: 1; padding: 10px; }\n",
       "    </style>\n",
       "<div class=\"wandb-row\"><div class=\"wandb-col\"><h3>Run history:</h3><br/><table class=\"wandb\"><tr><td>CPRS</td><td>▁</td></tr><tr><td>train_loss</td><td>▇█▄▂▄▇▂▅█▇▇▃▃▅▅▄▅▃▅▃▂▃▆▃▃▄▄▅▆▃▅▃▄▂▂▂▁▂▄▂</td></tr></table><br/></div><div class=\"wandb-col\"><h3>Run summary:</h3><br/><table class=\"wandb\"><tr><td>CPRS</td><td>0.00039</td></tr><tr><td>train_loss</td><td>-0.67933</td></tr></table><br/></div></div>"
      ],
      "text/plain": [
       "<IPython.core.display.HTML object>"
      ]
     },
     "metadata": {},
     "output_type": "display_data"
    },
    {
     "data": {
      "text/html": [
       " View run <strong style=\"color:#cdcd00\">dazzling-sweep-8</strong> at: <a href='https://wandb.ai/junboma/lag_llama_04_07/runs/4jpopdn0' target=\"_blank\">https://wandb.ai/junboma/lag_llama_04_07/runs/4jpopdn0</a><br/> View project at: <a href='https://wandb.ai/junboma/lag_llama_04_07' target=\"_blank\">https://wandb.ai/junboma/lag_llama_04_07</a><br/>Synced 6 W&B file(s), 0 media file(s), 0 artifact file(s) and 0 other file(s)"
      ],
      "text/plain": [
       "<IPython.core.display.HTML object>"
      ]
     },
     "metadata": {},
     "output_type": "display_data"
    },
    {
     "data": {
      "text/html": [
       "Find logs at: <code>./wandb/run-20240704_151726-4jpopdn0/logs</code>"
      ],
      "text/plain": [
       "<IPython.core.display.HTML object>"
      ]
     },
     "metadata": {},
     "output_type": "display_data"
    },
    {
     "name": "stderr",
     "output_type": "stream",
     "text": [
      "\u001b[34m\u001b[1mwandb\u001b[0m: Agent Starting Run: zu00ivxs with config:\n",
      "\u001b[34m\u001b[1mwandb\u001b[0m: \tbatch_size: 2\n",
      "\u001b[34m\u001b[1mwandb\u001b[0m: \tcontext_length: 96\n",
      "\u001b[34m\u001b[1mwandb\u001b[0m: \tlr: 0.0005\n"
     ]
    },
    {
     "data": {
      "text/html": [
       "wandb version 0.17.4 is available!  To upgrade, please run:\n",
       " $ pip install wandb --upgrade"
      ],
      "text/plain": [
       "<IPython.core.display.HTML object>"
      ]
     },
     "metadata": {},
     "output_type": "display_data"
    },
    {
     "data": {
      "text/html": [
       "Tracking run with wandb version 0.17.1"
      ],
      "text/plain": [
       "<IPython.core.display.HTML object>"
      ]
     },
     "metadata": {},
     "output_type": "display_data"
    },
    {
     "data": {
      "text/html": [
       "Run data is saved locally in <code>/home/eragroup/Documents/Documents/Koutas_Master_Thesis_Supervision/Junbo_Leng/lag_llama_model/lag-llama-main/wandb/run-20240704_152524-zu00ivxs</code>"
      ],
      "text/plain": [
       "<IPython.core.display.HTML object>"
      ]
     },
     "metadata": {},
     "output_type": "display_data"
    },
    {
     "data": {
      "text/html": [
       "Syncing run <strong><a href='https://wandb.ai/junboma/lag_llama_04_07/runs/zu00ivxs' target=\"_blank\">devoted-sweep-9</a></strong> to <a href='https://wandb.ai/junboma/lag_llama_04_07' target=\"_blank\">Weights & Biases</a> (<a href='https://wandb.me/run' target=\"_blank\">docs</a>)<br/>Sweep page: <a href='https://wandb.ai/junboma/lag_llama_04_07/sweeps/8bk4uije' target=\"_blank\">https://wandb.ai/junboma/lag_llama_04_07/sweeps/8bk4uije</a>"
      ],
      "text/plain": [
       "<IPython.core.display.HTML object>"
      ]
     },
     "metadata": {},
     "output_type": "display_data"
    },
    {
     "data": {
      "text/html": [
       " View project at <a href='https://wandb.ai/junboma/lag_llama_04_07' target=\"_blank\">https://wandb.ai/junboma/lag_llama_04_07</a>"
      ],
      "text/plain": [
       "<IPython.core.display.HTML object>"
      ]
     },
     "metadata": {},
     "output_type": "display_data"
    },
    {
     "data": {
      "text/html": [
       " View sweep at <a href='https://wandb.ai/junboma/lag_llama_04_07/sweeps/8bk4uije' target=\"_blank\">https://wandb.ai/junboma/lag_llama_04_07/sweeps/8bk4uije</a>"
      ],
      "text/plain": [
       "<IPython.core.display.HTML object>"
      ]
     },
     "metadata": {},
     "output_type": "display_data"
    },
    {
     "data": {
      "text/html": [
       " View run at <a href='https://wandb.ai/junboma/lag_llama_04_07/runs/zu00ivxs' target=\"_blank\">https://wandb.ai/junboma/lag_llama_04_07/runs/zu00ivxs</a>"
      ],
      "text/plain": [
       "<IPython.core.display.HTML object>"
      ]
     },
     "metadata": {},
     "output_type": "display_data"
    },
    {
     "name": "stderr",
     "output_type": "stream",
     "text": [
      "\u001b[34m\u001b[1mwandb\u001b[0m: \u001b[33mWARNING\u001b[0m Ignored wandb.init() arg project when running a sweep.\n"
     ]
    },
    {
     "data": {
      "text/html": [
       "Finishing last run (ID:zu00ivxs) before initializing another..."
      ],
      "text/plain": [
       "<IPython.core.display.HTML object>"
      ]
     },
     "metadata": {},
     "output_type": "display_data"
    },
    {
     "data": {
      "application/vnd.jupyter.widget-view+json": {
       "model_id": "",
       "version_major": 2,
       "version_minor": 0
      },
      "text/plain": [
       "VBox(children=(Label(value='0.003 MB of 0.003 MB uploaded\\r'), FloatProgress(value=1.0, max=1.0)))"
      ]
     },
     "metadata": {},
     "output_type": "display_data"
    },
    {
     "data": {
      "text/html": [
       " View run <strong style=\"color:#cdcd00\">devoted-sweep-9</strong> at: <a href='https://wandb.ai/junboma/lag_llama_04_07/runs/zu00ivxs' target=\"_blank\">https://wandb.ai/junboma/lag_llama_04_07/runs/zu00ivxs</a><br/> View project at: <a href='https://wandb.ai/junboma/lag_llama_04_07' target=\"_blank\">https://wandb.ai/junboma/lag_llama_04_07</a><br/>Synced 6 W&B file(s), 0 media file(s), 0 artifact file(s) and 0 other file(s)"
      ],
      "text/plain": [
       "<IPython.core.display.HTML object>"
      ]
     },
     "metadata": {},
     "output_type": "display_data"
    },
    {
     "data": {
      "text/html": [
       "Find logs at: <code>./wandb/run-20240704_152524-zu00ivxs/logs</code>"
      ],
      "text/plain": [
       "<IPython.core.display.HTML object>"
      ]
     },
     "metadata": {},
     "output_type": "display_data"
    },
    {
     "data": {
      "text/html": [
       "Successfully finished last run (ID:zu00ivxs). Initializing new run:<br/>"
      ],
      "text/plain": [
       "<IPython.core.display.HTML object>"
      ]
     },
     "metadata": {},
     "output_type": "display_data"
    },
    {
     "data": {
      "application/vnd.jupyter.widget-view+json": {
       "model_id": "8a59fd4863654597a53141af8dceee8b",
       "version_major": 2,
       "version_minor": 0
      },
      "text/plain": [
       "VBox(children=(Label(value='Waiting for wandb.init()...\\r'), FloatProgress(value=0.011112463691582282, max=1.0…"
      ]
     },
     "metadata": {},
     "output_type": "display_data"
    },
    {
     "data": {
      "text/html": [
       "wandb version 0.17.4 is available!  To upgrade, please run:\n",
       " $ pip install wandb --upgrade"
      ],
      "text/plain": [
       "<IPython.core.display.HTML object>"
      ]
     },
     "metadata": {},
     "output_type": "display_data"
    },
    {
     "data": {
      "text/html": [
       "Tracking run with wandb version 0.17.1"
      ],
      "text/plain": [
       "<IPython.core.display.HTML object>"
      ]
     },
     "metadata": {},
     "output_type": "display_data"
    },
    {
     "data": {
      "text/html": [
       "Run data is saved locally in <code>/home/eragroup/Documents/Documents/Koutas_Master_Thesis_Supervision/Junbo_Leng/lag_llama_model/lag-llama-main/wandb/run-20240704_152538-zu00ivxs</code>"
      ],
      "text/plain": [
       "<IPython.core.display.HTML object>"
      ]
     },
     "metadata": {},
     "output_type": "display_data"
    },
    {
     "data": {
      "text/html": [
       "Syncing run <strong><a href='https://wandb.ai/junboma/lag_llama_04_07/runs/zu00ivxs' target=\"_blank\">devoted-sweep-9</a></strong> to <a href='https://wandb.ai/junboma/lag_llama_04_07' target=\"_blank\">Weights & Biases</a> (<a href='https://wandb.me/run' target=\"_blank\">docs</a>)<br/>Sweep page: <a href='https://wandb.ai/junboma/lag_llama_04_07/sweeps/8bk4uije' target=\"_blank\">https://wandb.ai/junboma/lag_llama_04_07/sweeps/8bk4uije</a>"
      ],
      "text/plain": [
       "<IPython.core.display.HTML object>"
      ]
     },
     "metadata": {},
     "output_type": "display_data"
    },
    {
     "data": {
      "text/html": [
       " View project at <a href='https://wandb.ai/junboma/lag_llama_04_07' target=\"_blank\">https://wandb.ai/junboma/lag_llama_04_07</a>"
      ],
      "text/plain": [
       "<IPython.core.display.HTML object>"
      ]
     },
     "metadata": {},
     "output_type": "display_data"
    },
    {
     "data": {
      "text/html": [
       " View sweep at <a href='https://wandb.ai/junboma/lag_llama_04_07/sweeps/8bk4uije' target=\"_blank\">https://wandb.ai/junboma/lag_llama_04_07/sweeps/8bk4uije</a>"
      ],
      "text/plain": [
       "<IPython.core.display.HTML object>"
      ]
     },
     "metadata": {},
     "output_type": "display_data"
    },
    {
     "data": {
      "text/html": [
       " View run at <a href='https://wandb.ai/junboma/lag_llama_04_07/runs/zu00ivxs' target=\"_blank\">https://wandb.ai/junboma/lag_llama_04_07/runs/zu00ivxs</a>"
      ],
      "text/plain": [
       "<IPython.core.display.HTML object>"
      ]
     },
     "metadata": {},
     "output_type": "display_data"
    },
    {
     "name": "stderr",
     "output_type": "stream",
     "text": [
      "GPU available: True (cuda), used: True\n",
      "TPU available: False, using: 0 TPU cores\n",
      "IPU available: False, using: 0 IPUs\n",
      "HPU available: False, using: 0 HPUs\n",
      "/home/eragroup/anaconda3/envs/lag_llama/lib/python3.12/site-packages/lightning/pytorch/trainer/configuration_validator.py:74: You defined a `validation_step` but have no `val_dataloader`. Skipping val loop.\n",
      "LOCAL_RANK: 0 - CUDA_VISIBLE_DEVICES: [0]\n",
      "\n",
      "  | Name          | Type               | Params\n",
      "-----------------------------------------------------\n",
      "0 | model         | LagLlamaModel      | 2.4 M \n",
      "1 | augmentations | ApplyAugmentations | 0     \n",
      "-----------------------------------------------------\n",
      "2.4 M     Trainable params\n",
      "0         Non-trainable params\n",
      "2.4 M     Total params\n",
      "9.797     Total estimated model params size (MB)\n"
     ]
    },
    {
     "data": {
      "application/vnd.jupyter.widget-view+json": {
       "model_id": "13842fd574374b9dbf2f0fe5a0e11a83",
       "version_major": 2,
       "version_minor": 0
      },
      "text/plain": [
       "Training: |                                               | 0/? [00:00<?, ?it/s]"
      ]
     },
     "metadata": {},
     "output_type": "display_data"
    },
    {
     "name": "stderr",
     "output_type": "stream",
     "text": [
      "Epoch 0, global step 50: 'train_loss' reached 0.82486 (best 0.82486), saving model to '/home/eragroup/Documents/Documents/Koutas_Master_Thesis_Supervision/Junbo_Leng/lag_llama_model/lag-llama-main/lightning_logs/version_36/checkpoints/epoch=0-step=50.ckpt' as top 1\n",
      "Epoch 1, global step 100: 'train_loss' reached 0.48950 (best 0.48950), saving model to '/home/eragroup/Documents/Documents/Koutas_Master_Thesis_Supervision/Junbo_Leng/lag_llama_model/lag-llama-main/lightning_logs/version_36/checkpoints/epoch=1-step=100.ckpt' as top 1\n",
      "Epoch 2, global step 150: 'train_loss' reached 0.47932 (best 0.47932), saving model to '/home/eragroup/Documents/Documents/Koutas_Master_Thesis_Supervision/Junbo_Leng/lag_llama_model/lag-llama-main/lightning_logs/version_36/checkpoints/epoch=2-step=150.ckpt' as top 1\n",
      "Epoch 3, global step 200: 'train_loss' was not in top 1\n",
      "Epoch 4, global step 250: 'train_loss' reached 0.37876 (best 0.37876), saving model to '/home/eragroup/Documents/Documents/Koutas_Master_Thesis_Supervision/Junbo_Leng/lag_llama_model/lag-llama-main/lightning_logs/version_36/checkpoints/epoch=4-step=250.ckpt' as top 1\n",
      "Epoch 5, global step 300: 'train_loss' was not in top 1\n",
      "Epoch 6, global step 350: 'train_loss' reached 0.34533 (best 0.34533), saving model to '/home/eragroup/Documents/Documents/Koutas_Master_Thesis_Supervision/Junbo_Leng/lag_llama_model/lag-llama-main/lightning_logs/version_36/checkpoints/epoch=6-step=350.ckpt' as top 1\n",
      "Epoch 7, global step 400: 'train_loss' was not in top 1\n",
      "Epoch 8, global step 450: 'train_loss' was not in top 1\n",
      "Epoch 9, global step 500: 'train_loss' was not in top 1\n",
      "Epoch 10, global step 550: 'train_loss' was not in top 1\n",
      "Epoch 11, global step 600: 'train_loss' was not in top 1\n",
      "Epoch 12, global step 650: 'train_loss' was not in top 1\n",
      "Epoch 13, global step 700: 'train_loss' was not in top 1\n",
      "Epoch 14, global step 750: 'train_loss' was not in top 1\n",
      "Epoch 15, global step 800: 'train_loss' was not in top 1\n",
      "Epoch 16, global step 850: 'train_loss' was not in top 1\n",
      "Epoch 17, global step 900: 'train_loss' was not in top 1\n",
      "Epoch 18, global step 950: 'train_loss' reached 0.34116 (best 0.34116), saving model to '/home/eragroup/Documents/Documents/Koutas_Master_Thesis_Supervision/Junbo_Leng/lag_llama_model/lag-llama-main/lightning_logs/version_36/checkpoints/epoch=18-step=950.ckpt' as top 1\n",
      "Epoch 19, global step 1000: 'train_loss' was not in top 1\n",
      "Epoch 20, global step 1050: 'train_loss' was not in top 1\n",
      "Epoch 21, global step 1100: 'train_loss' was not in top 1\n",
      "Epoch 22, global step 1150: 'train_loss' was not in top 1\n",
      "Epoch 23, global step 1200: 'train_loss' was not in top 1\n",
      "Epoch 24, global step 1250: 'train_loss' reached 0.29614 (best 0.29614), saving model to '/home/eragroup/Documents/Documents/Koutas_Master_Thesis_Supervision/Junbo_Leng/lag_llama_model/lag-llama-main/lightning_logs/version_36/checkpoints/epoch=24-step=1250.ckpt' as top 1\n",
      "Epoch 25, global step 1300: 'train_loss' was not in top 1\n",
      "Epoch 26, global step 1350: 'train_loss' reached 0.27939 (best 0.27939), saving model to '/home/eragroup/Documents/Documents/Koutas_Master_Thesis_Supervision/Junbo_Leng/lag_llama_model/lag-llama-main/lightning_logs/version_36/checkpoints/epoch=26-step=1350.ckpt' as top 1\n",
      "Epoch 27, global step 1400: 'train_loss' was not in top 1\n",
      "Epoch 28, global step 1450: 'train_loss' was not in top 1\n",
      "Epoch 29, global step 1500: 'train_loss' was not in top 1\n",
      "Epoch 30, global step 1550: 'train_loss' was not in top 1\n",
      "Epoch 31, global step 1600: 'train_loss' was not in top 1\n",
      "Epoch 32, global step 1650: 'train_loss' was not in top 1\n",
      "Epoch 33, global step 1700: 'train_loss' was not in top 1\n",
      "Epoch 34, global step 1750: 'train_loss' was not in top 1\n",
      "Epoch 35, global step 1800: 'train_loss' was not in top 1\n",
      "Epoch 36, global step 1850: 'train_loss' was not in top 1\n",
      "Epoch 37, global step 1900: 'train_loss' was not in top 1\n",
      "Epoch 38, global step 1950: 'train_loss' reached 0.19199 (best 0.19199), saving model to '/home/eragroup/Documents/Documents/Koutas_Master_Thesis_Supervision/Junbo_Leng/lag_llama_model/lag-llama-main/lightning_logs/version_36/checkpoints/epoch=38-step=1950.ckpt' as top 1\n",
      "Epoch 39, global step 2000: 'train_loss' was not in top 1\n",
      "Epoch 40, global step 2050: 'train_loss' was not in top 1\n",
      "Epoch 41, global step 2100: 'train_loss' was not in top 1\n",
      "Epoch 42, global step 2150: 'train_loss' was not in top 1\n",
      "Epoch 43, global step 2200: 'train_loss' was not in top 1\n",
      "Epoch 44, global step 2250: 'train_loss' was not in top 1\n",
      "Epoch 45, global step 2300: 'train_loss' was not in top 1\n",
      "Epoch 46, global step 2350: 'train_loss' was not in top 1\n",
      "Epoch 47, global step 2400: 'train_loss' was not in top 1\n",
      "Epoch 48, global step 2450: 'train_loss' was not in top 1\n",
      "Epoch 49, global step 2500: 'train_loss' was not in top 1\n",
      "Epoch 50, global step 2550: 'train_loss' was not in top 1\n",
      "Epoch 51, global step 2600: 'train_loss' was not in top 1\n",
      "Epoch 52, global step 2650: 'train_loss' was not in top 1\n",
      "Epoch 53, global step 2700: 'train_loss' was not in top 1\n",
      "Epoch 54, global step 2750: 'train_loss' reached 0.14935 (best 0.14935), saving model to '/home/eragroup/Documents/Documents/Koutas_Master_Thesis_Supervision/Junbo_Leng/lag_llama_model/lag-llama-main/lightning_logs/version_36/checkpoints/epoch=54-step=2750.ckpt' as top 1\n",
      "Epoch 55, global step 2800: 'train_loss' was not in top 1\n",
      "Epoch 56, global step 2850: 'train_loss' was not in top 1\n",
      "Epoch 57, global step 2900: 'train_loss' was not in top 1\n",
      "Epoch 58, global step 2950: 'train_loss' was not in top 1\n",
      "Epoch 59, global step 3000: 'train_loss' was not in top 1\n",
      "Epoch 60, global step 3050: 'train_loss' was not in top 1\n",
      "Epoch 61, global step 3100: 'train_loss' was not in top 1\n",
      "Epoch 62, global step 3150: 'train_loss' was not in top 1\n",
      "Epoch 63, global step 3200: 'train_loss' reached 0.11523 (best 0.11523), saving model to '/home/eragroup/Documents/Documents/Koutas_Master_Thesis_Supervision/Junbo_Leng/lag_llama_model/lag-llama-main/lightning_logs/version_36/checkpoints/epoch=63-step=3200.ckpt' as top 1\n",
      "Epoch 64, global step 3250: 'train_loss' was not in top 1\n",
      "Epoch 65, global step 3300: 'train_loss' was not in top 1\n",
      "Epoch 66, global step 3350: 'train_loss' was not in top 1\n",
      "Epoch 67, global step 3400: 'train_loss' was not in top 1\n",
      "Epoch 68, global step 3450: 'train_loss' was not in top 1\n",
      "Epoch 69, global step 3500: 'train_loss' was not in top 1\n",
      "Epoch 70, global step 3550: 'train_loss' reached 0.05841 (best 0.05841), saving model to '/home/eragroup/Documents/Documents/Koutas_Master_Thesis_Supervision/Junbo_Leng/lag_llama_model/lag-llama-main/lightning_logs/version_36/checkpoints/epoch=70-step=3550.ckpt' as top 1\n",
      "Epoch 71, global step 3600: 'train_loss' reached 0.03660 (best 0.03660), saving model to '/home/eragroup/Documents/Documents/Koutas_Master_Thesis_Supervision/Junbo_Leng/lag_llama_model/lag-llama-main/lightning_logs/version_36/checkpoints/epoch=71-step=3600.ckpt' as top 1\n",
      "Epoch 72, global step 3650: 'train_loss' was not in top 1\n",
      "Epoch 73, global step 3700: 'train_loss' was not in top 1\n",
      "Epoch 74, global step 3750: 'train_loss' was not in top 1\n",
      "Epoch 75, global step 3800: 'train_loss' was not in top 1\n",
      "Epoch 76, global step 3850: 'train_loss' reached 0.03506 (best 0.03506), saving model to '/home/eragroup/Documents/Documents/Koutas_Master_Thesis_Supervision/Junbo_Leng/lag_llama_model/lag-llama-main/lightning_logs/version_36/checkpoints/epoch=76-step=3850.ckpt' as top 1\n",
      "Epoch 77, global step 3900: 'train_loss' reached 0.00851 (best 0.00851), saving model to '/home/eragroup/Documents/Documents/Koutas_Master_Thesis_Supervision/Junbo_Leng/lag_llama_model/lag-llama-main/lightning_logs/version_36/checkpoints/epoch=77-step=3900.ckpt' as top 1\n",
      "Epoch 78, global step 3950: 'train_loss' was not in top 1\n",
      "Epoch 79, global step 4000: 'train_loss' was not in top 1\n",
      "Epoch 80, global step 4050: 'train_loss' was not in top 1\n",
      "Epoch 81, global step 4100: 'train_loss' was not in top 1\n",
      "Epoch 82, global step 4150: 'train_loss' reached -0.01542 (best -0.01542), saving model to '/home/eragroup/Documents/Documents/Koutas_Master_Thesis_Supervision/Junbo_Leng/lag_llama_model/lag-llama-main/lightning_logs/version_36/checkpoints/epoch=82-step=4150.ckpt' as top 1\n",
      "Epoch 83, global step 4200: 'train_loss' reached -0.11974 (best -0.11974), saving model to '/home/eragroup/Documents/Documents/Koutas_Master_Thesis_Supervision/Junbo_Leng/lag_llama_model/lag-llama-main/lightning_logs/version_36/checkpoints/epoch=83-step=4200.ckpt' as top 1\n",
      "Epoch 84, global step 4250: 'train_loss' was not in top 1\n",
      "Epoch 85, global step 4300: 'train_loss' was not in top 1\n",
      "Epoch 86, global step 4350: 'train_loss' was not in top 1\n",
      "Epoch 87, global step 4400: 'train_loss' was not in top 1\n",
      "Epoch 88, global step 4450: 'train_loss' was not in top 1\n",
      "Epoch 89, global step 4500: 'train_loss' was not in top 1\n",
      "Epoch 90, global step 4550: 'train_loss' was not in top 1\n",
      "Epoch 91, global step 4600: 'train_loss' was not in top 1\n",
      "Epoch 92, global step 4650: 'train_loss' was not in top 1\n",
      "Epoch 93, global step 4700: 'train_loss' was not in top 1\n",
      "Epoch 94, global step 4750: 'train_loss' was not in top 1\n",
      "Epoch 95, global step 4800: 'train_loss' reached -0.18186 (best -0.18186), saving model to '/home/eragroup/Documents/Documents/Koutas_Master_Thesis_Supervision/Junbo_Leng/lag_llama_model/lag-llama-main/lightning_logs/version_36/checkpoints/epoch=95-step=4800.ckpt' as top 1\n",
      "Epoch 96, global step 4850: 'train_loss' was not in top 1\n",
      "Epoch 97, global step 4900: 'train_loss' was not in top 1\n",
      "Epoch 98, global step 4950: 'train_loss' reached -0.18479 (best -0.18479), saving model to '/home/eragroup/Documents/Documents/Koutas_Master_Thesis_Supervision/Junbo_Leng/lag_llama_model/lag-llama-main/lightning_logs/version_36/checkpoints/epoch=98-step=4950.ckpt' as top 1\n",
      "Epoch 99, global step 5000: 'train_loss' was not in top 1\n",
      "`Trainer.fit` stopped: `max_epochs=100` reached.\n"
     ]
    },
    {
     "data": {
      "application/vnd.jupyter.widget-view+json": {
       "model_id": "d193fb6d42e846d8885f8cef2d93f5e4",
       "version_major": 2,
       "version_minor": 0
      },
      "text/plain": [
       "Forecasting batches:   0%|          | 0/60 [00:00<?, ?it/s]"
      ]
     },
     "metadata": {},
     "output_type": "display_data"
    },
    {
     "data": {
      "application/vnd.jupyter.widget-view+json": {
       "model_id": "36fee1bf4181402f82cbc028b1c3f27b",
       "version_major": 2,
       "version_minor": 0
      },
      "text/plain": [
       "Ground truth:   0%|          | 0/60 [00:00<?, ?it/s]"
      ]
     },
     "metadata": {},
     "output_type": "display_data"
    },
    {
     "name": "stderr",
     "output_type": "stream",
     "text": [
      "/tmp/ipykernel_18695/4101722395.py:14: FutureWarning: Series.__getitem__ treating keys as positions is deprecated. In a future version, integer keys will always be treated as labels (consistent with DataFrame behavior). To access a value by position, use `ser.iloc[pos]`\n",
      "  tss[i].values[:] = tss[i].values * test_df.std()[i] + test_df.mean()[i]\n",
      "/tmp/ipykernel_18695/4101722395.py:17: FutureWarning: Series.__getitem__ treating keys as positions is deprecated. In a future version, integer keys will always be treated as labels (consistent with DataFrame behavior). To access a value by position, use `ser.iloc[pos]`\n",
      "  std_value = test_df.std()[i]\n",
      "/tmp/ipykernel_18695/4101722395.py:18: FutureWarning: Series.__getitem__ treating keys as positions is deprecated. In a future version, integer keys will always be treated as labels (consistent with DataFrame behavior). To access a value by position, use `ser.iloc[pos]`\n",
      "  mean_value = test_df.mean()[i]\n",
      "Running evaluation: 60it [00:00, 424.40it/s]\n"
     ]
    },
    {
     "data": {
      "application/vnd.jupyter.widget-view+json": {
       "model_id": "",
       "version_major": 2,
       "version_minor": 0
      },
      "text/plain": [
       "VBox(children=(Label(value='0.003 MB of 0.003 MB uploaded\\r'), FloatProgress(value=1.0, max=1.0)))"
      ]
     },
     "metadata": {},
     "output_type": "display_data"
    },
    {
     "data": {
      "text/html": [
       "<style>\n",
       "    table.wandb td:nth-child(1) { padding: 0 10px; text-align: left ; width: auto;} td:nth-child(2) {text-align: left ; width: 100%}\n",
       "    .wandb-row { display: flex; flex-direction: row; flex-wrap: wrap; justify-content: flex-start; width: 100% }\n",
       "    .wandb-col { display: flex; flex-direction: column; flex-basis: 100%; flex: 1; padding: 10px; }\n",
       "    </style>\n",
       "<div class=\"wandb-row\"><div class=\"wandb-col\"><h3>Run history:</h3><br/><table class=\"wandb\"><tr><td>CPRS</td><td>▁</td></tr><tr><td>train_loss</td><td>▄▂▂▅▆▆█▅▆▆▇▄▆▅▂▅▇▆▆▄▄▃▆▃▄▇▅▇▄▄▅▄▃▃▄▅▄▁▃▃</td></tr></table><br/></div><div class=\"wandb-col\"><h3>Run summary:</h3><br/><table class=\"wandb\"><tr><td>CPRS</td><td>0.00038</td></tr><tr><td>train_loss</td><td>-0.74512</td></tr></table><br/></div></div>"
      ],
      "text/plain": [
       "<IPython.core.display.HTML object>"
      ]
     },
     "metadata": {},
     "output_type": "display_data"
    },
    {
     "data": {
      "text/html": [
       " View run <strong style=\"color:#cdcd00\">devoted-sweep-9</strong> at: <a href='https://wandb.ai/junboma/lag_llama_04_07/runs/zu00ivxs' target=\"_blank\">https://wandb.ai/junboma/lag_llama_04_07/runs/zu00ivxs</a><br/> View project at: <a href='https://wandb.ai/junboma/lag_llama_04_07' target=\"_blank\">https://wandb.ai/junboma/lag_llama_04_07</a><br/>Synced 6 W&B file(s), 0 media file(s), 0 artifact file(s) and 0 other file(s)"
      ],
      "text/plain": [
       "<IPython.core.display.HTML object>"
      ]
     },
     "metadata": {},
     "output_type": "display_data"
    },
    {
     "data": {
      "text/html": [
       "Find logs at: <code>./wandb/run-20240704_152538-zu00ivxs/logs</code>"
      ],
      "text/plain": [
       "<IPython.core.display.HTML object>"
      ]
     },
     "metadata": {},
     "output_type": "display_data"
    },
    {
     "name": "stderr",
     "output_type": "stream",
     "text": [
      "\u001b[34m\u001b[1mwandb\u001b[0m: Agent Starting Run: w8sjezgv with config:\n",
      "\u001b[34m\u001b[1mwandb\u001b[0m: \tbatch_size: 2\n",
      "\u001b[34m\u001b[1mwandb\u001b[0m: \tcontext_length: 96\n",
      "\u001b[34m\u001b[1mwandb\u001b[0m: \tlr: 0.001\n"
     ]
    },
    {
     "data": {
      "text/html": [
       "wandb version 0.17.4 is available!  To upgrade, please run:\n",
       " $ pip install wandb --upgrade"
      ],
      "text/plain": [
       "<IPython.core.display.HTML object>"
      ]
     },
     "metadata": {},
     "output_type": "display_data"
    },
    {
     "data": {
      "text/html": [
       "Tracking run with wandb version 0.17.1"
      ],
      "text/plain": [
       "<IPython.core.display.HTML object>"
      ]
     },
     "metadata": {},
     "output_type": "display_data"
    },
    {
     "data": {
      "text/html": [
       "Run data is saved locally in <code>/home/eragroup/Documents/Documents/Koutas_Master_Thesis_Supervision/Junbo_Leng/lag_llama_model/lag-llama-main/wandb/run-20240704_153348-w8sjezgv</code>"
      ],
      "text/plain": [
       "<IPython.core.display.HTML object>"
      ]
     },
     "metadata": {},
     "output_type": "display_data"
    },
    {
     "data": {
      "text/html": [
       "Syncing run <strong><a href='https://wandb.ai/junboma/lag_llama_04_07/runs/w8sjezgv' target=\"_blank\">golden-sweep-10</a></strong> to <a href='https://wandb.ai/junboma/lag_llama_04_07' target=\"_blank\">Weights & Biases</a> (<a href='https://wandb.me/run' target=\"_blank\">docs</a>)<br/>Sweep page: <a href='https://wandb.ai/junboma/lag_llama_04_07/sweeps/8bk4uije' target=\"_blank\">https://wandb.ai/junboma/lag_llama_04_07/sweeps/8bk4uije</a>"
      ],
      "text/plain": [
       "<IPython.core.display.HTML object>"
      ]
     },
     "metadata": {},
     "output_type": "display_data"
    },
    {
     "data": {
      "text/html": [
       " View project at <a href='https://wandb.ai/junboma/lag_llama_04_07' target=\"_blank\">https://wandb.ai/junboma/lag_llama_04_07</a>"
      ],
      "text/plain": [
       "<IPython.core.display.HTML object>"
      ]
     },
     "metadata": {},
     "output_type": "display_data"
    },
    {
     "data": {
      "text/html": [
       " View sweep at <a href='https://wandb.ai/junboma/lag_llama_04_07/sweeps/8bk4uije' target=\"_blank\">https://wandb.ai/junboma/lag_llama_04_07/sweeps/8bk4uije</a>"
      ],
      "text/plain": [
       "<IPython.core.display.HTML object>"
      ]
     },
     "metadata": {},
     "output_type": "display_data"
    },
    {
     "data": {
      "text/html": [
       " View run at <a href='https://wandb.ai/junboma/lag_llama_04_07/runs/w8sjezgv' target=\"_blank\">https://wandb.ai/junboma/lag_llama_04_07/runs/w8sjezgv</a>"
      ],
      "text/plain": [
       "<IPython.core.display.HTML object>"
      ]
     },
     "metadata": {},
     "output_type": "display_data"
    },
    {
     "name": "stderr",
     "output_type": "stream",
     "text": [
      "\u001b[34m\u001b[1mwandb\u001b[0m: \u001b[33mWARNING\u001b[0m Ignored wandb.init() arg project when running a sweep.\n"
     ]
    },
    {
     "data": {
      "text/html": [
       "Finishing last run (ID:w8sjezgv) before initializing another..."
      ],
      "text/plain": [
       "<IPython.core.display.HTML object>"
      ]
     },
     "metadata": {},
     "output_type": "display_data"
    },
    {
     "data": {
      "application/vnd.jupyter.widget-view+json": {
       "model_id": "",
       "version_major": 2,
       "version_minor": 0
      },
      "text/plain": [
       "VBox(children=(Label(value='0.003 MB of 0.003 MB uploaded\\r'), FloatProgress(value=1.0, max=1.0)))"
      ]
     },
     "metadata": {},
     "output_type": "display_data"
    },
    {
     "data": {
      "text/html": [
       " View run <strong style=\"color:#cdcd00\">golden-sweep-10</strong> at: <a href='https://wandb.ai/junboma/lag_llama_04_07/runs/w8sjezgv' target=\"_blank\">https://wandb.ai/junboma/lag_llama_04_07/runs/w8sjezgv</a><br/> View project at: <a href='https://wandb.ai/junboma/lag_llama_04_07' target=\"_blank\">https://wandb.ai/junboma/lag_llama_04_07</a><br/>Synced 6 W&B file(s), 0 media file(s), 0 artifact file(s) and 0 other file(s)"
      ],
      "text/plain": [
       "<IPython.core.display.HTML object>"
      ]
     },
     "metadata": {},
     "output_type": "display_data"
    },
    {
     "data": {
      "text/html": [
       "Find logs at: <code>./wandb/run-20240704_153348-w8sjezgv/logs</code>"
      ],
      "text/plain": [
       "<IPython.core.display.HTML object>"
      ]
     },
     "metadata": {},
     "output_type": "display_data"
    },
    {
     "data": {
      "text/html": [
       "Successfully finished last run (ID:w8sjezgv). Initializing new run:<br/>"
      ],
      "text/plain": [
       "<IPython.core.display.HTML object>"
      ]
     },
     "metadata": {},
     "output_type": "display_data"
    },
    {
     "data": {
      "application/vnd.jupyter.widget-view+json": {
       "model_id": "5baa37e74b9e4b87a1747318358e03e8",
       "version_major": 2,
       "version_minor": 0
      },
      "text/plain": [
       "VBox(children=(Label(value='Waiting for wandb.init()...\\r'), FloatProgress(value=0.011112463205224937, max=1.0…"
      ]
     },
     "metadata": {},
     "output_type": "display_data"
    },
    {
     "data": {
      "text/html": [
       "wandb version 0.17.4 is available!  To upgrade, please run:\n",
       " $ pip install wandb --upgrade"
      ],
      "text/plain": [
       "<IPython.core.display.HTML object>"
      ]
     },
     "metadata": {},
     "output_type": "display_data"
    },
    {
     "data": {
      "text/html": [
       "Tracking run with wandb version 0.17.1"
      ],
      "text/plain": [
       "<IPython.core.display.HTML object>"
      ]
     },
     "metadata": {},
     "output_type": "display_data"
    },
    {
     "data": {
      "text/html": [
       "Run data is saved locally in <code>/home/eragroup/Documents/Documents/Koutas_Master_Thesis_Supervision/Junbo_Leng/lag_llama_model/lag-llama-main/wandb/run-20240704_153356-w8sjezgv</code>"
      ],
      "text/plain": [
       "<IPython.core.display.HTML object>"
      ]
     },
     "metadata": {},
     "output_type": "display_data"
    },
    {
     "data": {
      "text/html": [
       "Syncing run <strong><a href='https://wandb.ai/junboma/lag_llama_04_07/runs/w8sjezgv' target=\"_blank\">golden-sweep-10</a></strong> to <a href='https://wandb.ai/junboma/lag_llama_04_07' target=\"_blank\">Weights & Biases</a> (<a href='https://wandb.me/run' target=\"_blank\">docs</a>)<br/>Sweep page: <a href='https://wandb.ai/junboma/lag_llama_04_07/sweeps/8bk4uije' target=\"_blank\">https://wandb.ai/junboma/lag_llama_04_07/sweeps/8bk4uije</a>"
      ],
      "text/plain": [
       "<IPython.core.display.HTML object>"
      ]
     },
     "metadata": {},
     "output_type": "display_data"
    },
    {
     "data": {
      "text/html": [
       " View project at <a href='https://wandb.ai/junboma/lag_llama_04_07' target=\"_blank\">https://wandb.ai/junboma/lag_llama_04_07</a>"
      ],
      "text/plain": [
       "<IPython.core.display.HTML object>"
      ]
     },
     "metadata": {},
     "output_type": "display_data"
    },
    {
     "data": {
      "text/html": [
       " View sweep at <a href='https://wandb.ai/junboma/lag_llama_04_07/sweeps/8bk4uije' target=\"_blank\">https://wandb.ai/junboma/lag_llama_04_07/sweeps/8bk4uije</a>"
      ],
      "text/plain": [
       "<IPython.core.display.HTML object>"
      ]
     },
     "metadata": {},
     "output_type": "display_data"
    },
    {
     "data": {
      "text/html": [
       " View run at <a href='https://wandb.ai/junboma/lag_llama_04_07/runs/w8sjezgv' target=\"_blank\">https://wandb.ai/junboma/lag_llama_04_07/runs/w8sjezgv</a>"
      ],
      "text/plain": [
       "<IPython.core.display.HTML object>"
      ]
     },
     "metadata": {},
     "output_type": "display_data"
    },
    {
     "name": "stderr",
     "output_type": "stream",
     "text": [
      "GPU available: True (cuda), used: True\n",
      "TPU available: False, using: 0 TPU cores\n",
      "IPU available: False, using: 0 IPUs\n",
      "HPU available: False, using: 0 HPUs\n",
      "/home/eragroup/anaconda3/envs/lag_llama/lib/python3.12/site-packages/lightning/pytorch/trainer/configuration_validator.py:74: You defined a `validation_step` but have no `val_dataloader`. Skipping val loop.\n",
      "LOCAL_RANK: 0 - CUDA_VISIBLE_DEVICES: [0]\n",
      "\n",
      "  | Name          | Type               | Params\n",
      "-----------------------------------------------------\n",
      "0 | model         | LagLlamaModel      | 2.4 M \n",
      "1 | augmentations | ApplyAugmentations | 0     \n",
      "-----------------------------------------------------\n",
      "2.4 M     Trainable params\n",
      "0         Non-trainable params\n",
      "2.4 M     Total params\n",
      "9.797     Total estimated model params size (MB)\n"
     ]
    },
    {
     "data": {
      "application/vnd.jupyter.widget-view+json": {
       "model_id": "15011b2cf73549b1ac4f027afbfa5d2b",
       "version_major": 2,
       "version_minor": 0
      },
      "text/plain": [
       "Training: |                                               | 0/? [00:00<?, ?it/s]"
      ]
     },
     "metadata": {},
     "output_type": "display_data"
    },
    {
     "name": "stderr",
     "output_type": "stream",
     "text": [
      "Epoch 0, global step 50: 'train_loss' reached 0.81326 (best 0.81326), saving model to '/home/eragroup/Documents/Documents/Koutas_Master_Thesis_Supervision/Junbo_Leng/lag_llama_model/lag-llama-main/lightning_logs/version_37/checkpoints/epoch=0-step=50.ckpt' as top 1\n",
      "Epoch 1, global step 100: 'train_loss' reached 0.54981 (best 0.54981), saving model to '/home/eragroup/Documents/Documents/Koutas_Master_Thesis_Supervision/Junbo_Leng/lag_llama_model/lag-llama-main/lightning_logs/version_37/checkpoints/epoch=1-step=100.ckpt' as top 1\n",
      "Epoch 2, global step 150: 'train_loss' was not in top 1\n",
      "Epoch 3, global step 200: 'train_loss' was not in top 1\n",
      "Epoch 4, global step 250: 'train_loss' reached 0.50731 (best 0.50731), saving model to '/home/eragroup/Documents/Documents/Koutas_Master_Thesis_Supervision/Junbo_Leng/lag_llama_model/lag-llama-main/lightning_logs/version_37/checkpoints/epoch=4-step=250.ckpt' as top 1\n",
      "Epoch 5, global step 300: 'train_loss' reached 0.48523 (best 0.48523), saving model to '/home/eragroup/Documents/Documents/Koutas_Master_Thesis_Supervision/Junbo_Leng/lag_llama_model/lag-llama-main/lightning_logs/version_37/checkpoints/epoch=5-step=300.ckpt' as top 1\n",
      "Epoch 6, global step 350: 'train_loss' reached 0.37129 (best 0.37129), saving model to '/home/eragroup/Documents/Documents/Koutas_Master_Thesis_Supervision/Junbo_Leng/lag_llama_model/lag-llama-main/lightning_logs/version_37/checkpoints/epoch=6-step=350.ckpt' as top 1\n",
      "Epoch 7, global step 400: 'train_loss' was not in top 1\n",
      "Epoch 8, global step 450: 'train_loss' was not in top 1\n",
      "Epoch 9, global step 500: 'train_loss' was not in top 1\n",
      "Epoch 10, global step 550: 'train_loss' was not in top 1\n",
      "Epoch 11, global step 600: 'train_loss' was not in top 1\n",
      "Epoch 12, global step 650: 'train_loss' was not in top 1\n",
      "Epoch 13, global step 700: 'train_loss' was not in top 1\n",
      "Epoch 14, global step 750: 'train_loss' was not in top 1\n",
      "Epoch 15, global step 800: 'train_loss' was not in top 1\n",
      "Epoch 16, global step 850: 'train_loss' reached 0.32903 (best 0.32903), saving model to '/home/eragroup/Documents/Documents/Koutas_Master_Thesis_Supervision/Junbo_Leng/lag_llama_model/lag-llama-main/lightning_logs/version_37/checkpoints/epoch=16-step=850.ckpt' as top 1\n",
      "Epoch 17, global step 900: 'train_loss' was not in top 1\n",
      "Epoch 18, global step 950: 'train_loss' was not in top 1\n",
      "Epoch 19, global step 1000: 'train_loss' was not in top 1\n",
      "Epoch 20, global step 1050: 'train_loss' was not in top 1\n",
      "Epoch 21, global step 1100: 'train_loss' was not in top 1\n",
      "Epoch 22, global step 1150: 'train_loss' was not in top 1\n",
      "Epoch 23, global step 1200: 'train_loss' was not in top 1\n",
      "Epoch 24, global step 1250: 'train_loss' was not in top 1\n",
      "Epoch 25, global step 1300: 'train_loss' was not in top 1\n",
      "Epoch 26, global step 1350: 'train_loss' was not in top 1\n",
      "Epoch 27, global step 1400: 'train_loss' was not in top 1\n",
      "Epoch 28, global step 1450: 'train_loss' reached 0.25512 (best 0.25512), saving model to '/home/eragroup/Documents/Documents/Koutas_Master_Thesis_Supervision/Junbo_Leng/lag_llama_model/lag-llama-main/lightning_logs/version_37/checkpoints/epoch=28-step=1450.ckpt' as top 1\n",
      "Epoch 29, global step 1500: 'train_loss' was not in top 1\n",
      "Epoch 30, global step 1550: 'train_loss' was not in top 1\n",
      "Epoch 31, global step 1600: 'train_loss' was not in top 1\n",
      "Epoch 32, global step 1650: 'train_loss' was not in top 1\n",
      "Epoch 33, global step 1700: 'train_loss' was not in top 1\n",
      "Epoch 34, global step 1750: 'train_loss' was not in top 1\n",
      "Epoch 35, global step 1800: 'train_loss' was not in top 1\n",
      "Epoch 36, global step 1850: 'train_loss' was not in top 1\n",
      "Epoch 37, global step 1900: 'train_loss' was not in top 1\n",
      "Epoch 38, global step 1950: 'train_loss' was not in top 1\n",
      "Epoch 39, global step 2000: 'train_loss' was not in top 1\n",
      "Epoch 40, global step 2050: 'train_loss' was not in top 1\n",
      "Epoch 41, global step 2100: 'train_loss' was not in top 1\n",
      "Epoch 42, global step 2150: 'train_loss' was not in top 1\n",
      "Epoch 43, global step 2200: 'train_loss' was not in top 1\n",
      "Epoch 44, global step 2250: 'train_loss' was not in top 1\n",
      "Epoch 45, global step 2300: 'train_loss' was not in top 1\n",
      "Epoch 46, global step 2350: 'train_loss' was not in top 1\n",
      "Epoch 47, global step 2400: 'train_loss' was not in top 1\n",
      "Epoch 48, global step 2450: 'train_loss' was not in top 1\n",
      "Epoch 49, global step 2500: 'train_loss' was not in top 1\n",
      "Epoch 50, global step 2550: 'train_loss' was not in top 1\n",
      "Epoch 51, global step 2600: 'train_loss' was not in top 1\n",
      "Epoch 52, global step 2650: 'train_loss' was not in top 1\n",
      "Epoch 53, global step 2700: 'train_loss' was not in top 1\n",
      "Epoch 54, global step 2750: 'train_loss' was not in top 1\n",
      "Epoch 55, global step 2800: 'train_loss' was not in top 1\n",
      "Epoch 56, global step 2850: 'train_loss' was not in top 1\n",
      "Epoch 57, global step 2900: 'train_loss' was not in top 1\n",
      "Epoch 58, global step 2950: 'train_loss' was not in top 1\n",
      "Epoch 59, global step 3000: 'train_loss' was not in top 1\n",
      "Epoch 60, global step 3050: 'train_loss' was not in top 1\n",
      "Epoch 61, global step 3100: 'train_loss' was not in top 1\n",
      "Epoch 62, global step 3150: 'train_loss' was not in top 1\n",
      "Epoch 63, global step 3200: 'train_loss' was not in top 1\n",
      "Epoch 64, global step 3250: 'train_loss' was not in top 1\n",
      "Epoch 65, global step 3300: 'train_loss' was not in top 1\n",
      "Epoch 66, global step 3350: 'train_loss' was not in top 1\n",
      "Epoch 67, global step 3400: 'train_loss' was not in top 1\n",
      "Epoch 68, global step 3450: 'train_loss' was not in top 1\n",
      "Epoch 69, global step 3500: 'train_loss' was not in top 1\n",
      "Epoch 70, global step 3550: 'train_loss' was not in top 1\n",
      "Epoch 71, global step 3600: 'train_loss' was not in top 1\n",
      "Epoch 72, global step 3650: 'train_loss' was not in top 1\n",
      "Epoch 73, global step 3700: 'train_loss' reached 0.25087 (best 0.25087), saving model to '/home/eragroup/Documents/Documents/Koutas_Master_Thesis_Supervision/Junbo_Leng/lag_llama_model/lag-llama-main/lightning_logs/version_37/checkpoints/epoch=73-step=3700.ckpt' as top 1\n",
      "Epoch 74, global step 3750: 'train_loss' was not in top 1\n",
      "Epoch 75, global step 3800: 'train_loss' reached 0.23846 (best 0.23846), saving model to '/home/eragroup/Documents/Documents/Koutas_Master_Thesis_Supervision/Junbo_Leng/lag_llama_model/lag-llama-main/lightning_logs/version_37/checkpoints/epoch=75-step=3800.ckpt' as top 1\n",
      "Epoch 76, global step 3850: 'train_loss' was not in top 1\n",
      "Epoch 77, global step 3900: 'train_loss' was not in top 1\n",
      "Epoch 78, global step 3950: 'train_loss' was not in top 1\n",
      "Epoch 79, global step 4000: 'train_loss' was not in top 1\n",
      "Epoch 80, global step 4050: 'train_loss' was not in top 1\n",
      "Epoch 81, global step 4100: 'train_loss' was not in top 1\n",
      "Epoch 82, global step 4150: 'train_loss' was not in top 1\n",
      "Epoch 83, global step 4200: 'train_loss' reached 0.17690 (best 0.17690), saving model to '/home/eragroup/Documents/Documents/Koutas_Master_Thesis_Supervision/Junbo_Leng/lag_llama_model/lag-llama-main/lightning_logs/version_37/checkpoints/epoch=83-step=4200.ckpt' as top 1\n",
      "Epoch 84, global step 4250: 'train_loss' was not in top 1\n",
      "Epoch 85, global step 4300: 'train_loss' was not in top 1\n",
      "Epoch 86, global step 4350: 'train_loss' was not in top 1\n",
      "Epoch 87, global step 4400: 'train_loss' was not in top 1\n",
      "Epoch 88, global step 4450: 'train_loss' was not in top 1\n",
      "Epoch 89, global step 4500: 'train_loss' was not in top 1\n",
      "Epoch 90, global step 4550: 'train_loss' was not in top 1\n",
      "Epoch 91, global step 4600: 'train_loss' was not in top 1\n",
      "Epoch 92, global step 4650: 'train_loss' was not in top 1\n",
      "Epoch 93, global step 4700: 'train_loss' was not in top 1\n",
      "Epoch 94, global step 4750: 'train_loss' was not in top 1\n",
      "Epoch 95, global step 4800: 'train_loss' was not in top 1\n",
      "Epoch 96, global step 4850: 'train_loss' was not in top 1\n",
      "Epoch 97, global step 4900: 'train_loss' was not in top 1\n",
      "Epoch 98, global step 4950: 'train_loss' was not in top 1\n",
      "Epoch 99, global step 5000: 'train_loss' was not in top 1\n",
      "`Trainer.fit` stopped: `max_epochs=100` reached.\n"
     ]
    },
    {
     "data": {
      "application/vnd.jupyter.widget-view+json": {
       "model_id": "c056720653f84e7489f07c66cb6051b2",
       "version_major": 2,
       "version_minor": 0
      },
      "text/plain": [
       "Forecasting batches:   0%|          | 0/60 [00:00<?, ?it/s]"
      ]
     },
     "metadata": {},
     "output_type": "display_data"
    },
    {
     "data": {
      "application/vnd.jupyter.widget-view+json": {
       "model_id": "f049e7dfcc4d4e3d954782915b1ef37a",
       "version_major": 2,
       "version_minor": 0
      },
      "text/plain": [
       "Ground truth:   0%|          | 0/60 [00:00<?, ?it/s]"
      ]
     },
     "metadata": {},
     "output_type": "display_data"
    },
    {
     "name": "stderr",
     "output_type": "stream",
     "text": [
      "/tmp/ipykernel_18695/4101722395.py:14: FutureWarning: Series.__getitem__ treating keys as positions is deprecated. In a future version, integer keys will always be treated as labels (consistent with DataFrame behavior). To access a value by position, use `ser.iloc[pos]`\n",
      "  tss[i].values[:] = tss[i].values * test_df.std()[i] + test_df.mean()[i]\n",
      "/tmp/ipykernel_18695/4101722395.py:17: FutureWarning: Series.__getitem__ treating keys as positions is deprecated. In a future version, integer keys will always be treated as labels (consistent with DataFrame behavior). To access a value by position, use `ser.iloc[pos]`\n",
      "  std_value = test_df.std()[i]\n",
      "/tmp/ipykernel_18695/4101722395.py:18: FutureWarning: Series.__getitem__ treating keys as positions is deprecated. In a future version, integer keys will always be treated as labels (consistent with DataFrame behavior). To access a value by position, use `ser.iloc[pos]`\n",
      "  mean_value = test_df.mean()[i]\n",
      "Running evaluation: 60it [00:00, 257.16it/s]\n"
     ]
    },
    {
     "data": {
      "application/vnd.jupyter.widget-view+json": {
       "model_id": "",
       "version_major": 2,
       "version_minor": 0
      },
      "text/plain": [
       "VBox(children=(Label(value='0.003 MB of 0.003 MB uploaded\\r'), FloatProgress(value=1.0, max=1.0)))"
      ]
     },
     "metadata": {},
     "output_type": "display_data"
    },
    {
     "data": {
      "text/html": [
       "<style>\n",
       "    table.wandb td:nth-child(1) { padding: 0 10px; text-align: left ; width: auto;} td:nth-child(2) {text-align: left ; width: 100%}\n",
       "    .wandb-row { display: flex; flex-direction: row; flex-wrap: wrap; justify-content: flex-start; width: 100% }\n",
       "    .wandb-col { display: flex; flex-direction: column; flex-basis: 100%; flex: 1; padding: 10px; }\n",
       "    </style>\n",
       "<div class=\"wandb-row\"><div class=\"wandb-col\"><h3>Run history:</h3><br/><table class=\"wandb\"><tr><td>CPRS</td><td>▁</td></tr><tr><td>train_loss</td><td>▄█▂▃▅▅▆▃▃▂▅▁▄▃▆▃▇█▅▆▃▅▄▃▅▅▇▅▇▂▄▆▅▂▂▇▄▅▇▅</td></tr></table><br/></div><div class=\"wandb-col\"><h3>Run summary:</h3><br/><table class=\"wandb\"><tr><td>CPRS</td><td>0.00038</td></tr><tr><td>train_loss</td><td>0.47894</td></tr></table><br/></div></div>"
      ],
      "text/plain": [
       "<IPython.core.display.HTML object>"
      ]
     },
     "metadata": {},
     "output_type": "display_data"
    },
    {
     "data": {
      "text/html": [
       " View run <strong style=\"color:#cdcd00\">golden-sweep-10</strong> at: <a href='https://wandb.ai/junboma/lag_llama_04_07/runs/w8sjezgv' target=\"_blank\">https://wandb.ai/junboma/lag_llama_04_07/runs/w8sjezgv</a><br/> View project at: <a href='https://wandb.ai/junboma/lag_llama_04_07' target=\"_blank\">https://wandb.ai/junboma/lag_llama_04_07</a><br/>Synced 6 W&B file(s), 0 media file(s), 0 artifact file(s) and 0 other file(s)"
      ],
      "text/plain": [
       "<IPython.core.display.HTML object>"
      ]
     },
     "metadata": {},
     "output_type": "display_data"
    },
    {
     "data": {
      "text/html": [
       "Find logs at: <code>./wandb/run-20240704_153356-w8sjezgv/logs</code>"
      ],
      "text/plain": [
       "<IPython.core.display.HTML object>"
      ]
     },
     "metadata": {},
     "output_type": "display_data"
    },
    {
     "name": "stderr",
     "output_type": "stream",
     "text": [
      "\u001b[34m\u001b[1mwandb\u001b[0m: Agent Starting Run: dbqxc6rf with config:\n",
      "\u001b[34m\u001b[1mwandb\u001b[0m: \tbatch_size: 2\n",
      "\u001b[34m\u001b[1mwandb\u001b[0m: \tcontext_length: 96\n",
      "\u001b[34m\u001b[1mwandb\u001b[0m: \tlr: 5e-05\n"
     ]
    },
    {
     "data": {
      "text/html": [
       "wandb version 0.17.4 is available!  To upgrade, please run:\n",
       " $ pip install wandb --upgrade"
      ],
      "text/plain": [
       "<IPython.core.display.HTML object>"
      ]
     },
     "metadata": {},
     "output_type": "display_data"
    },
    {
     "data": {
      "text/html": [
       "Tracking run with wandb version 0.17.1"
      ],
      "text/plain": [
       "<IPython.core.display.HTML object>"
      ]
     },
     "metadata": {},
     "output_type": "display_data"
    },
    {
     "data": {
      "text/html": [
       "Run data is saved locally in <code>/home/eragroup/Documents/Documents/Koutas_Master_Thesis_Supervision/Junbo_Leng/lag_llama_model/lag-llama-main/wandb/run-20240704_154127-dbqxc6rf</code>"
      ],
      "text/plain": [
       "<IPython.core.display.HTML object>"
      ]
     },
     "metadata": {},
     "output_type": "display_data"
    },
    {
     "data": {
      "text/html": [
       "Syncing run <strong><a href='https://wandb.ai/junboma/lag_llama_04_07/runs/dbqxc6rf' target=\"_blank\">atomic-sweep-11</a></strong> to <a href='https://wandb.ai/junboma/lag_llama_04_07' target=\"_blank\">Weights & Biases</a> (<a href='https://wandb.me/run' target=\"_blank\">docs</a>)<br/>Sweep page: <a href='https://wandb.ai/junboma/lag_llama_04_07/sweeps/8bk4uije' target=\"_blank\">https://wandb.ai/junboma/lag_llama_04_07/sweeps/8bk4uije</a>"
      ],
      "text/plain": [
       "<IPython.core.display.HTML object>"
      ]
     },
     "metadata": {},
     "output_type": "display_data"
    },
    {
     "data": {
      "text/html": [
       " View project at <a href='https://wandb.ai/junboma/lag_llama_04_07' target=\"_blank\">https://wandb.ai/junboma/lag_llama_04_07</a>"
      ],
      "text/plain": [
       "<IPython.core.display.HTML object>"
      ]
     },
     "metadata": {},
     "output_type": "display_data"
    },
    {
     "data": {
      "text/html": [
       " View sweep at <a href='https://wandb.ai/junboma/lag_llama_04_07/sweeps/8bk4uije' target=\"_blank\">https://wandb.ai/junboma/lag_llama_04_07/sweeps/8bk4uije</a>"
      ],
      "text/plain": [
       "<IPython.core.display.HTML object>"
      ]
     },
     "metadata": {},
     "output_type": "display_data"
    },
    {
     "data": {
      "text/html": [
       " View run at <a href='https://wandb.ai/junboma/lag_llama_04_07/runs/dbqxc6rf' target=\"_blank\">https://wandb.ai/junboma/lag_llama_04_07/runs/dbqxc6rf</a>"
      ],
      "text/plain": [
       "<IPython.core.display.HTML object>"
      ]
     },
     "metadata": {},
     "output_type": "display_data"
    },
    {
     "name": "stderr",
     "output_type": "stream",
     "text": [
      "\u001b[34m\u001b[1mwandb\u001b[0m: \u001b[33mWARNING\u001b[0m Ignored wandb.init() arg project when running a sweep.\n"
     ]
    },
    {
     "data": {
      "text/html": [
       "Finishing last run (ID:dbqxc6rf) before initializing another..."
      ],
      "text/plain": [
       "<IPython.core.display.HTML object>"
      ]
     },
     "metadata": {},
     "output_type": "display_data"
    },
    {
     "data": {
      "application/vnd.jupyter.widget-view+json": {
       "model_id": "",
       "version_major": 2,
       "version_minor": 0
      },
      "text/plain": [
       "VBox(children=(Label(value='0.003 MB of 0.003 MB uploaded\\r'), FloatProgress(value=1.0, max=1.0)))"
      ]
     },
     "metadata": {},
     "output_type": "display_data"
    },
    {
     "data": {
      "text/html": [
       " View run <strong style=\"color:#cdcd00\">atomic-sweep-11</strong> at: <a href='https://wandb.ai/junboma/lag_llama_04_07/runs/dbqxc6rf' target=\"_blank\">https://wandb.ai/junboma/lag_llama_04_07/runs/dbqxc6rf</a><br/> View project at: <a href='https://wandb.ai/junboma/lag_llama_04_07' target=\"_blank\">https://wandb.ai/junboma/lag_llama_04_07</a><br/>Synced 6 W&B file(s), 0 media file(s), 0 artifact file(s) and 0 other file(s)"
      ],
      "text/plain": [
       "<IPython.core.display.HTML object>"
      ]
     },
     "metadata": {},
     "output_type": "display_data"
    },
    {
     "data": {
      "text/html": [
       "Find logs at: <code>./wandb/run-20240704_154127-dbqxc6rf/logs</code>"
      ],
      "text/plain": [
       "<IPython.core.display.HTML object>"
      ]
     },
     "metadata": {},
     "output_type": "display_data"
    },
    {
     "data": {
      "text/html": [
       "Successfully finished last run (ID:dbqxc6rf). Initializing new run:<br/>"
      ],
      "text/plain": [
       "<IPython.core.display.HTML object>"
      ]
     },
     "metadata": {},
     "output_type": "display_data"
    },
    {
     "data": {
      "application/vnd.jupyter.widget-view+json": {
       "model_id": "d35a431cda8e47e694cfff49d038b391",
       "version_major": 2,
       "version_minor": 0
      },
      "text/plain": [
       "VBox(children=(Label(value='Waiting for wandb.init()...\\r'), FloatProgress(value=0.011112426097194353, max=1.0…"
      ]
     },
     "metadata": {},
     "output_type": "display_data"
    },
    {
     "data": {
      "text/html": [
       "wandb version 0.17.4 is available!  To upgrade, please run:\n",
       " $ pip install wandb --upgrade"
      ],
      "text/plain": [
       "<IPython.core.display.HTML object>"
      ]
     },
     "metadata": {},
     "output_type": "display_data"
    },
    {
     "data": {
      "text/html": [
       "Tracking run with wandb version 0.17.1"
      ],
      "text/plain": [
       "<IPython.core.display.HTML object>"
      ]
     },
     "metadata": {},
     "output_type": "display_data"
    },
    {
     "data": {
      "text/html": [
       "Run data is saved locally in <code>/home/eragroup/Documents/Documents/Koutas_Master_Thesis_Supervision/Junbo_Leng/lag_llama_model/lag-llama-main/wandb/run-20240704_154141-dbqxc6rf</code>"
      ],
      "text/plain": [
       "<IPython.core.display.HTML object>"
      ]
     },
     "metadata": {},
     "output_type": "display_data"
    },
    {
     "data": {
      "text/html": [
       "Syncing run <strong><a href='https://wandb.ai/junboma/lag_llama_04_07/runs/dbqxc6rf' target=\"_blank\">atomic-sweep-11</a></strong> to <a href='https://wandb.ai/junboma/lag_llama_04_07' target=\"_blank\">Weights & Biases</a> (<a href='https://wandb.me/run' target=\"_blank\">docs</a>)<br/>Sweep page: <a href='https://wandb.ai/junboma/lag_llama_04_07/sweeps/8bk4uije' target=\"_blank\">https://wandb.ai/junboma/lag_llama_04_07/sweeps/8bk4uije</a>"
      ],
      "text/plain": [
       "<IPython.core.display.HTML object>"
      ]
     },
     "metadata": {},
     "output_type": "display_data"
    },
    {
     "data": {
      "text/html": [
       " View project at <a href='https://wandb.ai/junboma/lag_llama_04_07' target=\"_blank\">https://wandb.ai/junboma/lag_llama_04_07</a>"
      ],
      "text/plain": [
       "<IPython.core.display.HTML object>"
      ]
     },
     "metadata": {},
     "output_type": "display_data"
    },
    {
     "data": {
      "text/html": [
       " View sweep at <a href='https://wandb.ai/junboma/lag_llama_04_07/sweeps/8bk4uije' target=\"_blank\">https://wandb.ai/junboma/lag_llama_04_07/sweeps/8bk4uije</a>"
      ],
      "text/plain": [
       "<IPython.core.display.HTML object>"
      ]
     },
     "metadata": {},
     "output_type": "display_data"
    },
    {
     "data": {
      "text/html": [
       " View run at <a href='https://wandb.ai/junboma/lag_llama_04_07/runs/dbqxc6rf' target=\"_blank\">https://wandb.ai/junboma/lag_llama_04_07/runs/dbqxc6rf</a>"
      ],
      "text/plain": [
       "<IPython.core.display.HTML object>"
      ]
     },
     "metadata": {},
     "output_type": "display_data"
    },
    {
     "name": "stderr",
     "output_type": "stream",
     "text": [
      "GPU available: True (cuda), used: True\n",
      "TPU available: False, using: 0 TPU cores\n",
      "IPU available: False, using: 0 IPUs\n",
      "HPU available: False, using: 0 HPUs\n",
      "/home/eragroup/anaconda3/envs/lag_llama/lib/python3.12/site-packages/lightning/pytorch/trainer/configuration_validator.py:74: You defined a `validation_step` but have no `val_dataloader`. Skipping val loop.\n",
      "LOCAL_RANK: 0 - CUDA_VISIBLE_DEVICES: [0]\n",
      "\n",
      "  | Name          | Type               | Params\n",
      "-----------------------------------------------------\n",
      "0 | model         | LagLlamaModel      | 2.4 M \n",
      "1 | augmentations | ApplyAugmentations | 0     \n",
      "-----------------------------------------------------\n",
      "2.4 M     Trainable params\n",
      "0         Non-trainable params\n",
      "2.4 M     Total params\n",
      "9.797     Total estimated model params size (MB)\n"
     ]
    },
    {
     "data": {
      "application/vnd.jupyter.widget-view+json": {
       "model_id": "ab0dd0ec80424e43a7649c7683580632",
       "version_major": 2,
       "version_minor": 0
      },
      "text/plain": [
       "Training: |                                               | 0/? [00:00<?, ?it/s]"
      ]
     },
     "metadata": {},
     "output_type": "display_data"
    },
    {
     "name": "stderr",
     "output_type": "stream",
     "text": [
      "Epoch 0, global step 50: 'train_loss' reached 0.55414 (best 0.55414), saving model to '/home/eragroup/Documents/Documents/Koutas_Master_Thesis_Supervision/Junbo_Leng/lag_llama_model/lag-llama-main/lightning_logs/version_38/checkpoints/epoch=0-step=50.ckpt' as top 1\n",
      "Epoch 1, global step 100: 'train_loss' reached 0.34776 (best 0.34776), saving model to '/home/eragroup/Documents/Documents/Koutas_Master_Thesis_Supervision/Junbo_Leng/lag_llama_model/lag-llama-main/lightning_logs/version_38/checkpoints/epoch=1-step=100.ckpt' as top 1\n",
      "Epoch 2, global step 150: 'train_loss' was not in top 1\n",
      "Epoch 3, global step 200: 'train_loss' was not in top 1\n",
      "Epoch 4, global step 250: 'train_loss' reached 0.32997 (best 0.32997), saving model to '/home/eragroup/Documents/Documents/Koutas_Master_Thesis_Supervision/Junbo_Leng/lag_llama_model/lag-llama-main/lightning_logs/version_38/checkpoints/epoch=4-step=250.ckpt' as top 1\n",
      "Epoch 5, global step 300: 'train_loss' was not in top 1\n",
      "Epoch 6, global step 350: 'train_loss' reached 0.16086 (best 0.16086), saving model to '/home/eragroup/Documents/Documents/Koutas_Master_Thesis_Supervision/Junbo_Leng/lag_llama_model/lag-llama-main/lightning_logs/version_38/checkpoints/epoch=6-step=350.ckpt' as top 1\n",
      "Epoch 7, global step 400: 'train_loss' was not in top 1\n",
      "Epoch 8, global step 450: 'train_loss' was not in top 1\n",
      "Epoch 9, global step 500: 'train_loss' was not in top 1\n",
      "Epoch 10, global step 550: 'train_loss' was not in top 1\n",
      "Epoch 11, global step 600: 'train_loss' was not in top 1\n",
      "Epoch 12, global step 650: 'train_loss' was not in top 1\n",
      "Epoch 13, global step 700: 'train_loss' was not in top 1\n",
      "Epoch 14, global step 750: 'train_loss' was not in top 1\n",
      "Epoch 15, global step 800: 'train_loss' was not in top 1\n",
      "Epoch 16, global step 850: 'train_loss' was not in top 1\n",
      "Epoch 17, global step 900: 'train_loss' was not in top 1\n",
      "Epoch 18, global step 950: 'train_loss' was not in top 1\n",
      "Epoch 19, global step 1000: 'train_loss' was not in top 1\n",
      "Epoch 20, global step 1050: 'train_loss' was not in top 1\n",
      "Epoch 21, global step 1100: 'train_loss' was not in top 1\n",
      "Epoch 22, global step 1150: 'train_loss' was not in top 1\n",
      "Epoch 23, global step 1200: 'train_loss' was not in top 1\n",
      "Epoch 24, global step 1250: 'train_loss' was not in top 1\n",
      "Epoch 25, global step 1300: 'train_loss' was not in top 1\n",
      "Epoch 26, global step 1350: 'train_loss' was not in top 1\n",
      "Epoch 27, global step 1400: 'train_loss' was not in top 1\n",
      "Epoch 28, global step 1450: 'train_loss' was not in top 1\n",
      "Epoch 29, global step 1500: 'train_loss' was not in top 1\n",
      "Epoch 30, global step 1550: 'train_loss' was not in top 1\n",
      "Epoch 31, global step 1600: 'train_loss' was not in top 1\n",
      "Epoch 32, global step 1650: 'train_loss' was not in top 1\n",
      "Epoch 33, global step 1700: 'train_loss' was not in top 1\n",
      "Epoch 34, global step 1750: 'train_loss' was not in top 1\n",
      "Epoch 35, global step 1800: 'train_loss' was not in top 1\n",
      "Epoch 36, global step 1850: 'train_loss' was not in top 1\n",
      "Epoch 37, global step 1900: 'train_loss' was not in top 1\n",
      "Epoch 38, global step 1950: 'train_loss' was not in top 1\n",
      "Epoch 39, global step 2000: 'train_loss' was not in top 1\n",
      "Epoch 40, global step 2050: 'train_loss' was not in top 1\n",
      "Epoch 41, global step 2100: 'train_loss' reached 0.13297 (best 0.13297), saving model to '/home/eragroup/Documents/Documents/Koutas_Master_Thesis_Supervision/Junbo_Leng/lag_llama_model/lag-llama-main/lightning_logs/version_38/checkpoints/epoch=41-step=2100.ckpt' as top 1\n",
      "Epoch 42, global step 2150: 'train_loss' was not in top 1\n",
      "Epoch 43, global step 2200: 'train_loss' was not in top 1\n",
      "Epoch 44, global step 2250: 'train_loss' was not in top 1\n",
      "Epoch 45, global step 2300: 'train_loss' was not in top 1\n",
      "Epoch 46, global step 2350: 'train_loss' was not in top 1\n",
      "Epoch 47, global step 2400: 'train_loss' was not in top 1\n",
      "Epoch 48, global step 2450: 'train_loss' was not in top 1\n",
      "Epoch 49, global step 2500: 'train_loss' reached 0.12532 (best 0.12532), saving model to '/home/eragroup/Documents/Documents/Koutas_Master_Thesis_Supervision/Junbo_Leng/lag_llama_model/lag-llama-main/lightning_logs/version_38/checkpoints/epoch=49-step=2500.ckpt' as top 1\n",
      "Epoch 50, global step 2550: 'train_loss' was not in top 1\n",
      "Epoch 51, global step 2600: 'train_loss' was not in top 1\n",
      "Epoch 52, global step 2650: 'train_loss' was not in top 1\n",
      "Epoch 53, global step 2700: 'train_loss' reached 0.12404 (best 0.12404), saving model to '/home/eragroup/Documents/Documents/Koutas_Master_Thesis_Supervision/Junbo_Leng/lag_llama_model/lag-llama-main/lightning_logs/version_38/checkpoints/epoch=53-step=2700.ckpt' as top 1\n",
      "Epoch 54, global step 2750: 'train_loss' was not in top 1\n",
      "Epoch 55, global step 2800: 'train_loss' was not in top 1\n",
      "Epoch 56, global step 2850: 'train_loss' was not in top 1\n",
      "Epoch 57, global step 2900: 'train_loss' was not in top 1\n",
      "Epoch 58, global step 2950: 'train_loss' was not in top 1\n",
      "Epoch 59, global step 3000: 'train_loss' was not in top 1\n",
      "Epoch 60, global step 3050: 'train_loss' reached 0.09438 (best 0.09438), saving model to '/home/eragroup/Documents/Documents/Koutas_Master_Thesis_Supervision/Junbo_Leng/lag_llama_model/lag-llama-main/lightning_logs/version_38/checkpoints/epoch=60-step=3050.ckpt' as top 1\n",
      "Epoch 61, global step 3100: 'train_loss' reached 0.07777 (best 0.07777), saving model to '/home/eragroup/Documents/Documents/Koutas_Master_Thesis_Supervision/Junbo_Leng/lag_llama_model/lag-llama-main/lightning_logs/version_38/checkpoints/epoch=61-step=3100.ckpt' as top 1\n",
      "Epoch 62, global step 3150: 'train_loss' was not in top 1\n",
      "Epoch 63, global step 3200: 'train_loss' was not in top 1\n",
      "Epoch 64, global step 3250: 'train_loss' was not in top 1\n",
      "Epoch 65, global step 3300: 'train_loss' reached 0.03286 (best 0.03286), saving model to '/home/eragroup/Documents/Documents/Koutas_Master_Thesis_Supervision/Junbo_Leng/lag_llama_model/lag-llama-main/lightning_logs/version_38/checkpoints/epoch=65-step=3300.ckpt' as top 1\n",
      "Epoch 66, global step 3350: 'train_loss' reached -0.00498 (best -0.00498), saving model to '/home/eragroup/Documents/Documents/Koutas_Master_Thesis_Supervision/Junbo_Leng/lag_llama_model/lag-llama-main/lightning_logs/version_38/checkpoints/epoch=66-step=3350.ckpt' as top 1\n",
      "Epoch 67, global step 3400: 'train_loss' was not in top 1\n",
      "Epoch 68, global step 3450: 'train_loss' was not in top 1\n",
      "Epoch 69, global step 3500: 'train_loss' was not in top 1\n",
      "Epoch 70, global step 3550: 'train_loss' was not in top 1\n",
      "Epoch 71, global step 3600: 'train_loss' was not in top 1\n",
      "Epoch 72, global step 3650: 'train_loss' was not in top 1\n",
      "Epoch 73, global step 3700: 'train_loss' was not in top 1\n",
      "Epoch 74, global step 3750: 'train_loss' was not in top 1\n",
      "Epoch 75, global step 3800: 'train_loss' reached -0.09200 (best -0.09200), saving model to '/home/eragroup/Documents/Documents/Koutas_Master_Thesis_Supervision/Junbo_Leng/lag_llama_model/lag-llama-main/lightning_logs/version_38/checkpoints/epoch=75-step=3800.ckpt' as top 1\n",
      "Epoch 76, global step 3850: 'train_loss' was not in top 1\n",
      "Epoch 77, global step 3900: 'train_loss' was not in top 1\n",
      "Epoch 78, global step 3950: 'train_loss' was not in top 1\n",
      "Epoch 79, global step 4000: 'train_loss' was not in top 1\n",
      "Epoch 80, global step 4050: 'train_loss' was not in top 1\n",
      "Epoch 81, global step 4100: 'train_loss' was not in top 1\n",
      "Epoch 82, global step 4150: 'train_loss' was not in top 1\n",
      "Epoch 83, global step 4200: 'train_loss' was not in top 1\n",
      "Epoch 84, global step 4250: 'train_loss' was not in top 1\n",
      "Epoch 85, global step 4300: 'train_loss' reached -0.11119 (best -0.11119), saving model to '/home/eragroup/Documents/Documents/Koutas_Master_Thesis_Supervision/Junbo_Leng/lag_llama_model/lag-llama-main/lightning_logs/version_38/checkpoints/epoch=85-step=4300.ckpt' as top 1\n",
      "Epoch 86, global step 4350: 'train_loss' was not in top 1\n",
      "Epoch 87, global step 4400: 'train_loss' was not in top 1\n",
      "Epoch 88, global step 4450: 'train_loss' was not in top 1\n",
      "Epoch 89, global step 4500: 'train_loss' reached -0.13217 (best -0.13217), saving model to '/home/eragroup/Documents/Documents/Koutas_Master_Thesis_Supervision/Junbo_Leng/lag_llama_model/lag-llama-main/lightning_logs/version_38/checkpoints/epoch=89-step=4500.ckpt' as top 1\n",
      "Epoch 90, global step 4550: 'train_loss' reached -0.16236 (best -0.16236), saving model to '/home/eragroup/Documents/Documents/Koutas_Master_Thesis_Supervision/Junbo_Leng/lag_llama_model/lag-llama-main/lightning_logs/version_38/checkpoints/epoch=90-step=4550.ckpt' as top 1\n",
      "Epoch 91, global step 4600: 'train_loss' was not in top 1\n",
      "Epoch 92, global step 4650: 'train_loss' was not in top 1\n",
      "Epoch 93, global step 4700: 'train_loss' reached -0.19088 (best -0.19088), saving model to '/home/eragroup/Documents/Documents/Koutas_Master_Thesis_Supervision/Junbo_Leng/lag_llama_model/lag-llama-main/lightning_logs/version_38/checkpoints/epoch=93-step=4700.ckpt' as top 1\n",
      "Epoch 94, global step 4750: 'train_loss' was not in top 1\n",
      "Epoch 95, global step 4800: 'train_loss' was not in top 1\n",
      "Epoch 96, global step 4850: 'train_loss' was not in top 1\n",
      "Epoch 97, global step 4900: 'train_loss' was not in top 1\n",
      "Epoch 98, global step 4950: 'train_loss' was not in top 1\n",
      "Epoch 99, global step 5000: 'train_loss' was not in top 1\n",
      "`Trainer.fit` stopped: `max_epochs=100` reached.\n"
     ]
    },
    {
     "data": {
      "application/vnd.jupyter.widget-view+json": {
       "model_id": "ce80303667874f02b9e386be21e669af",
       "version_major": 2,
       "version_minor": 0
      },
      "text/plain": [
       "Forecasting batches:   0%|          | 0/60 [00:00<?, ?it/s]"
      ]
     },
     "metadata": {},
     "output_type": "display_data"
    },
    {
     "data": {
      "application/vnd.jupyter.widget-view+json": {
       "model_id": "d6958ef8e48e40b19e09360839cd2989",
       "version_major": 2,
       "version_minor": 0
      },
      "text/plain": [
       "Ground truth:   0%|          | 0/60 [00:00<?, ?it/s]"
      ]
     },
     "metadata": {},
     "output_type": "display_data"
    },
    {
     "name": "stderr",
     "output_type": "stream",
     "text": [
      "/tmp/ipykernel_18695/4101722395.py:14: FutureWarning: Series.__getitem__ treating keys as positions is deprecated. In a future version, integer keys will always be treated as labels (consistent with DataFrame behavior). To access a value by position, use `ser.iloc[pos]`\n",
      "  tss[i].values[:] = tss[i].values * test_df.std()[i] + test_df.mean()[i]\n",
      "/tmp/ipykernel_18695/4101722395.py:17: FutureWarning: Series.__getitem__ treating keys as positions is deprecated. In a future version, integer keys will always be treated as labels (consistent with DataFrame behavior). To access a value by position, use `ser.iloc[pos]`\n",
      "  std_value = test_df.std()[i]\n",
      "/tmp/ipykernel_18695/4101722395.py:18: FutureWarning: Series.__getitem__ treating keys as positions is deprecated. In a future version, integer keys will always be treated as labels (consistent with DataFrame behavior). To access a value by position, use `ser.iloc[pos]`\n",
      "  mean_value = test_df.mean()[i]\n",
      "Running evaluation: 60it [00:00, 336.04it/s]\n"
     ]
    },
    {
     "data": {
      "application/vnd.jupyter.widget-view+json": {
       "model_id": "",
       "version_major": 2,
       "version_minor": 0
      },
      "text/plain": [
       "VBox(children=(Label(value='0.003 MB of 0.003 MB uploaded\\r'), FloatProgress(value=1.0, max=1.0)))"
      ]
     },
     "metadata": {},
     "output_type": "display_data"
    },
    {
     "data": {
      "text/html": [
       "<style>\n",
       "    table.wandb td:nth-child(1) { padding: 0 10px; text-align: left ; width: auto;} td:nth-child(2) {text-align: left ; width: 100%}\n",
       "    .wandb-row { display: flex; flex-direction: row; flex-wrap: wrap; justify-content: flex-start; width: 100% }\n",
       "    .wandb-col { display: flex; flex-direction: column; flex-basis: 100%; flex: 1; padding: 10px; }\n",
       "    </style>\n",
       "<div class=\"wandb-row\"><div class=\"wandb-col\"><h3>Run history:</h3><br/><table class=\"wandb\"><tr><td>CPRS</td><td>▁</td></tr><tr><td>train_loss</td><td>▃▇▂▅▃█▆▄▇▆▃▃▄▃▄▄▇▄▇▃▅▂▄▃▅▃▃▆▄▄▁▅▄▃▃▂▃▂▂▂</td></tr></table><br/></div><div class=\"wandb-col\"><h3>Run summary:</h3><br/><table class=\"wandb\"><tr><td>CPRS</td><td>0.00032</td></tr><tr><td>train_loss</td><td>-0.73992</td></tr></table><br/></div></div>"
      ],
      "text/plain": [
       "<IPython.core.display.HTML object>"
      ]
     },
     "metadata": {},
     "output_type": "display_data"
    },
    {
     "data": {
      "text/html": [
       " View run <strong style=\"color:#cdcd00\">atomic-sweep-11</strong> at: <a href='https://wandb.ai/junboma/lag_llama_04_07/runs/dbqxc6rf' target=\"_blank\">https://wandb.ai/junboma/lag_llama_04_07/runs/dbqxc6rf</a><br/> View project at: <a href='https://wandb.ai/junboma/lag_llama_04_07' target=\"_blank\">https://wandb.ai/junboma/lag_llama_04_07</a><br/>Synced 6 W&B file(s), 0 media file(s), 0 artifact file(s) and 0 other file(s)"
      ],
      "text/plain": [
       "<IPython.core.display.HTML object>"
      ]
     },
     "metadata": {},
     "output_type": "display_data"
    },
    {
     "data": {
      "text/html": [
       "Find logs at: <code>./wandb/run-20240704_154141-dbqxc6rf/logs</code>"
      ],
      "text/plain": [
       "<IPython.core.display.HTML object>"
      ]
     },
     "metadata": {},
     "output_type": "display_data"
    },
    {
     "name": "stderr",
     "output_type": "stream",
     "text": [
      "\u001b[34m\u001b[1mwandb\u001b[0m: Agent Starting Run: 2edy6d8a with config:\n",
      "\u001b[34m\u001b[1mwandb\u001b[0m: \tbatch_size: 2\n",
      "\u001b[34m\u001b[1mwandb\u001b[0m: \tcontext_length: 96\n",
      "\u001b[34m\u001b[1mwandb\u001b[0m: \tlr: 0.0001\n"
     ]
    },
    {
     "data": {
      "text/html": [
       "wandb version 0.17.4 is available!  To upgrade, please run:\n",
       " $ pip install wandb --upgrade"
      ],
      "text/plain": [
       "<IPython.core.display.HTML object>"
      ]
     },
     "metadata": {},
     "output_type": "display_data"
    },
    {
     "data": {
      "text/html": [
       "Tracking run with wandb version 0.17.1"
      ],
      "text/plain": [
       "<IPython.core.display.HTML object>"
      ]
     },
     "metadata": {},
     "output_type": "display_data"
    },
    {
     "data": {
      "text/html": [
       "Run data is saved locally in <code>/home/eragroup/Documents/Documents/Koutas_Master_Thesis_Supervision/Junbo_Leng/lag_llama_model/lag-llama-main/wandb/run-20240704_154946-2edy6d8a</code>"
      ],
      "text/plain": [
       "<IPython.core.display.HTML object>"
      ]
     },
     "metadata": {},
     "output_type": "display_data"
    },
    {
     "data": {
      "text/html": [
       "Syncing run <strong><a href='https://wandb.ai/junboma/lag_llama_04_07/runs/2edy6d8a' target=\"_blank\">fallen-sweep-12</a></strong> to <a href='https://wandb.ai/junboma/lag_llama_04_07' target=\"_blank\">Weights & Biases</a> (<a href='https://wandb.me/run' target=\"_blank\">docs</a>)<br/>Sweep page: <a href='https://wandb.ai/junboma/lag_llama_04_07/sweeps/8bk4uije' target=\"_blank\">https://wandb.ai/junboma/lag_llama_04_07/sweeps/8bk4uije</a>"
      ],
      "text/plain": [
       "<IPython.core.display.HTML object>"
      ]
     },
     "metadata": {},
     "output_type": "display_data"
    },
    {
     "data": {
      "text/html": [
       " View project at <a href='https://wandb.ai/junboma/lag_llama_04_07' target=\"_blank\">https://wandb.ai/junboma/lag_llama_04_07</a>"
      ],
      "text/plain": [
       "<IPython.core.display.HTML object>"
      ]
     },
     "metadata": {},
     "output_type": "display_data"
    },
    {
     "data": {
      "text/html": [
       " View sweep at <a href='https://wandb.ai/junboma/lag_llama_04_07/sweeps/8bk4uije' target=\"_blank\">https://wandb.ai/junboma/lag_llama_04_07/sweeps/8bk4uije</a>"
      ],
      "text/plain": [
       "<IPython.core.display.HTML object>"
      ]
     },
     "metadata": {},
     "output_type": "display_data"
    },
    {
     "data": {
      "text/html": [
       " View run at <a href='https://wandb.ai/junboma/lag_llama_04_07/runs/2edy6d8a' target=\"_blank\">https://wandb.ai/junboma/lag_llama_04_07/runs/2edy6d8a</a>"
      ],
      "text/plain": [
       "<IPython.core.display.HTML object>"
      ]
     },
     "metadata": {},
     "output_type": "display_data"
    },
    {
     "name": "stderr",
     "output_type": "stream",
     "text": [
      "\u001b[34m\u001b[1mwandb\u001b[0m: \u001b[33mWARNING\u001b[0m Ignored wandb.init() arg project when running a sweep.\n"
     ]
    },
    {
     "data": {
      "text/html": [
       "Finishing last run (ID:2edy6d8a) before initializing another..."
      ],
      "text/plain": [
       "<IPython.core.display.HTML object>"
      ]
     },
     "metadata": {},
     "output_type": "display_data"
    },
    {
     "data": {
      "application/vnd.jupyter.widget-view+json": {
       "model_id": "",
       "version_major": 2,
       "version_minor": 0
      },
      "text/plain": [
       "VBox(children=(Label(value='0.003 MB of 0.003 MB uploaded\\r'), FloatProgress(value=1.0, max=1.0)))"
      ]
     },
     "metadata": {},
     "output_type": "display_data"
    },
    {
     "data": {
      "text/html": [
       " View run <strong style=\"color:#cdcd00\">fallen-sweep-12</strong> at: <a href='https://wandb.ai/junboma/lag_llama_04_07/runs/2edy6d8a' target=\"_blank\">https://wandb.ai/junboma/lag_llama_04_07/runs/2edy6d8a</a><br/> View project at: <a href='https://wandb.ai/junboma/lag_llama_04_07' target=\"_blank\">https://wandb.ai/junboma/lag_llama_04_07</a><br/>Synced 6 W&B file(s), 0 media file(s), 0 artifact file(s) and 0 other file(s)"
      ],
      "text/plain": [
       "<IPython.core.display.HTML object>"
      ]
     },
     "metadata": {},
     "output_type": "display_data"
    },
    {
     "data": {
      "text/html": [
       "Find logs at: <code>./wandb/run-20240704_154946-2edy6d8a/logs</code>"
      ],
      "text/plain": [
       "<IPython.core.display.HTML object>"
      ]
     },
     "metadata": {},
     "output_type": "display_data"
    },
    {
     "data": {
      "text/html": [
       "Successfully finished last run (ID:2edy6d8a). Initializing new run:<br/>"
      ],
      "text/plain": [
       "<IPython.core.display.HTML object>"
      ]
     },
     "metadata": {},
     "output_type": "display_data"
    },
    {
     "data": {
      "application/vnd.jupyter.widget-view+json": {
       "model_id": "24aaac72ce7d49b8a868eb91e59fb3f9",
       "version_major": 2,
       "version_minor": 0
      },
      "text/plain": [
       "VBox(children=(Label(value='Waiting for wandb.init()...\\r'), FloatProgress(value=0.01111245917984181, max=1.0)…"
      ]
     },
     "metadata": {},
     "output_type": "display_data"
    },
    {
     "data": {
      "text/html": [
       "wandb version 0.17.4 is available!  To upgrade, please run:\n",
       " $ pip install wandb --upgrade"
      ],
      "text/plain": [
       "<IPython.core.display.HTML object>"
      ]
     },
     "metadata": {},
     "output_type": "display_data"
    },
    {
     "data": {
      "text/html": [
       "Tracking run with wandb version 0.17.1"
      ],
      "text/plain": [
       "<IPython.core.display.HTML object>"
      ]
     },
     "metadata": {},
     "output_type": "display_data"
    },
    {
     "data": {
      "text/html": [
       "Run data is saved locally in <code>/home/eragroup/Documents/Documents/Koutas_Master_Thesis_Supervision/Junbo_Leng/lag_llama_model/lag-llama-main/wandb/run-20240704_155000-2edy6d8a</code>"
      ],
      "text/plain": [
       "<IPython.core.display.HTML object>"
      ]
     },
     "metadata": {},
     "output_type": "display_data"
    },
    {
     "data": {
      "text/html": [
       "Syncing run <strong><a href='https://wandb.ai/junboma/lag_llama_04_07/runs/2edy6d8a' target=\"_blank\">fallen-sweep-12</a></strong> to <a href='https://wandb.ai/junboma/lag_llama_04_07' target=\"_blank\">Weights & Biases</a> (<a href='https://wandb.me/run' target=\"_blank\">docs</a>)<br/>Sweep page: <a href='https://wandb.ai/junboma/lag_llama_04_07/sweeps/8bk4uije' target=\"_blank\">https://wandb.ai/junboma/lag_llama_04_07/sweeps/8bk4uije</a>"
      ],
      "text/plain": [
       "<IPython.core.display.HTML object>"
      ]
     },
     "metadata": {},
     "output_type": "display_data"
    },
    {
     "data": {
      "text/html": [
       " View project at <a href='https://wandb.ai/junboma/lag_llama_04_07' target=\"_blank\">https://wandb.ai/junboma/lag_llama_04_07</a>"
      ],
      "text/plain": [
       "<IPython.core.display.HTML object>"
      ]
     },
     "metadata": {},
     "output_type": "display_data"
    },
    {
     "data": {
      "text/html": [
       " View sweep at <a href='https://wandb.ai/junboma/lag_llama_04_07/sweeps/8bk4uije' target=\"_blank\">https://wandb.ai/junboma/lag_llama_04_07/sweeps/8bk4uije</a>"
      ],
      "text/plain": [
       "<IPython.core.display.HTML object>"
      ]
     },
     "metadata": {},
     "output_type": "display_data"
    },
    {
     "data": {
      "text/html": [
       " View run at <a href='https://wandb.ai/junboma/lag_llama_04_07/runs/2edy6d8a' target=\"_blank\">https://wandb.ai/junboma/lag_llama_04_07/runs/2edy6d8a</a>"
      ],
      "text/plain": [
       "<IPython.core.display.HTML object>"
      ]
     },
     "metadata": {},
     "output_type": "display_data"
    },
    {
     "name": "stderr",
     "output_type": "stream",
     "text": [
      "GPU available: True (cuda), used: True\n",
      "TPU available: False, using: 0 TPU cores\n",
      "IPU available: False, using: 0 IPUs\n",
      "HPU available: False, using: 0 HPUs\n",
      "/home/eragroup/anaconda3/envs/lag_llama/lib/python3.12/site-packages/lightning/pytorch/trainer/configuration_validator.py:74: You defined a `validation_step` but have no `val_dataloader`. Skipping val loop.\n",
      "LOCAL_RANK: 0 - CUDA_VISIBLE_DEVICES: [0]\n",
      "\n",
      "  | Name          | Type               | Params\n",
      "-----------------------------------------------------\n",
      "0 | model         | LagLlamaModel      | 2.4 M \n",
      "1 | augmentations | ApplyAugmentations | 0     \n",
      "-----------------------------------------------------\n",
      "2.4 M     Trainable params\n",
      "0         Non-trainable params\n",
      "2.4 M     Total params\n",
      "9.797     Total estimated model params size (MB)\n"
     ]
    },
    {
     "data": {
      "application/vnd.jupyter.widget-view+json": {
       "model_id": "fae51cb8f2a04facb3e7be1ac2d1b7f2",
       "version_major": 2,
       "version_minor": 0
      },
      "text/plain": [
       "Training: |                                               | 0/? [00:00<?, ?it/s]"
      ]
     },
     "metadata": {},
     "output_type": "display_data"
    },
    {
     "name": "stderr",
     "output_type": "stream",
     "text": [
      "Epoch 0, global step 50: 'train_loss' reached 0.57974 (best 0.57974), saving model to '/home/eragroup/Documents/Documents/Koutas_Master_Thesis_Supervision/Junbo_Leng/lag_llama_model/lag-llama-main/lightning_logs/version_39/checkpoints/epoch=0-step=50.ckpt' as top 1\n",
      "Epoch 1, global step 100: 'train_loss' reached 0.40710 (best 0.40710), saving model to '/home/eragroup/Documents/Documents/Koutas_Master_Thesis_Supervision/Junbo_Leng/lag_llama_model/lag-llama-main/lightning_logs/version_39/checkpoints/epoch=1-step=100.ckpt' as top 1\n",
      "Epoch 2, global step 150: 'train_loss' reached 0.37832 (best 0.37832), saving model to '/home/eragroup/Documents/Documents/Koutas_Master_Thesis_Supervision/Junbo_Leng/lag_llama_model/lag-llama-main/lightning_logs/version_39/checkpoints/epoch=2-step=150.ckpt' as top 1\n",
      "Epoch 3, global step 200: 'train_loss' was not in top 1\n",
      "Epoch 4, global step 250: 'train_loss' was not in top 1\n",
      "Epoch 5, global step 300: 'train_loss' reached 0.36034 (best 0.36034), saving model to '/home/eragroup/Documents/Documents/Koutas_Master_Thesis_Supervision/Junbo_Leng/lag_llama_model/lag-llama-main/lightning_logs/version_39/checkpoints/epoch=5-step=300.ckpt' as top 1\n",
      "Epoch 6, global step 350: 'train_loss' was not in top 1\n",
      "Epoch 7, global step 400: 'train_loss' reached 0.32911 (best 0.32911), saving model to '/home/eragroup/Documents/Documents/Koutas_Master_Thesis_Supervision/Junbo_Leng/lag_llama_model/lag-llama-main/lightning_logs/version_39/checkpoints/epoch=7-step=400.ckpt' as top 1\n",
      "Epoch 8, global step 450: 'train_loss' reached 0.31002 (best 0.31002), saving model to '/home/eragroup/Documents/Documents/Koutas_Master_Thesis_Supervision/Junbo_Leng/lag_llama_model/lag-llama-main/lightning_logs/version_39/checkpoints/epoch=8-step=450.ckpt' as top 1\n",
      "Epoch 9, global step 500: 'train_loss' was not in top 1\n",
      "Epoch 10, global step 550: 'train_loss' was not in top 1\n",
      "Epoch 11, global step 600: 'train_loss' was not in top 1\n",
      "Epoch 12, global step 650: 'train_loss' was not in top 1\n",
      "Epoch 13, global step 700: 'train_loss' was not in top 1\n",
      "Epoch 14, global step 750: 'train_loss' was not in top 1\n",
      "Epoch 15, global step 800: 'train_loss' was not in top 1\n",
      "Epoch 16, global step 850: 'train_loss' was not in top 1\n",
      "Epoch 17, global step 900: 'train_loss' was not in top 1\n",
      "Epoch 18, global step 950: 'train_loss' was not in top 1\n",
      "Epoch 19, global step 1000: 'train_loss' was not in top 1\n",
      "Epoch 20, global step 1050: 'train_loss' was not in top 1\n",
      "Epoch 21, global step 1100: 'train_loss' was not in top 1\n",
      "Epoch 22, global step 1150: 'train_loss' was not in top 1\n",
      "Epoch 23, global step 1200: 'train_loss' was not in top 1\n",
      "Epoch 24, global step 1250: 'train_loss' reached 0.14810 (best 0.14810), saving model to '/home/eragroup/Documents/Documents/Koutas_Master_Thesis_Supervision/Junbo_Leng/lag_llama_model/lag-llama-main/lightning_logs/version_39/checkpoints/epoch=24-step=1250.ckpt' as top 1\n",
      "Epoch 25, global step 1300: 'train_loss' was not in top 1\n",
      "Epoch 26, global step 1350: 'train_loss' was not in top 1\n",
      "Epoch 27, global step 1400: 'train_loss' was not in top 1\n",
      "Epoch 28, global step 1450: 'train_loss' was not in top 1\n",
      "Epoch 29, global step 1500: 'train_loss' was not in top 1\n",
      "Epoch 30, global step 1550: 'train_loss' was not in top 1\n",
      "Epoch 31, global step 1600: 'train_loss' was not in top 1\n",
      "Epoch 32, global step 1650: 'train_loss' was not in top 1\n",
      "Epoch 33, global step 1700: 'train_loss' was not in top 1\n",
      "Epoch 34, global step 1750: 'train_loss' was not in top 1\n",
      "Epoch 35, global step 1800: 'train_loss' was not in top 1\n",
      "Epoch 36, global step 1850: 'train_loss' was not in top 1\n",
      "Epoch 37, global step 1900: 'train_loss' was not in top 1\n",
      "Epoch 38, global step 1950: 'train_loss' was not in top 1\n",
      "Epoch 39, global step 2000: 'train_loss' was not in top 1\n",
      "Epoch 40, global step 2050: 'train_loss' reached 0.14213 (best 0.14213), saving model to '/home/eragroup/Documents/Documents/Koutas_Master_Thesis_Supervision/Junbo_Leng/lag_llama_model/lag-llama-main/lightning_logs/version_39/checkpoints/epoch=40-step=2050.ckpt' as top 1\n",
      "Epoch 41, global step 2100: 'train_loss' was not in top 1\n",
      "Epoch 42, global step 2150: 'train_loss' was not in top 1\n",
      "Epoch 43, global step 2200: 'train_loss' was not in top 1\n",
      "Epoch 44, global step 2250: 'train_loss' was not in top 1\n",
      "Epoch 45, global step 2300: 'train_loss' reached 0.03413 (best 0.03413), saving model to '/home/eragroup/Documents/Documents/Koutas_Master_Thesis_Supervision/Junbo_Leng/lag_llama_model/lag-llama-main/lightning_logs/version_39/checkpoints/epoch=45-step=2300.ckpt' as top 1\n",
      "Epoch 46, global step 2350: 'train_loss' was not in top 1\n",
      "Epoch 47, global step 2400: 'train_loss' was not in top 1\n",
      "Epoch 48, global step 2450: 'train_loss' was not in top 1\n",
      "Epoch 49, global step 2500: 'train_loss' was not in top 1\n",
      "Epoch 50, global step 2550: 'train_loss' was not in top 1\n",
      "Epoch 51, global step 2600: 'train_loss' was not in top 1\n",
      "Epoch 52, global step 2650: 'train_loss' was not in top 1\n",
      "Epoch 53, global step 2700: 'train_loss' was not in top 1\n",
      "Epoch 54, global step 2750: 'train_loss' was not in top 1\n",
      "Epoch 55, global step 2800: 'train_loss' was not in top 1\n",
      "Epoch 56, global step 2850: 'train_loss' was not in top 1\n",
      "Epoch 57, global step 2900: 'train_loss' reached -0.01161 (best -0.01161), saving model to '/home/eragroup/Documents/Documents/Koutas_Master_Thesis_Supervision/Junbo_Leng/lag_llama_model/lag-llama-main/lightning_logs/version_39/checkpoints/epoch=57-step=2900.ckpt' as top 1\n",
      "Epoch 58, global step 2950: 'train_loss' was not in top 1\n",
      "Epoch 59, global step 3000: 'train_loss' reached -0.05313 (best -0.05313), saving model to '/home/eragroup/Documents/Documents/Koutas_Master_Thesis_Supervision/Junbo_Leng/lag_llama_model/lag-llama-main/lightning_logs/version_39/checkpoints/epoch=59-step=3000.ckpt' as top 1\n",
      "Epoch 60, global step 3050: 'train_loss' was not in top 1\n",
      "Epoch 61, global step 3100: 'train_loss' was not in top 1\n",
      "Epoch 62, global step 3150: 'train_loss' reached -0.05684 (best -0.05684), saving model to '/home/eragroup/Documents/Documents/Koutas_Master_Thesis_Supervision/Junbo_Leng/lag_llama_model/lag-llama-main/lightning_logs/version_39/checkpoints/epoch=62-step=3150.ckpt' as top 1\n",
      "Epoch 63, global step 3200: 'train_loss' was not in top 1\n",
      "Epoch 64, global step 3250: 'train_loss' was not in top 1\n",
      "Epoch 65, global step 3300: 'train_loss' was not in top 1\n",
      "Epoch 66, global step 3350: 'train_loss' reached -0.08798 (best -0.08798), saving model to '/home/eragroup/Documents/Documents/Koutas_Master_Thesis_Supervision/Junbo_Leng/lag_llama_model/lag-llama-main/lightning_logs/version_39/checkpoints/epoch=66-step=3350.ckpt' as top 1\n",
      "Epoch 67, global step 3400: 'train_loss' was not in top 1\n",
      "Epoch 68, global step 3450: 'train_loss' reached -0.09073 (best -0.09073), saving model to '/home/eragroup/Documents/Documents/Koutas_Master_Thesis_Supervision/Junbo_Leng/lag_llama_model/lag-llama-main/lightning_logs/version_39/checkpoints/epoch=68-step=3450.ckpt' as top 1\n",
      "Epoch 69, global step 3500: 'train_loss' was not in top 1\n",
      "Epoch 70, global step 3550: 'train_loss' was not in top 1\n",
      "Epoch 71, global step 3600: 'train_loss' was not in top 1\n",
      "Epoch 72, global step 3650: 'train_loss' was not in top 1\n",
      "Epoch 73, global step 3700: 'train_loss' reached -0.11378 (best -0.11378), saving model to '/home/eragroup/Documents/Documents/Koutas_Master_Thesis_Supervision/Junbo_Leng/lag_llama_model/lag-llama-main/lightning_logs/version_39/checkpoints/epoch=73-step=3700.ckpt' as top 1\n",
      "Epoch 74, global step 3750: 'train_loss' was not in top 1\n",
      "Epoch 75, global step 3800: 'train_loss' reached -0.13119 (best -0.13119), saving model to '/home/eragroup/Documents/Documents/Koutas_Master_Thesis_Supervision/Junbo_Leng/lag_llama_model/lag-llama-main/lightning_logs/version_39/checkpoints/epoch=75-step=3800.ckpt' as top 1\n",
      "Epoch 76, global step 3850: 'train_loss' was not in top 1\n",
      "Epoch 77, global step 3900: 'train_loss' reached -0.14210 (best -0.14210), saving model to '/home/eragroup/Documents/Documents/Koutas_Master_Thesis_Supervision/Junbo_Leng/lag_llama_model/lag-llama-main/lightning_logs/version_39/checkpoints/epoch=77-step=3900.ckpt' as top 1\n",
      "Epoch 78, global step 3950: 'train_loss' reached -0.15434 (best -0.15434), saving model to '/home/eragroup/Documents/Documents/Koutas_Master_Thesis_Supervision/Junbo_Leng/lag_llama_model/lag-llama-main/lightning_logs/version_39/checkpoints/epoch=78-step=3950.ckpt' as top 1\n",
      "Epoch 79, global step 4000: 'train_loss' reached -0.17266 (best -0.17266), saving model to '/home/eragroup/Documents/Documents/Koutas_Master_Thesis_Supervision/Junbo_Leng/lag_llama_model/lag-llama-main/lightning_logs/version_39/checkpoints/epoch=79-step=4000.ckpt' as top 1\n",
      "Epoch 80, global step 4050: 'train_loss' reached -0.17842 (best -0.17842), saving model to '/home/eragroup/Documents/Documents/Koutas_Master_Thesis_Supervision/Junbo_Leng/lag_llama_model/lag-llama-main/lightning_logs/version_39/checkpoints/epoch=80-step=4050.ckpt' as top 1\n",
      "Epoch 81, global step 4100: 'train_loss' reached -0.23500 (best -0.23500), saving model to '/home/eragroup/Documents/Documents/Koutas_Master_Thesis_Supervision/Junbo_Leng/lag_llama_model/lag-llama-main/lightning_logs/version_39/checkpoints/epoch=81-step=4100.ckpt' as top 1\n",
      "Epoch 82, global step 4150: 'train_loss' was not in top 1\n",
      "Epoch 83, global step 4200: 'train_loss' was not in top 1\n",
      "Epoch 84, global step 4250: 'train_loss' was not in top 1\n",
      "Epoch 85, global step 4300: 'train_loss' was not in top 1\n",
      "Epoch 86, global step 4350: 'train_loss' was not in top 1\n",
      "Epoch 87, global step 4400: 'train_loss' reached -0.28039 (best -0.28039), saving model to '/home/eragroup/Documents/Documents/Koutas_Master_Thesis_Supervision/Junbo_Leng/lag_llama_model/lag-llama-main/lightning_logs/version_39/checkpoints/epoch=87-step=4400.ckpt' as top 1\n",
      "Epoch 88, global step 4450: 'train_loss' was not in top 1\n",
      "Epoch 89, global step 4500: 'train_loss' reached -0.31722 (best -0.31722), saving model to '/home/eragroup/Documents/Documents/Koutas_Master_Thesis_Supervision/Junbo_Leng/lag_llama_model/lag-llama-main/lightning_logs/version_39/checkpoints/epoch=89-step=4500.ckpt' as top 1\n",
      "Epoch 90, global step 4550: 'train_loss' was not in top 1\n",
      "Epoch 91, global step 4600: 'train_loss' reached -0.32362 (best -0.32362), saving model to '/home/eragroup/Documents/Documents/Koutas_Master_Thesis_Supervision/Junbo_Leng/lag_llama_model/lag-llama-main/lightning_logs/version_39/checkpoints/epoch=91-step=4600.ckpt' as top 1\n",
      "Epoch 92, global step 4650: 'train_loss' was not in top 1\n",
      "Epoch 93, global step 4700: 'train_loss' was not in top 1\n",
      "Epoch 94, global step 4750: 'train_loss' was not in top 1\n",
      "Epoch 95, global step 4800: 'train_loss' was not in top 1\n",
      "Epoch 96, global step 4850: 'train_loss' was not in top 1\n",
      "Epoch 97, global step 4900: 'train_loss' was not in top 1\n",
      "Epoch 98, global step 4950: 'train_loss' was not in top 1\n",
      "Epoch 99, global step 5000: 'train_loss' was not in top 1\n",
      "`Trainer.fit` stopped: `max_epochs=100` reached.\n"
     ]
    },
    {
     "data": {
      "application/vnd.jupyter.widget-view+json": {
       "model_id": "9858914523f8433d809d3ee99fec8b3e",
       "version_major": 2,
       "version_minor": 0
      },
      "text/plain": [
       "Forecasting batches:   0%|          | 0/60 [00:00<?, ?it/s]"
      ]
     },
     "metadata": {},
     "output_type": "display_data"
    },
    {
     "data": {
      "application/vnd.jupyter.widget-view+json": {
       "model_id": "15ce5f5dbde44c58aae668633a187ff3",
       "version_major": 2,
       "version_minor": 0
      },
      "text/plain": [
       "Ground truth:   0%|          | 0/60 [00:00<?, ?it/s]"
      ]
     },
     "metadata": {},
     "output_type": "display_data"
    },
    {
     "name": "stderr",
     "output_type": "stream",
     "text": [
      "/tmp/ipykernel_18695/4101722395.py:14: FutureWarning: Series.__getitem__ treating keys as positions is deprecated. In a future version, integer keys will always be treated as labels (consistent with DataFrame behavior). To access a value by position, use `ser.iloc[pos]`\n",
      "  tss[i].values[:] = tss[i].values * test_df.std()[i] + test_df.mean()[i]\n",
      "/tmp/ipykernel_18695/4101722395.py:17: FutureWarning: Series.__getitem__ treating keys as positions is deprecated. In a future version, integer keys will always be treated as labels (consistent with DataFrame behavior). To access a value by position, use `ser.iloc[pos]`\n",
      "  std_value = test_df.std()[i]\n",
      "/tmp/ipykernel_18695/4101722395.py:18: FutureWarning: Series.__getitem__ treating keys as positions is deprecated. In a future version, integer keys will always be treated as labels (consistent with DataFrame behavior). To access a value by position, use `ser.iloc[pos]`\n",
      "  mean_value = test_df.mean()[i]\n",
      "Running evaluation: 60it [00:00, 235.05it/s]\n"
     ]
    },
    {
     "data": {
      "application/vnd.jupyter.widget-view+json": {
       "model_id": "",
       "version_major": 2,
       "version_minor": 0
      },
      "text/plain": [
       "VBox(children=(Label(value='0.003 MB of 0.003 MB uploaded\\r'), FloatProgress(value=1.0, max=1.0)))"
      ]
     },
     "metadata": {},
     "output_type": "display_data"
    },
    {
     "data": {
      "text/html": [
       "<style>\n",
       "    table.wandb td:nth-child(1) { padding: 0 10px; text-align: left ; width: auto;} td:nth-child(2) {text-align: left ; width: 100%}\n",
       "    .wandb-row { display: flex; flex-direction: row; flex-wrap: wrap; justify-content: flex-start; width: 100% }\n",
       "    .wandb-col { display: flex; flex-direction: column; flex-basis: 100%; flex: 1; padding: 10px; }\n",
       "    </style>\n",
       "<div class=\"wandb-row\"><div class=\"wandb-col\"><h3>Run history:</h3><br/><table class=\"wandb\"><tr><td>CPRS</td><td>▁</td></tr><tr><td>train_loss</td><td>▆█▆▆▇▄▄▅▅▃▄▇▆▁▆▆▂▆▆▄▃▅▄▄▃▄▄▄▂▃▃▃▃▂▃▂▃▂▂▂</td></tr></table><br/></div><div class=\"wandb-col\"><h3>Run summary:</h3><br/><table class=\"wandb\"><tr><td>CPRS</td><td>0.00035</td></tr><tr><td>train_loss</td><td>-0.36253</td></tr></table><br/></div></div>"
      ],
      "text/plain": [
       "<IPython.core.display.HTML object>"
      ]
     },
     "metadata": {},
     "output_type": "display_data"
    },
    {
     "data": {
      "text/html": [
       " View run <strong style=\"color:#cdcd00\">fallen-sweep-12</strong> at: <a href='https://wandb.ai/junboma/lag_llama_04_07/runs/2edy6d8a' target=\"_blank\">https://wandb.ai/junboma/lag_llama_04_07/runs/2edy6d8a</a><br/> View project at: <a href='https://wandb.ai/junboma/lag_llama_04_07' target=\"_blank\">https://wandb.ai/junboma/lag_llama_04_07</a><br/>Synced 6 W&B file(s), 0 media file(s), 0 artifact file(s) and 0 other file(s)"
      ],
      "text/plain": [
       "<IPython.core.display.HTML object>"
      ]
     },
     "metadata": {},
     "output_type": "display_data"
    },
    {
     "data": {
      "text/html": [
       "Find logs at: <code>./wandb/run-20240704_155000-2edy6d8a/logs</code>"
      ],
      "text/plain": [
       "<IPython.core.display.HTML object>"
      ]
     },
     "metadata": {},
     "output_type": "display_data"
    },
    {
     "name": "stderr",
     "output_type": "stream",
     "text": [
      "\u001b[34m\u001b[1mwandb\u001b[0m: Agent Starting Run: hf77gcou with config:\n",
      "\u001b[34m\u001b[1mwandb\u001b[0m: \tbatch_size: 2\n",
      "\u001b[34m\u001b[1mwandb\u001b[0m: \tcontext_length: 128\n",
      "\u001b[34m\u001b[1mwandb\u001b[0m: \tlr: 0.0005\n"
     ]
    },
    {
     "data": {
      "text/html": [
       "wandb version 0.17.4 is available!  To upgrade, please run:\n",
       " $ pip install wandb --upgrade"
      ],
      "text/plain": [
       "<IPython.core.display.HTML object>"
      ]
     },
     "metadata": {},
     "output_type": "display_data"
    },
    {
     "data": {
      "text/html": [
       "Tracking run with wandb version 0.17.1"
      ],
      "text/plain": [
       "<IPython.core.display.HTML object>"
      ]
     },
     "metadata": {},
     "output_type": "display_data"
    },
    {
     "data": {
      "text/html": [
       "Run data is saved locally in <code>/home/eragroup/Documents/Documents/Koutas_Master_Thesis_Supervision/Junbo_Leng/lag_llama_model/lag-llama-main/wandb/run-20240704_155806-hf77gcou</code>"
      ],
      "text/plain": [
       "<IPython.core.display.HTML object>"
      ]
     },
     "metadata": {},
     "output_type": "display_data"
    },
    {
     "data": {
      "text/html": [
       "Syncing run <strong><a href='https://wandb.ai/junboma/lag_llama_04_07/runs/hf77gcou' target=\"_blank\">smart-sweep-13</a></strong> to <a href='https://wandb.ai/junboma/lag_llama_04_07' target=\"_blank\">Weights & Biases</a> (<a href='https://wandb.me/run' target=\"_blank\">docs</a>)<br/>Sweep page: <a href='https://wandb.ai/junboma/lag_llama_04_07/sweeps/8bk4uije' target=\"_blank\">https://wandb.ai/junboma/lag_llama_04_07/sweeps/8bk4uije</a>"
      ],
      "text/plain": [
       "<IPython.core.display.HTML object>"
      ]
     },
     "metadata": {},
     "output_type": "display_data"
    },
    {
     "data": {
      "text/html": [
       " View project at <a href='https://wandb.ai/junboma/lag_llama_04_07' target=\"_blank\">https://wandb.ai/junboma/lag_llama_04_07</a>"
      ],
      "text/plain": [
       "<IPython.core.display.HTML object>"
      ]
     },
     "metadata": {},
     "output_type": "display_data"
    },
    {
     "data": {
      "text/html": [
       " View sweep at <a href='https://wandb.ai/junboma/lag_llama_04_07/sweeps/8bk4uije' target=\"_blank\">https://wandb.ai/junboma/lag_llama_04_07/sweeps/8bk4uije</a>"
      ],
      "text/plain": [
       "<IPython.core.display.HTML object>"
      ]
     },
     "metadata": {},
     "output_type": "display_data"
    },
    {
     "data": {
      "text/html": [
       " View run at <a href='https://wandb.ai/junboma/lag_llama_04_07/runs/hf77gcou' target=\"_blank\">https://wandb.ai/junboma/lag_llama_04_07/runs/hf77gcou</a>"
      ],
      "text/plain": [
       "<IPython.core.display.HTML object>"
      ]
     },
     "metadata": {},
     "output_type": "display_data"
    },
    {
     "name": "stderr",
     "output_type": "stream",
     "text": [
      "\u001b[34m\u001b[1mwandb\u001b[0m: \u001b[33mWARNING\u001b[0m Ignored wandb.init() arg project when running a sweep.\n"
     ]
    },
    {
     "data": {
      "text/html": [
       "Finishing last run (ID:hf77gcou) before initializing another..."
      ],
      "text/plain": [
       "<IPython.core.display.HTML object>"
      ]
     },
     "metadata": {},
     "output_type": "display_data"
    },
    {
     "data": {
      "application/vnd.jupyter.widget-view+json": {
       "model_id": "",
       "version_major": 2,
       "version_minor": 0
      },
      "text/plain": [
       "VBox(children=(Label(value='0.003 MB of 0.003 MB uploaded\\r'), FloatProgress(value=1.0, max=1.0)))"
      ]
     },
     "metadata": {},
     "output_type": "display_data"
    },
    {
     "data": {
      "text/html": [
       " View run <strong style=\"color:#cdcd00\">smart-sweep-13</strong> at: <a href='https://wandb.ai/junboma/lag_llama_04_07/runs/hf77gcou' target=\"_blank\">https://wandb.ai/junboma/lag_llama_04_07/runs/hf77gcou</a><br/> View project at: <a href='https://wandb.ai/junboma/lag_llama_04_07' target=\"_blank\">https://wandb.ai/junboma/lag_llama_04_07</a><br/>Synced 6 W&B file(s), 0 media file(s), 0 artifact file(s) and 0 other file(s)"
      ],
      "text/plain": [
       "<IPython.core.display.HTML object>"
      ]
     },
     "metadata": {},
     "output_type": "display_data"
    },
    {
     "data": {
      "text/html": [
       "Find logs at: <code>./wandb/run-20240704_155806-hf77gcou/logs</code>"
      ],
      "text/plain": [
       "<IPython.core.display.HTML object>"
      ]
     },
     "metadata": {},
     "output_type": "display_data"
    },
    {
     "data": {
      "text/html": [
       "Successfully finished last run (ID:hf77gcou). Initializing new run:<br/>"
      ],
      "text/plain": [
       "<IPython.core.display.HTML object>"
      ]
     },
     "metadata": {},
     "output_type": "display_data"
    },
    {
     "data": {
      "application/vnd.jupyter.widget-view+json": {
       "model_id": "a8ae3bd256e242fba1cb22f4b03ef45f",
       "version_major": 2,
       "version_minor": 0
      },
      "text/plain": [
       "VBox(children=(Label(value='Waiting for wandb.init()...\\r'), FloatProgress(value=0.011112442674736182, max=1.0…"
      ]
     },
     "metadata": {},
     "output_type": "display_data"
    },
    {
     "data": {
      "text/html": [
       "wandb version 0.17.4 is available!  To upgrade, please run:\n",
       " $ pip install wandb --upgrade"
      ],
      "text/plain": [
       "<IPython.core.display.HTML object>"
      ]
     },
     "metadata": {},
     "output_type": "display_data"
    },
    {
     "data": {
      "text/html": [
       "Tracking run with wandb version 0.17.1"
      ],
      "text/plain": [
       "<IPython.core.display.HTML object>"
      ]
     },
     "metadata": {},
     "output_type": "display_data"
    },
    {
     "data": {
      "text/html": [
       "Run data is saved locally in <code>/home/eragroup/Documents/Documents/Koutas_Master_Thesis_Supervision/Junbo_Leng/lag_llama_model/lag-llama-main/wandb/run-20240704_155820-hf77gcou</code>"
      ],
      "text/plain": [
       "<IPython.core.display.HTML object>"
      ]
     },
     "metadata": {},
     "output_type": "display_data"
    },
    {
     "data": {
      "text/html": [
       "Syncing run <strong><a href='https://wandb.ai/junboma/lag_llama_04_07/runs/hf77gcou' target=\"_blank\">smart-sweep-13</a></strong> to <a href='https://wandb.ai/junboma/lag_llama_04_07' target=\"_blank\">Weights & Biases</a> (<a href='https://wandb.me/run' target=\"_blank\">docs</a>)<br/>Sweep page: <a href='https://wandb.ai/junboma/lag_llama_04_07/sweeps/8bk4uije' target=\"_blank\">https://wandb.ai/junboma/lag_llama_04_07/sweeps/8bk4uije</a>"
      ],
      "text/plain": [
       "<IPython.core.display.HTML object>"
      ]
     },
     "metadata": {},
     "output_type": "display_data"
    },
    {
     "data": {
      "text/html": [
       " View project at <a href='https://wandb.ai/junboma/lag_llama_04_07' target=\"_blank\">https://wandb.ai/junboma/lag_llama_04_07</a>"
      ],
      "text/plain": [
       "<IPython.core.display.HTML object>"
      ]
     },
     "metadata": {},
     "output_type": "display_data"
    },
    {
     "data": {
      "text/html": [
       " View sweep at <a href='https://wandb.ai/junboma/lag_llama_04_07/sweeps/8bk4uije' target=\"_blank\">https://wandb.ai/junboma/lag_llama_04_07/sweeps/8bk4uije</a>"
      ],
      "text/plain": [
       "<IPython.core.display.HTML object>"
      ]
     },
     "metadata": {},
     "output_type": "display_data"
    },
    {
     "data": {
      "text/html": [
       " View run at <a href='https://wandb.ai/junboma/lag_llama_04_07/runs/hf77gcou' target=\"_blank\">https://wandb.ai/junboma/lag_llama_04_07/runs/hf77gcou</a>"
      ],
      "text/plain": [
       "<IPython.core.display.HTML object>"
      ]
     },
     "metadata": {},
     "output_type": "display_data"
    },
    {
     "name": "stderr",
     "output_type": "stream",
     "text": [
      "GPU available: True (cuda), used: True\n",
      "TPU available: False, using: 0 TPU cores\n",
      "IPU available: False, using: 0 IPUs\n",
      "HPU available: False, using: 0 HPUs\n",
      "/home/eragroup/anaconda3/envs/lag_llama/lib/python3.12/site-packages/lightning/pytorch/trainer/configuration_validator.py:74: You defined a `validation_step` but have no `val_dataloader`. Skipping val loop.\n",
      "LOCAL_RANK: 0 - CUDA_VISIBLE_DEVICES: [0]\n",
      "\n",
      "  | Name          | Type               | Params\n",
      "-----------------------------------------------------\n",
      "0 | model         | LagLlamaModel      | 2.4 M \n",
      "1 | augmentations | ApplyAugmentations | 0     \n",
      "-----------------------------------------------------\n",
      "2.4 M     Trainable params\n",
      "0         Non-trainable params\n",
      "2.4 M     Total params\n",
      "9.797     Total estimated model params size (MB)\n"
     ]
    },
    {
     "data": {
      "application/vnd.jupyter.widget-view+json": {
       "model_id": "f84de0f04f36487b82ae23d9a0c6d276",
       "version_major": 2,
       "version_minor": 0
      },
      "text/plain": [
       "Training: |                                               | 0/? [00:00<?, ?it/s]"
      ]
     },
     "metadata": {},
     "output_type": "display_data"
    },
    {
     "name": "stderr",
     "output_type": "stream",
     "text": [
      "Epoch 0, global step 50: 'train_loss' reached 0.58442 (best 0.58442), saving model to '/home/eragroup/Documents/Documents/Koutas_Master_Thesis_Supervision/Junbo_Leng/lag_llama_model/lag-llama-main/lightning_logs/version_40/checkpoints/epoch=0-step=50.ckpt' as top 1\n",
      "Epoch 1, global step 100: 'train_loss' was not in top 1\n",
      "Epoch 2, global step 150: 'train_loss' reached 0.47533 (best 0.47533), saving model to '/home/eragroup/Documents/Documents/Koutas_Master_Thesis_Supervision/Junbo_Leng/lag_llama_model/lag-llama-main/lightning_logs/version_40/checkpoints/epoch=2-step=150.ckpt' as top 1\n",
      "Epoch 3, global step 200: 'train_loss' was not in top 1\n",
      "Epoch 4, global step 250: 'train_loss' was not in top 1\n",
      "Epoch 5, global step 300: 'train_loss' was not in top 1\n",
      "Epoch 6, global step 350: 'train_loss' reached 0.41832 (best 0.41832), saving model to '/home/eragroup/Documents/Documents/Koutas_Master_Thesis_Supervision/Junbo_Leng/lag_llama_model/lag-llama-main/lightning_logs/version_40/checkpoints/epoch=6-step=350.ckpt' as top 1\n",
      "Epoch 7, global step 400: 'train_loss' was not in top 1\n",
      "Epoch 8, global step 450: 'train_loss' reached 0.36413 (best 0.36413), saving model to '/home/eragroup/Documents/Documents/Koutas_Master_Thesis_Supervision/Junbo_Leng/lag_llama_model/lag-llama-main/lightning_logs/version_40/checkpoints/epoch=8-step=450.ckpt' as top 1\n",
      "Epoch 9, global step 500: 'train_loss' was not in top 1\n",
      "Epoch 10, global step 550: 'train_loss' was not in top 1\n",
      "Epoch 11, global step 600: 'train_loss' was not in top 1\n",
      "Epoch 12, global step 650: 'train_loss' was not in top 1\n",
      "Epoch 13, global step 700: 'train_loss' was not in top 1\n",
      "Epoch 14, global step 750: 'train_loss' was not in top 1\n",
      "Epoch 15, global step 800: 'train_loss' was not in top 1\n",
      "Epoch 16, global step 850: 'train_loss' was not in top 1\n",
      "Epoch 17, global step 900: 'train_loss' was not in top 1\n",
      "Epoch 18, global step 950: 'train_loss' was not in top 1\n",
      "Epoch 19, global step 1000: 'train_loss' reached 0.34641 (best 0.34641), saving model to '/home/eragroup/Documents/Documents/Koutas_Master_Thesis_Supervision/Junbo_Leng/lag_llama_model/lag-llama-main/lightning_logs/version_40/checkpoints/epoch=19-step=1000.ckpt' as top 1\n",
      "Epoch 20, global step 1050: 'train_loss' reached 0.33389 (best 0.33389), saving model to '/home/eragroup/Documents/Documents/Koutas_Master_Thesis_Supervision/Junbo_Leng/lag_llama_model/lag-llama-main/lightning_logs/version_40/checkpoints/epoch=20-step=1050.ckpt' as top 1\n",
      "Epoch 21, global step 1100: 'train_loss' was not in top 1\n",
      "Epoch 22, global step 1150: 'train_loss' was not in top 1\n",
      "Epoch 23, global step 1200: 'train_loss' was not in top 1\n",
      "Epoch 24, global step 1250: 'train_loss' was not in top 1\n",
      "Epoch 25, global step 1300: 'train_loss' was not in top 1\n",
      "Epoch 26, global step 1350: 'train_loss' was not in top 1\n",
      "Epoch 27, global step 1400: 'train_loss' was not in top 1\n",
      "Epoch 28, global step 1450: 'train_loss' reached 0.31748 (best 0.31748), saving model to '/home/eragroup/Documents/Documents/Koutas_Master_Thesis_Supervision/Junbo_Leng/lag_llama_model/lag-llama-main/lightning_logs/version_40/checkpoints/epoch=28-step=1450.ckpt' as top 1\n",
      "Epoch 29, global step 1500: 'train_loss' reached 0.31539 (best 0.31539), saving model to '/home/eragroup/Documents/Documents/Koutas_Master_Thesis_Supervision/Junbo_Leng/lag_llama_model/lag-llama-main/lightning_logs/version_40/checkpoints/epoch=29-step=1500.ckpt' as top 1\n",
      "Epoch 30, global step 1550: 'train_loss' was not in top 1\n",
      "Epoch 31, global step 1600: 'train_loss' was not in top 1\n",
      "Epoch 32, global step 1650: 'train_loss' reached 0.27618 (best 0.27618), saving model to '/home/eragroup/Documents/Documents/Koutas_Master_Thesis_Supervision/Junbo_Leng/lag_llama_model/lag-llama-main/lightning_logs/version_40/checkpoints/epoch=32-step=1650.ckpt' as top 1\n",
      "Epoch 33, global step 1700: 'train_loss' was not in top 1\n",
      "Epoch 34, global step 1750: 'train_loss' was not in top 1\n",
      "Epoch 35, global step 1800: 'train_loss' was not in top 1\n",
      "Epoch 36, global step 1850: 'train_loss' was not in top 1\n",
      "Epoch 37, global step 1900: 'train_loss' was not in top 1\n",
      "Epoch 38, global step 1950: 'train_loss' was not in top 1\n",
      "Epoch 39, global step 2000: 'train_loss' was not in top 1\n",
      "Epoch 40, global step 2050: 'train_loss' was not in top 1\n",
      "Epoch 41, global step 2100: 'train_loss' was not in top 1\n",
      "Epoch 42, global step 2150: 'train_loss' was not in top 1\n",
      "Epoch 43, global step 2200: 'train_loss' was not in top 1\n",
      "Epoch 44, global step 2250: 'train_loss' was not in top 1\n",
      "Epoch 45, global step 2300: 'train_loss' was not in top 1\n",
      "Epoch 46, global step 2350: 'train_loss' was not in top 1\n",
      "Epoch 47, global step 2400: 'train_loss' was not in top 1\n",
      "Epoch 48, global step 2450: 'train_loss' was not in top 1\n",
      "Epoch 49, global step 2500: 'train_loss' was not in top 1\n",
      "Epoch 50, global step 2550: 'train_loss' was not in top 1\n",
      "Epoch 51, global step 2600: 'train_loss' was not in top 1\n",
      "Epoch 52, global step 2650: 'train_loss' was not in top 1\n",
      "Epoch 53, global step 2700: 'train_loss' was not in top 1\n",
      "Epoch 54, global step 2750: 'train_loss' was not in top 1\n",
      "Epoch 55, global step 2800: 'train_loss' reached 0.20547 (best 0.20547), saving model to '/home/eragroup/Documents/Documents/Koutas_Master_Thesis_Supervision/Junbo_Leng/lag_llama_model/lag-llama-main/lightning_logs/version_40/checkpoints/epoch=55-step=2800.ckpt' as top 1\n",
      "Epoch 56, global step 2850: 'train_loss' reached 0.20227 (best 0.20227), saving model to '/home/eragroup/Documents/Documents/Koutas_Master_Thesis_Supervision/Junbo_Leng/lag_llama_model/lag-llama-main/lightning_logs/version_40/checkpoints/epoch=56-step=2850.ckpt' as top 1\n",
      "Epoch 57, global step 2900: 'train_loss' was not in top 1\n",
      "Epoch 58, global step 2950: 'train_loss' was not in top 1\n",
      "Epoch 59, global step 3000: 'train_loss' was not in top 1\n",
      "Epoch 60, global step 3050: 'train_loss' was not in top 1\n",
      "Epoch 61, global step 3100: 'train_loss' reached 0.19352 (best 0.19352), saving model to '/home/eragroup/Documents/Documents/Koutas_Master_Thesis_Supervision/Junbo_Leng/lag_llama_model/lag-llama-main/lightning_logs/version_40/checkpoints/epoch=61-step=3100.ckpt' as top 1\n",
      "Epoch 62, global step 3150: 'train_loss' reached 0.11277 (best 0.11277), saving model to '/home/eragroup/Documents/Documents/Koutas_Master_Thesis_Supervision/Junbo_Leng/lag_llama_model/lag-llama-main/lightning_logs/version_40/checkpoints/epoch=62-step=3150.ckpt' as top 1\n",
      "Epoch 63, global step 3200: 'train_loss' was not in top 1\n",
      "Epoch 64, global step 3250: 'train_loss' was not in top 1\n",
      "Epoch 65, global step 3300: 'train_loss' was not in top 1\n",
      "Epoch 66, global step 3350: 'train_loss' was not in top 1\n",
      "Epoch 67, global step 3400: 'train_loss' was not in top 1\n",
      "Epoch 68, global step 3450: 'train_loss' was not in top 1\n",
      "Epoch 69, global step 3500: 'train_loss' was not in top 1\n",
      "Epoch 70, global step 3550: 'train_loss' was not in top 1\n",
      "Epoch 71, global step 3600: 'train_loss' was not in top 1\n",
      "Epoch 72, global step 3650: 'train_loss' was not in top 1\n",
      "Epoch 73, global step 3700: 'train_loss' was not in top 1\n",
      "Epoch 74, global step 3750: 'train_loss' was not in top 1\n",
      "Epoch 75, global step 3800: 'train_loss' was not in top 1\n",
      "Epoch 76, global step 3850: 'train_loss' was not in top 1\n",
      "Epoch 77, global step 3900: 'train_loss' was not in top 1\n",
      "Epoch 78, global step 3950: 'train_loss' was not in top 1\n",
      "Epoch 79, global step 4000: 'train_loss' reached 0.10474 (best 0.10474), saving model to '/home/eragroup/Documents/Documents/Koutas_Master_Thesis_Supervision/Junbo_Leng/lag_llama_model/lag-llama-main/lightning_logs/version_40/checkpoints/epoch=79-step=4000.ckpt' as top 1\n",
      "Epoch 80, global step 4050: 'train_loss' reached 0.07185 (best 0.07185), saving model to '/home/eragroup/Documents/Documents/Koutas_Master_Thesis_Supervision/Junbo_Leng/lag_llama_model/lag-llama-main/lightning_logs/version_40/checkpoints/epoch=80-step=4050.ckpt' as top 1\n",
      "Epoch 81, global step 4100: 'train_loss' was not in top 1\n",
      "Epoch 82, global step 4150: 'train_loss' was not in top 1\n",
      "Epoch 83, global step 4200: 'train_loss' was not in top 1\n",
      "Epoch 84, global step 4250: 'train_loss' was not in top 1\n",
      "Epoch 85, global step 4300: 'train_loss' was not in top 1\n",
      "Epoch 86, global step 4350: 'train_loss' reached 0.06385 (best 0.06385), saving model to '/home/eragroup/Documents/Documents/Koutas_Master_Thesis_Supervision/Junbo_Leng/lag_llama_model/lag-llama-main/lightning_logs/version_40/checkpoints/epoch=86-step=4350.ckpt' as top 1\n",
      "Epoch 87, global step 4400: 'train_loss' was not in top 1\n",
      "Epoch 88, global step 4450: 'train_loss' reached -0.03180 (best -0.03180), saving model to '/home/eragroup/Documents/Documents/Koutas_Master_Thesis_Supervision/Junbo_Leng/lag_llama_model/lag-llama-main/lightning_logs/version_40/checkpoints/epoch=88-step=4450.ckpt' as top 1\n",
      "Epoch 89, global step 4500: 'train_loss' was not in top 1\n",
      "Epoch 90, global step 4550: 'train_loss' was not in top 1\n",
      "Epoch 91, global step 4600: 'train_loss' was not in top 1\n",
      "Epoch 92, global step 4650: 'train_loss' was not in top 1\n",
      "Epoch 93, global step 4700: 'train_loss' was not in top 1\n",
      "Epoch 94, global step 4750: 'train_loss' was not in top 1\n",
      "Epoch 95, global step 4800: 'train_loss' reached -0.05093 (best -0.05093), saving model to '/home/eragroup/Documents/Documents/Koutas_Master_Thesis_Supervision/Junbo_Leng/lag_llama_model/lag-llama-main/lightning_logs/version_40/checkpoints/epoch=95-step=4800.ckpt' as top 1\n",
      "Epoch 96, global step 4850: 'train_loss' reached -0.06434 (best -0.06434), saving model to '/home/eragroup/Documents/Documents/Koutas_Master_Thesis_Supervision/Junbo_Leng/lag_llama_model/lag-llama-main/lightning_logs/version_40/checkpoints/epoch=96-step=4850.ckpt' as top 1\n",
      "Epoch 97, global step 4900: 'train_loss' was not in top 1\n",
      "Epoch 98, global step 4950: 'train_loss' reached -0.07357 (best -0.07357), saving model to '/home/eragroup/Documents/Documents/Koutas_Master_Thesis_Supervision/Junbo_Leng/lag_llama_model/lag-llama-main/lightning_logs/version_40/checkpoints/epoch=98-step=4950.ckpt' as top 1\n",
      "Epoch 99, global step 5000: 'train_loss' reached -0.08980 (best -0.08980), saving model to '/home/eragroup/Documents/Documents/Koutas_Master_Thesis_Supervision/Junbo_Leng/lag_llama_model/lag-llama-main/lightning_logs/version_40/checkpoints/epoch=99-step=5000.ckpt' as top 1\n",
      "`Trainer.fit` stopped: `max_epochs=100` reached.\n"
     ]
    },
    {
     "data": {
      "application/vnd.jupyter.widget-view+json": {
       "model_id": "9e86d7b04f7e42c887642abe671db5d2",
       "version_major": 2,
       "version_minor": 0
      },
      "text/plain": [
       "Forecasting batches:   0%|          | 0/60 [00:00<?, ?it/s]"
      ]
     },
     "metadata": {},
     "output_type": "display_data"
    },
    {
     "data": {
      "application/vnd.jupyter.widget-view+json": {
       "model_id": "be352f16bc114103a7f07f11498b3a65",
       "version_major": 2,
       "version_minor": 0
      },
      "text/plain": [
       "Ground truth:   0%|          | 0/60 [00:00<?, ?it/s]"
      ]
     },
     "metadata": {},
     "output_type": "display_data"
    },
    {
     "name": "stderr",
     "output_type": "stream",
     "text": [
      "/tmp/ipykernel_18695/4101722395.py:14: FutureWarning: Series.__getitem__ treating keys as positions is deprecated. In a future version, integer keys will always be treated as labels (consistent with DataFrame behavior). To access a value by position, use `ser.iloc[pos]`\n",
      "  tss[i].values[:] = tss[i].values * test_df.std()[i] + test_df.mean()[i]\n",
      "/tmp/ipykernel_18695/4101722395.py:17: FutureWarning: Series.__getitem__ treating keys as positions is deprecated. In a future version, integer keys will always be treated as labels (consistent with DataFrame behavior). To access a value by position, use `ser.iloc[pos]`\n",
      "  std_value = test_df.std()[i]\n",
      "/tmp/ipykernel_18695/4101722395.py:18: FutureWarning: Series.__getitem__ treating keys as positions is deprecated. In a future version, integer keys will always be treated as labels (consistent with DataFrame behavior). To access a value by position, use `ser.iloc[pos]`\n",
      "  mean_value = test_df.mean()[i]\n",
      "Running evaluation: 60it [00:00, 241.12it/s]\n"
     ]
    },
    {
     "data": {
      "application/vnd.jupyter.widget-view+json": {
       "model_id": "",
       "version_major": 2,
       "version_minor": 0
      },
      "text/plain": [
       "VBox(children=(Label(value='0.003 MB of 0.003 MB uploaded\\r'), FloatProgress(value=1.0, max=1.0)))"
      ]
     },
     "metadata": {},
     "output_type": "display_data"
    },
    {
     "data": {
      "text/html": [
       "<style>\n",
       "    table.wandb td:nth-child(1) { padding: 0 10px; text-align: left ; width: auto;} td:nth-child(2) {text-align: left ; width: 100%}\n",
       "    .wandb-row { display: flex; flex-direction: row; flex-wrap: wrap; justify-content: flex-start; width: 100% }\n",
       "    .wandb-col { display: flex; flex-direction: column; flex-basis: 100%; flex: 1; padding: 10px; }\n",
       "    </style>\n",
       "<div class=\"wandb-row\"><div class=\"wandb-col\"><h3>Run history:</h3><br/><table class=\"wandb\"><tr><td>CPRS</td><td>▁</td></tr><tr><td>train_loss</td><td>▆▃█▃▃▅█▅▄▃▅▅▇▅▄▇▃▆▆▄▃▆▄▄▅▃▄▃▃▄▃▁▅▃▁▃▂▃▁▃</td></tr></table><br/></div><div class=\"wandb-col\"><h3>Run summary:</h3><br/><table class=\"wandb\"><tr><td>CPRS</td><td>0.00045</td></tr><tr><td>train_loss</td><td>0.07142</td></tr></table><br/></div></div>"
      ],
      "text/plain": [
       "<IPython.core.display.HTML object>"
      ]
     },
     "metadata": {},
     "output_type": "display_data"
    },
    {
     "data": {
      "text/html": [
       " View run <strong style=\"color:#cdcd00\">smart-sweep-13</strong> at: <a href='https://wandb.ai/junboma/lag_llama_04_07/runs/hf77gcou' target=\"_blank\">https://wandb.ai/junboma/lag_llama_04_07/runs/hf77gcou</a><br/> View project at: <a href='https://wandb.ai/junboma/lag_llama_04_07' target=\"_blank\">https://wandb.ai/junboma/lag_llama_04_07</a><br/>Synced 6 W&B file(s), 0 media file(s), 0 artifact file(s) and 0 other file(s)"
      ],
      "text/plain": [
       "<IPython.core.display.HTML object>"
      ]
     },
     "metadata": {},
     "output_type": "display_data"
    },
    {
     "data": {
      "text/html": [
       "Find logs at: <code>./wandb/run-20240704_155820-hf77gcou/logs</code>"
      ],
      "text/plain": [
       "<IPython.core.display.HTML object>"
      ]
     },
     "metadata": {},
     "output_type": "display_data"
    },
    {
     "name": "stderr",
     "output_type": "stream",
     "text": [
      "\u001b[34m\u001b[1mwandb\u001b[0m: Agent Starting Run: x9hq3kq7 with config:\n",
      "\u001b[34m\u001b[1mwandb\u001b[0m: \tbatch_size: 2\n",
      "\u001b[34m\u001b[1mwandb\u001b[0m: \tcontext_length: 128\n",
      "\u001b[34m\u001b[1mwandb\u001b[0m: \tlr: 0.001\n"
     ]
    },
    {
     "data": {
      "text/html": [
       "wandb version 0.17.4 is available!  To upgrade, please run:\n",
       " $ pip install wandb --upgrade"
      ],
      "text/plain": [
       "<IPython.core.display.HTML object>"
      ]
     },
     "metadata": {},
     "output_type": "display_data"
    },
    {
     "data": {
      "text/html": [
       "Tracking run with wandb version 0.17.1"
      ],
      "text/plain": [
       "<IPython.core.display.HTML object>"
      ]
     },
     "metadata": {},
     "output_type": "display_data"
    },
    {
     "data": {
      "text/html": [
       "Run data is saved locally in <code>/home/eragroup/Documents/Documents/Koutas_Master_Thesis_Supervision/Junbo_Leng/lag_llama_model/lag-llama-main/wandb/run-20240704_160656-x9hq3kq7</code>"
      ],
      "text/plain": [
       "<IPython.core.display.HTML object>"
      ]
     },
     "metadata": {},
     "output_type": "display_data"
    },
    {
     "data": {
      "text/html": [
       "Syncing run <strong><a href='https://wandb.ai/junboma/lag_llama_04_07/runs/x9hq3kq7' target=\"_blank\">spring-sweep-14</a></strong> to <a href='https://wandb.ai/junboma/lag_llama_04_07' target=\"_blank\">Weights & Biases</a> (<a href='https://wandb.me/run' target=\"_blank\">docs</a>)<br/>Sweep page: <a href='https://wandb.ai/junboma/lag_llama_04_07/sweeps/8bk4uije' target=\"_blank\">https://wandb.ai/junboma/lag_llama_04_07/sweeps/8bk4uije</a>"
      ],
      "text/plain": [
       "<IPython.core.display.HTML object>"
      ]
     },
     "metadata": {},
     "output_type": "display_data"
    },
    {
     "data": {
      "text/html": [
       " View project at <a href='https://wandb.ai/junboma/lag_llama_04_07' target=\"_blank\">https://wandb.ai/junboma/lag_llama_04_07</a>"
      ],
      "text/plain": [
       "<IPython.core.display.HTML object>"
      ]
     },
     "metadata": {},
     "output_type": "display_data"
    },
    {
     "data": {
      "text/html": [
       " View sweep at <a href='https://wandb.ai/junboma/lag_llama_04_07/sweeps/8bk4uije' target=\"_blank\">https://wandb.ai/junboma/lag_llama_04_07/sweeps/8bk4uije</a>"
      ],
      "text/plain": [
       "<IPython.core.display.HTML object>"
      ]
     },
     "metadata": {},
     "output_type": "display_data"
    },
    {
     "data": {
      "text/html": [
       " View run at <a href='https://wandb.ai/junboma/lag_llama_04_07/runs/x9hq3kq7' target=\"_blank\">https://wandb.ai/junboma/lag_llama_04_07/runs/x9hq3kq7</a>"
      ],
      "text/plain": [
       "<IPython.core.display.HTML object>"
      ]
     },
     "metadata": {},
     "output_type": "display_data"
    },
    {
     "name": "stderr",
     "output_type": "stream",
     "text": [
      "\u001b[34m\u001b[1mwandb\u001b[0m: \u001b[33mWARNING\u001b[0m Ignored wandb.init() arg project when running a sweep.\n"
     ]
    },
    {
     "data": {
      "text/html": [
       "Finishing last run (ID:x9hq3kq7) before initializing another..."
      ],
      "text/plain": [
       "<IPython.core.display.HTML object>"
      ]
     },
     "metadata": {},
     "output_type": "display_data"
    },
    {
     "data": {
      "application/vnd.jupyter.widget-view+json": {
       "model_id": "",
       "version_major": 2,
       "version_minor": 0
      },
      "text/plain": [
       "VBox(children=(Label(value='0.003 MB of 0.003 MB uploaded\\r'), FloatProgress(value=1.0, max=1.0)))"
      ]
     },
     "metadata": {},
     "output_type": "display_data"
    },
    {
     "data": {
      "text/html": [
       " View run <strong style=\"color:#cdcd00\">spring-sweep-14</strong> at: <a href='https://wandb.ai/junboma/lag_llama_04_07/runs/x9hq3kq7' target=\"_blank\">https://wandb.ai/junboma/lag_llama_04_07/runs/x9hq3kq7</a><br/> View project at: <a href='https://wandb.ai/junboma/lag_llama_04_07' target=\"_blank\">https://wandb.ai/junboma/lag_llama_04_07</a><br/>Synced 6 W&B file(s), 0 media file(s), 0 artifact file(s) and 0 other file(s)"
      ],
      "text/plain": [
       "<IPython.core.display.HTML object>"
      ]
     },
     "metadata": {},
     "output_type": "display_data"
    },
    {
     "data": {
      "text/html": [
       "Find logs at: <code>./wandb/run-20240704_160656-x9hq3kq7/logs</code>"
      ],
      "text/plain": [
       "<IPython.core.display.HTML object>"
      ]
     },
     "metadata": {},
     "output_type": "display_data"
    },
    {
     "data": {
      "text/html": [
       "Successfully finished last run (ID:x9hq3kq7). Initializing new run:<br/>"
      ],
      "text/plain": [
       "<IPython.core.display.HTML object>"
      ]
     },
     "metadata": {},
     "output_type": "display_data"
    },
    {
     "data": {
      "application/vnd.jupyter.widget-view+json": {
       "model_id": "ee4e9a12f5c048008bd0996604e1cb5c",
       "version_major": 2,
       "version_minor": 0
      },
      "text/plain": [
       "VBox(children=(Label(value='Waiting for wandb.init()...\\r'), FloatProgress(value=0.011112643333358898, max=1.0…"
      ]
     },
     "metadata": {},
     "output_type": "display_data"
    },
    {
     "data": {
      "text/html": [
       "wandb version 0.17.4 is available!  To upgrade, please run:\n",
       " $ pip install wandb --upgrade"
      ],
      "text/plain": [
       "<IPython.core.display.HTML object>"
      ]
     },
     "metadata": {},
     "output_type": "display_data"
    },
    {
     "data": {
      "text/html": [
       "Tracking run with wandb version 0.17.1"
      ],
      "text/plain": [
       "<IPython.core.display.HTML object>"
      ]
     },
     "metadata": {},
     "output_type": "display_data"
    },
    {
     "data": {
      "text/html": [
       "Run data is saved locally in <code>/home/eragroup/Documents/Documents/Koutas_Master_Thesis_Supervision/Junbo_Leng/lag_llama_model/lag-llama-main/wandb/run-20240704_160711-x9hq3kq7</code>"
      ],
      "text/plain": [
       "<IPython.core.display.HTML object>"
      ]
     },
     "metadata": {},
     "output_type": "display_data"
    },
    {
     "data": {
      "text/html": [
       "Syncing run <strong><a href='https://wandb.ai/junboma/lag_llama_04_07/runs/x9hq3kq7' target=\"_blank\">spring-sweep-14</a></strong> to <a href='https://wandb.ai/junboma/lag_llama_04_07' target=\"_blank\">Weights & Biases</a> (<a href='https://wandb.me/run' target=\"_blank\">docs</a>)<br/>Sweep page: <a href='https://wandb.ai/junboma/lag_llama_04_07/sweeps/8bk4uije' target=\"_blank\">https://wandb.ai/junboma/lag_llama_04_07/sweeps/8bk4uije</a>"
      ],
      "text/plain": [
       "<IPython.core.display.HTML object>"
      ]
     },
     "metadata": {},
     "output_type": "display_data"
    },
    {
     "data": {
      "text/html": [
       " View project at <a href='https://wandb.ai/junboma/lag_llama_04_07' target=\"_blank\">https://wandb.ai/junboma/lag_llama_04_07</a>"
      ],
      "text/plain": [
       "<IPython.core.display.HTML object>"
      ]
     },
     "metadata": {},
     "output_type": "display_data"
    },
    {
     "data": {
      "text/html": [
       " View sweep at <a href='https://wandb.ai/junboma/lag_llama_04_07/sweeps/8bk4uije' target=\"_blank\">https://wandb.ai/junboma/lag_llama_04_07/sweeps/8bk4uije</a>"
      ],
      "text/plain": [
       "<IPython.core.display.HTML object>"
      ]
     },
     "metadata": {},
     "output_type": "display_data"
    },
    {
     "data": {
      "text/html": [
       " View run at <a href='https://wandb.ai/junboma/lag_llama_04_07/runs/x9hq3kq7' target=\"_blank\">https://wandb.ai/junboma/lag_llama_04_07/runs/x9hq3kq7</a>"
      ],
      "text/plain": [
       "<IPython.core.display.HTML object>"
      ]
     },
     "metadata": {},
     "output_type": "display_data"
    },
    {
     "name": "stderr",
     "output_type": "stream",
     "text": [
      "GPU available: True (cuda), used: True\n",
      "TPU available: False, using: 0 TPU cores\n",
      "IPU available: False, using: 0 IPUs\n",
      "HPU available: False, using: 0 HPUs\n",
      "/home/eragroup/anaconda3/envs/lag_llama/lib/python3.12/site-packages/lightning/pytorch/trainer/configuration_validator.py:74: You defined a `validation_step` but have no `val_dataloader`. Skipping val loop.\n",
      "LOCAL_RANK: 0 - CUDA_VISIBLE_DEVICES: [0]\n",
      "\n",
      "  | Name          | Type               | Params\n",
      "-----------------------------------------------------\n",
      "0 | model         | LagLlamaModel      | 2.4 M \n",
      "1 | augmentations | ApplyAugmentations | 0     \n",
      "-----------------------------------------------------\n",
      "2.4 M     Trainable params\n",
      "0         Non-trainable params\n",
      "2.4 M     Total params\n",
      "9.797     Total estimated model params size (MB)\n"
     ]
    },
    {
     "data": {
      "application/vnd.jupyter.widget-view+json": {
       "model_id": "650f065b14a24859a836588fde4ef1a7",
       "version_major": 2,
       "version_minor": 0
      },
      "text/plain": [
       "Training: |                                               | 0/? [00:00<?, ?it/s]"
      ]
     },
     "metadata": {},
     "output_type": "display_data"
    },
    {
     "name": "stderr",
     "output_type": "stream",
     "text": [
      "Epoch 0, global step 50: 'train_loss' reached 0.92493 (best 0.92493), saving model to '/home/eragroup/Documents/Documents/Koutas_Master_Thesis_Supervision/Junbo_Leng/lag_llama_model/lag-llama-main/lightning_logs/version_41/checkpoints/epoch=0-step=50.ckpt' as top 1\n",
      "Epoch 1, global step 100: 'train_loss' reached 0.59044 (best 0.59044), saving model to '/home/eragroup/Documents/Documents/Koutas_Master_Thesis_Supervision/Junbo_Leng/lag_llama_model/lag-llama-main/lightning_logs/version_41/checkpoints/epoch=1-step=100.ckpt' as top 1\n",
      "Epoch 2, global step 150: 'train_loss' reached 0.58357 (best 0.58357), saving model to '/home/eragroup/Documents/Documents/Koutas_Master_Thesis_Supervision/Junbo_Leng/lag_llama_model/lag-llama-main/lightning_logs/version_41/checkpoints/epoch=2-step=150.ckpt' as top 1\n",
      "Epoch 3, global step 200: 'train_loss' reached 0.57417 (best 0.57417), saving model to '/home/eragroup/Documents/Documents/Koutas_Master_Thesis_Supervision/Junbo_Leng/lag_llama_model/lag-llama-main/lightning_logs/version_41/checkpoints/epoch=3-step=200.ckpt' as top 1\n",
      "Epoch 4, global step 250: 'train_loss' reached 0.47701 (best 0.47701), saving model to '/home/eragroup/Documents/Documents/Koutas_Master_Thesis_Supervision/Junbo_Leng/lag_llama_model/lag-llama-main/lightning_logs/version_41/checkpoints/epoch=4-step=250.ckpt' as top 1\n",
      "Epoch 5, global step 300: 'train_loss' reached 0.39973 (best 0.39973), saving model to '/home/eragroup/Documents/Documents/Koutas_Master_Thesis_Supervision/Junbo_Leng/lag_llama_model/lag-llama-main/lightning_logs/version_41/checkpoints/epoch=5-step=300.ckpt' as top 1\n",
      "Epoch 6, global step 350: 'train_loss' was not in top 1\n",
      "Epoch 7, global step 400: 'train_loss' was not in top 1\n",
      "Epoch 8, global step 450: 'train_loss' reached 0.38368 (best 0.38368), saving model to '/home/eragroup/Documents/Documents/Koutas_Master_Thesis_Supervision/Junbo_Leng/lag_llama_model/lag-llama-main/lightning_logs/version_41/checkpoints/epoch=8-step=450.ckpt' as top 1\n",
      "Epoch 9, global step 500: 'train_loss' was not in top 1\n",
      "Epoch 10, global step 550: 'train_loss' reached 0.32658 (best 0.32658), saving model to '/home/eragroup/Documents/Documents/Koutas_Master_Thesis_Supervision/Junbo_Leng/lag_llama_model/lag-llama-main/lightning_logs/version_41/checkpoints/epoch=10-step=550.ckpt' as top 1\n",
      "Epoch 11, global step 600: 'train_loss' was not in top 1\n",
      "Epoch 12, global step 650: 'train_loss' was not in top 1\n",
      "Epoch 13, global step 700: 'train_loss' was not in top 1\n",
      "Epoch 14, global step 750: 'train_loss' was not in top 1\n",
      "Epoch 15, global step 800: 'train_loss' reached 0.28728 (best 0.28728), saving model to '/home/eragroup/Documents/Documents/Koutas_Master_Thesis_Supervision/Junbo_Leng/lag_llama_model/lag-llama-main/lightning_logs/version_41/checkpoints/epoch=15-step=800.ckpt' as top 1\n",
      "Epoch 16, global step 850: 'train_loss' was not in top 1\n",
      "Epoch 17, global step 900: 'train_loss' was not in top 1\n",
      "Epoch 18, global step 950: 'train_loss' was not in top 1\n",
      "Epoch 19, global step 1000: 'train_loss' was not in top 1\n",
      "Epoch 20, global step 1050: 'train_loss' was not in top 1\n",
      "Epoch 21, global step 1100: 'train_loss' was not in top 1\n",
      "Epoch 22, global step 1150: 'train_loss' was not in top 1\n",
      "Epoch 23, global step 1200: 'train_loss' was not in top 1\n",
      "Epoch 24, global step 1250: 'train_loss' was not in top 1\n",
      "Epoch 25, global step 1300: 'train_loss' was not in top 1\n",
      "Epoch 26, global step 1350: 'train_loss' was not in top 1\n",
      "Epoch 27, global step 1400: 'train_loss' was not in top 1\n",
      "Epoch 28, global step 1450: 'train_loss' was not in top 1\n",
      "Epoch 29, global step 1500: 'train_loss' was not in top 1\n",
      "Epoch 30, global step 1550: 'train_loss' was not in top 1\n",
      "Epoch 31, global step 1600: 'train_loss' reached 0.27974 (best 0.27974), saving model to '/home/eragroup/Documents/Documents/Koutas_Master_Thesis_Supervision/Junbo_Leng/lag_llama_model/lag-llama-main/lightning_logs/version_41/checkpoints/epoch=31-step=1600.ckpt' as top 1\n",
      "Epoch 32, global step 1650: 'train_loss' was not in top 1\n",
      "Epoch 33, global step 1700: 'train_loss' was not in top 1\n",
      "Epoch 34, global step 1750: 'train_loss' was not in top 1\n",
      "Epoch 35, global step 1800: 'train_loss' was not in top 1\n",
      "Epoch 36, global step 1850: 'train_loss' reached 0.27103 (best 0.27103), saving model to '/home/eragroup/Documents/Documents/Koutas_Master_Thesis_Supervision/Junbo_Leng/lag_llama_model/lag-llama-main/lightning_logs/version_41/checkpoints/epoch=36-step=1850.ckpt' as top 1\n",
      "Epoch 37, global step 1900: 'train_loss' was not in top 1\n",
      "Epoch 38, global step 1950: 'train_loss' was not in top 1\n",
      "Epoch 39, global step 2000: 'train_loss' was not in top 1\n",
      "Epoch 40, global step 2050: 'train_loss' was not in top 1\n",
      "Epoch 41, global step 2100: 'train_loss' was not in top 1\n",
      "Epoch 42, global step 2150: 'train_loss' was not in top 1\n",
      "Epoch 43, global step 2200: 'train_loss' was not in top 1\n",
      "Epoch 44, global step 2250: 'train_loss' was not in top 1\n",
      "Epoch 45, global step 2300: 'train_loss' was not in top 1\n",
      "Epoch 46, global step 2350: 'train_loss' was not in top 1\n",
      "Epoch 47, global step 2400: 'train_loss' was not in top 1\n",
      "Epoch 48, global step 2450: 'train_loss' was not in top 1\n",
      "Epoch 49, global step 2500: 'train_loss' was not in top 1\n",
      "Epoch 50, global step 2550: 'train_loss' was not in top 1\n",
      "Epoch 51, global step 2600: 'train_loss' was not in top 1\n",
      "Epoch 52, global step 2650: 'train_loss' was not in top 1\n",
      "Epoch 53, global step 2700: 'train_loss' was not in top 1\n",
      "Epoch 54, global step 2750: 'train_loss' reached 0.25949 (best 0.25949), saving model to '/home/eragroup/Documents/Documents/Koutas_Master_Thesis_Supervision/Junbo_Leng/lag_llama_model/lag-llama-main/lightning_logs/version_41/checkpoints/epoch=54-step=2750.ckpt' as top 1\n",
      "Epoch 55, global step 2800: 'train_loss' was not in top 1\n",
      "Epoch 56, global step 2850: 'train_loss' was not in top 1\n",
      "Epoch 57, global step 2900: 'train_loss' was not in top 1\n",
      "Epoch 58, global step 2950: 'train_loss' was not in top 1\n",
      "Epoch 59, global step 3000: 'train_loss' was not in top 1\n",
      "Epoch 60, global step 3050: 'train_loss' was not in top 1\n",
      "Epoch 61, global step 3100: 'train_loss' was not in top 1\n",
      "Epoch 62, global step 3150: 'train_loss' was not in top 1\n",
      "Epoch 63, global step 3200: 'train_loss' reached 0.25062 (best 0.25062), saving model to '/home/eragroup/Documents/Documents/Koutas_Master_Thesis_Supervision/Junbo_Leng/lag_llama_model/lag-llama-main/lightning_logs/version_41/checkpoints/epoch=63-step=3200.ckpt' as top 1\n",
      "Epoch 64, global step 3250: 'train_loss' was not in top 1\n",
      "Epoch 65, global step 3300: 'train_loss' was not in top 1\n",
      "Epoch 66, global step 3350: 'train_loss' was not in top 1\n",
      "Epoch 67, global step 3400: 'train_loss' was not in top 1\n",
      "Epoch 68, global step 3450: 'train_loss' was not in top 1\n",
      "Epoch 69, global step 3500: 'train_loss' was not in top 1\n",
      "Epoch 70, global step 3550: 'train_loss' was not in top 1\n",
      "Epoch 71, global step 3600: 'train_loss' was not in top 1\n",
      "Epoch 72, global step 3650: 'train_loss' was not in top 1\n",
      "Epoch 73, global step 3700: 'train_loss' was not in top 1\n",
      "Epoch 74, global step 3750: 'train_loss' was not in top 1\n",
      "Epoch 75, global step 3800: 'train_loss' was not in top 1\n",
      "Epoch 76, global step 3850: 'train_loss' was not in top 1\n",
      "Epoch 77, global step 3900: 'train_loss' was not in top 1\n",
      "Epoch 78, global step 3950: 'train_loss' reached 0.24740 (best 0.24740), saving model to '/home/eragroup/Documents/Documents/Koutas_Master_Thesis_Supervision/Junbo_Leng/lag_llama_model/lag-llama-main/lightning_logs/version_41/checkpoints/epoch=78-step=3950.ckpt' as top 1\n",
      "Epoch 79, global step 4000: 'train_loss' was not in top 1\n",
      "Epoch 80, global step 4050: 'train_loss' was not in top 1\n",
      "Epoch 81, global step 4100: 'train_loss' reached 0.14993 (best 0.14993), saving model to '/home/eragroup/Documents/Documents/Koutas_Master_Thesis_Supervision/Junbo_Leng/lag_llama_model/lag-llama-main/lightning_logs/version_41/checkpoints/epoch=81-step=4100.ckpt' as top 1\n",
      "Epoch 82, global step 4150: 'train_loss' was not in top 1\n",
      "Epoch 83, global step 4200: 'train_loss' was not in top 1\n",
      "Epoch 84, global step 4250: 'train_loss' was not in top 1\n",
      "Epoch 85, global step 4300: 'train_loss' was not in top 1\n",
      "Epoch 86, global step 4350: 'train_loss' was not in top 1\n",
      "Epoch 87, global step 4400: 'train_loss' was not in top 1\n",
      "Epoch 88, global step 4450: 'train_loss' was not in top 1\n",
      "Epoch 89, global step 4500: 'train_loss' was not in top 1\n",
      "Epoch 90, global step 4550: 'train_loss' was not in top 1\n",
      "Epoch 91, global step 4600: 'train_loss' was not in top 1\n",
      "Epoch 92, global step 4650: 'train_loss' was not in top 1\n",
      "Epoch 93, global step 4700: 'train_loss' was not in top 1\n",
      "Epoch 94, global step 4750: 'train_loss' was not in top 1\n",
      "Epoch 95, global step 4800: 'train_loss' was not in top 1\n",
      "Epoch 96, global step 4850: 'train_loss' was not in top 1\n",
      "Epoch 97, global step 4900: 'train_loss' was not in top 1\n",
      "Epoch 98, global step 4950: 'train_loss' was not in top 1\n",
      "Epoch 99, global step 5000: 'train_loss' was not in top 1\n",
      "`Trainer.fit` stopped: `max_epochs=100` reached.\n"
     ]
    },
    {
     "data": {
      "application/vnd.jupyter.widget-view+json": {
       "model_id": "a3ed236f619e4af7b8a6cd016c5c8a1b",
       "version_major": 2,
       "version_minor": 0
      },
      "text/plain": [
       "Forecasting batches:   0%|          | 0/60 [00:00<?, ?it/s]"
      ]
     },
     "metadata": {},
     "output_type": "display_data"
    },
    {
     "data": {
      "application/vnd.jupyter.widget-view+json": {
       "model_id": "4047c76d837941278eda332ed8cce1cb",
       "version_major": 2,
       "version_minor": 0
      },
      "text/plain": [
       "Ground truth:   0%|          | 0/60 [00:00<?, ?it/s]"
      ]
     },
     "metadata": {},
     "output_type": "display_data"
    },
    {
     "name": "stderr",
     "output_type": "stream",
     "text": [
      "/tmp/ipykernel_18695/4101722395.py:14: FutureWarning: Series.__getitem__ treating keys as positions is deprecated. In a future version, integer keys will always be treated as labels (consistent with DataFrame behavior). To access a value by position, use `ser.iloc[pos]`\n",
      "  tss[i].values[:] = tss[i].values * test_df.std()[i] + test_df.mean()[i]\n",
      "/tmp/ipykernel_18695/4101722395.py:17: FutureWarning: Series.__getitem__ treating keys as positions is deprecated. In a future version, integer keys will always be treated as labels (consistent with DataFrame behavior). To access a value by position, use `ser.iloc[pos]`\n",
      "  std_value = test_df.std()[i]\n",
      "/tmp/ipykernel_18695/4101722395.py:18: FutureWarning: Series.__getitem__ treating keys as positions is deprecated. In a future version, integer keys will always be treated as labels (consistent with DataFrame behavior). To access a value by position, use `ser.iloc[pos]`\n",
      "  mean_value = test_df.mean()[i]\n",
      "Running evaluation: 60it [00:00, 324.65it/s]\n"
     ]
    },
    {
     "data": {
      "application/vnd.jupyter.widget-view+json": {
       "model_id": "",
       "version_major": 2,
       "version_minor": 0
      },
      "text/plain": [
       "VBox(children=(Label(value='0.003 MB of 0.003 MB uploaded\\r'), FloatProgress(value=1.0, max=1.0)))"
      ]
     },
     "metadata": {},
     "output_type": "display_data"
    },
    {
     "data": {
      "text/html": [
       "<style>\n",
       "    table.wandb td:nth-child(1) { padding: 0 10px; text-align: left ; width: auto;} td:nth-child(2) {text-align: left ; width: 100%}\n",
       "    .wandb-row { display: flex; flex-direction: row; flex-wrap: wrap; justify-content: flex-start; width: 100% }\n",
       "    .wandb-col { display: flex; flex-direction: column; flex-basis: 100%; flex: 1; padding: 10px; }\n",
       "    </style>\n",
       "<div class=\"wandb-row\"><div class=\"wandb-col\"><h3>Run history:</h3><br/><table class=\"wandb\"><tr><td>CPRS</td><td>▁</td></tr><tr><td>train_loss</td><td>▆▁▂▇▆▄▁▄▂▅▄▅▆▄▃▁▇█▆▅▆▆▂▅▄▄▄▃▅▂▄▅▆▅▄▂█▂▄▆</td></tr></table><br/></div><div class=\"wandb-col\"><h3>Run summary:</h3><br/><table class=\"wandb\"><tr><td>CPRS</td><td>0.0003</td></tr><tr><td>train_loss</td><td>0.64872</td></tr></table><br/></div></div>"
      ],
      "text/plain": [
       "<IPython.core.display.HTML object>"
      ]
     },
     "metadata": {},
     "output_type": "display_data"
    },
    {
     "data": {
      "text/html": [
       " View run <strong style=\"color:#cdcd00\">spring-sweep-14</strong> at: <a href='https://wandb.ai/junboma/lag_llama_04_07/runs/x9hq3kq7' target=\"_blank\">https://wandb.ai/junboma/lag_llama_04_07/runs/x9hq3kq7</a><br/> View project at: <a href='https://wandb.ai/junboma/lag_llama_04_07' target=\"_blank\">https://wandb.ai/junboma/lag_llama_04_07</a><br/>Synced 6 W&B file(s), 0 media file(s), 0 artifact file(s) and 0 other file(s)"
      ],
      "text/plain": [
       "<IPython.core.display.HTML object>"
      ]
     },
     "metadata": {},
     "output_type": "display_data"
    },
    {
     "data": {
      "text/html": [
       "Find logs at: <code>./wandb/run-20240704_160711-x9hq3kq7/logs</code>"
      ],
      "text/plain": [
       "<IPython.core.display.HTML object>"
      ]
     },
     "metadata": {},
     "output_type": "display_data"
    },
    {
     "name": "stderr",
     "output_type": "stream",
     "text": [
      "\u001b[34m\u001b[1mwandb\u001b[0m: Agent Starting Run: 7od1mpdr with config:\n",
      "\u001b[34m\u001b[1mwandb\u001b[0m: \tbatch_size: 2\n",
      "\u001b[34m\u001b[1mwandb\u001b[0m: \tcontext_length: 128\n",
      "\u001b[34m\u001b[1mwandb\u001b[0m: \tlr: 5e-05\n"
     ]
    },
    {
     "data": {
      "text/html": [
       "wandb version 0.17.4 is available!  To upgrade, please run:\n",
       " $ pip install wandb --upgrade"
      ],
      "text/plain": [
       "<IPython.core.display.HTML object>"
      ]
     },
     "metadata": {},
     "output_type": "display_data"
    },
    {
     "data": {
      "text/html": [
       "Tracking run with wandb version 0.17.1"
      ],
      "text/plain": [
       "<IPython.core.display.HTML object>"
      ]
     },
     "metadata": {},
     "output_type": "display_data"
    },
    {
     "data": {
      "text/html": [
       "Run data is saved locally in <code>/home/eragroup/Documents/Documents/Koutas_Master_Thesis_Supervision/Junbo_Leng/lag_llama_model/lag-llama-main/wandb/run-20240704_161547-7od1mpdr</code>"
      ],
      "text/plain": [
       "<IPython.core.display.HTML object>"
      ]
     },
     "metadata": {},
     "output_type": "display_data"
    },
    {
     "data": {
      "text/html": [
       "Syncing run <strong><a href='https://wandb.ai/junboma/lag_llama_04_07/runs/7od1mpdr' target=\"_blank\">charmed-sweep-15</a></strong> to <a href='https://wandb.ai/junboma/lag_llama_04_07' target=\"_blank\">Weights & Biases</a> (<a href='https://wandb.me/run' target=\"_blank\">docs</a>)<br/>Sweep page: <a href='https://wandb.ai/junboma/lag_llama_04_07/sweeps/8bk4uije' target=\"_blank\">https://wandb.ai/junboma/lag_llama_04_07/sweeps/8bk4uije</a>"
      ],
      "text/plain": [
       "<IPython.core.display.HTML object>"
      ]
     },
     "metadata": {},
     "output_type": "display_data"
    },
    {
     "data": {
      "text/html": [
       " View project at <a href='https://wandb.ai/junboma/lag_llama_04_07' target=\"_blank\">https://wandb.ai/junboma/lag_llama_04_07</a>"
      ],
      "text/plain": [
       "<IPython.core.display.HTML object>"
      ]
     },
     "metadata": {},
     "output_type": "display_data"
    },
    {
     "data": {
      "text/html": [
       " View sweep at <a href='https://wandb.ai/junboma/lag_llama_04_07/sweeps/8bk4uije' target=\"_blank\">https://wandb.ai/junboma/lag_llama_04_07/sweeps/8bk4uije</a>"
      ],
      "text/plain": [
       "<IPython.core.display.HTML object>"
      ]
     },
     "metadata": {},
     "output_type": "display_data"
    },
    {
     "data": {
      "text/html": [
       " View run at <a href='https://wandb.ai/junboma/lag_llama_04_07/runs/7od1mpdr' target=\"_blank\">https://wandb.ai/junboma/lag_llama_04_07/runs/7od1mpdr</a>"
      ],
      "text/plain": [
       "<IPython.core.display.HTML object>"
      ]
     },
     "metadata": {},
     "output_type": "display_data"
    },
    {
     "name": "stderr",
     "output_type": "stream",
     "text": [
      "\u001b[34m\u001b[1mwandb\u001b[0m: \u001b[33mWARNING\u001b[0m Ignored wandb.init() arg project when running a sweep.\n"
     ]
    },
    {
     "data": {
      "text/html": [
       "Finishing last run (ID:7od1mpdr) before initializing another..."
      ],
      "text/plain": [
       "<IPython.core.display.HTML object>"
      ]
     },
     "metadata": {},
     "output_type": "display_data"
    },
    {
     "data": {
      "application/vnd.jupyter.widget-view+json": {
       "model_id": "",
       "version_major": 2,
       "version_minor": 0
      },
      "text/plain": [
       "VBox(children=(Label(value='0.003 MB of 0.003 MB uploaded\\r'), FloatProgress(value=1.0, max=1.0)))"
      ]
     },
     "metadata": {},
     "output_type": "display_data"
    },
    {
     "data": {
      "text/html": [
       " View run <strong style=\"color:#cdcd00\">charmed-sweep-15</strong> at: <a href='https://wandb.ai/junboma/lag_llama_04_07/runs/7od1mpdr' target=\"_blank\">https://wandb.ai/junboma/lag_llama_04_07/runs/7od1mpdr</a><br/> View project at: <a href='https://wandb.ai/junboma/lag_llama_04_07' target=\"_blank\">https://wandb.ai/junboma/lag_llama_04_07</a><br/>Synced 6 W&B file(s), 0 media file(s), 0 artifact file(s) and 0 other file(s)"
      ],
      "text/plain": [
       "<IPython.core.display.HTML object>"
      ]
     },
     "metadata": {},
     "output_type": "display_data"
    },
    {
     "data": {
      "text/html": [
       "Find logs at: <code>./wandb/run-20240704_161547-7od1mpdr/logs</code>"
      ],
      "text/plain": [
       "<IPython.core.display.HTML object>"
      ]
     },
     "metadata": {},
     "output_type": "display_data"
    },
    {
     "data": {
      "text/html": [
       "Successfully finished last run (ID:7od1mpdr). Initializing new run:<br/>"
      ],
      "text/plain": [
       "<IPython.core.display.HTML object>"
      ]
     },
     "metadata": {},
     "output_type": "display_data"
    },
    {
     "data": {
      "application/vnd.jupyter.widget-view+json": {
       "model_id": "9ca4cefc95534a29acbcd4730e5f6d3f",
       "version_major": 2,
       "version_minor": 0
      },
      "text/plain": [
       "VBox(children=(Label(value='Waiting for wandb.init()...\\r'), FloatProgress(value=0.011112381973200374, max=1.0…"
      ]
     },
     "metadata": {},
     "output_type": "display_data"
    },
    {
     "data": {
      "text/html": [
       "wandb version 0.17.4 is available!  To upgrade, please run:\n",
       " $ pip install wandb --upgrade"
      ],
      "text/plain": [
       "<IPython.core.display.HTML object>"
      ]
     },
     "metadata": {},
     "output_type": "display_data"
    },
    {
     "data": {
      "text/html": [
       "Tracking run with wandb version 0.17.1"
      ],
      "text/plain": [
       "<IPython.core.display.HTML object>"
      ]
     },
     "metadata": {},
     "output_type": "display_data"
    },
    {
     "data": {
      "text/html": [
       "Run data is saved locally in <code>/home/eragroup/Documents/Documents/Koutas_Master_Thesis_Supervision/Junbo_Leng/lag_llama_model/lag-llama-main/wandb/run-20240704_161601-7od1mpdr</code>"
      ],
      "text/plain": [
       "<IPython.core.display.HTML object>"
      ]
     },
     "metadata": {},
     "output_type": "display_data"
    },
    {
     "data": {
      "text/html": [
       "Syncing run <strong><a href='https://wandb.ai/junboma/lag_llama_04_07/runs/7od1mpdr' target=\"_blank\">charmed-sweep-15</a></strong> to <a href='https://wandb.ai/junboma/lag_llama_04_07' target=\"_blank\">Weights & Biases</a> (<a href='https://wandb.me/run' target=\"_blank\">docs</a>)<br/>Sweep page: <a href='https://wandb.ai/junboma/lag_llama_04_07/sweeps/8bk4uije' target=\"_blank\">https://wandb.ai/junboma/lag_llama_04_07/sweeps/8bk4uije</a>"
      ],
      "text/plain": [
       "<IPython.core.display.HTML object>"
      ]
     },
     "metadata": {},
     "output_type": "display_data"
    },
    {
     "data": {
      "text/html": [
       " View project at <a href='https://wandb.ai/junboma/lag_llama_04_07' target=\"_blank\">https://wandb.ai/junboma/lag_llama_04_07</a>"
      ],
      "text/plain": [
       "<IPython.core.display.HTML object>"
      ]
     },
     "metadata": {},
     "output_type": "display_data"
    },
    {
     "data": {
      "text/html": [
       " View sweep at <a href='https://wandb.ai/junboma/lag_llama_04_07/sweeps/8bk4uije' target=\"_blank\">https://wandb.ai/junboma/lag_llama_04_07/sweeps/8bk4uije</a>"
      ],
      "text/plain": [
       "<IPython.core.display.HTML object>"
      ]
     },
     "metadata": {},
     "output_type": "display_data"
    },
    {
     "data": {
      "text/html": [
       " View run at <a href='https://wandb.ai/junboma/lag_llama_04_07/runs/7od1mpdr' target=\"_blank\">https://wandb.ai/junboma/lag_llama_04_07/runs/7od1mpdr</a>"
      ],
      "text/plain": [
       "<IPython.core.display.HTML object>"
      ]
     },
     "metadata": {},
     "output_type": "display_data"
    },
    {
     "name": "stderr",
     "output_type": "stream",
     "text": [
      "GPU available: True (cuda), used: True\n",
      "TPU available: False, using: 0 TPU cores\n",
      "IPU available: False, using: 0 IPUs\n",
      "HPU available: False, using: 0 HPUs\n",
      "/home/eragroup/anaconda3/envs/lag_llama/lib/python3.12/site-packages/lightning/pytorch/trainer/configuration_validator.py:74: You defined a `validation_step` but have no `val_dataloader`. Skipping val loop.\n",
      "LOCAL_RANK: 0 - CUDA_VISIBLE_DEVICES: [0]\n",
      "\n",
      "  | Name          | Type               | Params\n",
      "-----------------------------------------------------\n",
      "0 | model         | LagLlamaModel      | 2.4 M \n",
      "1 | augmentations | ApplyAugmentations | 0     \n",
      "-----------------------------------------------------\n",
      "2.4 M     Trainable params\n",
      "0         Non-trainable params\n",
      "2.4 M     Total params\n",
      "9.797     Total estimated model params size (MB)\n"
     ]
    },
    {
     "data": {
      "application/vnd.jupyter.widget-view+json": {
       "model_id": "9d44914d9cc646b78129991287c72fcf",
       "version_major": 2,
       "version_minor": 0
      },
      "text/plain": [
       "Training: |                                               | 0/? [00:00<?, ?it/s]"
      ]
     },
     "metadata": {},
     "output_type": "display_data"
    },
    {
     "name": "stderr",
     "output_type": "stream",
     "text": [
      "Epoch 0, global step 50: 'train_loss' reached 0.46329 (best 0.46329), saving model to '/home/eragroup/Documents/Documents/Koutas_Master_Thesis_Supervision/Junbo_Leng/lag_llama_model/lag-llama-main/lightning_logs/version_42/checkpoints/epoch=0-step=50.ckpt' as top 1\n",
      "Epoch 1, global step 100: 'train_loss' reached 0.37364 (best 0.37364), saving model to '/home/eragroup/Documents/Documents/Koutas_Master_Thesis_Supervision/Junbo_Leng/lag_llama_model/lag-llama-main/lightning_logs/version_42/checkpoints/epoch=1-step=100.ckpt' as top 1\n",
      "Epoch 2, global step 150: 'train_loss' was not in top 1\n",
      "Epoch 3, global step 200: 'train_loss' reached 0.35866 (best 0.35866), saving model to '/home/eragroup/Documents/Documents/Koutas_Master_Thesis_Supervision/Junbo_Leng/lag_llama_model/lag-llama-main/lightning_logs/version_42/checkpoints/epoch=3-step=200.ckpt' as top 1\n",
      "Epoch 4, global step 250: 'train_loss' reached 0.32845 (best 0.32845), saving model to '/home/eragroup/Documents/Documents/Koutas_Master_Thesis_Supervision/Junbo_Leng/lag_llama_model/lag-llama-main/lightning_logs/version_42/checkpoints/epoch=4-step=250.ckpt' as top 1\n",
      "Epoch 5, global step 300: 'train_loss' was not in top 1\n",
      "Epoch 6, global step 350: 'train_loss' was not in top 1\n",
      "Epoch 7, global step 400: 'train_loss' was not in top 1\n",
      "Epoch 8, global step 450: 'train_loss' was not in top 1\n",
      "Epoch 9, global step 500: 'train_loss' was not in top 1\n",
      "Epoch 10, global step 550: 'train_loss' reached 0.28499 (best 0.28499), saving model to '/home/eragroup/Documents/Documents/Koutas_Master_Thesis_Supervision/Junbo_Leng/lag_llama_model/lag-llama-main/lightning_logs/version_42/checkpoints/epoch=10-step=550.ckpt' as top 1\n",
      "Epoch 11, global step 600: 'train_loss' was not in top 1\n",
      "Epoch 12, global step 650: 'train_loss' was not in top 1\n",
      "Epoch 13, global step 700: 'train_loss' was not in top 1\n",
      "Epoch 14, global step 750: 'train_loss' was not in top 1\n",
      "Epoch 15, global step 800: 'train_loss' was not in top 1\n",
      "Epoch 16, global step 850: 'train_loss' reached 0.25623 (best 0.25623), saving model to '/home/eragroup/Documents/Documents/Koutas_Master_Thesis_Supervision/Junbo_Leng/lag_llama_model/lag-llama-main/lightning_logs/version_42/checkpoints/epoch=16-step=850.ckpt' as top 1\n",
      "Epoch 17, global step 900: 'train_loss' was not in top 1\n",
      "Epoch 18, global step 950: 'train_loss' was not in top 1\n",
      "Epoch 19, global step 1000: 'train_loss' was not in top 1\n",
      "Epoch 20, global step 1050: 'train_loss' was not in top 1\n",
      "Epoch 21, global step 1100: 'train_loss' was not in top 1\n",
      "Epoch 22, global step 1150: 'train_loss' was not in top 1\n",
      "Epoch 23, global step 1200: 'train_loss' was not in top 1\n",
      "Epoch 24, global step 1250: 'train_loss' was not in top 1\n",
      "Epoch 25, global step 1300: 'train_loss' was not in top 1\n",
      "Epoch 26, global step 1350: 'train_loss' reached 0.24174 (best 0.24174), saving model to '/home/eragroup/Documents/Documents/Koutas_Master_Thesis_Supervision/Junbo_Leng/lag_llama_model/lag-llama-main/lightning_logs/version_42/checkpoints/epoch=26-step=1350.ckpt' as top 1\n",
      "Epoch 27, global step 1400: 'train_loss' was not in top 1\n",
      "Epoch 28, global step 1450: 'train_loss' was not in top 1\n",
      "Epoch 29, global step 1500: 'train_loss' was not in top 1\n",
      "Epoch 30, global step 1550: 'train_loss' was not in top 1\n",
      "Epoch 31, global step 1600: 'train_loss' was not in top 1\n",
      "Epoch 32, global step 1650: 'train_loss' was not in top 1\n",
      "Epoch 33, global step 1700: 'train_loss' was not in top 1\n",
      "Epoch 34, global step 1750: 'train_loss' reached 0.23403 (best 0.23403), saving model to '/home/eragroup/Documents/Documents/Koutas_Master_Thesis_Supervision/Junbo_Leng/lag_llama_model/lag-llama-main/lightning_logs/version_42/checkpoints/epoch=34-step=1750.ckpt' as top 1\n",
      "Epoch 35, global step 1800: 'train_loss' was not in top 1\n",
      "Epoch 36, global step 1850: 'train_loss' was not in top 1\n",
      "Epoch 37, global step 1900: 'train_loss' was not in top 1\n",
      "Epoch 38, global step 1950: 'train_loss' was not in top 1\n",
      "Epoch 39, global step 2000: 'train_loss' was not in top 1\n",
      "Epoch 40, global step 2050: 'train_loss' was not in top 1\n",
      "Epoch 41, global step 2100: 'train_loss' was not in top 1\n",
      "Epoch 42, global step 2150: 'train_loss' reached 0.22702 (best 0.22702), saving model to '/home/eragroup/Documents/Documents/Koutas_Master_Thesis_Supervision/Junbo_Leng/lag_llama_model/lag-llama-main/lightning_logs/version_42/checkpoints/epoch=42-step=2150.ckpt' as top 1\n",
      "Epoch 43, global step 2200: 'train_loss' reached 0.21474 (best 0.21474), saving model to '/home/eragroup/Documents/Documents/Koutas_Master_Thesis_Supervision/Junbo_Leng/lag_llama_model/lag-llama-main/lightning_logs/version_42/checkpoints/epoch=43-step=2200.ckpt' as top 1\n",
      "Epoch 44, global step 2250: 'train_loss' was not in top 1\n",
      "Epoch 45, global step 2300: 'train_loss' was not in top 1\n",
      "Epoch 46, global step 2350: 'train_loss' was not in top 1\n",
      "Epoch 47, global step 2400: 'train_loss' was not in top 1\n",
      "Epoch 48, global step 2450: 'train_loss' reached 0.19405 (best 0.19405), saving model to '/home/eragroup/Documents/Documents/Koutas_Master_Thesis_Supervision/Junbo_Leng/lag_llama_model/lag-llama-main/lightning_logs/version_42/checkpoints/epoch=48-step=2450.ckpt' as top 1\n",
      "Epoch 49, global step 2500: 'train_loss' was not in top 1\n",
      "Epoch 50, global step 2550: 'train_loss' was not in top 1\n",
      "Epoch 51, global step 2600: 'train_loss' was not in top 1\n",
      "Epoch 52, global step 2650: 'train_loss' reached 0.16898 (best 0.16898), saving model to '/home/eragroup/Documents/Documents/Koutas_Master_Thesis_Supervision/Junbo_Leng/lag_llama_model/lag-llama-main/lightning_logs/version_42/checkpoints/epoch=52-step=2650.ckpt' as top 1\n",
      "Epoch 53, global step 2700: 'train_loss' was not in top 1\n",
      "Epoch 54, global step 2750: 'train_loss' was not in top 1\n",
      "Epoch 55, global step 2800: 'train_loss' was not in top 1\n",
      "Epoch 56, global step 2850: 'train_loss' reached 0.15275 (best 0.15275), saving model to '/home/eragroup/Documents/Documents/Koutas_Master_Thesis_Supervision/Junbo_Leng/lag_llama_model/lag-llama-main/lightning_logs/version_42/checkpoints/epoch=56-step=2850.ckpt' as top 1\n",
      "Epoch 57, global step 2900: 'train_loss' reached 0.10486 (best 0.10486), saving model to '/home/eragroup/Documents/Documents/Koutas_Master_Thesis_Supervision/Junbo_Leng/lag_llama_model/lag-llama-main/lightning_logs/version_42/checkpoints/epoch=57-step=2900.ckpt' as top 1\n",
      "Epoch 58, global step 2950: 'train_loss' was not in top 1\n",
      "Epoch 59, global step 3000: 'train_loss' was not in top 1\n",
      "Epoch 60, global step 3050: 'train_loss' was not in top 1\n",
      "Epoch 61, global step 3100: 'train_loss' reached 0.09810 (best 0.09810), saving model to '/home/eragroup/Documents/Documents/Koutas_Master_Thesis_Supervision/Junbo_Leng/lag_llama_model/lag-llama-main/lightning_logs/version_42/checkpoints/epoch=61-step=3100.ckpt' as top 1\n",
      "Epoch 62, global step 3150: 'train_loss' reached 0.09333 (best 0.09333), saving model to '/home/eragroup/Documents/Documents/Koutas_Master_Thesis_Supervision/Junbo_Leng/lag_llama_model/lag-llama-main/lightning_logs/version_42/checkpoints/epoch=62-step=3150.ckpt' as top 1\n",
      "Epoch 63, global step 3200: 'train_loss' reached 0.03391 (best 0.03391), saving model to '/home/eragroup/Documents/Documents/Koutas_Master_Thesis_Supervision/Junbo_Leng/lag_llama_model/lag-llama-main/lightning_logs/version_42/checkpoints/epoch=63-step=3200.ckpt' as top 1\n",
      "Epoch 64, global step 3250: 'train_loss' was not in top 1\n",
      "Epoch 65, global step 3300: 'train_loss' was not in top 1\n",
      "Epoch 66, global step 3350: 'train_loss' was not in top 1\n",
      "Epoch 67, global step 3400: 'train_loss' was not in top 1\n",
      "Epoch 68, global step 3450: 'train_loss' was not in top 1\n",
      "Epoch 69, global step 3500: 'train_loss' reached -0.01141 (best -0.01141), saving model to '/home/eragroup/Documents/Documents/Koutas_Master_Thesis_Supervision/Junbo_Leng/lag_llama_model/lag-llama-main/lightning_logs/version_42/checkpoints/epoch=69-step=3500.ckpt' as top 1\n",
      "Epoch 70, global step 3550: 'train_loss' reached -0.01572 (best -0.01572), saving model to '/home/eragroup/Documents/Documents/Koutas_Master_Thesis_Supervision/Junbo_Leng/lag_llama_model/lag-llama-main/lightning_logs/version_42/checkpoints/epoch=70-step=3550.ckpt' as top 1\n",
      "Epoch 71, global step 3600: 'train_loss' was not in top 1\n",
      "Epoch 72, global step 3650: 'train_loss' was not in top 1\n",
      "Epoch 73, global step 3700: 'train_loss' was not in top 1\n",
      "Epoch 74, global step 3750: 'train_loss' was not in top 1\n",
      "Epoch 75, global step 3800: 'train_loss' was not in top 1\n",
      "Epoch 76, global step 3850: 'train_loss' was not in top 1\n",
      "Epoch 77, global step 3900: 'train_loss' was not in top 1\n",
      "Epoch 78, global step 3950: 'train_loss' was not in top 1\n",
      "Epoch 79, global step 4000: 'train_loss' was not in top 1\n",
      "Epoch 80, global step 4050: 'train_loss' was not in top 1\n",
      "Epoch 81, global step 4100: 'train_loss' was not in top 1\n",
      "Epoch 82, global step 4150: 'train_loss' reached -0.03722 (best -0.03722), saving model to '/home/eragroup/Documents/Documents/Koutas_Master_Thesis_Supervision/Junbo_Leng/lag_llama_model/lag-llama-main/lightning_logs/version_42/checkpoints/epoch=82-step=4150.ckpt' as top 1\n",
      "Epoch 83, global step 4200: 'train_loss' reached -0.04200 (best -0.04200), saving model to '/home/eragroup/Documents/Documents/Koutas_Master_Thesis_Supervision/Junbo_Leng/lag_llama_model/lag-llama-main/lightning_logs/version_42/checkpoints/epoch=83-step=4200.ckpt' as top 1\n",
      "Epoch 84, global step 4250: 'train_loss' was not in top 1\n",
      "Epoch 85, global step 4300: 'train_loss' was not in top 1\n",
      "Epoch 86, global step 4350: 'train_loss' reached -0.05002 (best -0.05002), saving model to '/home/eragroup/Documents/Documents/Koutas_Master_Thesis_Supervision/Junbo_Leng/lag_llama_model/lag-llama-main/lightning_logs/version_42/checkpoints/epoch=86-step=4350.ckpt' as top 1\n",
      "Epoch 87, global step 4400: 'train_loss' reached -0.07825 (best -0.07825), saving model to '/home/eragroup/Documents/Documents/Koutas_Master_Thesis_Supervision/Junbo_Leng/lag_llama_model/lag-llama-main/lightning_logs/version_42/checkpoints/epoch=87-step=4400.ckpt' as top 1\n",
      "Epoch 88, global step 4450: 'train_loss' was not in top 1\n",
      "Epoch 89, global step 4500: 'train_loss' reached -0.14232 (best -0.14232), saving model to '/home/eragroup/Documents/Documents/Koutas_Master_Thesis_Supervision/Junbo_Leng/lag_llama_model/lag-llama-main/lightning_logs/version_42/checkpoints/epoch=89-step=4500.ckpt' as top 1\n",
      "Epoch 90, global step 4550: 'train_loss' was not in top 1\n",
      "Epoch 91, global step 4600: 'train_loss' was not in top 1\n",
      "Epoch 92, global step 4650: 'train_loss' was not in top 1\n",
      "Epoch 93, global step 4700: 'train_loss' was not in top 1\n",
      "Epoch 94, global step 4750: 'train_loss' reached -0.16239 (best -0.16239), saving model to '/home/eragroup/Documents/Documents/Koutas_Master_Thesis_Supervision/Junbo_Leng/lag_llama_model/lag-llama-main/lightning_logs/version_42/checkpoints/epoch=94-step=4750.ckpt' as top 1\n",
      "Epoch 95, global step 4800: 'train_loss' was not in top 1\n",
      "Epoch 96, global step 4850: 'train_loss' was not in top 1\n",
      "Epoch 97, global step 4900: 'train_loss' reached -0.17977 (best -0.17977), saving model to '/home/eragroup/Documents/Documents/Koutas_Master_Thesis_Supervision/Junbo_Leng/lag_llama_model/lag-llama-main/lightning_logs/version_42/checkpoints/epoch=97-step=4900.ckpt' as top 1\n",
      "Epoch 98, global step 4950: 'train_loss' was not in top 1\n",
      "Epoch 99, global step 5000: 'train_loss' reached -0.19808 (best -0.19808), saving model to '/home/eragroup/Documents/Documents/Koutas_Master_Thesis_Supervision/Junbo_Leng/lag_llama_model/lag-llama-main/lightning_logs/version_42/checkpoints/epoch=99-step=5000.ckpt' as top 1\n",
      "`Trainer.fit` stopped: `max_epochs=100` reached.\n"
     ]
    },
    {
     "data": {
      "application/vnd.jupyter.widget-view+json": {
       "model_id": "1809dd0508504feba1db8c10961c7b40",
       "version_major": 2,
       "version_minor": 0
      },
      "text/plain": [
       "Forecasting batches:   0%|          | 0/60 [00:00<?, ?it/s]"
      ]
     },
     "metadata": {},
     "output_type": "display_data"
    },
    {
     "data": {
      "application/vnd.jupyter.widget-view+json": {
       "model_id": "a8cf814d5266468b948ed59827f0201e",
       "version_major": 2,
       "version_minor": 0
      },
      "text/plain": [
       "Ground truth:   0%|          | 0/60 [00:00<?, ?it/s]"
      ]
     },
     "metadata": {},
     "output_type": "display_data"
    },
    {
     "name": "stderr",
     "output_type": "stream",
     "text": [
      "/tmp/ipykernel_18695/4101722395.py:14: FutureWarning: Series.__getitem__ treating keys as positions is deprecated. In a future version, integer keys will always be treated as labels (consistent with DataFrame behavior). To access a value by position, use `ser.iloc[pos]`\n",
      "  tss[i].values[:] = tss[i].values * test_df.std()[i] + test_df.mean()[i]\n",
      "/tmp/ipykernel_18695/4101722395.py:17: FutureWarning: Series.__getitem__ treating keys as positions is deprecated. In a future version, integer keys will always be treated as labels (consistent with DataFrame behavior). To access a value by position, use `ser.iloc[pos]`\n",
      "  std_value = test_df.std()[i]\n",
      "/tmp/ipykernel_18695/4101722395.py:18: FutureWarning: Series.__getitem__ treating keys as positions is deprecated. In a future version, integer keys will always be treated as labels (consistent with DataFrame behavior). To access a value by position, use `ser.iloc[pos]`\n",
      "  mean_value = test_df.mean()[i]\n",
      "Running evaluation: 60it [00:00, 515.97it/s]\n"
     ]
    },
    {
     "data": {
      "application/vnd.jupyter.widget-view+json": {
       "model_id": "",
       "version_major": 2,
       "version_minor": 0
      },
      "text/plain": [
       "VBox(children=(Label(value='0.003 MB of 0.003 MB uploaded\\r'), FloatProgress(value=1.0, max=1.0)))"
      ]
     },
     "metadata": {},
     "output_type": "display_data"
    },
    {
     "data": {
      "text/html": [
       "<style>\n",
       "    table.wandb td:nth-child(1) { padding: 0 10px; text-align: left ; width: auto;} td:nth-child(2) {text-align: left ; width: 100%}\n",
       "    .wandb-row { display: flex; flex-direction: row; flex-wrap: wrap; justify-content: flex-start; width: 100% }\n",
       "    .wandb-col { display: flex; flex-direction: column; flex-basis: 100%; flex: 1; padding: 10px; }\n",
       "    </style>\n",
       "<div class=\"wandb-row\"><div class=\"wandb-col\"><h3>Run history:</h3><br/><table class=\"wandb\"><tr><td>CPRS</td><td>▁</td></tr><tr><td>train_loss</td><td>█▃▃▇▃▆▅▇▆▇▄▃▇▄▂▃▇▆▄█▅▇▅▆▅▂▄▆▄▅▅▃▄▄▁▃▅▅▂▄</td></tr></table><br/></div><div class=\"wandb-col\"><h3>Run summary:</h3><br/><table class=\"wandb\"><tr><td>CPRS</td><td>0.00033</td></tr><tr><td>train_loss</td><td>0.2427</td></tr></table><br/></div></div>"
      ],
      "text/plain": [
       "<IPython.core.display.HTML object>"
      ]
     },
     "metadata": {},
     "output_type": "display_data"
    },
    {
     "data": {
      "text/html": [
       " View run <strong style=\"color:#cdcd00\">charmed-sweep-15</strong> at: <a href='https://wandb.ai/junboma/lag_llama_04_07/runs/7od1mpdr' target=\"_blank\">https://wandb.ai/junboma/lag_llama_04_07/runs/7od1mpdr</a><br/> View project at: <a href='https://wandb.ai/junboma/lag_llama_04_07' target=\"_blank\">https://wandb.ai/junboma/lag_llama_04_07</a><br/>Synced 6 W&B file(s), 0 media file(s), 0 artifact file(s) and 0 other file(s)"
      ],
      "text/plain": [
       "<IPython.core.display.HTML object>"
      ]
     },
     "metadata": {},
     "output_type": "display_data"
    },
    {
     "data": {
      "text/html": [
       "Find logs at: <code>./wandb/run-20240704_161601-7od1mpdr/logs</code>"
      ],
      "text/plain": [
       "<IPython.core.display.HTML object>"
      ]
     },
     "metadata": {},
     "output_type": "display_data"
    },
    {
     "name": "stderr",
     "output_type": "stream",
     "text": [
      "\u001b[34m\u001b[1mwandb\u001b[0m: Agent Starting Run: g5hkebiu with config:\n",
      "\u001b[34m\u001b[1mwandb\u001b[0m: \tbatch_size: 2\n",
      "\u001b[34m\u001b[1mwandb\u001b[0m: \tcontext_length: 128\n",
      "\u001b[34m\u001b[1mwandb\u001b[0m: \tlr: 0.0001\n"
     ]
    },
    {
     "data": {
      "text/html": [
       "wandb version 0.17.4 is available!  To upgrade, please run:\n",
       " $ pip install wandb --upgrade"
      ],
      "text/plain": [
       "<IPython.core.display.HTML object>"
      ]
     },
     "metadata": {},
     "output_type": "display_data"
    },
    {
     "data": {
      "text/html": [
       "Tracking run with wandb version 0.17.1"
      ],
      "text/plain": [
       "<IPython.core.display.HTML object>"
      ]
     },
     "metadata": {},
     "output_type": "display_data"
    },
    {
     "data": {
      "text/html": [
       "Run data is saved locally in <code>/home/eragroup/Documents/Documents/Koutas_Master_Thesis_Supervision/Junbo_Leng/lag_llama_model/lag-llama-main/wandb/run-20240704_162340-g5hkebiu</code>"
      ],
      "text/plain": [
       "<IPython.core.display.HTML object>"
      ]
     },
     "metadata": {},
     "output_type": "display_data"
    },
    {
     "data": {
      "text/html": [
       "Syncing run <strong><a href='https://wandb.ai/junboma/lag_llama_04_07/runs/g5hkebiu' target=\"_blank\">radiant-sweep-16</a></strong> to <a href='https://wandb.ai/junboma/lag_llama_04_07' target=\"_blank\">Weights & Biases</a> (<a href='https://wandb.me/run' target=\"_blank\">docs</a>)<br/>Sweep page: <a href='https://wandb.ai/junboma/lag_llama_04_07/sweeps/8bk4uije' target=\"_blank\">https://wandb.ai/junboma/lag_llama_04_07/sweeps/8bk4uije</a>"
      ],
      "text/plain": [
       "<IPython.core.display.HTML object>"
      ]
     },
     "metadata": {},
     "output_type": "display_data"
    },
    {
     "data": {
      "text/html": [
       " View project at <a href='https://wandb.ai/junboma/lag_llama_04_07' target=\"_blank\">https://wandb.ai/junboma/lag_llama_04_07</a>"
      ],
      "text/plain": [
       "<IPython.core.display.HTML object>"
      ]
     },
     "metadata": {},
     "output_type": "display_data"
    },
    {
     "data": {
      "text/html": [
       " View sweep at <a href='https://wandb.ai/junboma/lag_llama_04_07/sweeps/8bk4uije' target=\"_blank\">https://wandb.ai/junboma/lag_llama_04_07/sweeps/8bk4uije</a>"
      ],
      "text/plain": [
       "<IPython.core.display.HTML object>"
      ]
     },
     "metadata": {},
     "output_type": "display_data"
    },
    {
     "data": {
      "text/html": [
       " View run at <a href='https://wandb.ai/junboma/lag_llama_04_07/runs/g5hkebiu' target=\"_blank\">https://wandb.ai/junboma/lag_llama_04_07/runs/g5hkebiu</a>"
      ],
      "text/plain": [
       "<IPython.core.display.HTML object>"
      ]
     },
     "metadata": {},
     "output_type": "display_data"
    },
    {
     "name": "stderr",
     "output_type": "stream",
     "text": [
      "\u001b[34m\u001b[1mwandb\u001b[0m: \u001b[33mWARNING\u001b[0m Ignored wandb.init() arg project when running a sweep.\n"
     ]
    },
    {
     "data": {
      "text/html": [
       "Finishing last run (ID:g5hkebiu) before initializing another..."
      ],
      "text/plain": [
       "<IPython.core.display.HTML object>"
      ]
     },
     "metadata": {},
     "output_type": "display_data"
    },
    {
     "data": {
      "application/vnd.jupyter.widget-view+json": {
       "model_id": "",
       "version_major": 2,
       "version_minor": 0
      },
      "text/plain": [
       "VBox(children=(Label(value='0.003 MB of 0.003 MB uploaded\\r'), FloatProgress(value=1.0, max=1.0)))"
      ]
     },
     "metadata": {},
     "output_type": "display_data"
    },
    {
     "data": {
      "text/html": [
       " View run <strong style=\"color:#cdcd00\">radiant-sweep-16</strong> at: <a href='https://wandb.ai/junboma/lag_llama_04_07/runs/g5hkebiu' target=\"_blank\">https://wandb.ai/junboma/lag_llama_04_07/runs/g5hkebiu</a><br/> View project at: <a href='https://wandb.ai/junboma/lag_llama_04_07' target=\"_blank\">https://wandb.ai/junboma/lag_llama_04_07</a><br/>Synced 6 W&B file(s), 0 media file(s), 0 artifact file(s) and 0 other file(s)"
      ],
      "text/plain": [
       "<IPython.core.display.HTML object>"
      ]
     },
     "metadata": {},
     "output_type": "display_data"
    },
    {
     "data": {
      "text/html": [
       "Find logs at: <code>./wandb/run-20240704_162340-g5hkebiu/logs</code>"
      ],
      "text/plain": [
       "<IPython.core.display.HTML object>"
      ]
     },
     "metadata": {},
     "output_type": "display_data"
    },
    {
     "data": {
      "text/html": [
       "Successfully finished last run (ID:g5hkebiu). Initializing new run:<br/>"
      ],
      "text/plain": [
       "<IPython.core.display.HTML object>"
      ]
     },
     "metadata": {},
     "output_type": "display_data"
    },
    {
     "data": {
      "application/vnd.jupyter.widget-view+json": {
       "model_id": "d0196ccbf8934c9a9bc3eae72eb75dcc",
       "version_major": 2,
       "version_minor": 0
      },
      "text/plain": [
       "VBox(children=(Label(value='Waiting for wandb.init()...\\r'), FloatProgress(value=0.011113177995300955, max=1.0…"
      ]
     },
     "metadata": {},
     "output_type": "display_data"
    },
    {
     "data": {
      "text/html": [
       "wandb version 0.17.4 is available!  To upgrade, please run:\n",
       " $ pip install wandb --upgrade"
      ],
      "text/plain": [
       "<IPython.core.display.HTML object>"
      ]
     },
     "metadata": {},
     "output_type": "display_data"
    },
    {
     "data": {
      "text/html": [
       "Tracking run with wandb version 0.17.1"
      ],
      "text/plain": [
       "<IPython.core.display.HTML object>"
      ]
     },
     "metadata": {},
     "output_type": "display_data"
    },
    {
     "data": {
      "text/html": [
       "Run data is saved locally in <code>/home/eragroup/Documents/Documents/Koutas_Master_Thesis_Supervision/Junbo_Leng/lag_llama_model/lag-llama-main/wandb/run-20240704_162348-g5hkebiu</code>"
      ],
      "text/plain": [
       "<IPython.core.display.HTML object>"
      ]
     },
     "metadata": {},
     "output_type": "display_data"
    },
    {
     "data": {
      "text/html": [
       "Syncing run <strong><a href='https://wandb.ai/junboma/lag_llama_04_07/runs/g5hkebiu' target=\"_blank\">radiant-sweep-16</a></strong> to <a href='https://wandb.ai/junboma/lag_llama_04_07' target=\"_blank\">Weights & Biases</a> (<a href='https://wandb.me/run' target=\"_blank\">docs</a>)<br/>Sweep page: <a href='https://wandb.ai/junboma/lag_llama_04_07/sweeps/8bk4uije' target=\"_blank\">https://wandb.ai/junboma/lag_llama_04_07/sweeps/8bk4uije</a>"
      ],
      "text/plain": [
       "<IPython.core.display.HTML object>"
      ]
     },
     "metadata": {},
     "output_type": "display_data"
    },
    {
     "data": {
      "text/html": [
       " View project at <a href='https://wandb.ai/junboma/lag_llama_04_07' target=\"_blank\">https://wandb.ai/junboma/lag_llama_04_07</a>"
      ],
      "text/plain": [
       "<IPython.core.display.HTML object>"
      ]
     },
     "metadata": {},
     "output_type": "display_data"
    },
    {
     "data": {
      "text/html": [
       " View sweep at <a href='https://wandb.ai/junboma/lag_llama_04_07/sweeps/8bk4uije' target=\"_blank\">https://wandb.ai/junboma/lag_llama_04_07/sweeps/8bk4uije</a>"
      ],
      "text/plain": [
       "<IPython.core.display.HTML object>"
      ]
     },
     "metadata": {},
     "output_type": "display_data"
    },
    {
     "data": {
      "text/html": [
       " View run at <a href='https://wandb.ai/junboma/lag_llama_04_07/runs/g5hkebiu' target=\"_blank\">https://wandb.ai/junboma/lag_llama_04_07/runs/g5hkebiu</a>"
      ],
      "text/plain": [
       "<IPython.core.display.HTML object>"
      ]
     },
     "metadata": {},
     "output_type": "display_data"
    },
    {
     "name": "stderr",
     "output_type": "stream",
     "text": [
      "GPU available: True (cuda), used: True\n",
      "TPU available: False, using: 0 TPU cores\n",
      "IPU available: False, using: 0 IPUs\n",
      "HPU available: False, using: 0 HPUs\n",
      "/home/eragroup/anaconda3/envs/lag_llama/lib/python3.12/site-packages/lightning/pytorch/trainer/configuration_validator.py:74: You defined a `validation_step` but have no `val_dataloader`. Skipping val loop.\n",
      "LOCAL_RANK: 0 - CUDA_VISIBLE_DEVICES: [0]\n",
      "\n",
      "  | Name          | Type               | Params\n",
      "-----------------------------------------------------\n",
      "0 | model         | LagLlamaModel      | 2.4 M \n",
      "1 | augmentations | ApplyAugmentations | 0     \n",
      "-----------------------------------------------------\n",
      "2.4 M     Trainable params\n",
      "0         Non-trainable params\n",
      "2.4 M     Total params\n",
      "9.797     Total estimated model params size (MB)\n"
     ]
    },
    {
     "data": {
      "application/vnd.jupyter.widget-view+json": {
       "model_id": "77df0f86937c4eeb9888d2c327e62da6",
       "version_major": 2,
       "version_minor": 0
      },
      "text/plain": [
       "Training: |                                               | 0/? [00:00<?, ?it/s]"
      ]
     },
     "metadata": {},
     "output_type": "display_data"
    },
    {
     "name": "stderr",
     "output_type": "stream",
     "text": [
      "Epoch 0, global step 50: 'train_loss' reached 0.67074 (best 0.67074), saving model to '/home/eragroup/Documents/Documents/Koutas_Master_Thesis_Supervision/Junbo_Leng/lag_llama_model/lag-llama-main/lightning_logs/version_43/checkpoints/epoch=0-step=50.ckpt' as top 1\n",
      "Epoch 1, global step 100: 'train_loss' reached 0.43925 (best 0.43925), saving model to '/home/eragroup/Documents/Documents/Koutas_Master_Thesis_Supervision/Junbo_Leng/lag_llama_model/lag-llama-main/lightning_logs/version_43/checkpoints/epoch=1-step=100.ckpt' as top 1\n",
      "Epoch 2, global step 150: 'train_loss' was not in top 1\n",
      "Epoch 3, global step 200: 'train_loss' was not in top 1\n",
      "Epoch 4, global step 250: 'train_loss' reached 0.37522 (best 0.37522), saving model to '/home/eragroup/Documents/Documents/Koutas_Master_Thesis_Supervision/Junbo_Leng/lag_llama_model/lag-llama-main/lightning_logs/version_43/checkpoints/epoch=4-step=250.ckpt' as top 1\n",
      "Epoch 5, global step 300: 'train_loss' reached 0.34466 (best 0.34466), saving model to '/home/eragroup/Documents/Documents/Koutas_Master_Thesis_Supervision/Junbo_Leng/lag_llama_model/lag-llama-main/lightning_logs/version_43/checkpoints/epoch=5-step=300.ckpt' as top 1\n",
      "Epoch 6, global step 350: 'train_loss' reached 0.29780 (best 0.29780), saving model to '/home/eragroup/Documents/Documents/Koutas_Master_Thesis_Supervision/Junbo_Leng/lag_llama_model/lag-llama-main/lightning_logs/version_43/checkpoints/epoch=6-step=350.ckpt' as top 1\n",
      "Epoch 7, global step 400: 'train_loss' was not in top 1\n",
      "Epoch 8, global step 450: 'train_loss' reached 0.29610 (best 0.29610), saving model to '/home/eragroup/Documents/Documents/Koutas_Master_Thesis_Supervision/Junbo_Leng/lag_llama_model/lag-llama-main/lightning_logs/version_43/checkpoints/epoch=8-step=450.ckpt' as top 1\n",
      "Epoch 9, global step 500: 'train_loss' was not in top 1\n",
      "Epoch 10, global step 550: 'train_loss' was not in top 1\n",
      "Epoch 11, global step 600: 'train_loss' was not in top 1\n",
      "Epoch 12, global step 650: 'train_loss' was not in top 1\n",
      "Epoch 13, global step 700: 'train_loss' reached 0.27503 (best 0.27503), saving model to '/home/eragroup/Documents/Documents/Koutas_Master_Thesis_Supervision/Junbo_Leng/lag_llama_model/lag-llama-main/lightning_logs/version_43/checkpoints/epoch=13-step=700.ckpt' as top 1\n",
      "Epoch 14, global step 750: 'train_loss' was not in top 1\n",
      "Epoch 15, global step 800: 'train_loss' was not in top 1\n",
      "Epoch 16, global step 850: 'train_loss' was not in top 1\n",
      "Epoch 17, global step 900: 'train_loss' was not in top 1\n",
      "Epoch 18, global step 950: 'train_loss' was not in top 1\n",
      "Epoch 19, global step 1000: 'train_loss' was not in top 1\n",
      "Epoch 20, global step 1050: 'train_loss' reached 0.22086 (best 0.22086), saving model to '/home/eragroup/Documents/Documents/Koutas_Master_Thesis_Supervision/Junbo_Leng/lag_llama_model/lag-llama-main/lightning_logs/version_43/checkpoints/epoch=20-step=1050.ckpt' as top 1\n",
      "Epoch 21, global step 1100: 'train_loss' was not in top 1\n",
      "Epoch 22, global step 1150: 'train_loss' was not in top 1\n",
      "Epoch 23, global step 1200: 'train_loss' was not in top 1\n",
      "Epoch 24, global step 1250: 'train_loss' reached 0.20040 (best 0.20040), saving model to '/home/eragroup/Documents/Documents/Koutas_Master_Thesis_Supervision/Junbo_Leng/lag_llama_model/lag-llama-main/lightning_logs/version_43/checkpoints/epoch=24-step=1250.ckpt' as top 1\n",
      "Epoch 25, global step 1300: 'train_loss' was not in top 1\n",
      "Epoch 26, global step 1350: 'train_loss' was not in top 1\n",
      "Epoch 27, global step 1400: 'train_loss' was not in top 1\n",
      "Epoch 28, global step 1450: 'train_loss' was not in top 1\n",
      "Epoch 29, global step 1500: 'train_loss' was not in top 1\n",
      "Epoch 30, global step 1550: 'train_loss' was not in top 1\n",
      "Epoch 31, global step 1600: 'train_loss' was not in top 1\n",
      "Epoch 32, global step 1650: 'train_loss' was not in top 1\n",
      "Epoch 33, global step 1700: 'train_loss' was not in top 1\n",
      "Epoch 34, global step 1750: 'train_loss' was not in top 1\n",
      "Epoch 35, global step 1800: 'train_loss' was not in top 1\n",
      "Epoch 36, global step 1850: 'train_loss' was not in top 1\n",
      "Epoch 37, global step 1900: 'train_loss' was not in top 1\n",
      "Epoch 38, global step 1950: 'train_loss' was not in top 1\n",
      "Epoch 39, global step 2000: 'train_loss' was not in top 1\n",
      "Epoch 40, global step 2050: 'train_loss' was not in top 1\n",
      "Epoch 41, global step 2100: 'train_loss' was not in top 1\n",
      "Epoch 42, global step 2150: 'train_loss' reached 0.18144 (best 0.18144), saving model to '/home/eragroup/Documents/Documents/Koutas_Master_Thesis_Supervision/Junbo_Leng/lag_llama_model/lag-llama-main/lightning_logs/version_43/checkpoints/epoch=42-step=2150.ckpt' as top 1\n",
      "Epoch 43, global step 2200: 'train_loss' reached 0.16627 (best 0.16627), saving model to '/home/eragroup/Documents/Documents/Koutas_Master_Thesis_Supervision/Junbo_Leng/lag_llama_model/lag-llama-main/lightning_logs/version_43/checkpoints/epoch=43-step=2200.ckpt' as top 1\n",
      "Epoch 44, global step 2250: 'train_loss' was not in top 1\n",
      "Epoch 45, global step 2300: 'train_loss' reached 0.10423 (best 0.10423), saving model to '/home/eragroup/Documents/Documents/Koutas_Master_Thesis_Supervision/Junbo_Leng/lag_llama_model/lag-llama-main/lightning_logs/version_43/checkpoints/epoch=45-step=2300.ckpt' as top 1\n",
      "Epoch 46, global step 2350: 'train_loss' was not in top 1\n",
      "Epoch 47, global step 2400: 'train_loss' was not in top 1\n",
      "Epoch 48, global step 2450: 'train_loss' was not in top 1\n",
      "Epoch 49, global step 2500: 'train_loss' was not in top 1\n",
      "Epoch 50, global step 2550: 'train_loss' was not in top 1\n",
      "Epoch 51, global step 2600: 'train_loss' was not in top 1\n",
      "Epoch 52, global step 2650: 'train_loss' was not in top 1\n",
      "Epoch 53, global step 2700: 'train_loss' was not in top 1\n",
      "Epoch 54, global step 2750: 'train_loss' reached 0.05415 (best 0.05415), saving model to '/home/eragroup/Documents/Documents/Koutas_Master_Thesis_Supervision/Junbo_Leng/lag_llama_model/lag-llama-main/lightning_logs/version_43/checkpoints/epoch=54-step=2750.ckpt' as top 1\n",
      "Epoch 55, global step 2800: 'train_loss' was not in top 1\n",
      "Epoch 56, global step 2850: 'train_loss' was not in top 1\n",
      "Epoch 57, global step 2900: 'train_loss' was not in top 1\n",
      "Epoch 58, global step 2950: 'train_loss' was not in top 1\n",
      "Epoch 59, global step 3000: 'train_loss' reached 0.02033 (best 0.02033), saving model to '/home/eragroup/Documents/Documents/Koutas_Master_Thesis_Supervision/Junbo_Leng/lag_llama_model/lag-llama-main/lightning_logs/version_43/checkpoints/epoch=59-step=3000.ckpt' as top 1\n",
      "Epoch 60, global step 3050: 'train_loss' reached 0.01368 (best 0.01368), saving model to '/home/eragroup/Documents/Documents/Koutas_Master_Thesis_Supervision/Junbo_Leng/lag_llama_model/lag-llama-main/lightning_logs/version_43/checkpoints/epoch=60-step=3050.ckpt' as top 1\n",
      "Epoch 61, global step 3100: 'train_loss' reached -0.00838 (best -0.00838), saving model to '/home/eragroup/Documents/Documents/Koutas_Master_Thesis_Supervision/Junbo_Leng/lag_llama_model/lag-llama-main/lightning_logs/version_43/checkpoints/epoch=61-step=3100.ckpt' as top 1\n",
      "Epoch 62, global step 3150: 'train_loss' was not in top 1\n",
      "Epoch 63, global step 3200: 'train_loss' was not in top 1\n",
      "Epoch 64, global step 3250: 'train_loss' was not in top 1\n",
      "Epoch 65, global step 3300: 'train_loss' was not in top 1\n",
      "Epoch 66, global step 3350: 'train_loss' reached -0.02211 (best -0.02211), saving model to '/home/eragroup/Documents/Documents/Koutas_Master_Thesis_Supervision/Junbo_Leng/lag_llama_model/lag-llama-main/lightning_logs/version_43/checkpoints/epoch=66-step=3350.ckpt' as top 1\n",
      "Epoch 67, global step 3400: 'train_loss' was not in top 1\n",
      "Epoch 68, global step 3450: 'train_loss' reached -0.04274 (best -0.04274), saving model to '/home/eragroup/Documents/Documents/Koutas_Master_Thesis_Supervision/Junbo_Leng/lag_llama_model/lag-llama-main/lightning_logs/version_43/checkpoints/epoch=68-step=3450.ckpt' as top 1\n",
      "Epoch 69, global step 3500: 'train_loss' was not in top 1\n",
      "Epoch 70, global step 3550: 'train_loss' reached -0.06711 (best -0.06711), saving model to '/home/eragroup/Documents/Documents/Koutas_Master_Thesis_Supervision/Junbo_Leng/lag_llama_model/lag-llama-main/lightning_logs/version_43/checkpoints/epoch=70-step=3550.ckpt' as top 1\n",
      "Epoch 71, global step 3600: 'train_loss' reached -0.13244 (best -0.13244), saving model to '/home/eragroup/Documents/Documents/Koutas_Master_Thesis_Supervision/Junbo_Leng/lag_llama_model/lag-llama-main/lightning_logs/version_43/checkpoints/epoch=71-step=3600.ckpt' as top 1\n",
      "Epoch 72, global step 3650: 'train_loss' was not in top 1\n",
      "Epoch 73, global step 3700: 'train_loss' was not in top 1\n",
      "Epoch 74, global step 3750: 'train_loss' reached -0.17534 (best -0.17534), saving model to '/home/eragroup/Documents/Documents/Koutas_Master_Thesis_Supervision/Junbo_Leng/lag_llama_model/lag-llama-main/lightning_logs/version_43/checkpoints/epoch=74-step=3750.ckpt' as top 1\n",
      "Epoch 75, global step 3800: 'train_loss' was not in top 1\n",
      "Epoch 76, global step 3850: 'train_loss' was not in top 1\n",
      "Epoch 77, global step 3900: 'train_loss' was not in top 1\n",
      "Epoch 78, global step 3950: 'train_loss' was not in top 1\n",
      "Epoch 79, global step 4000: 'train_loss' reached -0.19605 (best -0.19605), saving model to '/home/eragroup/Documents/Documents/Koutas_Master_Thesis_Supervision/Junbo_Leng/lag_llama_model/lag-llama-main/lightning_logs/version_43/checkpoints/epoch=79-step=4000.ckpt' as top 1\n",
      "Epoch 80, global step 4050: 'train_loss' was not in top 1\n",
      "Epoch 81, global step 4100: 'train_loss' reached -0.20831 (best -0.20831), saving model to '/home/eragroup/Documents/Documents/Koutas_Master_Thesis_Supervision/Junbo_Leng/lag_llama_model/lag-llama-main/lightning_logs/version_43/checkpoints/epoch=81-step=4100.ckpt' as top 1\n",
      "Epoch 82, global step 4150: 'train_loss' was not in top 1\n",
      "Epoch 83, global step 4200: 'train_loss' was not in top 1\n",
      "Epoch 84, global step 4250: 'train_loss' reached -0.25227 (best -0.25227), saving model to '/home/eragroup/Documents/Documents/Koutas_Master_Thesis_Supervision/Junbo_Leng/lag_llama_model/lag-llama-main/lightning_logs/version_43/checkpoints/epoch=84-step=4250.ckpt' as top 1\n",
      "Epoch 85, global step 4300: 'train_loss' reached -0.25941 (best -0.25941), saving model to '/home/eragroup/Documents/Documents/Koutas_Master_Thesis_Supervision/Junbo_Leng/lag_llama_model/lag-llama-main/lightning_logs/version_43/checkpoints/epoch=85-step=4300.ckpt' as top 1\n",
      "Epoch 86, global step 4350: 'train_loss' was not in top 1\n",
      "Epoch 87, global step 4400: 'train_loss' was not in top 1\n",
      "Epoch 88, global step 4450: 'train_loss' was not in top 1\n",
      "Epoch 89, global step 4500: 'train_loss' was not in top 1\n",
      "Epoch 90, global step 4550: 'train_loss' was not in top 1\n",
      "Epoch 91, global step 4600: 'train_loss' was not in top 1\n",
      "Epoch 92, global step 4650: 'train_loss' reached -0.27044 (best -0.27044), saving model to '/home/eragroup/Documents/Documents/Koutas_Master_Thesis_Supervision/Junbo_Leng/lag_llama_model/lag-llama-main/lightning_logs/version_43/checkpoints/epoch=92-step=4650.ckpt' as top 1\n",
      "Epoch 93, global step 4700: 'train_loss' was not in top 1\n",
      "Epoch 94, global step 4750: 'train_loss' was not in top 1\n",
      "Epoch 95, global step 4800: 'train_loss' reached -0.31524 (best -0.31524), saving model to '/home/eragroup/Documents/Documents/Koutas_Master_Thesis_Supervision/Junbo_Leng/lag_llama_model/lag-llama-main/lightning_logs/version_43/checkpoints/epoch=95-step=4800.ckpt' as top 1\n",
      "Epoch 96, global step 4850: 'train_loss' reached -0.35122 (best -0.35122), saving model to '/home/eragroup/Documents/Documents/Koutas_Master_Thesis_Supervision/Junbo_Leng/lag_llama_model/lag-llama-main/lightning_logs/version_43/checkpoints/epoch=96-step=4850.ckpt' as top 1\n",
      "Epoch 97, global step 4900: 'train_loss' was not in top 1\n",
      "Epoch 98, global step 4950: 'train_loss' was not in top 1\n",
      "Epoch 99, global step 5000: 'train_loss' was not in top 1\n",
      "`Trainer.fit` stopped: `max_epochs=100` reached.\n"
     ]
    },
    {
     "data": {
      "application/vnd.jupyter.widget-view+json": {
       "model_id": "a37c67ee13374f8ba6a34c614dcb81e2",
       "version_major": 2,
       "version_minor": 0
      },
      "text/plain": [
       "Forecasting batches:   0%|          | 0/60 [00:00<?, ?it/s]"
      ]
     },
     "metadata": {},
     "output_type": "display_data"
    },
    {
     "data": {
      "application/vnd.jupyter.widget-view+json": {
       "model_id": "64c78df8790b4959af85bb2bcb49a2f3",
       "version_major": 2,
       "version_minor": 0
      },
      "text/plain": [
       "Ground truth:   0%|          | 0/60 [00:00<?, ?it/s]"
      ]
     },
     "metadata": {},
     "output_type": "display_data"
    },
    {
     "name": "stderr",
     "output_type": "stream",
     "text": [
      "/tmp/ipykernel_18695/4101722395.py:14: FutureWarning: Series.__getitem__ treating keys as positions is deprecated. In a future version, integer keys will always be treated as labels (consistent with DataFrame behavior). To access a value by position, use `ser.iloc[pos]`\n",
      "  tss[i].values[:] = tss[i].values * test_df.std()[i] + test_df.mean()[i]\n",
      "/tmp/ipykernel_18695/4101722395.py:17: FutureWarning: Series.__getitem__ treating keys as positions is deprecated. In a future version, integer keys will always be treated as labels (consistent with DataFrame behavior). To access a value by position, use `ser.iloc[pos]`\n",
      "  std_value = test_df.std()[i]\n",
      "/tmp/ipykernel_18695/4101722395.py:18: FutureWarning: Series.__getitem__ treating keys as positions is deprecated. In a future version, integer keys will always be treated as labels (consistent with DataFrame behavior). To access a value by position, use `ser.iloc[pos]`\n",
      "  mean_value = test_df.mean()[i]\n",
      "Running evaluation: 60it [00:00, 524.11it/s]\n"
     ]
    },
    {
     "data": {
      "application/vnd.jupyter.widget-view+json": {
       "model_id": "",
       "version_major": 2,
       "version_minor": 0
      },
      "text/plain": [
       "VBox(children=(Label(value='0.003 MB of 0.003 MB uploaded\\r'), FloatProgress(value=1.0, max=1.0)))"
      ]
     },
     "metadata": {},
     "output_type": "display_data"
    },
    {
     "data": {
      "text/html": [
       "<style>\n",
       "    table.wandb td:nth-child(1) { padding: 0 10px; text-align: left ; width: auto;} td:nth-child(2) {text-align: left ; width: 100%}\n",
       "    .wandb-row { display: flex; flex-direction: row; flex-wrap: wrap; justify-content: flex-start; width: 100% }\n",
       "    .wandb-col { display: flex; flex-direction: column; flex-basis: 100%; flex: 1; padding: 10px; }\n",
       "    </style>\n",
       "<div class=\"wandb-row\"><div class=\"wandb-col\"><h3>Run history:</h3><br/><table class=\"wandb\"><tr><td>CPRS</td><td>▁</td></tr><tr><td>train_loss</td><td>█▇▅▂▆▂▅▃▄▂█▃▅▄▅▅▆▁▅▄▆▄▂▅▅▃▅▄▅▃▃▁▂▄▃▃▃▅▂▃</td></tr></table><br/></div><div class=\"wandb-col\"><h3>Run summary:</h3><br/><table class=\"wandb\"><tr><td>CPRS</td><td>0.00034</td></tr><tr><td>train_loss</td><td>-0.30742</td></tr></table><br/></div></div>"
      ],
      "text/plain": [
       "<IPython.core.display.HTML object>"
      ]
     },
     "metadata": {},
     "output_type": "display_data"
    },
    {
     "data": {
      "text/html": [
       " View run <strong style=\"color:#cdcd00\">radiant-sweep-16</strong> at: <a href='https://wandb.ai/junboma/lag_llama_04_07/runs/g5hkebiu' target=\"_blank\">https://wandb.ai/junboma/lag_llama_04_07/runs/g5hkebiu</a><br/> View project at: <a href='https://wandb.ai/junboma/lag_llama_04_07' target=\"_blank\">https://wandb.ai/junboma/lag_llama_04_07</a><br/>Synced 6 W&B file(s), 0 media file(s), 0 artifact file(s) and 0 other file(s)"
      ],
      "text/plain": [
       "<IPython.core.display.HTML object>"
      ]
     },
     "metadata": {},
     "output_type": "display_data"
    },
    {
     "data": {
      "text/html": [
       "Find logs at: <code>./wandb/run-20240704_162348-g5hkebiu/logs</code>"
      ],
      "text/plain": [
       "<IPython.core.display.HTML object>"
      ]
     },
     "metadata": {},
     "output_type": "display_data"
    },
    {
     "name": "stderr",
     "output_type": "stream",
     "text": [
      "\u001b[34m\u001b[1mwandb\u001b[0m: Agent Starting Run: yrb1pjvj with config:\n",
      "\u001b[34m\u001b[1mwandb\u001b[0m: \tbatch_size: 8\n",
      "\u001b[34m\u001b[1mwandb\u001b[0m: \tcontext_length: 32\n",
      "\u001b[34m\u001b[1mwandb\u001b[0m: \tlr: 0.0005\n"
     ]
    },
    {
     "data": {
      "text/html": [
       "wandb version 0.17.4 is available!  To upgrade, please run:\n",
       " $ pip install wandb --upgrade"
      ],
      "text/plain": [
       "<IPython.core.display.HTML object>"
      ]
     },
     "metadata": {},
     "output_type": "display_data"
    },
    {
     "data": {
      "text/html": [
       "Tracking run with wandb version 0.17.1"
      ],
      "text/plain": [
       "<IPython.core.display.HTML object>"
      ]
     },
     "metadata": {},
     "output_type": "display_data"
    },
    {
     "data": {
      "text/html": [
       "Run data is saved locally in <code>/home/eragroup/Documents/Documents/Koutas_Master_Thesis_Supervision/Junbo_Leng/lag_llama_model/lag-llama-main/wandb/run-20240704_163129-yrb1pjvj</code>"
      ],
      "text/plain": [
       "<IPython.core.display.HTML object>"
      ]
     },
     "metadata": {},
     "output_type": "display_data"
    },
    {
     "data": {
      "text/html": [
       "Syncing run <strong><a href='https://wandb.ai/junboma/lag_llama_04_07/runs/yrb1pjvj' target=\"_blank\">dulcet-sweep-17</a></strong> to <a href='https://wandb.ai/junboma/lag_llama_04_07' target=\"_blank\">Weights & Biases</a> (<a href='https://wandb.me/run' target=\"_blank\">docs</a>)<br/>Sweep page: <a href='https://wandb.ai/junboma/lag_llama_04_07/sweeps/8bk4uije' target=\"_blank\">https://wandb.ai/junboma/lag_llama_04_07/sweeps/8bk4uije</a>"
      ],
      "text/plain": [
       "<IPython.core.display.HTML object>"
      ]
     },
     "metadata": {},
     "output_type": "display_data"
    },
    {
     "data": {
      "text/html": [
       " View project at <a href='https://wandb.ai/junboma/lag_llama_04_07' target=\"_blank\">https://wandb.ai/junboma/lag_llama_04_07</a>"
      ],
      "text/plain": [
       "<IPython.core.display.HTML object>"
      ]
     },
     "metadata": {},
     "output_type": "display_data"
    },
    {
     "data": {
      "text/html": [
       " View sweep at <a href='https://wandb.ai/junboma/lag_llama_04_07/sweeps/8bk4uije' target=\"_blank\">https://wandb.ai/junboma/lag_llama_04_07/sweeps/8bk4uije</a>"
      ],
      "text/plain": [
       "<IPython.core.display.HTML object>"
      ]
     },
     "metadata": {},
     "output_type": "display_data"
    },
    {
     "data": {
      "text/html": [
       " View run at <a href='https://wandb.ai/junboma/lag_llama_04_07/runs/yrb1pjvj' target=\"_blank\">https://wandb.ai/junboma/lag_llama_04_07/runs/yrb1pjvj</a>"
      ],
      "text/plain": [
       "<IPython.core.display.HTML object>"
      ]
     },
     "metadata": {},
     "output_type": "display_data"
    },
    {
     "name": "stderr",
     "output_type": "stream",
     "text": [
      "\u001b[34m\u001b[1mwandb\u001b[0m: \u001b[33mWARNING\u001b[0m Ignored wandb.init() arg project when running a sweep.\n"
     ]
    },
    {
     "data": {
      "text/html": [
       "Finishing last run (ID:yrb1pjvj) before initializing another..."
      ],
      "text/plain": [
       "<IPython.core.display.HTML object>"
      ]
     },
     "metadata": {},
     "output_type": "display_data"
    },
    {
     "data": {
      "application/vnd.jupyter.widget-view+json": {
       "model_id": "",
       "version_major": 2,
       "version_minor": 0
      },
      "text/plain": [
       "VBox(children=(Label(value='0.003 MB of 0.003 MB uploaded\\r'), FloatProgress(value=1.0, max=1.0)))"
      ]
     },
     "metadata": {},
     "output_type": "display_data"
    },
    {
     "data": {
      "text/html": [
       " View run <strong style=\"color:#cdcd00\">dulcet-sweep-17</strong> at: <a href='https://wandb.ai/junboma/lag_llama_04_07/runs/yrb1pjvj' target=\"_blank\">https://wandb.ai/junboma/lag_llama_04_07/runs/yrb1pjvj</a><br/> View project at: <a href='https://wandb.ai/junboma/lag_llama_04_07' target=\"_blank\">https://wandb.ai/junboma/lag_llama_04_07</a><br/>Synced 6 W&B file(s), 0 media file(s), 0 artifact file(s) and 0 other file(s)"
      ],
      "text/plain": [
       "<IPython.core.display.HTML object>"
      ]
     },
     "metadata": {},
     "output_type": "display_data"
    },
    {
     "data": {
      "text/html": [
       "Find logs at: <code>./wandb/run-20240704_163129-yrb1pjvj/logs</code>"
      ],
      "text/plain": [
       "<IPython.core.display.HTML object>"
      ]
     },
     "metadata": {},
     "output_type": "display_data"
    },
    {
     "data": {
      "text/html": [
       "Successfully finished last run (ID:yrb1pjvj). Initializing new run:<br/>"
      ],
      "text/plain": [
       "<IPython.core.display.HTML object>"
      ]
     },
     "metadata": {},
     "output_type": "display_data"
    },
    {
     "data": {
      "application/vnd.jupyter.widget-view+json": {
       "model_id": "485424c3d79f4ca1ab3fc812bc04006f",
       "version_major": 2,
       "version_minor": 0
      },
      "text/plain": [
       "VBox(children=(Label(value='Waiting for wandb.init()...\\r'), FloatProgress(value=0.011112601734283897, max=1.0…"
      ]
     },
     "metadata": {},
     "output_type": "display_data"
    },
    {
     "data": {
      "text/html": [
       "wandb version 0.17.4 is available!  To upgrade, please run:\n",
       " $ pip install wandb --upgrade"
      ],
      "text/plain": [
       "<IPython.core.display.HTML object>"
      ]
     },
     "metadata": {},
     "output_type": "display_data"
    },
    {
     "data": {
      "text/html": [
       "Tracking run with wandb version 0.17.1"
      ],
      "text/plain": [
       "<IPython.core.display.HTML object>"
      ]
     },
     "metadata": {},
     "output_type": "display_data"
    },
    {
     "data": {
      "text/html": [
       "Run data is saved locally in <code>/home/eragroup/Documents/Documents/Koutas_Master_Thesis_Supervision/Junbo_Leng/lag_llama_model/lag-llama-main/wandb/run-20240704_163136-yrb1pjvj</code>"
      ],
      "text/plain": [
       "<IPython.core.display.HTML object>"
      ]
     },
     "metadata": {},
     "output_type": "display_data"
    },
    {
     "data": {
      "text/html": [
       "Syncing run <strong><a href='https://wandb.ai/junboma/lag_llama_04_07/runs/yrb1pjvj' target=\"_blank\">dulcet-sweep-17</a></strong> to <a href='https://wandb.ai/junboma/lag_llama_04_07' target=\"_blank\">Weights & Biases</a> (<a href='https://wandb.me/run' target=\"_blank\">docs</a>)<br/>Sweep page: <a href='https://wandb.ai/junboma/lag_llama_04_07/sweeps/8bk4uije' target=\"_blank\">https://wandb.ai/junboma/lag_llama_04_07/sweeps/8bk4uije</a>"
      ],
      "text/plain": [
       "<IPython.core.display.HTML object>"
      ]
     },
     "metadata": {},
     "output_type": "display_data"
    },
    {
     "data": {
      "text/html": [
       " View project at <a href='https://wandb.ai/junboma/lag_llama_04_07' target=\"_blank\">https://wandb.ai/junboma/lag_llama_04_07</a>"
      ],
      "text/plain": [
       "<IPython.core.display.HTML object>"
      ]
     },
     "metadata": {},
     "output_type": "display_data"
    },
    {
     "data": {
      "text/html": [
       " View sweep at <a href='https://wandb.ai/junboma/lag_llama_04_07/sweeps/8bk4uije' target=\"_blank\">https://wandb.ai/junboma/lag_llama_04_07/sweeps/8bk4uije</a>"
      ],
      "text/plain": [
       "<IPython.core.display.HTML object>"
      ]
     },
     "metadata": {},
     "output_type": "display_data"
    },
    {
     "data": {
      "text/html": [
       " View run at <a href='https://wandb.ai/junboma/lag_llama_04_07/runs/yrb1pjvj' target=\"_blank\">https://wandb.ai/junboma/lag_llama_04_07/runs/yrb1pjvj</a>"
      ],
      "text/plain": [
       "<IPython.core.display.HTML object>"
      ]
     },
     "metadata": {},
     "output_type": "display_data"
    },
    {
     "name": "stderr",
     "output_type": "stream",
     "text": [
      "GPU available: True (cuda), used: True\n",
      "TPU available: False, using: 0 TPU cores\n",
      "IPU available: False, using: 0 IPUs\n",
      "HPU available: False, using: 0 HPUs\n",
      "/home/eragroup/anaconda3/envs/lag_llama/lib/python3.12/site-packages/lightning/pytorch/trainer/configuration_validator.py:74: You defined a `validation_step` but have no `val_dataloader`. Skipping val loop.\n",
      "LOCAL_RANK: 0 - CUDA_VISIBLE_DEVICES: [0]\n",
      "\n",
      "  | Name          | Type               | Params\n",
      "-----------------------------------------------------\n",
      "0 | model         | LagLlamaModel      | 2.4 M \n",
      "1 | augmentations | ApplyAugmentations | 0     \n",
      "-----------------------------------------------------\n",
      "2.4 M     Trainable params\n",
      "0         Non-trainable params\n",
      "2.4 M     Total params\n",
      "9.797     Total estimated model params size (MB)\n"
     ]
    },
    {
     "data": {
      "application/vnd.jupyter.widget-view+json": {
       "model_id": "ca70f67dc5c44b96a297a3253e78c6b0",
       "version_major": 2,
       "version_minor": 0
      },
      "text/plain": [
       "Training: |                                               | 0/? [00:00<?, ?it/s]"
      ]
     },
     "metadata": {},
     "output_type": "display_data"
    },
    {
     "name": "stderr",
     "output_type": "stream",
     "text": [
      "Epoch 0, global step 50: 'train_loss' reached 0.51383 (best 0.51383), saving model to '/home/eragroup/Documents/Documents/Koutas_Master_Thesis_Supervision/Junbo_Leng/lag_llama_model/lag-llama-main/lightning_logs/version_44/checkpoints/epoch=0-step=50.ckpt' as top 1\n",
      "Epoch 1, global step 100: 'train_loss' reached 0.45910 (best 0.45910), saving model to '/home/eragroup/Documents/Documents/Koutas_Master_Thesis_Supervision/Junbo_Leng/lag_llama_model/lag-llama-main/lightning_logs/version_44/checkpoints/epoch=1-step=100.ckpt' as top 1\n",
      "Epoch 2, global step 150: 'train_loss' reached 0.37429 (best 0.37429), saving model to '/home/eragroup/Documents/Documents/Koutas_Master_Thesis_Supervision/Junbo_Leng/lag_llama_model/lag-llama-main/lightning_logs/version_44/checkpoints/epoch=2-step=150.ckpt' as top 1\n",
      "Epoch 3, global step 200: 'train_loss' was not in top 1\n",
      "Epoch 4, global step 250: 'train_loss' was not in top 1\n",
      "Epoch 5, global step 300: 'train_loss' reached 0.36325 (best 0.36325), saving model to '/home/eragroup/Documents/Documents/Koutas_Master_Thesis_Supervision/Junbo_Leng/lag_llama_model/lag-llama-main/lightning_logs/version_44/checkpoints/epoch=5-step=300.ckpt' as top 1\n",
      "Epoch 6, global step 350: 'train_loss' was not in top 1\n",
      "Epoch 7, global step 400: 'train_loss' reached 0.32926 (best 0.32926), saving model to '/home/eragroup/Documents/Documents/Koutas_Master_Thesis_Supervision/Junbo_Leng/lag_llama_model/lag-llama-main/lightning_logs/version_44/checkpoints/epoch=7-step=400.ckpt' as top 1\n",
      "Epoch 8, global step 450: 'train_loss' was not in top 1\n",
      "Epoch 9, global step 500: 'train_loss' was not in top 1\n",
      "Epoch 10, global step 550: 'train_loss' reached 0.31263 (best 0.31263), saving model to '/home/eragroup/Documents/Documents/Koutas_Master_Thesis_Supervision/Junbo_Leng/lag_llama_model/lag-llama-main/lightning_logs/version_44/checkpoints/epoch=10-step=550.ckpt' as top 1\n",
      "Epoch 11, global step 600: 'train_loss' reached 0.26970 (best 0.26970), saving model to '/home/eragroup/Documents/Documents/Koutas_Master_Thesis_Supervision/Junbo_Leng/lag_llama_model/lag-llama-main/lightning_logs/version_44/checkpoints/epoch=11-step=600.ckpt' as top 1\n",
      "Epoch 12, global step 650: 'train_loss' was not in top 1\n",
      "Epoch 13, global step 700: 'train_loss' reached 0.23100 (best 0.23100), saving model to '/home/eragroup/Documents/Documents/Koutas_Master_Thesis_Supervision/Junbo_Leng/lag_llama_model/lag-llama-main/lightning_logs/version_44/checkpoints/epoch=13-step=700.ckpt' as top 1\n",
      "Epoch 14, global step 750: 'train_loss' reached 0.15509 (best 0.15509), saving model to '/home/eragroup/Documents/Documents/Koutas_Master_Thesis_Supervision/Junbo_Leng/lag_llama_model/lag-llama-main/lightning_logs/version_44/checkpoints/epoch=14-step=750.ckpt' as top 1\n",
      "Epoch 15, global step 800: 'train_loss' was not in top 1\n",
      "Epoch 16, global step 850: 'train_loss' reached 0.11883 (best 0.11883), saving model to '/home/eragroup/Documents/Documents/Koutas_Master_Thesis_Supervision/Junbo_Leng/lag_llama_model/lag-llama-main/lightning_logs/version_44/checkpoints/epoch=16-step=850.ckpt' as top 1\n",
      "Epoch 17, global step 900: 'train_loss' reached 0.09137 (best 0.09137), saving model to '/home/eragroup/Documents/Documents/Koutas_Master_Thesis_Supervision/Junbo_Leng/lag_llama_model/lag-llama-main/lightning_logs/version_44/checkpoints/epoch=17-step=900.ckpt' as top 1\n",
      "Epoch 18, global step 950: 'train_loss' reached 0.01410 (best 0.01410), saving model to '/home/eragroup/Documents/Documents/Koutas_Master_Thesis_Supervision/Junbo_Leng/lag_llama_model/lag-llama-main/lightning_logs/version_44/checkpoints/epoch=18-step=950.ckpt' as top 1\n",
      "Epoch 19, global step 1000: 'train_loss' was not in top 1\n",
      "Epoch 20, global step 1050: 'train_loss' reached -0.03917 (best -0.03917), saving model to '/home/eragroup/Documents/Documents/Koutas_Master_Thesis_Supervision/Junbo_Leng/lag_llama_model/lag-llama-main/lightning_logs/version_44/checkpoints/epoch=20-step=1050.ckpt' as top 1\n",
      "Epoch 21, global step 1100: 'train_loss' reached -0.07694 (best -0.07694), saving model to '/home/eragroup/Documents/Documents/Koutas_Master_Thesis_Supervision/Junbo_Leng/lag_llama_model/lag-llama-main/lightning_logs/version_44/checkpoints/epoch=21-step=1100.ckpt' as top 1\n",
      "Epoch 22, global step 1150: 'train_loss' reached -0.10793 (best -0.10793), saving model to '/home/eragroup/Documents/Documents/Koutas_Master_Thesis_Supervision/Junbo_Leng/lag_llama_model/lag-llama-main/lightning_logs/version_44/checkpoints/epoch=22-step=1150.ckpt' as top 1\n",
      "Epoch 23, global step 1200: 'train_loss' reached -0.12446 (best -0.12446), saving model to '/home/eragroup/Documents/Documents/Koutas_Master_Thesis_Supervision/Junbo_Leng/lag_llama_model/lag-llama-main/lightning_logs/version_44/checkpoints/epoch=23-step=1200.ckpt' as top 1\n",
      "Epoch 24, global step 1250: 'train_loss' reached -0.17274 (best -0.17274), saving model to '/home/eragroup/Documents/Documents/Koutas_Master_Thesis_Supervision/Junbo_Leng/lag_llama_model/lag-llama-main/lightning_logs/version_44/checkpoints/epoch=24-step=1250.ckpt' as top 1\n",
      "Epoch 25, global step 1300: 'train_loss' reached -0.21280 (best -0.21280), saving model to '/home/eragroup/Documents/Documents/Koutas_Master_Thesis_Supervision/Junbo_Leng/lag_llama_model/lag-llama-main/lightning_logs/version_44/checkpoints/epoch=25-step=1300.ckpt' as top 1\n",
      "Epoch 26, global step 1350: 'train_loss' was not in top 1\n",
      "Epoch 27, global step 1400: 'train_loss' reached -0.22763 (best -0.22763), saving model to '/home/eragroup/Documents/Documents/Koutas_Master_Thesis_Supervision/Junbo_Leng/lag_llama_model/lag-llama-main/lightning_logs/version_44/checkpoints/epoch=27-step=1400.ckpt' as top 1\n",
      "Epoch 28, global step 1450: 'train_loss' reached -0.25739 (best -0.25739), saving model to '/home/eragroup/Documents/Documents/Koutas_Master_Thesis_Supervision/Junbo_Leng/lag_llama_model/lag-llama-main/lightning_logs/version_44/checkpoints/epoch=28-step=1450.ckpt' as top 1\n",
      "Epoch 29, global step 1500: 'train_loss' reached -0.26509 (best -0.26509), saving model to '/home/eragroup/Documents/Documents/Koutas_Master_Thesis_Supervision/Junbo_Leng/lag_llama_model/lag-llama-main/lightning_logs/version_44/checkpoints/epoch=29-step=1500.ckpt' as top 1\n",
      "Epoch 30, global step 1550: 'train_loss' reached -0.35602 (best -0.35602), saving model to '/home/eragroup/Documents/Documents/Koutas_Master_Thesis_Supervision/Junbo_Leng/lag_llama_model/lag-llama-main/lightning_logs/version_44/checkpoints/epoch=30-step=1550.ckpt' as top 1\n",
      "Epoch 31, global step 1600: 'train_loss' reached -0.39927 (best -0.39927), saving model to '/home/eragroup/Documents/Documents/Koutas_Master_Thesis_Supervision/Junbo_Leng/lag_llama_model/lag-llama-main/lightning_logs/version_44/checkpoints/epoch=31-step=1600.ckpt' as top 1\n",
      "Epoch 32, global step 1650: 'train_loss' reached -0.40139 (best -0.40139), saving model to '/home/eragroup/Documents/Documents/Koutas_Master_Thesis_Supervision/Junbo_Leng/lag_llama_model/lag-llama-main/lightning_logs/version_44/checkpoints/epoch=32-step=1650.ckpt' as top 1\n",
      "Epoch 33, global step 1700: 'train_loss' reached -0.46999 (best -0.46999), saving model to '/home/eragroup/Documents/Documents/Koutas_Master_Thesis_Supervision/Junbo_Leng/lag_llama_model/lag-llama-main/lightning_logs/version_44/checkpoints/epoch=33-step=1700.ckpt' as top 1\n",
      "Epoch 34, global step 1750: 'train_loss' was not in top 1\n",
      "Epoch 35, global step 1800: 'train_loss' reached -0.47556 (best -0.47556), saving model to '/home/eragroup/Documents/Documents/Koutas_Master_Thesis_Supervision/Junbo_Leng/lag_llama_model/lag-llama-main/lightning_logs/version_44/checkpoints/epoch=35-step=1800.ckpt' as top 1\n",
      "Epoch 36, global step 1850: 'train_loss' reached -0.54012 (best -0.54012), saving model to '/home/eragroup/Documents/Documents/Koutas_Master_Thesis_Supervision/Junbo_Leng/lag_llama_model/lag-llama-main/lightning_logs/version_44/checkpoints/epoch=36-step=1850.ckpt' as top 1\n",
      "Epoch 37, global step 1900: 'train_loss' reached -0.54056 (best -0.54056), saving model to '/home/eragroup/Documents/Documents/Koutas_Master_Thesis_Supervision/Junbo_Leng/lag_llama_model/lag-llama-main/lightning_logs/version_44/checkpoints/epoch=37-step=1900.ckpt' as top 1\n",
      "Epoch 38, global step 1950: 'train_loss' reached -0.61217 (best -0.61217), saving model to '/home/eragroup/Documents/Documents/Koutas_Master_Thesis_Supervision/Junbo_Leng/lag_llama_model/lag-llama-main/lightning_logs/version_44/checkpoints/epoch=38-step=1950.ckpt' as top 1\n",
      "Epoch 39, global step 2000: 'train_loss' was not in top 1\n",
      "Epoch 40, global step 2050: 'train_loss' was not in top 1\n",
      "Epoch 41, global step 2100: 'train_loss' reached -0.64319 (best -0.64319), saving model to '/home/eragroup/Documents/Documents/Koutas_Master_Thesis_Supervision/Junbo_Leng/lag_llama_model/lag-llama-main/lightning_logs/version_44/checkpoints/epoch=41-step=2100.ckpt' as top 1\n",
      "Epoch 42, global step 2150: 'train_loss' reached -0.70138 (best -0.70138), saving model to '/home/eragroup/Documents/Documents/Koutas_Master_Thesis_Supervision/Junbo_Leng/lag_llama_model/lag-llama-main/lightning_logs/version_44/checkpoints/epoch=42-step=2150.ckpt' as top 1\n",
      "Epoch 43, global step 2200: 'train_loss' was not in top 1\n",
      "Epoch 44, global step 2250: 'train_loss' was not in top 1\n",
      "Epoch 45, global step 2300: 'train_loss' was not in top 1\n",
      "Epoch 46, global step 2350: 'train_loss' reached -0.73933 (best -0.73933), saving model to '/home/eragroup/Documents/Documents/Koutas_Master_Thesis_Supervision/Junbo_Leng/lag_llama_model/lag-llama-main/lightning_logs/version_44/checkpoints/epoch=46-step=2350.ckpt' as top 1\n",
      "Epoch 47, global step 2400: 'train_loss' reached -0.76682 (best -0.76682), saving model to '/home/eragroup/Documents/Documents/Koutas_Master_Thesis_Supervision/Junbo_Leng/lag_llama_model/lag-llama-main/lightning_logs/version_44/checkpoints/epoch=47-step=2400.ckpt' as top 1\n",
      "Epoch 48, global step 2450: 'train_loss' reached -0.77474 (best -0.77474), saving model to '/home/eragroup/Documents/Documents/Koutas_Master_Thesis_Supervision/Junbo_Leng/lag_llama_model/lag-llama-main/lightning_logs/version_44/checkpoints/epoch=48-step=2450.ckpt' as top 1\n",
      "Epoch 49, global step 2500: 'train_loss' reached -0.86652 (best -0.86652), saving model to '/home/eragroup/Documents/Documents/Koutas_Master_Thesis_Supervision/Junbo_Leng/lag_llama_model/lag-llama-main/lightning_logs/version_44/checkpoints/epoch=49-step=2500.ckpt' as top 1\n",
      "Epoch 50, global step 2550: 'train_loss' was not in top 1\n",
      "Epoch 51, global step 2600: 'train_loss' reached -0.87176 (best -0.87176), saving model to '/home/eragroup/Documents/Documents/Koutas_Master_Thesis_Supervision/Junbo_Leng/lag_llama_model/lag-llama-main/lightning_logs/version_44/checkpoints/epoch=51-step=2600.ckpt' as top 1\n",
      "Epoch 52, global step 2650: 'train_loss' was not in top 1\n",
      "Epoch 53, global step 2700: 'train_loss' reached -0.91317 (best -0.91317), saving model to '/home/eragroup/Documents/Documents/Koutas_Master_Thesis_Supervision/Junbo_Leng/lag_llama_model/lag-llama-main/lightning_logs/version_44/checkpoints/epoch=53-step=2700.ckpt' as top 1\n",
      "Epoch 54, global step 2750: 'train_loss' reached -0.97510 (best -0.97510), saving model to '/home/eragroup/Documents/Documents/Koutas_Master_Thesis_Supervision/Junbo_Leng/lag_llama_model/lag-llama-main/lightning_logs/version_44/checkpoints/epoch=54-step=2750.ckpt' as top 1\n",
      "Epoch 55, global step 2800: 'train_loss' was not in top 1\n",
      "Epoch 56, global step 2850: 'train_loss' reached -0.98099 (best -0.98099), saving model to '/home/eragroup/Documents/Documents/Koutas_Master_Thesis_Supervision/Junbo_Leng/lag_llama_model/lag-llama-main/lightning_logs/version_44/checkpoints/epoch=56-step=2850.ckpt' as top 1\n",
      "Epoch 57, global step 2900: 'train_loss' was not in top 1\n",
      "Epoch 58, global step 2950: 'train_loss' was not in top 1\n",
      "Epoch 59, global step 3000: 'train_loss' reached -1.04279 (best -1.04279), saving model to '/home/eragroup/Documents/Documents/Koutas_Master_Thesis_Supervision/Junbo_Leng/lag_llama_model/lag-llama-main/lightning_logs/version_44/checkpoints/epoch=59-step=3000.ckpt' as top 1\n",
      "Epoch 60, global step 3050: 'train_loss' was not in top 1\n",
      "Epoch 61, global step 3100: 'train_loss' was not in top 1\n",
      "Epoch 62, global step 3150: 'train_loss' was not in top 1\n",
      "Epoch 63, global step 3200: 'train_loss' reached -1.08993 (best -1.08993), saving model to '/home/eragroup/Documents/Documents/Koutas_Master_Thesis_Supervision/Junbo_Leng/lag_llama_model/lag-llama-main/lightning_logs/version_44/checkpoints/epoch=63-step=3200.ckpt' as top 1\n",
      "Epoch 64, global step 3250: 'train_loss' was not in top 1\n",
      "Epoch 65, global step 3300: 'train_loss' was not in top 1\n",
      "Epoch 66, global step 3350: 'train_loss' was not in top 1\n",
      "Epoch 67, global step 3400: 'train_loss' reached -1.16563 (best -1.16563), saving model to '/home/eragroup/Documents/Documents/Koutas_Master_Thesis_Supervision/Junbo_Leng/lag_llama_model/lag-llama-main/lightning_logs/version_44/checkpoints/epoch=67-step=3400.ckpt' as top 1\n",
      "Epoch 68, global step 3450: 'train_loss' was not in top 1\n",
      "Epoch 69, global step 3500: 'train_loss' was not in top 1\n",
      "Epoch 70, global step 3550: 'train_loss' was not in top 1\n",
      "Epoch 71, global step 3600: 'train_loss' was not in top 1\n",
      "Epoch 72, global step 3650: 'train_loss' was not in top 1\n",
      "Epoch 73, global step 3700: 'train_loss' was not in top 1\n",
      "Epoch 74, global step 3750: 'train_loss' reached -1.19647 (best -1.19647), saving model to '/home/eragroup/Documents/Documents/Koutas_Master_Thesis_Supervision/Junbo_Leng/lag_llama_model/lag-llama-main/lightning_logs/version_44/checkpoints/epoch=74-step=3750.ckpt' as top 1\n",
      "Epoch 75, global step 3800: 'train_loss' was not in top 1\n",
      "Epoch 76, global step 3850: 'train_loss' reached -1.19707 (best -1.19707), saving model to '/home/eragroup/Documents/Documents/Koutas_Master_Thesis_Supervision/Junbo_Leng/lag_llama_model/lag-llama-main/lightning_logs/version_44/checkpoints/epoch=76-step=3850.ckpt' as top 1\n",
      "Epoch 77, global step 3900: 'train_loss' reached -1.29510 (best -1.29510), saving model to '/home/eragroup/Documents/Documents/Koutas_Master_Thesis_Supervision/Junbo_Leng/lag_llama_model/lag-llama-main/lightning_logs/version_44/checkpoints/epoch=77-step=3900.ckpt' as top 1\n",
      "Epoch 78, global step 3950: 'train_loss' was not in top 1\n",
      "Epoch 79, global step 4000: 'train_loss' was not in top 1\n",
      "Epoch 80, global step 4050: 'train_loss' reached -1.30140 (best -1.30140), saving model to '/home/eragroup/Documents/Documents/Koutas_Master_Thesis_Supervision/Junbo_Leng/lag_llama_model/lag-llama-main/lightning_logs/version_44/checkpoints/epoch=80-step=4050.ckpt' as top 1\n",
      "Epoch 81, global step 4100: 'train_loss' was not in top 1\n",
      "Epoch 82, global step 4150: 'train_loss' was not in top 1\n",
      "Epoch 83, global step 4200: 'train_loss' was not in top 1\n",
      "Epoch 84, global step 4250: 'train_loss' reached -1.33217 (best -1.33217), saving model to '/home/eragroup/Documents/Documents/Koutas_Master_Thesis_Supervision/Junbo_Leng/lag_llama_model/lag-llama-main/lightning_logs/version_44/checkpoints/epoch=84-step=4250.ckpt' as top 1\n",
      "Epoch 85, global step 4300: 'train_loss' reached -1.36271 (best -1.36271), saving model to '/home/eragroup/Documents/Documents/Koutas_Master_Thesis_Supervision/Junbo_Leng/lag_llama_model/lag-llama-main/lightning_logs/version_44/checkpoints/epoch=85-step=4300.ckpt' as top 1\n",
      "Epoch 86, global step 4350: 'train_loss' was not in top 1\n",
      "Epoch 87, global step 4400: 'train_loss' was not in top 1\n",
      "Epoch 88, global step 4450: 'train_loss' was not in top 1\n",
      "Epoch 89, global step 4500: 'train_loss' reached -1.37046 (best -1.37046), saving model to '/home/eragroup/Documents/Documents/Koutas_Master_Thesis_Supervision/Junbo_Leng/lag_llama_model/lag-llama-main/lightning_logs/version_44/checkpoints/epoch=89-step=4500.ckpt' as top 1\n",
      "Epoch 90, global step 4550: 'train_loss' was not in top 1\n",
      "Epoch 91, global step 4600: 'train_loss' was not in top 1\n",
      "Epoch 92, global step 4650: 'train_loss' reached -1.39557 (best -1.39557), saving model to '/home/eragroup/Documents/Documents/Koutas_Master_Thesis_Supervision/Junbo_Leng/lag_llama_model/lag-llama-main/lightning_logs/version_44/checkpoints/epoch=92-step=4650.ckpt' as top 1\n",
      "Epoch 93, global step 4700: 'train_loss' reached -1.40102 (best -1.40102), saving model to '/home/eragroup/Documents/Documents/Koutas_Master_Thesis_Supervision/Junbo_Leng/lag_llama_model/lag-llama-main/lightning_logs/version_44/checkpoints/epoch=93-step=4700.ckpt' as top 1\n",
      "Epoch 94, global step 4750: 'train_loss' reached -1.44806 (best -1.44806), saving model to '/home/eragroup/Documents/Documents/Koutas_Master_Thesis_Supervision/Junbo_Leng/lag_llama_model/lag-llama-main/lightning_logs/version_44/checkpoints/epoch=94-step=4750.ckpt' as top 1\n",
      "Epoch 95, global step 4800: 'train_loss' was not in top 1\n",
      "Epoch 96, global step 4850: 'train_loss' was not in top 1\n",
      "Epoch 97, global step 4900: 'train_loss' was not in top 1\n",
      "Epoch 98, global step 4950: 'train_loss' was not in top 1\n",
      "Epoch 99, global step 5000: 'train_loss' reached -1.44839 (best -1.44839), saving model to '/home/eragroup/Documents/Documents/Koutas_Master_Thesis_Supervision/Junbo_Leng/lag_llama_model/lag-llama-main/lightning_logs/version_44/checkpoints/epoch=99-step=5000.ckpt' as top 1\n",
      "`Trainer.fit` stopped: `max_epochs=100` reached.\n"
     ]
    },
    {
     "data": {
      "application/vnd.jupyter.widget-view+json": {
       "model_id": "488ccf7eea80485f8473da2dfaecb60d",
       "version_major": 2,
       "version_minor": 0
      },
      "text/plain": [
       "Forecasting batches:   0%|          | 0/60 [00:00<?, ?it/s]"
      ]
     },
     "metadata": {},
     "output_type": "display_data"
    },
    {
     "data": {
      "application/vnd.jupyter.widget-view+json": {
       "model_id": "0543828f2ff84f10bb2a567a59427e09",
       "version_major": 2,
       "version_minor": 0
      },
      "text/plain": [
       "Ground truth:   0%|          | 0/60 [00:00<?, ?it/s]"
      ]
     },
     "metadata": {},
     "output_type": "display_data"
    },
    {
     "name": "stderr",
     "output_type": "stream",
     "text": [
      "/tmp/ipykernel_18695/4101722395.py:14: FutureWarning: Series.__getitem__ treating keys as positions is deprecated. In a future version, integer keys will always be treated as labels (consistent with DataFrame behavior). To access a value by position, use `ser.iloc[pos]`\n",
      "  tss[i].values[:] = tss[i].values * test_df.std()[i] + test_df.mean()[i]\n",
      "/tmp/ipykernel_18695/4101722395.py:17: FutureWarning: Series.__getitem__ treating keys as positions is deprecated. In a future version, integer keys will always be treated as labels (consistent with DataFrame behavior). To access a value by position, use `ser.iloc[pos]`\n",
      "  std_value = test_df.std()[i]\n",
      "/tmp/ipykernel_18695/4101722395.py:18: FutureWarning: Series.__getitem__ treating keys as positions is deprecated. In a future version, integer keys will always be treated as labels (consistent with DataFrame behavior). To access a value by position, use `ser.iloc[pos]`\n",
      "  mean_value = test_df.mean()[i]\n",
      "Running evaluation: 60it [00:00, 531.53it/s]\n"
     ]
    },
    {
     "data": {
      "application/vnd.jupyter.widget-view+json": {
       "model_id": "",
       "version_major": 2,
       "version_minor": 0
      },
      "text/plain": [
       "VBox(children=(Label(value='0.003 MB of 0.003 MB uploaded\\r'), FloatProgress(value=1.0, max=1.0)))"
      ]
     },
     "metadata": {},
     "output_type": "display_data"
    },
    {
     "data": {
      "text/html": [
       "<style>\n",
       "    table.wandb td:nth-child(1) { padding: 0 10px; text-align: left ; width: auto;} td:nth-child(2) {text-align: left ; width: 100%}\n",
       "    .wandb-row { display: flex; flex-direction: row; flex-wrap: wrap; justify-content: flex-start; width: 100% }\n",
       "    .wandb-col { display: flex; flex-direction: column; flex-basis: 100%; flex: 1; padding: 10px; }\n",
       "    </style>\n",
       "<div class=\"wandb-row\"><div class=\"wandb-col\"><h3>Run history:</h3><br/><table class=\"wandb\"><tr><td>CPRS</td><td>▁</td></tr><tr><td>train_loss</td><td>███▇▇▆█▅▆▆▆▆▅▄▄▄▅▄▅▄▃▃▃▄▄▃▄▃▂▂▂▂▂▂▂▂▂▂▂▁</td></tr></table><br/></div><div class=\"wandb-col\"><h3>Run summary:</h3><br/><table class=\"wandb\"><tr><td>CPRS</td><td>0.00042</td></tr><tr><td>train_loss</td><td>-1.54718</td></tr></table><br/></div></div>"
      ],
      "text/plain": [
       "<IPython.core.display.HTML object>"
      ]
     },
     "metadata": {},
     "output_type": "display_data"
    },
    {
     "data": {
      "text/html": [
       " View run <strong style=\"color:#cdcd00\">dulcet-sweep-17</strong> at: <a href='https://wandb.ai/junboma/lag_llama_04_07/runs/yrb1pjvj' target=\"_blank\">https://wandb.ai/junboma/lag_llama_04_07/runs/yrb1pjvj</a><br/> View project at: <a href='https://wandb.ai/junboma/lag_llama_04_07' target=\"_blank\">https://wandb.ai/junboma/lag_llama_04_07</a><br/>Synced 6 W&B file(s), 0 media file(s), 0 artifact file(s) and 0 other file(s)"
      ],
      "text/plain": [
       "<IPython.core.display.HTML object>"
      ]
     },
     "metadata": {},
     "output_type": "display_data"
    },
    {
     "data": {
      "text/html": [
       "Find logs at: <code>./wandb/run-20240704_163136-yrb1pjvj/logs</code>"
      ],
      "text/plain": [
       "<IPython.core.display.HTML object>"
      ]
     },
     "metadata": {},
     "output_type": "display_data"
    },
    {
     "name": "stderr",
     "output_type": "stream",
     "text": [
      "\u001b[34m\u001b[1mwandb\u001b[0m: Agent Starting Run: 6y1amb60 with config:\n",
      "\u001b[34m\u001b[1mwandb\u001b[0m: \tbatch_size: 8\n",
      "\u001b[34m\u001b[1mwandb\u001b[0m: \tcontext_length: 32\n",
      "\u001b[34m\u001b[1mwandb\u001b[0m: \tlr: 0.001\n"
     ]
    },
    {
     "data": {
      "text/html": [
       "wandb version 0.17.4 is available!  To upgrade, please run:\n",
       " $ pip install wandb --upgrade"
      ],
      "text/plain": [
       "<IPython.core.display.HTML object>"
      ]
     },
     "metadata": {},
     "output_type": "display_data"
    },
    {
     "data": {
      "text/html": [
       "Tracking run with wandb version 0.17.1"
      ],
      "text/plain": [
       "<IPython.core.display.HTML object>"
      ]
     },
     "metadata": {},
     "output_type": "display_data"
    },
    {
     "data": {
      "text/html": [
       "Run data is saved locally in <code>/home/eragroup/Documents/Documents/Koutas_Master_Thesis_Supervision/Junbo_Leng/lag_llama_model/lag-llama-main/wandb/run-20240704_163740-6y1amb60</code>"
      ],
      "text/plain": [
       "<IPython.core.display.HTML object>"
      ]
     },
     "metadata": {},
     "output_type": "display_data"
    },
    {
     "data": {
      "text/html": [
       "Syncing run <strong><a href='https://wandb.ai/junboma/lag_llama_04_07/runs/6y1amb60' target=\"_blank\">glorious-sweep-18</a></strong> to <a href='https://wandb.ai/junboma/lag_llama_04_07' target=\"_blank\">Weights & Biases</a> (<a href='https://wandb.me/run' target=\"_blank\">docs</a>)<br/>Sweep page: <a href='https://wandb.ai/junboma/lag_llama_04_07/sweeps/8bk4uije' target=\"_blank\">https://wandb.ai/junboma/lag_llama_04_07/sweeps/8bk4uije</a>"
      ],
      "text/plain": [
       "<IPython.core.display.HTML object>"
      ]
     },
     "metadata": {},
     "output_type": "display_data"
    },
    {
     "data": {
      "text/html": [
       " View project at <a href='https://wandb.ai/junboma/lag_llama_04_07' target=\"_blank\">https://wandb.ai/junboma/lag_llama_04_07</a>"
      ],
      "text/plain": [
       "<IPython.core.display.HTML object>"
      ]
     },
     "metadata": {},
     "output_type": "display_data"
    },
    {
     "data": {
      "text/html": [
       " View sweep at <a href='https://wandb.ai/junboma/lag_llama_04_07/sweeps/8bk4uije' target=\"_blank\">https://wandb.ai/junboma/lag_llama_04_07/sweeps/8bk4uije</a>"
      ],
      "text/plain": [
       "<IPython.core.display.HTML object>"
      ]
     },
     "metadata": {},
     "output_type": "display_data"
    },
    {
     "data": {
      "text/html": [
       " View run at <a href='https://wandb.ai/junboma/lag_llama_04_07/runs/6y1amb60' target=\"_blank\">https://wandb.ai/junboma/lag_llama_04_07/runs/6y1amb60</a>"
      ],
      "text/plain": [
       "<IPython.core.display.HTML object>"
      ]
     },
     "metadata": {},
     "output_type": "display_data"
    },
    {
     "name": "stderr",
     "output_type": "stream",
     "text": [
      "\u001b[34m\u001b[1mwandb\u001b[0m: \u001b[33mWARNING\u001b[0m Ignored wandb.init() arg project when running a sweep.\n"
     ]
    },
    {
     "data": {
      "text/html": [
       "Finishing last run (ID:6y1amb60) before initializing another..."
      ],
      "text/plain": [
       "<IPython.core.display.HTML object>"
      ]
     },
     "metadata": {},
     "output_type": "display_data"
    },
    {
     "data": {
      "application/vnd.jupyter.widget-view+json": {
       "model_id": "",
       "version_major": 2,
       "version_minor": 0
      },
      "text/plain": [
       "VBox(children=(Label(value='0.003 MB of 0.003 MB uploaded\\r'), FloatProgress(value=1.0, max=1.0)))"
      ]
     },
     "metadata": {},
     "output_type": "display_data"
    },
    {
     "data": {
      "text/html": [
       " View run <strong style=\"color:#cdcd00\">glorious-sweep-18</strong> at: <a href='https://wandb.ai/junboma/lag_llama_04_07/runs/6y1amb60' target=\"_blank\">https://wandb.ai/junboma/lag_llama_04_07/runs/6y1amb60</a><br/> View project at: <a href='https://wandb.ai/junboma/lag_llama_04_07' target=\"_blank\">https://wandb.ai/junboma/lag_llama_04_07</a><br/>Synced 6 W&B file(s), 0 media file(s), 0 artifact file(s) and 0 other file(s)"
      ],
      "text/plain": [
       "<IPython.core.display.HTML object>"
      ]
     },
     "metadata": {},
     "output_type": "display_data"
    },
    {
     "data": {
      "text/html": [
       "Find logs at: <code>./wandb/run-20240704_163740-6y1amb60/logs</code>"
      ],
      "text/plain": [
       "<IPython.core.display.HTML object>"
      ]
     },
     "metadata": {},
     "output_type": "display_data"
    },
    {
     "data": {
      "text/html": [
       "Successfully finished last run (ID:6y1amb60). Initializing new run:<br/>"
      ],
      "text/plain": [
       "<IPython.core.display.HTML object>"
      ]
     },
     "metadata": {},
     "output_type": "display_data"
    },
    {
     "data": {
      "application/vnd.jupyter.widget-view+json": {
       "model_id": "a2e4c714eb104716acf1eb49c0291ccc",
       "version_major": 2,
       "version_minor": 0
      },
      "text/plain": [
       "VBox(children=(Label(value='Waiting for wandb.init()...\\r'), FloatProgress(value=0.01111308919886748, max=1.0)…"
      ]
     },
     "metadata": {},
     "output_type": "display_data"
    },
    {
     "data": {
      "text/html": [
       "wandb version 0.17.4 is available!  To upgrade, please run:\n",
       " $ pip install wandb --upgrade"
      ],
      "text/plain": [
       "<IPython.core.display.HTML object>"
      ]
     },
     "metadata": {},
     "output_type": "display_data"
    },
    {
     "data": {
      "text/html": [
       "Tracking run with wandb version 0.17.1"
      ],
      "text/plain": [
       "<IPython.core.display.HTML object>"
      ]
     },
     "metadata": {},
     "output_type": "display_data"
    },
    {
     "data": {
      "text/html": [
       "Run data is saved locally in <code>/home/eragroup/Documents/Documents/Koutas_Master_Thesis_Supervision/Junbo_Leng/lag_llama_model/lag-llama-main/wandb/run-20240704_163747-6y1amb60</code>"
      ],
      "text/plain": [
       "<IPython.core.display.HTML object>"
      ]
     },
     "metadata": {},
     "output_type": "display_data"
    },
    {
     "data": {
      "text/html": [
       "Syncing run <strong><a href='https://wandb.ai/junboma/lag_llama_04_07/runs/6y1amb60' target=\"_blank\">glorious-sweep-18</a></strong> to <a href='https://wandb.ai/junboma/lag_llama_04_07' target=\"_blank\">Weights & Biases</a> (<a href='https://wandb.me/run' target=\"_blank\">docs</a>)<br/>Sweep page: <a href='https://wandb.ai/junboma/lag_llama_04_07/sweeps/8bk4uije' target=\"_blank\">https://wandb.ai/junboma/lag_llama_04_07/sweeps/8bk4uije</a>"
      ],
      "text/plain": [
       "<IPython.core.display.HTML object>"
      ]
     },
     "metadata": {},
     "output_type": "display_data"
    },
    {
     "data": {
      "text/html": [
       " View project at <a href='https://wandb.ai/junboma/lag_llama_04_07' target=\"_blank\">https://wandb.ai/junboma/lag_llama_04_07</a>"
      ],
      "text/plain": [
       "<IPython.core.display.HTML object>"
      ]
     },
     "metadata": {},
     "output_type": "display_data"
    },
    {
     "data": {
      "text/html": [
       " View sweep at <a href='https://wandb.ai/junboma/lag_llama_04_07/sweeps/8bk4uije' target=\"_blank\">https://wandb.ai/junboma/lag_llama_04_07/sweeps/8bk4uije</a>"
      ],
      "text/plain": [
       "<IPython.core.display.HTML object>"
      ]
     },
     "metadata": {},
     "output_type": "display_data"
    },
    {
     "data": {
      "text/html": [
       " View run at <a href='https://wandb.ai/junboma/lag_llama_04_07/runs/6y1amb60' target=\"_blank\">https://wandb.ai/junboma/lag_llama_04_07/runs/6y1amb60</a>"
      ],
      "text/plain": [
       "<IPython.core.display.HTML object>"
      ]
     },
     "metadata": {},
     "output_type": "display_data"
    },
    {
     "name": "stderr",
     "output_type": "stream",
     "text": [
      "GPU available: True (cuda), used: True\n",
      "TPU available: False, using: 0 TPU cores\n",
      "IPU available: False, using: 0 IPUs\n",
      "HPU available: False, using: 0 HPUs\n",
      "/home/eragroup/anaconda3/envs/lag_llama/lib/python3.12/site-packages/lightning/pytorch/trainer/configuration_validator.py:74: You defined a `validation_step` but have no `val_dataloader`. Skipping val loop.\n",
      "LOCAL_RANK: 0 - CUDA_VISIBLE_DEVICES: [0]\n",
      "\n",
      "  | Name          | Type               | Params\n",
      "-----------------------------------------------------\n",
      "0 | model         | LagLlamaModel      | 2.4 M \n",
      "1 | augmentations | ApplyAugmentations | 0     \n",
      "-----------------------------------------------------\n",
      "2.4 M     Trainable params\n",
      "0         Non-trainable params\n",
      "2.4 M     Total params\n",
      "9.797     Total estimated model params size (MB)\n"
     ]
    },
    {
     "data": {
      "application/vnd.jupyter.widget-view+json": {
       "model_id": "ad5c8821b6e140bbbea8676a2cfad718",
       "version_major": 2,
       "version_minor": 0
      },
      "text/plain": [
       "Training: |                                               | 0/? [00:00<?, ?it/s]"
      ]
     },
     "metadata": {},
     "output_type": "display_data"
    },
    {
     "name": "stderr",
     "output_type": "stream",
     "text": [
      "Epoch 0, global step 50: 'train_loss' reached 0.72077 (best 0.72077), saving model to '/home/eragroup/Documents/Documents/Koutas_Master_Thesis_Supervision/Junbo_Leng/lag_llama_model/lag-llama-main/lightning_logs/version_45/checkpoints/epoch=0-step=50.ckpt' as top 1\n",
      "Epoch 1, global step 100: 'train_loss' reached 0.49130 (best 0.49130), saving model to '/home/eragroup/Documents/Documents/Koutas_Master_Thesis_Supervision/Junbo_Leng/lag_llama_model/lag-llama-main/lightning_logs/version_45/checkpoints/epoch=1-step=100.ckpt' as top 1\n",
      "Epoch 2, global step 150: 'train_loss' reached 0.43374 (best 0.43374), saving model to '/home/eragroup/Documents/Documents/Koutas_Master_Thesis_Supervision/Junbo_Leng/lag_llama_model/lag-llama-main/lightning_logs/version_45/checkpoints/epoch=2-step=150.ckpt' as top 1\n",
      "Epoch 3, global step 200: 'train_loss' reached 0.42797 (best 0.42797), saving model to '/home/eragroup/Documents/Documents/Koutas_Master_Thesis_Supervision/Junbo_Leng/lag_llama_model/lag-llama-main/lightning_logs/version_45/checkpoints/epoch=3-step=200.ckpt' as top 1\n",
      "Epoch 4, global step 250: 'train_loss' was not in top 1\n",
      "Epoch 5, global step 300: 'train_loss' was not in top 1\n",
      "Epoch 6, global step 350: 'train_loss' was not in top 1\n",
      "Epoch 7, global step 400: 'train_loss' reached 0.36570 (best 0.36570), saving model to '/home/eragroup/Documents/Documents/Koutas_Master_Thesis_Supervision/Junbo_Leng/lag_llama_model/lag-llama-main/lightning_logs/version_45/checkpoints/epoch=7-step=400.ckpt' as top 1\n",
      "Epoch 8, global step 450: 'train_loss' was not in top 1\n",
      "Epoch 9, global step 500: 'train_loss' was not in top 1\n",
      "Epoch 10, global step 550: 'train_loss' reached 0.33137 (best 0.33137), saving model to '/home/eragroup/Documents/Documents/Koutas_Master_Thesis_Supervision/Junbo_Leng/lag_llama_model/lag-llama-main/lightning_logs/version_45/checkpoints/epoch=10-step=550.ckpt' as top 1\n",
      "Epoch 11, global step 600: 'train_loss' was not in top 1\n",
      "Epoch 12, global step 650: 'train_loss' reached 0.30130 (best 0.30130), saving model to '/home/eragroup/Documents/Documents/Koutas_Master_Thesis_Supervision/Junbo_Leng/lag_llama_model/lag-llama-main/lightning_logs/version_45/checkpoints/epoch=12-step=650.ckpt' as top 1\n",
      "Epoch 13, global step 700: 'train_loss' reached 0.23658 (best 0.23658), saving model to '/home/eragroup/Documents/Documents/Koutas_Master_Thesis_Supervision/Junbo_Leng/lag_llama_model/lag-llama-main/lightning_logs/version_45/checkpoints/epoch=13-step=700.ckpt' as top 1\n",
      "Epoch 14, global step 750: 'train_loss' was not in top 1\n",
      "Epoch 15, global step 800: 'train_loss' reached 0.22618 (best 0.22618), saving model to '/home/eragroup/Documents/Documents/Koutas_Master_Thesis_Supervision/Junbo_Leng/lag_llama_model/lag-llama-main/lightning_logs/version_45/checkpoints/epoch=15-step=800.ckpt' as top 1\n",
      "Epoch 16, global step 850: 'train_loss' reached 0.16830 (best 0.16830), saving model to '/home/eragroup/Documents/Documents/Koutas_Master_Thesis_Supervision/Junbo_Leng/lag_llama_model/lag-llama-main/lightning_logs/version_45/checkpoints/epoch=16-step=850.ckpt' as top 1\n",
      "Epoch 17, global step 900: 'train_loss' reached 0.15752 (best 0.15752), saving model to '/home/eragroup/Documents/Documents/Koutas_Master_Thesis_Supervision/Junbo_Leng/lag_llama_model/lag-llama-main/lightning_logs/version_45/checkpoints/epoch=17-step=900.ckpt' as top 1\n",
      "Epoch 18, global step 950: 'train_loss' reached 0.13363 (best 0.13363), saving model to '/home/eragroup/Documents/Documents/Koutas_Master_Thesis_Supervision/Junbo_Leng/lag_llama_model/lag-llama-main/lightning_logs/version_45/checkpoints/epoch=18-step=950.ckpt' as top 1\n",
      "Epoch 19, global step 1000: 'train_loss' reached 0.12636 (best 0.12636), saving model to '/home/eragroup/Documents/Documents/Koutas_Master_Thesis_Supervision/Junbo_Leng/lag_llama_model/lag-llama-main/lightning_logs/version_45/checkpoints/epoch=19-step=1000.ckpt' as top 1\n",
      "Epoch 20, global step 1050: 'train_loss' was not in top 1\n",
      "Epoch 21, global step 1100: 'train_loss' reached 0.06737 (best 0.06737), saving model to '/home/eragroup/Documents/Documents/Koutas_Master_Thesis_Supervision/Junbo_Leng/lag_llama_model/lag-llama-main/lightning_logs/version_45/checkpoints/epoch=21-step=1100.ckpt' as top 1\n",
      "Epoch 22, global step 1150: 'train_loss' was not in top 1\n",
      "Epoch 23, global step 1200: 'train_loss' reached -0.03046 (best -0.03046), saving model to '/home/eragroup/Documents/Documents/Koutas_Master_Thesis_Supervision/Junbo_Leng/lag_llama_model/lag-llama-main/lightning_logs/version_45/checkpoints/epoch=23-step=1200.ckpt' as top 1\n",
      "Epoch 24, global step 1250: 'train_loss' was not in top 1\n",
      "Epoch 25, global step 1300: 'train_loss' reached -0.04898 (best -0.04898), saving model to '/home/eragroup/Documents/Documents/Koutas_Master_Thesis_Supervision/Junbo_Leng/lag_llama_model/lag-llama-main/lightning_logs/version_45/checkpoints/epoch=25-step=1300.ckpt' as top 1\n",
      "Epoch 26, global step 1350: 'train_loss' was not in top 1\n",
      "Epoch 27, global step 1400: 'train_loss' reached -0.07660 (best -0.07660), saving model to '/home/eragroup/Documents/Documents/Koutas_Master_Thesis_Supervision/Junbo_Leng/lag_llama_model/lag-llama-main/lightning_logs/version_45/checkpoints/epoch=27-step=1400.ckpt' as top 1\n",
      "Epoch 28, global step 1450: 'train_loss' reached -0.09860 (best -0.09860), saving model to '/home/eragroup/Documents/Documents/Koutas_Master_Thesis_Supervision/Junbo_Leng/lag_llama_model/lag-llama-main/lightning_logs/version_45/checkpoints/epoch=28-step=1450.ckpt' as top 1\n",
      "Epoch 29, global step 1500: 'train_loss' reached -0.11111 (best -0.11111), saving model to '/home/eragroup/Documents/Documents/Koutas_Master_Thesis_Supervision/Junbo_Leng/lag_llama_model/lag-llama-main/lightning_logs/version_45/checkpoints/epoch=29-step=1500.ckpt' as top 1\n",
      "Epoch 30, global step 1550: 'train_loss' reached -0.15936 (best -0.15936), saving model to '/home/eragroup/Documents/Documents/Koutas_Master_Thesis_Supervision/Junbo_Leng/lag_llama_model/lag-llama-main/lightning_logs/version_45/checkpoints/epoch=30-step=1550.ckpt' as top 1\n",
      "Epoch 31, global step 1600: 'train_loss' reached -0.17141 (best -0.17141), saving model to '/home/eragroup/Documents/Documents/Koutas_Master_Thesis_Supervision/Junbo_Leng/lag_llama_model/lag-llama-main/lightning_logs/version_45/checkpoints/epoch=31-step=1600.ckpt' as top 1\n",
      "Epoch 32, global step 1650: 'train_loss' reached -0.21326 (best -0.21326), saving model to '/home/eragroup/Documents/Documents/Koutas_Master_Thesis_Supervision/Junbo_Leng/lag_llama_model/lag-llama-main/lightning_logs/version_45/checkpoints/epoch=32-step=1650.ckpt' as top 1\n",
      "Epoch 33, global step 1700: 'train_loss' reached -0.22883 (best -0.22883), saving model to '/home/eragroup/Documents/Documents/Koutas_Master_Thesis_Supervision/Junbo_Leng/lag_llama_model/lag-llama-main/lightning_logs/version_45/checkpoints/epoch=33-step=1700.ckpt' as top 1\n",
      "Epoch 34, global step 1750: 'train_loss' reached -0.25076 (best -0.25076), saving model to '/home/eragroup/Documents/Documents/Koutas_Master_Thesis_Supervision/Junbo_Leng/lag_llama_model/lag-llama-main/lightning_logs/version_45/checkpoints/epoch=34-step=1750.ckpt' as top 1\n",
      "Epoch 35, global step 1800: 'train_loss' reached -0.26666 (best -0.26666), saving model to '/home/eragroup/Documents/Documents/Koutas_Master_Thesis_Supervision/Junbo_Leng/lag_llama_model/lag-llama-main/lightning_logs/version_45/checkpoints/epoch=35-step=1800.ckpt' as top 1\n",
      "Epoch 36, global step 1850: 'train_loss' reached -0.28794 (best -0.28794), saving model to '/home/eragroup/Documents/Documents/Koutas_Master_Thesis_Supervision/Junbo_Leng/lag_llama_model/lag-llama-main/lightning_logs/version_45/checkpoints/epoch=36-step=1850.ckpt' as top 1\n",
      "Epoch 37, global step 1900: 'train_loss' reached -0.37364 (best -0.37364), saving model to '/home/eragroup/Documents/Documents/Koutas_Master_Thesis_Supervision/Junbo_Leng/lag_llama_model/lag-llama-main/lightning_logs/version_45/checkpoints/epoch=37-step=1900.ckpt' as top 1\n",
      "Epoch 38, global step 1950: 'train_loss' was not in top 1\n",
      "Epoch 39, global step 2000: 'train_loss' was not in top 1\n",
      "Epoch 40, global step 2050: 'train_loss' reached -0.42218 (best -0.42218), saving model to '/home/eragroup/Documents/Documents/Koutas_Master_Thesis_Supervision/Junbo_Leng/lag_llama_model/lag-llama-main/lightning_logs/version_45/checkpoints/epoch=40-step=2050.ckpt' as top 1\n",
      "Epoch 41, global step 2100: 'train_loss' was not in top 1\n",
      "Epoch 42, global step 2150: 'train_loss' was not in top 1\n",
      "Epoch 43, global step 2200: 'train_loss' reached -0.47663 (best -0.47663), saving model to '/home/eragroup/Documents/Documents/Koutas_Master_Thesis_Supervision/Junbo_Leng/lag_llama_model/lag-llama-main/lightning_logs/version_45/checkpoints/epoch=43-step=2200.ckpt' as top 1\n",
      "Epoch 44, global step 2250: 'train_loss' reached -0.51193 (best -0.51193), saving model to '/home/eragroup/Documents/Documents/Koutas_Master_Thesis_Supervision/Junbo_Leng/lag_llama_model/lag-llama-main/lightning_logs/version_45/checkpoints/epoch=44-step=2250.ckpt' as top 1\n",
      "Epoch 45, global step 2300: 'train_loss' was not in top 1\n",
      "Epoch 46, global step 2350: 'train_loss' reached -0.53952 (best -0.53952), saving model to '/home/eragroup/Documents/Documents/Koutas_Master_Thesis_Supervision/Junbo_Leng/lag_llama_model/lag-llama-main/lightning_logs/version_45/checkpoints/epoch=46-step=2350.ckpt' as top 1\n",
      "Epoch 47, global step 2400: 'train_loss' reached -0.57069 (best -0.57069), saving model to '/home/eragroup/Documents/Documents/Koutas_Master_Thesis_Supervision/Junbo_Leng/lag_llama_model/lag-llama-main/lightning_logs/version_45/checkpoints/epoch=47-step=2400.ckpt' as top 1\n",
      "Epoch 48, global step 2450: 'train_loss' reached -0.60050 (best -0.60050), saving model to '/home/eragroup/Documents/Documents/Koutas_Master_Thesis_Supervision/Junbo_Leng/lag_llama_model/lag-llama-main/lightning_logs/version_45/checkpoints/epoch=48-step=2450.ckpt' as top 1\n",
      "Epoch 49, global step 2500: 'train_loss' was not in top 1\n",
      "Epoch 50, global step 2550: 'train_loss' reached -0.60511 (best -0.60511), saving model to '/home/eragroup/Documents/Documents/Koutas_Master_Thesis_Supervision/Junbo_Leng/lag_llama_model/lag-llama-main/lightning_logs/version_45/checkpoints/epoch=50-step=2550.ckpt' as top 1\n",
      "Epoch 51, global step 2600: 'train_loss' reached -0.61193 (best -0.61193), saving model to '/home/eragroup/Documents/Documents/Koutas_Master_Thesis_Supervision/Junbo_Leng/lag_llama_model/lag-llama-main/lightning_logs/version_45/checkpoints/epoch=51-step=2600.ckpt' as top 1\n",
      "Epoch 52, global step 2650: 'train_loss' was not in top 1\n",
      "Epoch 53, global step 2700: 'train_loss' reached -0.67589 (best -0.67589), saving model to '/home/eragroup/Documents/Documents/Koutas_Master_Thesis_Supervision/Junbo_Leng/lag_llama_model/lag-llama-main/lightning_logs/version_45/checkpoints/epoch=53-step=2700.ckpt' as top 1\n",
      "Epoch 54, global step 2750: 'train_loss' was not in top 1\n",
      "Epoch 55, global step 2800: 'train_loss' was not in top 1\n",
      "Epoch 56, global step 2850: 'train_loss' was not in top 1\n",
      "Epoch 57, global step 2900: 'train_loss' reached -0.70130 (best -0.70130), saving model to '/home/eragroup/Documents/Documents/Koutas_Master_Thesis_Supervision/Junbo_Leng/lag_llama_model/lag-llama-main/lightning_logs/version_45/checkpoints/epoch=57-step=2900.ckpt' as top 1\n",
      "Epoch 58, global step 2950: 'train_loss' reached -0.70700 (best -0.70700), saving model to '/home/eragroup/Documents/Documents/Koutas_Master_Thesis_Supervision/Junbo_Leng/lag_llama_model/lag-llama-main/lightning_logs/version_45/checkpoints/epoch=58-step=2950.ckpt' as top 1\n",
      "Epoch 59, global step 3000: 'train_loss' reached -0.78918 (best -0.78918), saving model to '/home/eragroup/Documents/Documents/Koutas_Master_Thesis_Supervision/Junbo_Leng/lag_llama_model/lag-llama-main/lightning_logs/version_45/checkpoints/epoch=59-step=3000.ckpt' as top 1\n",
      "Epoch 60, global step 3050: 'train_loss' reached -0.79095 (best -0.79095), saving model to '/home/eragroup/Documents/Documents/Koutas_Master_Thesis_Supervision/Junbo_Leng/lag_llama_model/lag-llama-main/lightning_logs/version_45/checkpoints/epoch=60-step=3050.ckpt' as top 1\n",
      "Epoch 61, global step 3100: 'train_loss' reached -0.82633 (best -0.82633), saving model to '/home/eragroup/Documents/Documents/Koutas_Master_Thesis_Supervision/Junbo_Leng/lag_llama_model/lag-llama-main/lightning_logs/version_45/checkpoints/epoch=61-step=3100.ckpt' as top 1\n",
      "Epoch 62, global step 3150: 'train_loss' was not in top 1\n",
      "Epoch 63, global step 3200: 'train_loss' was not in top 1\n",
      "Epoch 64, global step 3250: 'train_loss' was not in top 1\n",
      "Epoch 65, global step 3300: 'train_loss' reached -0.88777 (best -0.88777), saving model to '/home/eragroup/Documents/Documents/Koutas_Master_Thesis_Supervision/Junbo_Leng/lag_llama_model/lag-llama-main/lightning_logs/version_45/checkpoints/epoch=65-step=3300.ckpt' as top 1\n",
      "Epoch 66, global step 3350: 'train_loss' reached -0.94356 (best -0.94356), saving model to '/home/eragroup/Documents/Documents/Koutas_Master_Thesis_Supervision/Junbo_Leng/lag_llama_model/lag-llama-main/lightning_logs/version_45/checkpoints/epoch=66-step=3350.ckpt' as top 1\n",
      "Epoch 67, global step 3400: 'train_loss' was not in top 1\n",
      "Epoch 68, global step 3450: 'train_loss' was not in top 1\n",
      "Epoch 69, global step 3500: 'train_loss' reached -0.96394 (best -0.96394), saving model to '/home/eragroup/Documents/Documents/Koutas_Master_Thesis_Supervision/Junbo_Leng/lag_llama_model/lag-llama-main/lightning_logs/version_45/checkpoints/epoch=69-step=3500.ckpt' as top 1\n",
      "Epoch 70, global step 3550: 'train_loss' was not in top 1\n",
      "Epoch 71, global step 3600: 'train_loss' reached -0.98196 (best -0.98196), saving model to '/home/eragroup/Documents/Documents/Koutas_Master_Thesis_Supervision/Junbo_Leng/lag_llama_model/lag-llama-main/lightning_logs/version_45/checkpoints/epoch=71-step=3600.ckpt' as top 1\n",
      "Epoch 72, global step 3650: 'train_loss' reached -1.00983 (best -1.00983), saving model to '/home/eragroup/Documents/Documents/Koutas_Master_Thesis_Supervision/Junbo_Leng/lag_llama_model/lag-llama-main/lightning_logs/version_45/checkpoints/epoch=72-step=3650.ckpt' as top 1\n",
      "Epoch 73, global step 3700: 'train_loss' was not in top 1\n",
      "Epoch 74, global step 3750: 'train_loss' reached -1.01197 (best -1.01197), saving model to '/home/eragroup/Documents/Documents/Koutas_Master_Thesis_Supervision/Junbo_Leng/lag_llama_model/lag-llama-main/lightning_logs/version_45/checkpoints/epoch=74-step=3750.ckpt' as top 1\n",
      "Epoch 75, global step 3800: 'train_loss' reached -1.04522 (best -1.04522), saving model to '/home/eragroup/Documents/Documents/Koutas_Master_Thesis_Supervision/Junbo_Leng/lag_llama_model/lag-llama-main/lightning_logs/version_45/checkpoints/epoch=75-step=3800.ckpt' as top 1\n",
      "Epoch 76, global step 3850: 'train_loss' reached -1.05168 (best -1.05168), saving model to '/home/eragroup/Documents/Documents/Koutas_Master_Thesis_Supervision/Junbo_Leng/lag_llama_model/lag-llama-main/lightning_logs/version_45/checkpoints/epoch=76-step=3850.ckpt' as top 1\n",
      "Epoch 77, global step 3900: 'train_loss' was not in top 1\n",
      "Epoch 78, global step 3950: 'train_loss' reached -1.05851 (best -1.05851), saving model to '/home/eragroup/Documents/Documents/Koutas_Master_Thesis_Supervision/Junbo_Leng/lag_llama_model/lag-llama-main/lightning_logs/version_45/checkpoints/epoch=78-step=3950.ckpt' as top 1\n",
      "Epoch 79, global step 4000: 'train_loss' reached -1.09329 (best -1.09329), saving model to '/home/eragroup/Documents/Documents/Koutas_Master_Thesis_Supervision/Junbo_Leng/lag_llama_model/lag-llama-main/lightning_logs/version_45/checkpoints/epoch=79-step=4000.ckpt' as top 1\n",
      "Epoch 80, global step 4050: 'train_loss' was not in top 1\n",
      "Epoch 81, global step 4100: 'train_loss' reached -1.16330 (best -1.16330), saving model to '/home/eragroup/Documents/Documents/Koutas_Master_Thesis_Supervision/Junbo_Leng/lag_llama_model/lag-llama-main/lightning_logs/version_45/checkpoints/epoch=81-step=4100.ckpt' as top 1\n",
      "Epoch 82, global step 4150: 'train_loss' was not in top 1\n",
      "Epoch 83, global step 4200: 'train_loss' was not in top 1\n",
      "Epoch 84, global step 4250: 'train_loss' reached -1.17680 (best -1.17680), saving model to '/home/eragroup/Documents/Documents/Koutas_Master_Thesis_Supervision/Junbo_Leng/lag_llama_model/lag-llama-main/lightning_logs/version_45/checkpoints/epoch=84-step=4250.ckpt' as top 1\n",
      "Epoch 85, global step 4300: 'train_loss' was not in top 1\n",
      "Epoch 86, global step 4350: 'train_loss' reached -1.18195 (best -1.18195), saving model to '/home/eragroup/Documents/Documents/Koutas_Master_Thesis_Supervision/Junbo_Leng/lag_llama_model/lag-llama-main/lightning_logs/version_45/checkpoints/epoch=86-step=4350.ckpt' as top 1\n",
      "Epoch 87, global step 4400: 'train_loss' was not in top 1\n",
      "Epoch 88, global step 4450: 'train_loss' reached -1.22080 (best -1.22080), saving model to '/home/eragroup/Documents/Documents/Koutas_Master_Thesis_Supervision/Junbo_Leng/lag_llama_model/lag-llama-main/lightning_logs/version_45/checkpoints/epoch=88-step=4450.ckpt' as top 1\n",
      "Epoch 89, global step 4500: 'train_loss' reached -1.24507 (best -1.24507), saving model to '/home/eragroup/Documents/Documents/Koutas_Master_Thesis_Supervision/Junbo_Leng/lag_llama_model/lag-llama-main/lightning_logs/version_45/checkpoints/epoch=89-step=4500.ckpt' as top 1\n",
      "Epoch 90, global step 4550: 'train_loss' was not in top 1\n",
      "Epoch 91, global step 4600: 'train_loss' was not in top 1\n",
      "Epoch 92, global step 4650: 'train_loss' reached -1.26114 (best -1.26114), saving model to '/home/eragroup/Documents/Documents/Koutas_Master_Thesis_Supervision/Junbo_Leng/lag_llama_model/lag-llama-main/lightning_logs/version_45/checkpoints/epoch=92-step=4650.ckpt' as top 1\n",
      "Epoch 93, global step 4700: 'train_loss' was not in top 1\n",
      "Epoch 94, global step 4750: 'train_loss' was not in top 1\n",
      "Epoch 95, global step 4800: 'train_loss' was not in top 1\n",
      "Epoch 96, global step 4850: 'train_loss' was not in top 1\n",
      "Epoch 97, global step 4900: 'train_loss' reached -1.26211 (best -1.26211), saving model to '/home/eragroup/Documents/Documents/Koutas_Master_Thesis_Supervision/Junbo_Leng/lag_llama_model/lag-llama-main/lightning_logs/version_45/checkpoints/epoch=97-step=4900.ckpt' as top 1\n",
      "Epoch 98, global step 4950: 'train_loss' reached -1.28594 (best -1.28594), saving model to '/home/eragroup/Documents/Documents/Koutas_Master_Thesis_Supervision/Junbo_Leng/lag_llama_model/lag-llama-main/lightning_logs/version_45/checkpoints/epoch=98-step=4950.ckpt' as top 1\n",
      "Epoch 99, global step 5000: 'train_loss' was not in top 1\n",
      "`Trainer.fit` stopped: `max_epochs=100` reached.\n"
     ]
    },
    {
     "data": {
      "application/vnd.jupyter.widget-view+json": {
       "model_id": "f2274ca59e2a4167805f75756c9af4bf",
       "version_major": 2,
       "version_minor": 0
      },
      "text/plain": [
       "Forecasting batches:   0%|          | 0/60 [00:00<?, ?it/s]"
      ]
     },
     "metadata": {},
     "output_type": "display_data"
    },
    {
     "data": {
      "application/vnd.jupyter.widget-view+json": {
       "model_id": "d85a7f86a4c64fdc8483f6b9a87f63c8",
       "version_major": 2,
       "version_minor": 0
      },
      "text/plain": [
       "Ground truth:   0%|          | 0/60 [00:00<?, ?it/s]"
      ]
     },
     "metadata": {},
     "output_type": "display_data"
    },
    {
     "name": "stderr",
     "output_type": "stream",
     "text": [
      "/tmp/ipykernel_18695/4101722395.py:14: FutureWarning: Series.__getitem__ treating keys as positions is deprecated. In a future version, integer keys will always be treated as labels (consistent with DataFrame behavior). To access a value by position, use `ser.iloc[pos]`\n",
      "  tss[i].values[:] = tss[i].values * test_df.std()[i] + test_df.mean()[i]\n",
      "/tmp/ipykernel_18695/4101722395.py:17: FutureWarning: Series.__getitem__ treating keys as positions is deprecated. In a future version, integer keys will always be treated as labels (consistent with DataFrame behavior). To access a value by position, use `ser.iloc[pos]`\n",
      "  std_value = test_df.std()[i]\n",
      "/tmp/ipykernel_18695/4101722395.py:18: FutureWarning: Series.__getitem__ treating keys as positions is deprecated. In a future version, integer keys will always be treated as labels (consistent with DataFrame behavior). To access a value by position, use `ser.iloc[pos]`\n",
      "  mean_value = test_df.mean()[i]\n",
      "Running evaluation: 60it [00:00, 577.45it/s]\n"
     ]
    },
    {
     "data": {
      "application/vnd.jupyter.widget-view+json": {
       "model_id": "",
       "version_major": 2,
       "version_minor": 0
      },
      "text/plain": [
       "VBox(children=(Label(value='0.003 MB of 0.012 MB uploaded\\r'), FloatProgress(value=0.26887120451209146, max=1.…"
      ]
     },
     "metadata": {},
     "output_type": "display_data"
    },
    {
     "data": {
      "text/html": [
       "<style>\n",
       "    table.wandb td:nth-child(1) { padding: 0 10px; text-align: left ; width: auto;} td:nth-child(2) {text-align: left ; width: 100%}\n",
       "    .wandb-row { display: flex; flex-direction: row; flex-wrap: wrap; justify-content: flex-start; width: 100% }\n",
       "    .wandb-col { display: flex; flex-direction: column; flex-basis: 100%; flex: 1; padding: 10px; }\n",
       "    </style>\n",
       "<div class=\"wandb-row\"><div class=\"wandb-col\"><h3>Run history:</h3><br/><table class=\"wandb\"><tr><td>CPRS</td><td>▁</td></tr><tr><td>train_loss</td><td>██▇▇█▇▆▆▆▆▅▅▆▅▅▄▅▃▄▃▃▃▃▃▃▃▃▁▂▃▂▁▃▂▂▁▁▂▁▁</td></tr></table><br/></div><div class=\"wandb-col\"><h3>Run summary:</h3><br/><table class=\"wandb\"><tr><td>CPRS</td><td>0.00043</td></tr><tr><td>train_loss</td><td>-1.2612</td></tr></table><br/></div></div>"
      ],
      "text/plain": [
       "<IPython.core.display.HTML object>"
      ]
     },
     "metadata": {},
     "output_type": "display_data"
    },
    {
     "data": {
      "text/html": [
       " View run <strong style=\"color:#cdcd00\">glorious-sweep-18</strong> at: <a href='https://wandb.ai/junboma/lag_llama_04_07/runs/6y1amb60' target=\"_blank\">https://wandb.ai/junboma/lag_llama_04_07/runs/6y1amb60</a><br/> View project at: <a href='https://wandb.ai/junboma/lag_llama_04_07' target=\"_blank\">https://wandb.ai/junboma/lag_llama_04_07</a><br/>Synced 6 W&B file(s), 0 media file(s), 0 artifact file(s) and 0 other file(s)"
      ],
      "text/plain": [
       "<IPython.core.display.HTML object>"
      ]
     },
     "metadata": {},
     "output_type": "display_data"
    },
    {
     "data": {
      "text/html": [
       "Find logs at: <code>./wandb/run-20240704_163747-6y1amb60/logs</code>"
      ],
      "text/plain": [
       "<IPython.core.display.HTML object>"
      ]
     },
     "metadata": {},
     "output_type": "display_data"
    },
    {
     "name": "stderr",
     "output_type": "stream",
     "text": [
      "\u001b[34m\u001b[1mwandb\u001b[0m: Agent Starting Run: inyeg6fx with config:\n",
      "\u001b[34m\u001b[1mwandb\u001b[0m: \tbatch_size: 8\n",
      "\u001b[34m\u001b[1mwandb\u001b[0m: \tcontext_length: 32\n",
      "\u001b[34m\u001b[1mwandb\u001b[0m: \tlr: 5e-05\n"
     ]
    },
    {
     "data": {
      "text/html": [
       "wandb version 0.17.4 is available!  To upgrade, please run:\n",
       " $ pip install wandb --upgrade"
      ],
      "text/plain": [
       "<IPython.core.display.HTML object>"
      ]
     },
     "metadata": {},
     "output_type": "display_data"
    },
    {
     "data": {
      "text/html": [
       "Tracking run with wandb version 0.17.1"
      ],
      "text/plain": [
       "<IPython.core.display.HTML object>"
      ]
     },
     "metadata": {},
     "output_type": "display_data"
    },
    {
     "data": {
      "text/html": [
       "Run data is saved locally in <code>/home/eragroup/Documents/Documents/Koutas_Master_Thesis_Supervision/Junbo_Leng/lag_llama_model/lag-llama-main/wandb/run-20240704_164341-inyeg6fx</code>"
      ],
      "text/plain": [
       "<IPython.core.display.HTML object>"
      ]
     },
     "metadata": {},
     "output_type": "display_data"
    },
    {
     "data": {
      "text/html": [
       "Syncing run <strong><a href='https://wandb.ai/junboma/lag_llama_04_07/runs/inyeg6fx' target=\"_blank\">iconic-sweep-19</a></strong> to <a href='https://wandb.ai/junboma/lag_llama_04_07' target=\"_blank\">Weights & Biases</a> (<a href='https://wandb.me/run' target=\"_blank\">docs</a>)<br/>Sweep page: <a href='https://wandb.ai/junboma/lag_llama_04_07/sweeps/8bk4uije' target=\"_blank\">https://wandb.ai/junboma/lag_llama_04_07/sweeps/8bk4uije</a>"
      ],
      "text/plain": [
       "<IPython.core.display.HTML object>"
      ]
     },
     "metadata": {},
     "output_type": "display_data"
    },
    {
     "data": {
      "text/html": [
       " View project at <a href='https://wandb.ai/junboma/lag_llama_04_07' target=\"_blank\">https://wandb.ai/junboma/lag_llama_04_07</a>"
      ],
      "text/plain": [
       "<IPython.core.display.HTML object>"
      ]
     },
     "metadata": {},
     "output_type": "display_data"
    },
    {
     "data": {
      "text/html": [
       " View sweep at <a href='https://wandb.ai/junboma/lag_llama_04_07/sweeps/8bk4uije' target=\"_blank\">https://wandb.ai/junboma/lag_llama_04_07/sweeps/8bk4uije</a>"
      ],
      "text/plain": [
       "<IPython.core.display.HTML object>"
      ]
     },
     "metadata": {},
     "output_type": "display_data"
    },
    {
     "data": {
      "text/html": [
       " View run at <a href='https://wandb.ai/junboma/lag_llama_04_07/runs/inyeg6fx' target=\"_blank\">https://wandb.ai/junboma/lag_llama_04_07/runs/inyeg6fx</a>"
      ],
      "text/plain": [
       "<IPython.core.display.HTML object>"
      ]
     },
     "metadata": {},
     "output_type": "display_data"
    },
    {
     "name": "stderr",
     "output_type": "stream",
     "text": [
      "\u001b[34m\u001b[1mwandb\u001b[0m: \u001b[33mWARNING\u001b[0m Ignored wandb.init() arg project when running a sweep.\n"
     ]
    },
    {
     "data": {
      "text/html": [
       "Finishing last run (ID:inyeg6fx) before initializing another..."
      ],
      "text/plain": [
       "<IPython.core.display.HTML object>"
      ]
     },
     "metadata": {},
     "output_type": "display_data"
    },
    {
     "data": {
      "application/vnd.jupyter.widget-view+json": {
       "model_id": "",
       "version_major": 2,
       "version_minor": 0
      },
      "text/plain": [
       "VBox(children=(Label(value='0.003 MB of 0.003 MB uploaded\\r'), FloatProgress(value=1.0, max=1.0)))"
      ]
     },
     "metadata": {},
     "output_type": "display_data"
    },
    {
     "data": {
      "text/html": [
       " View run <strong style=\"color:#cdcd00\">iconic-sweep-19</strong> at: <a href='https://wandb.ai/junboma/lag_llama_04_07/runs/inyeg6fx' target=\"_blank\">https://wandb.ai/junboma/lag_llama_04_07/runs/inyeg6fx</a><br/> View project at: <a href='https://wandb.ai/junboma/lag_llama_04_07' target=\"_blank\">https://wandb.ai/junboma/lag_llama_04_07</a><br/>Synced 6 W&B file(s), 0 media file(s), 0 artifact file(s) and 0 other file(s)"
      ],
      "text/plain": [
       "<IPython.core.display.HTML object>"
      ]
     },
     "metadata": {},
     "output_type": "display_data"
    },
    {
     "data": {
      "text/html": [
       "Find logs at: <code>./wandb/run-20240704_164341-inyeg6fx/logs</code>"
      ],
      "text/plain": [
       "<IPython.core.display.HTML object>"
      ]
     },
     "metadata": {},
     "output_type": "display_data"
    },
    {
     "data": {
      "text/html": [
       "Successfully finished last run (ID:inyeg6fx). Initializing new run:<br/>"
      ],
      "text/plain": [
       "<IPython.core.display.HTML object>"
      ]
     },
     "metadata": {},
     "output_type": "display_data"
    },
    {
     "data": {
      "application/vnd.jupyter.widget-view+json": {
       "model_id": "79c079a4569d48c884a9ff25a16b1b1a",
       "version_major": 2,
       "version_minor": 0
      },
      "text/plain": [
       "VBox(children=(Label(value='Waiting for wandb.init()...\\r'), FloatProgress(value=0.011113044298771356, max=1.0…"
      ]
     },
     "metadata": {},
     "output_type": "display_data"
    },
    {
     "data": {
      "text/html": [
       "wandb version 0.17.4 is available!  To upgrade, please run:\n",
       " $ pip install wandb --upgrade"
      ],
      "text/plain": [
       "<IPython.core.display.HTML object>"
      ]
     },
     "metadata": {},
     "output_type": "display_data"
    },
    {
     "data": {
      "text/html": [
       "Tracking run with wandb version 0.17.1"
      ],
      "text/plain": [
       "<IPython.core.display.HTML object>"
      ]
     },
     "metadata": {},
     "output_type": "display_data"
    },
    {
     "data": {
      "text/html": [
       "Run data is saved locally in <code>/home/eragroup/Documents/Documents/Koutas_Master_Thesis_Supervision/Junbo_Leng/lag_llama_model/lag-llama-main/wandb/run-20240704_164348-inyeg6fx</code>"
      ],
      "text/plain": [
       "<IPython.core.display.HTML object>"
      ]
     },
     "metadata": {},
     "output_type": "display_data"
    },
    {
     "data": {
      "text/html": [
       "Syncing run <strong><a href='https://wandb.ai/junboma/lag_llama_04_07/runs/inyeg6fx' target=\"_blank\">iconic-sweep-19</a></strong> to <a href='https://wandb.ai/junboma/lag_llama_04_07' target=\"_blank\">Weights & Biases</a> (<a href='https://wandb.me/run' target=\"_blank\">docs</a>)<br/>Sweep page: <a href='https://wandb.ai/junboma/lag_llama_04_07/sweeps/8bk4uije' target=\"_blank\">https://wandb.ai/junboma/lag_llama_04_07/sweeps/8bk4uije</a>"
      ],
      "text/plain": [
       "<IPython.core.display.HTML object>"
      ]
     },
     "metadata": {},
     "output_type": "display_data"
    },
    {
     "data": {
      "text/html": [
       " View project at <a href='https://wandb.ai/junboma/lag_llama_04_07' target=\"_blank\">https://wandb.ai/junboma/lag_llama_04_07</a>"
      ],
      "text/plain": [
       "<IPython.core.display.HTML object>"
      ]
     },
     "metadata": {},
     "output_type": "display_data"
    },
    {
     "data": {
      "text/html": [
       " View sweep at <a href='https://wandb.ai/junboma/lag_llama_04_07/sweeps/8bk4uije' target=\"_blank\">https://wandb.ai/junboma/lag_llama_04_07/sweeps/8bk4uije</a>"
      ],
      "text/plain": [
       "<IPython.core.display.HTML object>"
      ]
     },
     "metadata": {},
     "output_type": "display_data"
    },
    {
     "data": {
      "text/html": [
       " View run at <a href='https://wandb.ai/junboma/lag_llama_04_07/runs/inyeg6fx' target=\"_blank\">https://wandb.ai/junboma/lag_llama_04_07/runs/inyeg6fx</a>"
      ],
      "text/plain": [
       "<IPython.core.display.HTML object>"
      ]
     },
     "metadata": {},
     "output_type": "display_data"
    },
    {
     "name": "stderr",
     "output_type": "stream",
     "text": [
      "GPU available: True (cuda), used: True\n",
      "TPU available: False, using: 0 TPU cores\n",
      "IPU available: False, using: 0 IPUs\n",
      "HPU available: False, using: 0 HPUs\n",
      "/home/eragroup/anaconda3/envs/lag_llama/lib/python3.12/site-packages/lightning/pytorch/trainer/configuration_validator.py:74: You defined a `validation_step` but have no `val_dataloader`. Skipping val loop.\n",
      "LOCAL_RANK: 0 - CUDA_VISIBLE_DEVICES: [0]\n",
      "\n",
      "  | Name          | Type               | Params\n",
      "-----------------------------------------------------\n",
      "0 | model         | LagLlamaModel      | 2.4 M \n",
      "1 | augmentations | ApplyAugmentations | 0     \n",
      "-----------------------------------------------------\n",
      "2.4 M     Trainable params\n",
      "0         Non-trainable params\n",
      "2.4 M     Total params\n",
      "9.797     Total estimated model params size (MB)\n"
     ]
    },
    {
     "data": {
      "application/vnd.jupyter.widget-view+json": {
       "model_id": "0aadc0e9e8134860bed928af9ae0efbd",
       "version_major": 2,
       "version_minor": 0
      },
      "text/plain": [
       "Training: |                                               | 0/? [00:00<?, ?it/s]"
      ]
     },
     "metadata": {},
     "output_type": "display_data"
    },
    {
     "name": "stderr",
     "output_type": "stream",
     "text": [
      "Epoch 0, global step 50: 'train_loss' reached 0.46759 (best 0.46759), saving model to '/home/eragroup/Documents/Documents/Koutas_Master_Thesis_Supervision/Junbo_Leng/lag_llama_model/lag-llama-main/lightning_logs/version_46/checkpoints/epoch=0-step=50.ckpt' as top 1\n",
      "Epoch 1, global step 100: 'train_loss' reached 0.35810 (best 0.35810), saving model to '/home/eragroup/Documents/Documents/Koutas_Master_Thesis_Supervision/Junbo_Leng/lag_llama_model/lag-llama-main/lightning_logs/version_46/checkpoints/epoch=1-step=100.ckpt' as top 1\n",
      "Epoch 2, global step 150: 'train_loss' was not in top 1\n",
      "Epoch 3, global step 200: 'train_loss' was not in top 1\n",
      "Epoch 4, global step 250: 'train_loss' was not in top 1\n",
      "Epoch 5, global step 300: 'train_loss' was not in top 1\n",
      "Epoch 6, global step 350: 'train_loss' reached 0.33221 (best 0.33221), saving model to '/home/eragroup/Documents/Documents/Koutas_Master_Thesis_Supervision/Junbo_Leng/lag_llama_model/lag-llama-main/lightning_logs/version_46/checkpoints/epoch=6-step=350.ckpt' as top 1\n",
      "Epoch 7, global step 400: 'train_loss' was not in top 1\n",
      "Epoch 8, global step 450: 'train_loss' was not in top 1\n",
      "Epoch 9, global step 500: 'train_loss' was not in top 1\n",
      "Epoch 10, global step 550: 'train_loss' reached 0.29617 (best 0.29617), saving model to '/home/eragroup/Documents/Documents/Koutas_Master_Thesis_Supervision/Junbo_Leng/lag_llama_model/lag-llama-main/lightning_logs/version_46/checkpoints/epoch=10-step=550.ckpt' as top 1\n",
      "Epoch 11, global step 600: 'train_loss' was not in top 1\n",
      "Epoch 12, global step 650: 'train_loss' was not in top 1\n",
      "Epoch 13, global step 700: 'train_loss' reached 0.29575 (best 0.29575), saving model to '/home/eragroup/Documents/Documents/Koutas_Master_Thesis_Supervision/Junbo_Leng/lag_llama_model/lag-llama-main/lightning_logs/version_46/checkpoints/epoch=13-step=700.ckpt' as top 1\n",
      "Epoch 14, global step 750: 'train_loss' was not in top 1\n",
      "Epoch 15, global step 800: 'train_loss' was not in top 1\n",
      "Epoch 16, global step 850: 'train_loss' reached 0.26352 (best 0.26352), saving model to '/home/eragroup/Documents/Documents/Koutas_Master_Thesis_Supervision/Junbo_Leng/lag_llama_model/lag-llama-main/lightning_logs/version_46/checkpoints/epoch=16-step=850.ckpt' as top 1\n",
      "Epoch 17, global step 900: 'train_loss' reached 0.26331 (best 0.26331), saving model to '/home/eragroup/Documents/Documents/Koutas_Master_Thesis_Supervision/Junbo_Leng/lag_llama_model/lag-llama-main/lightning_logs/version_46/checkpoints/epoch=17-step=900.ckpt' as top 1\n",
      "Epoch 18, global step 950: 'train_loss' reached 0.21292 (best 0.21292), saving model to '/home/eragroup/Documents/Documents/Koutas_Master_Thesis_Supervision/Junbo_Leng/lag_llama_model/lag-llama-main/lightning_logs/version_46/checkpoints/epoch=18-step=950.ckpt' as top 1\n",
      "Epoch 19, global step 1000: 'train_loss' was not in top 1\n",
      "Epoch 20, global step 1050: 'train_loss' was not in top 1\n",
      "Epoch 21, global step 1100: 'train_loss' reached 0.20177 (best 0.20177), saving model to '/home/eragroup/Documents/Documents/Koutas_Master_Thesis_Supervision/Junbo_Leng/lag_llama_model/lag-llama-main/lightning_logs/version_46/checkpoints/epoch=21-step=1100.ckpt' as top 1\n",
      "Epoch 22, global step 1150: 'train_loss' was not in top 1\n",
      "Epoch 23, global step 1200: 'train_loss' reached 0.17124 (best 0.17124), saving model to '/home/eragroup/Documents/Documents/Koutas_Master_Thesis_Supervision/Junbo_Leng/lag_llama_model/lag-llama-main/lightning_logs/version_46/checkpoints/epoch=23-step=1200.ckpt' as top 1\n",
      "Epoch 24, global step 1250: 'train_loss' reached 0.13386 (best 0.13386), saving model to '/home/eragroup/Documents/Documents/Koutas_Master_Thesis_Supervision/Junbo_Leng/lag_llama_model/lag-llama-main/lightning_logs/version_46/checkpoints/epoch=24-step=1250.ckpt' as top 1\n",
      "Epoch 25, global step 1300: 'train_loss' reached 0.12511 (best 0.12511), saving model to '/home/eragroup/Documents/Documents/Koutas_Master_Thesis_Supervision/Junbo_Leng/lag_llama_model/lag-llama-main/lightning_logs/version_46/checkpoints/epoch=25-step=1300.ckpt' as top 1\n",
      "Epoch 26, global step 1350: 'train_loss' reached 0.12050 (best 0.12050), saving model to '/home/eragroup/Documents/Documents/Koutas_Master_Thesis_Supervision/Junbo_Leng/lag_llama_model/lag-llama-main/lightning_logs/version_46/checkpoints/epoch=26-step=1350.ckpt' as top 1\n",
      "Epoch 27, global step 1400: 'train_loss' reached 0.10154 (best 0.10154), saving model to '/home/eragroup/Documents/Documents/Koutas_Master_Thesis_Supervision/Junbo_Leng/lag_llama_model/lag-llama-main/lightning_logs/version_46/checkpoints/epoch=27-step=1400.ckpt' as top 1\n",
      "Epoch 28, global step 1450: 'train_loss' reached 0.09577 (best 0.09577), saving model to '/home/eragroup/Documents/Documents/Koutas_Master_Thesis_Supervision/Junbo_Leng/lag_llama_model/lag-llama-main/lightning_logs/version_46/checkpoints/epoch=28-step=1450.ckpt' as top 1\n",
      "Epoch 29, global step 1500: 'train_loss' reached 0.01957 (best 0.01957), saving model to '/home/eragroup/Documents/Documents/Koutas_Master_Thesis_Supervision/Junbo_Leng/lag_llama_model/lag-llama-main/lightning_logs/version_46/checkpoints/epoch=29-step=1500.ckpt' as top 1\n",
      "Epoch 30, global step 1550: 'train_loss' was not in top 1\n",
      "Epoch 31, global step 1600: 'train_loss' reached -0.00231 (best -0.00231), saving model to '/home/eragroup/Documents/Documents/Koutas_Master_Thesis_Supervision/Junbo_Leng/lag_llama_model/lag-llama-main/lightning_logs/version_46/checkpoints/epoch=31-step=1600.ckpt' as top 1\n",
      "Epoch 32, global step 1650: 'train_loss' reached -0.02470 (best -0.02470), saving model to '/home/eragroup/Documents/Documents/Koutas_Master_Thesis_Supervision/Junbo_Leng/lag_llama_model/lag-llama-main/lightning_logs/version_46/checkpoints/epoch=32-step=1650.ckpt' as top 1\n",
      "Epoch 33, global step 1700: 'train_loss' reached -0.04927 (best -0.04927), saving model to '/home/eragroup/Documents/Documents/Koutas_Master_Thesis_Supervision/Junbo_Leng/lag_llama_model/lag-llama-main/lightning_logs/version_46/checkpoints/epoch=33-step=1700.ckpt' as top 1\n",
      "Epoch 34, global step 1750: 'train_loss' reached -0.05727 (best -0.05727), saving model to '/home/eragroup/Documents/Documents/Koutas_Master_Thesis_Supervision/Junbo_Leng/lag_llama_model/lag-llama-main/lightning_logs/version_46/checkpoints/epoch=34-step=1750.ckpt' as top 1\n",
      "Epoch 35, global step 1800: 'train_loss' reached -0.08606 (best -0.08606), saving model to '/home/eragroup/Documents/Documents/Koutas_Master_Thesis_Supervision/Junbo_Leng/lag_llama_model/lag-llama-main/lightning_logs/version_46/checkpoints/epoch=35-step=1800.ckpt' as top 1\n",
      "Epoch 36, global step 1850: 'train_loss' reached -0.14326 (best -0.14326), saving model to '/home/eragroup/Documents/Documents/Koutas_Master_Thesis_Supervision/Junbo_Leng/lag_llama_model/lag-llama-main/lightning_logs/version_46/checkpoints/epoch=36-step=1850.ckpt' as top 1\n",
      "Epoch 37, global step 1900: 'train_loss' reached -0.14766 (best -0.14766), saving model to '/home/eragroup/Documents/Documents/Koutas_Master_Thesis_Supervision/Junbo_Leng/lag_llama_model/lag-llama-main/lightning_logs/version_46/checkpoints/epoch=37-step=1900.ckpt' as top 1\n",
      "Epoch 38, global step 1950: 'train_loss' reached -0.14983 (best -0.14983), saving model to '/home/eragroup/Documents/Documents/Koutas_Master_Thesis_Supervision/Junbo_Leng/lag_llama_model/lag-llama-main/lightning_logs/version_46/checkpoints/epoch=38-step=1950.ckpt' as top 1\n",
      "Epoch 39, global step 2000: 'train_loss' reached -0.18453 (best -0.18453), saving model to '/home/eragroup/Documents/Documents/Koutas_Master_Thesis_Supervision/Junbo_Leng/lag_llama_model/lag-llama-main/lightning_logs/version_46/checkpoints/epoch=39-step=2000.ckpt' as top 1\n",
      "Epoch 40, global step 2050: 'train_loss' reached -0.20260 (best -0.20260), saving model to '/home/eragroup/Documents/Documents/Koutas_Master_Thesis_Supervision/Junbo_Leng/lag_llama_model/lag-llama-main/lightning_logs/version_46/checkpoints/epoch=40-step=2050.ckpt' as top 1\n",
      "Epoch 41, global step 2100: 'train_loss' was not in top 1\n",
      "Epoch 42, global step 2150: 'train_loss' reached -0.25097 (best -0.25097), saving model to '/home/eragroup/Documents/Documents/Koutas_Master_Thesis_Supervision/Junbo_Leng/lag_llama_model/lag-llama-main/lightning_logs/version_46/checkpoints/epoch=42-step=2150.ckpt' as top 1\n",
      "Epoch 43, global step 2200: 'train_loss' was not in top 1\n",
      "Epoch 44, global step 2250: 'train_loss' reached -0.26646 (best -0.26646), saving model to '/home/eragroup/Documents/Documents/Koutas_Master_Thesis_Supervision/Junbo_Leng/lag_llama_model/lag-llama-main/lightning_logs/version_46/checkpoints/epoch=44-step=2250.ckpt' as top 1\n",
      "Epoch 45, global step 2300: 'train_loss' reached -0.27159 (best -0.27159), saving model to '/home/eragroup/Documents/Documents/Koutas_Master_Thesis_Supervision/Junbo_Leng/lag_llama_model/lag-llama-main/lightning_logs/version_46/checkpoints/epoch=45-step=2300.ckpt' as top 1\n",
      "Epoch 46, global step 2350: 'train_loss' reached -0.27616 (best -0.27616), saving model to '/home/eragroup/Documents/Documents/Koutas_Master_Thesis_Supervision/Junbo_Leng/lag_llama_model/lag-llama-main/lightning_logs/version_46/checkpoints/epoch=46-step=2350.ckpt' as top 1\n",
      "Epoch 47, global step 2400: 'train_loss' reached -0.33328 (best -0.33328), saving model to '/home/eragroup/Documents/Documents/Koutas_Master_Thesis_Supervision/Junbo_Leng/lag_llama_model/lag-llama-main/lightning_logs/version_46/checkpoints/epoch=47-step=2400.ckpt' as top 1\n",
      "Epoch 48, global step 2450: 'train_loss' reached -0.34178 (best -0.34178), saving model to '/home/eragroup/Documents/Documents/Koutas_Master_Thesis_Supervision/Junbo_Leng/lag_llama_model/lag-llama-main/lightning_logs/version_46/checkpoints/epoch=48-step=2450.ckpt' as top 1\n",
      "Epoch 49, global step 2500: 'train_loss' reached -0.39577 (best -0.39577), saving model to '/home/eragroup/Documents/Documents/Koutas_Master_Thesis_Supervision/Junbo_Leng/lag_llama_model/lag-llama-main/lightning_logs/version_46/checkpoints/epoch=49-step=2500.ckpt' as top 1\n",
      "Epoch 50, global step 2550: 'train_loss' was not in top 1\n",
      "Epoch 51, global step 2600: 'train_loss' was not in top 1\n",
      "Epoch 52, global step 2650: 'train_loss' was not in top 1\n",
      "Epoch 53, global step 2700: 'train_loss' reached -0.47315 (best -0.47315), saving model to '/home/eragroup/Documents/Documents/Koutas_Master_Thesis_Supervision/Junbo_Leng/lag_llama_model/lag-llama-main/lightning_logs/version_46/checkpoints/epoch=53-step=2700.ckpt' as top 1\n",
      "Epoch 54, global step 2750: 'train_loss' was not in top 1\n",
      "Epoch 55, global step 2800: 'train_loss' was not in top 1\n",
      "Epoch 56, global step 2850: 'train_loss' reached -0.47475 (best -0.47475), saving model to '/home/eragroup/Documents/Documents/Koutas_Master_Thesis_Supervision/Junbo_Leng/lag_llama_model/lag-llama-main/lightning_logs/version_46/checkpoints/epoch=56-step=2850.ckpt' as top 1\n",
      "Epoch 57, global step 2900: 'train_loss' reached -0.50003 (best -0.50003), saving model to '/home/eragroup/Documents/Documents/Koutas_Master_Thesis_Supervision/Junbo_Leng/lag_llama_model/lag-llama-main/lightning_logs/version_46/checkpoints/epoch=57-step=2900.ckpt' as top 1\n",
      "Epoch 58, global step 2950: 'train_loss' reached -0.50700 (best -0.50700), saving model to '/home/eragroup/Documents/Documents/Koutas_Master_Thesis_Supervision/Junbo_Leng/lag_llama_model/lag-llama-main/lightning_logs/version_46/checkpoints/epoch=58-step=2950.ckpt' as top 1\n",
      "Epoch 59, global step 3000: 'train_loss' reached -0.52189 (best -0.52189), saving model to '/home/eragroup/Documents/Documents/Koutas_Master_Thesis_Supervision/Junbo_Leng/lag_llama_model/lag-llama-main/lightning_logs/version_46/checkpoints/epoch=59-step=3000.ckpt' as top 1\n",
      "Epoch 60, global step 3050: 'train_loss' reached -0.54159 (best -0.54159), saving model to '/home/eragroup/Documents/Documents/Koutas_Master_Thesis_Supervision/Junbo_Leng/lag_llama_model/lag-llama-main/lightning_logs/version_46/checkpoints/epoch=60-step=3050.ckpt' as top 1\n",
      "Epoch 61, global step 3100: 'train_loss' was not in top 1\n",
      "Epoch 62, global step 3150: 'train_loss' reached -0.56740 (best -0.56740), saving model to '/home/eragroup/Documents/Documents/Koutas_Master_Thesis_Supervision/Junbo_Leng/lag_llama_model/lag-llama-main/lightning_logs/version_46/checkpoints/epoch=62-step=3150.ckpt' as top 1\n",
      "Epoch 63, global step 3200: 'train_loss' reached -0.59325 (best -0.59325), saving model to '/home/eragroup/Documents/Documents/Koutas_Master_Thesis_Supervision/Junbo_Leng/lag_llama_model/lag-llama-main/lightning_logs/version_46/checkpoints/epoch=63-step=3200.ckpt' as top 1\n",
      "Epoch 64, global step 3250: 'train_loss' reached -0.62728 (best -0.62728), saving model to '/home/eragroup/Documents/Documents/Koutas_Master_Thesis_Supervision/Junbo_Leng/lag_llama_model/lag-llama-main/lightning_logs/version_46/checkpoints/epoch=64-step=3250.ckpt' as top 1\n",
      "Epoch 65, global step 3300: 'train_loss' was not in top 1\n",
      "Epoch 66, global step 3350: 'train_loss' was not in top 1\n",
      "Epoch 67, global step 3400: 'train_loss' reached -0.64814 (best -0.64814), saving model to '/home/eragroup/Documents/Documents/Koutas_Master_Thesis_Supervision/Junbo_Leng/lag_llama_model/lag-llama-main/lightning_logs/version_46/checkpoints/epoch=67-step=3400.ckpt' as top 1\n",
      "Epoch 68, global step 3450: 'train_loss' was not in top 1\n",
      "Epoch 69, global step 3500: 'train_loss' reached -0.66971 (best -0.66971), saving model to '/home/eragroup/Documents/Documents/Koutas_Master_Thesis_Supervision/Junbo_Leng/lag_llama_model/lag-llama-main/lightning_logs/version_46/checkpoints/epoch=69-step=3500.ckpt' as top 1\n",
      "Epoch 70, global step 3550: 'train_loss' was not in top 1\n",
      "Epoch 71, global step 3600: 'train_loss' reached -0.69488 (best -0.69488), saving model to '/home/eragroup/Documents/Documents/Koutas_Master_Thesis_Supervision/Junbo_Leng/lag_llama_model/lag-llama-main/lightning_logs/version_46/checkpoints/epoch=71-step=3600.ckpt' as top 1\n",
      "Epoch 72, global step 3650: 'train_loss' was not in top 1\n",
      "Epoch 73, global step 3700: 'train_loss' reached -0.72265 (best -0.72265), saving model to '/home/eragroup/Documents/Documents/Koutas_Master_Thesis_Supervision/Junbo_Leng/lag_llama_model/lag-llama-main/lightning_logs/version_46/checkpoints/epoch=73-step=3700.ckpt' as top 1\n",
      "Epoch 74, global step 3750: 'train_loss' was not in top 1\n",
      "Epoch 75, global step 3800: 'train_loss' reached -0.73143 (best -0.73143), saving model to '/home/eragroup/Documents/Documents/Koutas_Master_Thesis_Supervision/Junbo_Leng/lag_llama_model/lag-llama-main/lightning_logs/version_46/checkpoints/epoch=75-step=3800.ckpt' as top 1\n",
      "Epoch 76, global step 3850: 'train_loss' was not in top 1\n",
      "Epoch 77, global step 3900: 'train_loss' reached -0.74323 (best -0.74323), saving model to '/home/eragroup/Documents/Documents/Koutas_Master_Thesis_Supervision/Junbo_Leng/lag_llama_model/lag-llama-main/lightning_logs/version_46/checkpoints/epoch=77-step=3900.ckpt' as top 1\n",
      "Epoch 78, global step 3950: 'train_loss' reached -0.75459 (best -0.75459), saving model to '/home/eragroup/Documents/Documents/Koutas_Master_Thesis_Supervision/Junbo_Leng/lag_llama_model/lag-llama-main/lightning_logs/version_46/checkpoints/epoch=78-step=3950.ckpt' as top 1\n",
      "Epoch 79, global step 4000: 'train_loss' was not in top 1\n",
      "Epoch 80, global step 4050: 'train_loss' reached -0.80331 (best -0.80331), saving model to '/home/eragroup/Documents/Documents/Koutas_Master_Thesis_Supervision/Junbo_Leng/lag_llama_model/lag-llama-main/lightning_logs/version_46/checkpoints/epoch=80-step=4050.ckpt' as top 1\n",
      "Epoch 81, global step 4100: 'train_loss' was not in top 1\n",
      "Epoch 82, global step 4150: 'train_loss' reached -0.80936 (best -0.80936), saving model to '/home/eragroup/Documents/Documents/Koutas_Master_Thesis_Supervision/Junbo_Leng/lag_llama_model/lag-llama-main/lightning_logs/version_46/checkpoints/epoch=82-step=4150.ckpt' as top 1\n",
      "Epoch 83, global step 4200: 'train_loss' reached -0.81823 (best -0.81823), saving model to '/home/eragroup/Documents/Documents/Koutas_Master_Thesis_Supervision/Junbo_Leng/lag_llama_model/lag-llama-main/lightning_logs/version_46/checkpoints/epoch=83-step=4200.ckpt' as top 1\n",
      "Epoch 84, global step 4250: 'train_loss' was not in top 1\n",
      "Epoch 85, global step 4300: 'train_loss' reached -0.86100 (best -0.86100), saving model to '/home/eragroup/Documents/Documents/Koutas_Master_Thesis_Supervision/Junbo_Leng/lag_llama_model/lag-llama-main/lightning_logs/version_46/checkpoints/epoch=85-step=4300.ckpt' as top 1\n"
     ]
    }
   ],
   "source": [
    "def train():\n",
    "    with wandb.init():\n",
    "        estimator = create_estimator(output_dir=\".\")\n",
    "        predictor = estimator.train(train_ds, cache_data=False, shuffle_buffer_length=1000)\n",
    "        CPRS = getCPRS(test_ds, predictor, num_samples=100)\n",
    "        wandb.log({\"CPRS\": CPRS})\n",
    "        wandb.finish() # must-have, otherwise w&b doesn't know when a search is finished and thus can't proceed with the next search\n",
    "# Start the sweep agent \n",
    "wandb.agent(sweep_id, train) "
   ]
  },
  {
   "cell_type": "markdown",
   "id": "0579b41a-edb0-48c5-8e46-8d63f23d85fc",
   "metadata": {},
   "source": [
    "### experiment 0: would the format of training datasets have an impact on training results?\n",
    "- PandasDatasets: CRPS = 0.0311\n",
    "- ListDatasets: CRPS = 0.0028\n",
    "  \n",
    "Conclusion: **stay with ListDatasets**"
   ]
  },
  {
   "cell_type": "markdown",
   "id": "a55f5690-235a-4380-afb0-7ac09ffb8866",
   "metadata": {},
   "source": [
    "### experiment 1: would the format of training datasets have an impact on training results?\n",
    "- #Epochs100: CRPS = 0.0028\n",
    "- #Epochs500: CRPS = 0.0021\n",
    "\n",
    "More training epochs\n",
    "- can improve CPRS score\n",
    "- the predicitions show more visible fanning-out across the prediciton horizon\n",
    "- still very much input-independent :((("
   ]
  },
  {
   "cell_type": "markdown",
   "id": "9dcf0293-552f-4411-86f9-9865e14f9da0",
   "metadata": {},
   "source": [
    "### adjusting the learning rate schedule.\n",
    "### Reducing or removing regularization terms/techniques.\n",
    "### Tuning the regularization hyperparameters."
   ]
  },
  {
   "cell_type": "code",
   "execution_count": null,
   "id": "9f4292b9-9dfc-402d-84cc-de093ee55425",
   "metadata": {},
   "outputs": [],
   "source": []
  }
 ],
 "metadata": {
  "kernelspec": {
   "display_name": "Python 3 (ipykernel)",
   "language": "python",
   "name": "python3"
  },
  "language_info": {
   "codemirror_mode": {
    "name": "ipython",
    "version": 3
   },
   "file_extension": ".py",
   "mimetype": "text/x-python",
   "name": "python",
   "nbconvert_exporter": "python",
   "pygments_lexer": "ipython3",
   "version": "3.12.3"
  }
 },
 "nbformat": 4,
 "nbformat_minor": 5
}
