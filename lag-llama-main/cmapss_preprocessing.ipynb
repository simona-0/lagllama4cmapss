{
 "cells": [
  {
   "cell_type": "code",
   "execution_count": 1,
   "id": "4382b447-1b58-4d0a-95d5-bcae86117ccf",
   "metadata": {},
   "outputs": [
    {
     "name": "stderr",
     "output_type": "stream",
     "text": [
      "/tmp/ipykernel_19922/4162833500.py:14: TqdmExperimentalWarning: Using `tqdm.autonotebook.tqdm` in notebook mode. Use `tqdm.tqdm` instead to force console mode (e.g. in jupyter console)\n",
      "  from tqdm.autonotebook import tqdm\n"
     ]
    }
   ],
   "source": [
    "from matplotlib import pyplot as plt\n",
    "import pandas as pd\n",
    "import numpy as np\n",
    "import matplotlib.dates as mdates\n",
    "from itertools import islice\n",
    "import torch\n",
    "import os\n",
    "import wandb\n",
    "# from sklearn.preprocessing import StandardScaler\n",
    "import pandas as pd\n",
    "from gluonts.dataset.repository import get_dataset, dataset_names\n",
    "from gluonts.dataset.util import to_pandas\n",
    "from gluonts.dataset.common import ListDataset\n",
    "from tqdm.autonotebook import tqdm\n",
    "from gluonts.evaluation import make_evaluation_predictions, Evaluator\n",
    "from gluonts.dataset.pandas import PandasDataset\n",
    "from lag_llama.gluon.estimator import LagLlamaEstimator"
   ]
  },
  {
   "cell_type": "markdown",
   "id": "b400863a-fd75-4fa3-be95-c24208da7878",
   "metadata": {},
   "source": [
    "sensor (2,3,4) (20,21)highly correlated\n",
    "\n",
    "sensor 6 jumps between two values\n",
    "\n",
    "sensor 7,8,9 \n",
    "\n",
    "sensor 11,12,13,14,15,17\n",
    "\n",
    "# in total 15 sensors still relevant for train_001 and train_003\n",
    "# for train_002, train_004 all sensor signals are relevant"
   ]
  },
  {
   "cell_type": "code",
   "execution_count": 2,
   "id": "f45d0f56-852c-4b26-8349-5534381dc21b",
   "metadata": {},
   "outputs": [],
   "source": [
    "keys = ['cycle', 'op_setting_1', 'op_setting_2', 'op_setting_3'] + [f'sensor_{i}' for i in range(1, 24)]\n",
    "\n",
    "def df_preprocessing(list, col):\n",
    "    temp = pd.DataFrame()\n",
    "    for dataset in list:\n",
    "        df = pd.read_csv('cmapss_data/'+dataset+'.txt', index_col=0, sep=\" \", header=None)\n",
    "        df.columns = keys\n",
    "        df.dropna(axis=1, inplace=True)\n",
    "        df.index.names = ['engine']\n",
    "        df_col = df[['cycle', col]]\n",
    "        df_col = df_col.reset_index()\n",
    "        pivot = df_col.pivot(index='cycle', columns='engine', values=col)\n",
    "        temp = pd.concat([temp, pivot], axis=1)\n",
    "    temp.columns = range(temp.shape[1])\n",
    "    temp.index = pd.to_datetime(temp.index, origin='2000-01-01', unit='D')\n",
    "    for col in temp.columns:\n",
    "        temp[col] = temp[col].shift(periods=temp[col].isna().sum(), fill_value=np.nan)\n",
    "    return temp"
   ]
  },
  {
   "cell_type": "code",
   "execution_count": null,
   "id": "e7e067ac-ecba-4c35-8d2e-e4afea504b44",
   "metadata": {},
   "outputs": [],
   "source": [
    "df = df_preprocessing(['train_FD001', 'train_FD003'], 'sensor_14') # 200 trajectories\n",
    "df.dropna(axis=0, inplace=True)\n",
    "columns = df.columns.tolist()\n",
    "\n",
    "np.random.seed(2)\n",
    "np.random.shuffle(columns) # reproduceably shuffle\n",
    "\n",
    "split_index = int(0.70 * len(columns))\n",
    "df = (df - df.mean()) / df.std() # standardization"
   ]
  },
  {
   "cell_type": "code",
   "execution_count": null,
   "id": "8dc1b668-e9ae-4172-8fb1-a03ea9ce4291",
   "metadata": {},
   "outputs": [],
   "source": [
    "train_df = df[columns[:split_index]] # 140 trajectories, all 128 in length\n",
    "test_df = df[columns[split_index:]]\n",
    "#train_df.to_csv(f'train_df.csv')\n",
    "#test_df.to_csv(f'test_df.csv')"
   ]
  }
 ],
 "metadata": {
  "kernelspec": {
   "display_name": "Python 3 (ipykernel)",
   "language": "python",
   "name": "python3"
  },
  "language_info": {
   "codemirror_mode": {
    "name": "ipython",
    "version": 3
   },
   "file_extension": ".py",
   "mimetype": "text/x-python",
   "name": "python",
   "nbconvert_exporter": "python",
   "pygments_lexer": "ipython3",
   "version": "3.12.3"
  }
 },
 "nbformat": 4,
 "nbformat_minor": 5
}
